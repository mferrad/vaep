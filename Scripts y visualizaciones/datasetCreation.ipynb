{
 "cells": [
  {
   "cell_type": "markdown",
   "metadata": {},
   "source": [
    "# Creación de datasets "
   ]
  },
  {
   "cell_type": "markdown",
   "metadata": {},
   "source": [
    "**Nota:** Por favor leer el archivo vaepReadMe.md para obtener más información incluyendo el orden en que se deben ejecutar los scripts"
   ]
  },
  {
   "cell_type": "markdown",
   "metadata": {},
   "source": [
    "El siguiente script toma los csv originales, convierte a parquet los que usaran en los análisis en las jupyter notebooks y guarda en postgres los que se analizaran con superset."
   ]
  },
  {
   "cell_type": "code",
   "execution_count": 1,
   "metadata": {},
   "outputs": [],
   "source": [
    "import findspark\n",
    "\n",
    "findspark.add_jars('/app/postgresql-42.1.4.jar')\n",
    "findspark.init()"
   ]
  },
  {
   "cell_type": "code",
   "execution_count": 2,
   "metadata": {},
   "outputs": [],
   "source": [
    "from pyspark.sql import SparkSession\n",
    "spark = (\n",
    "    SparkSession.builder\n",
    "    .appName(\"Vaep-dataset-creation\")\n",
    "    .config(\"spark.driver.memory\", \"512m\")\n",
    "    .config(\"spark.driver.cores\", \"1\")\n",
    "    .config(\"spark.executor.memory\", \"512m\")\n",
    "    .config(\"spark.executor.cores\", \"1\")\n",
    "    .config(\"spark.sql.shuffle.partitions\", \"2\")\n",
    "    .getOrCreate()\n",
    ")"
   ]
  },
  {
   "cell_type": "code",
   "execution_count": 3,
   "metadata": {},
   "outputs": [
    {
     "data": {
      "text/plain": [
       "'2.4.5'"
      ]
     },
     "execution_count": 3,
     "metadata": {},
     "output_type": "execute_result"
    }
   ],
   "source": [
    "spark.version"
   ]
  },
  {
   "cell_type": "markdown",
   "metadata": {},
   "source": [
    "# Creación de base de datos en archivos parquet"
   ]
  },
  {
   "cell_type": "markdown",
   "metadata": {},
   "source": [
    "### Partidos jugados liga española, inglesa y francesa"
   ]
  },
  {
   "cell_type": "code",
   "execution_count": 4,
   "metadata": {},
   "outputs": [],
   "source": [
    "#Define el directorio de origen (donde están los csv) y de destino incluyendo el nombre del archivo parquet\n",
    "\n",
    "source = '/dataset/vaep/matches/'\n",
    "output = '/dataset/vaep/parquet/matches.parquet'"
   ]
  },
  {
   "cell_type": "code",
   "execution_count": 5,
   "metadata": {},
   "outputs": [],
   "source": [
    "esp = spark.read.csv(source + 'matches_Spain' +'.csv', header=True)\n",
    "eng = spark.read.csv(source + 'matches_England' +'.csv', header=True)\n",
    "ita = spark.read.csv(source + 'matches_Italy' +'.csv', header=True)"
   ]
  },
  {
   "cell_type": "code",
   "execution_count": 6,
   "metadata": {},
   "outputs": [],
   "source": [
    "matches=esp.union(eng.union(ita))"
   ]
  },
  {
   "cell_type": "code",
   "execution_count": 7,
   "metadata": {},
   "outputs": [
    {
     "name": "stdout",
     "output_type": "stream",
     "text": [
      "+------+-------+--------+--------------------+--------+-------------------+------+--------------------+-------+--------------------+--------------------+--------------------+--------+-------------+-------------+-------------+----------+------------+-----------+------------+------------------+--------------------+-------------+---------------------+----------------------+-----------------------------+-------------+-------------+----------+------------+-----------+------------+------------------+--------------------+-------------+---------------------+----------------------+-----------------------------+\n",
      "|status|roundId|gameweek|           teamsData|seasonId|            dateutc|winner|               venue|   wyId|               label|                date|            referees|duration|competitionId|team1.scoreET|team1.coachId|team1.side|team1.teamId|team1.score|team1.scoreP|team1.hasFormation|     team1.formation|team1.scoreHT|team1.formation.bench|team1.formation.lineup|team1.formation.substitutions|team2.scoreET|team2.coachId|team2.side|team2.teamId|team2.score|team2.scoreP|team2.hasFormation|     team2.formation|team2.scoreHT|team2.formation.bench|team2.formation.lineup|team2.formation.substitutions|\n",
      "+------+-------+--------+--------------------+--------+-------------------+------+--------------------+-------+--------------------+--------------------+--------------------+--------+-------------+-------------+-------------+----------+------------+-----------+------------+------------------+--------------------+-------------+---------------------+----------------------+-----------------------------+-------------+-------------+----------+------------+-----------+------------+------------------+--------------------+-------------+---------------------+----------------------+-----------------------------+\n",
      "|Played|4406122|      38|{'676': {'scoreET...|  181144|2018-05-20 18:45:00|   676|            Camp Nou|2565922|Barcelona - Real ...|May 20, 2018 at 8...|[{'refereeId': 39...| Regular|          795|            0|        92894|      home|         676|          1|           0|                 1|{'bench': [{'play...|            0| [{'playerId': 211...|  [{'playerId': 286...|         [{'playerIn': 832...|            0|       355598|      away|         687|          0|           0|                 1|{'bench': [{'play...|            0| [{'playerId': 367...|  [{'playerId': 261...|         [{'playerIn': 328...|\n",
      "|Played|4406122|      38|{'679': {'scoreET...|  181144|2018-05-20 16:30:00|     0|Estadio Wanda Met...|2565925|Atl\\u00e9tico Mad...|May 20, 2018 at 6...|[{'refereeId': 39...| Regular|          795|            0|         3427|      home|         679|          2|           0|                 1|{'bench': [{'play...|            1| [{'playerId': 217...|  [{'playerId': 344...|         [{'playerIn': 433...|            0|         3485|      away|         701|          2|           0|                 1|{'bench': [{'play...|            1| [{'playerId': 409...|  [{'playerId': 418...|         [{'playerIn': 480...|\n",
      "+------+-------+--------+--------------------+--------+-------------------+------+--------------------+-------+--------------------+--------------------+--------------------+--------+-------------+-------------+-------------+----------+------------+-----------+------------+------------------+--------------------+-------------+---------------------+----------------------+-----------------------------+-------------+-------------+----------+------------+-----------+------------+------------------+--------------------+-------------+---------------------+----------------------+-----------------------------+\n",
      "only showing top 2 rows\n",
      "\n"
     ]
    }
   ],
   "source": [
    "matches.show(2)"
   ]
  },
  {
   "cell_type": "code",
   "execution_count": 8,
   "metadata": {},
   "outputs": [
    {
     "name": "stdout",
     "output_type": "stream",
     "text": [
      "root\n",
      " |-- status: string (nullable = true)\n",
      " |-- roundId: string (nullable = true)\n",
      " |-- gameweek: string (nullable = true)\n",
      " |-- teamsData: string (nullable = true)\n",
      " |-- seasonId: string (nullable = true)\n",
      " |-- dateutc: string (nullable = true)\n",
      " |-- winner: string (nullable = true)\n",
      " |-- venue: string (nullable = true)\n",
      " |-- wyId: string (nullable = true)\n",
      " |-- label: string (nullable = true)\n",
      " |-- date: string (nullable = true)\n",
      " |-- referees: string (nullable = true)\n",
      " |-- duration: string (nullable = true)\n",
      " |-- competitionId: string (nullable = true)\n",
      " |-- team1.scoreET: string (nullable = true)\n",
      " |-- team1.coachId: string (nullable = true)\n",
      " |-- team1.side: string (nullable = true)\n",
      " |-- team1.teamId: string (nullable = true)\n",
      " |-- team1.score: string (nullable = true)\n",
      " |-- team1.scoreP: string (nullable = true)\n",
      " |-- team1.hasFormation: string (nullable = true)\n",
      " |-- team1.formation: string (nullable = true)\n",
      " |-- team1.scoreHT: string (nullable = true)\n",
      " |-- team1.formation.bench: string (nullable = true)\n",
      " |-- team1.formation.lineup: string (nullable = true)\n",
      " |-- team1.formation.substitutions: string (nullable = true)\n",
      " |-- team2.scoreET: string (nullable = true)\n",
      " |-- team2.coachId: string (nullable = true)\n",
      " |-- team2.side: string (nullable = true)\n",
      " |-- team2.teamId: string (nullable = true)\n",
      " |-- team2.score: string (nullable = true)\n",
      " |-- team2.scoreP: string (nullable = true)\n",
      " |-- team2.hasFormation: string (nullable = true)\n",
      " |-- team2.formation: string (nullable = true)\n",
      " |-- team2.scoreHT: string (nullable = true)\n",
      " |-- team2.formation.bench: string (nullable = true)\n",
      " |-- team2.formation.lineup: string (nullable = true)\n",
      " |-- team2.formation.substitutions: string (nullable = true)\n",
      "\n"
     ]
    }
   ],
   "source": [
    "matches.printSchema()"
   ]
  },
  {
   "cell_type": "code",
   "execution_count": 9,
   "metadata": {},
   "outputs": [],
   "source": [
    "#Define una función para renombrar las columnas del dataset\n",
    "\n",
    "def rename_cols(df, names):\n",
    "  for row in names: \n",
    "     df = df.withColumnRenamed(row[0],row[1])\n",
    "  return df"
   ]
  },
  {
   "cell_type": "code",
   "execution_count": 10,
   "metadata": {},
   "outputs": [],
   "source": [
    "#Crea una lista de listas con el nombre original y el nombre nuevo de la columna\n",
    "\n",
    "names=[\n",
    "['team1.scoreET','team1_scoreET'],\n",
    "['team1.coachId','team1_coachId'],\n",
    "['team1.side','team1_side'],\n",
    "['team1.teamId','team1_teamId'],\n",
    "['team1.score','team1_score'],\n",
    "['team1.scoreP','team1_scoreP'],\n",
    "['team1.hasFormation','team1_hasFormation'],\n",
    "['team1.formation','team1_formation'],\n",
    "['team1.scoreHT','team1_scoreHT'],\n",
    "['team1.formation.bench','team1_formation_bench'],\n",
    "['team1.formation.lineup','team1_formation_lineup'],\n",
    "['team1.formation.substitutions','team1_formation_substitutions'],\n",
    "['team2.scoreET','team2_scoreET'],\n",
    "['team2.coachId','team2_coachId'],\n",
    "['team2.side','team2_side'],\n",
    "['team2.teamId','team2_teamId'],\n",
    "['team2.score','team2_score'],\n",
    "['team2.scoreP','team2_scoreP'],\n",
    "['team2.hasFormation','team2_hasFormation'],\n",
    "['team2.formation','team2_formation'],\n",
    "['team2.scoreHT','team2_scoreHT'],\n",
    "['team2.formation.bench','team2_formation_bench'],\n",
    "['team2.formation.lineup','team2_formation_lineup'],\n",
    "['team2.formation.substitutions','team2_formation_substitutions']    \n",
    "]"
   ]
  },
  {
   "cell_type": "code",
   "execution_count": 11,
   "metadata": {},
   "outputs": [],
   "source": [
    "# Cambia los nombres\n",
    "\n",
    "matches=rename_cols(matches, names)"
   ]
  },
  {
   "cell_type": "code",
   "execution_count": 12,
   "metadata": {},
   "outputs": [
    {
     "name": "stdout",
     "output_type": "stream",
     "text": [
      "root\n",
      " |-- status: string (nullable = true)\n",
      " |-- roundId: string (nullable = true)\n",
      " |-- gameweek: string (nullable = true)\n",
      " |-- teamsData: string (nullable = true)\n",
      " |-- seasonId: string (nullable = true)\n",
      " |-- dateutc: string (nullable = true)\n",
      " |-- winner: string (nullable = true)\n",
      " |-- venue: string (nullable = true)\n",
      " |-- wyId: string (nullable = true)\n",
      " |-- label: string (nullable = true)\n",
      " |-- date: string (nullable = true)\n",
      " |-- referees: string (nullable = true)\n",
      " |-- duration: string (nullable = true)\n",
      " |-- competitionId: string (nullable = true)\n",
      " |-- team1_scoreET: string (nullable = true)\n",
      " |-- team1_coachId: string (nullable = true)\n",
      " |-- team1_side: string (nullable = true)\n",
      " |-- team1_teamId: string (nullable = true)\n",
      " |-- team1_score: string (nullable = true)\n",
      " |-- team1_scoreP: string (nullable = true)\n",
      " |-- team1_hasFormation: string (nullable = true)\n",
      " |-- team1_formation: string (nullable = true)\n",
      " |-- team1_scoreHT: string (nullable = true)\n",
      " |-- team1_formation_bench: string (nullable = true)\n",
      " |-- team1_formation_lineup: string (nullable = true)\n",
      " |-- team1_formation_substitutions: string (nullable = true)\n",
      " |-- team2_scoreET: string (nullable = true)\n",
      " |-- team2_coachId: string (nullable = true)\n",
      " |-- team2_side: string (nullable = true)\n",
      " |-- team2_teamId: string (nullable = true)\n",
      " |-- team2_score: string (nullable = true)\n",
      " |-- team2_scoreP: string (nullable = true)\n",
      " |-- team2_hasFormation: string (nullable = true)\n",
      " |-- team2_formation: string (nullable = true)\n",
      " |-- team2_scoreHT: string (nullable = true)\n",
      " |-- team2_formation_bench: string (nullable = true)\n",
      " |-- team2_formation_lineup: string (nullable = true)\n",
      " |-- team2_formation_substitutions: string (nullable = true)\n",
      "\n"
     ]
    }
   ],
   "source": [
    "matches.printSchema()"
   ]
  },
  {
   "cell_type": "code",
   "execution_count": 13,
   "metadata": {},
   "outputs": [],
   "source": [
    "from pyspark.sql.types import DoubleType, IntegerType , StringType, TimestampType, DateType, FloatType"
   ]
  },
  {
   "cell_type": "code",
   "execution_count": 14,
   "metadata": {},
   "outputs": [],
   "source": [
    "#Crea una función para definir el tipo de dato en la variable\n",
    "\n",
    "def cast_cols(df, cols, new_type):\n",
    "  for col in cols: \n",
    "     df = df.withColumn(col, df[col].cast(new_type()))\n",
    "  return df"
   ]
  },
  {
   "cell_type": "code",
   "execution_count": 15,
   "metadata": {},
   "outputs": [],
   "source": [
    "#Crea una lista por tipo de variable con el nombre de las columnas que corresponden a dicho tipo\n",
    "\n",
    "stringCols=['status','teamsData','venue','label','referees','duration',\n",
    "            'team1_side','team1_formation','team1_formation_bench','team1_formation_lineup','team1_formation_substitutions',\n",
    "           'team2_side','team2_formation','team2_formation_bench','team2_formation_lineup','team2_formation_substitutions']\n",
    "\n",
    "dateCols=['date']\n",
    "\n",
    "timeStampCols=['dateutc']\n",
    "\n",
    "integerCols=['roundId','gameweek','seasonId','winner','wyId','competitionId','team1_scoreET','team1_coachId','team1_teamId',\n",
    "            'team1_score','team1_scoreP','team1_hasFormation','team1_scoreHT','team2_scoreET','team2_coachId','team2_teamId',\n",
    "            'team2_score','team2_scoreP','team2_hasFormation','team2_scoreHT']\n",
    "\n",
    "\n",
    "\n"
   ]
  },
  {
   "cell_type": "code",
   "execution_count": 16,
   "metadata": {},
   "outputs": [],
   "source": [
    "# Aplica la función para cambiar el tipo de datos\n",
    "\n",
    "matches = cast_cols(matches, stringCols, StringType)\n",
    "matches = cast_cols(matches, dateCols, DateType)\n",
    "matches = cast_cols(matches, timeStampCols, TimestampType)\n",
    "matches = cast_cols(matches, integerCols, IntegerType)"
   ]
  },
  {
   "cell_type": "code",
   "execution_count": 17,
   "metadata": {},
   "outputs": [
    {
     "name": "stdout",
     "output_type": "stream",
     "text": [
      "root\n",
      " |-- status: string (nullable = true)\n",
      " |-- roundId: integer (nullable = true)\n",
      " |-- gameweek: integer (nullable = true)\n",
      " |-- teamsData: string (nullable = true)\n",
      " |-- seasonId: integer (nullable = true)\n",
      " |-- dateutc: timestamp (nullable = true)\n",
      " |-- winner: integer (nullable = true)\n",
      " |-- venue: string (nullable = true)\n",
      " |-- wyId: integer (nullable = true)\n",
      " |-- label: string (nullable = true)\n",
      " |-- date: date (nullable = true)\n",
      " |-- referees: string (nullable = true)\n",
      " |-- duration: string (nullable = true)\n",
      " |-- competitionId: integer (nullable = true)\n",
      " |-- team1_scoreET: integer (nullable = true)\n",
      " |-- team1_coachId: integer (nullable = true)\n",
      " |-- team1_side: string (nullable = true)\n",
      " |-- team1_teamId: integer (nullable = true)\n",
      " |-- team1_score: integer (nullable = true)\n",
      " |-- team1_scoreP: integer (nullable = true)\n",
      " |-- team1_hasFormation: integer (nullable = true)\n",
      " |-- team1_formation: string (nullable = true)\n",
      " |-- team1_scoreHT: integer (nullable = true)\n",
      " |-- team1_formation_bench: string (nullable = true)\n",
      " |-- team1_formation_lineup: string (nullable = true)\n",
      " |-- team1_formation_substitutions: string (nullable = true)\n",
      " |-- team2_scoreET: integer (nullable = true)\n",
      " |-- team2_coachId: integer (nullable = true)\n",
      " |-- team2_side: string (nullable = true)\n",
      " |-- team2_teamId: integer (nullable = true)\n",
      " |-- team2_score: integer (nullable = true)\n",
      " |-- team2_scoreP: integer (nullable = true)\n",
      " |-- team2_hasFormation: integer (nullable = true)\n",
      " |-- team2_formation: string (nullable = true)\n",
      " |-- team2_scoreHT: integer (nullable = true)\n",
      " |-- team2_formation_bench: string (nullable = true)\n",
      " |-- team2_formation_lineup: string (nullable = true)\n",
      " |-- team2_formation_substitutions: string (nullable = true)\n",
      "\n"
     ]
    }
   ],
   "source": [
    "matches.printSchema()"
   ]
  },
  {
   "cell_type": "code",
   "execution_count": 18,
   "metadata": {},
   "outputs": [
    {
     "name": "stdout",
     "output_type": "stream",
     "text": [
      "+------+-------+--------+--------------------+--------+-------------------+------+--------------------+-------+--------------------+----+--------------------+--------+-------------+-------------+-------------+----------+------------+-----------+------------+------------------+--------------------+-------------+---------------------+----------------------+-----------------------------+-------------+-------------+----------+------------+-----------+------------+------------------+--------------------+-------------+---------------------+----------------------+-----------------------------+\n",
      "|status|roundId|gameweek|           teamsData|seasonId|            dateutc|winner|               venue|   wyId|               label|date|            referees|duration|competitionId|team1_scoreET|team1_coachId|team1_side|team1_teamId|team1_score|team1_scoreP|team1_hasFormation|     team1_formation|team1_scoreHT|team1_formation_bench|team1_formation_lineup|team1_formation_substitutions|team2_scoreET|team2_coachId|team2_side|team2_teamId|team2_score|team2_scoreP|team2_hasFormation|     team2_formation|team2_scoreHT|team2_formation_bench|team2_formation_lineup|team2_formation_substitutions|\n",
      "+------+-------+--------+--------------------+--------+-------------------+------+--------------------+-------+--------------------+----+--------------------+--------+-------------+-------------+-------------+----------+------------+-----------+------------+------------------+--------------------+-------------+---------------------+----------------------+-----------------------------+-------------+-------------+----------+------------+-----------+------------+------------------+--------------------+-------------+---------------------+----------------------+-----------------------------+\n",
      "|Played|4406122|      38|{'676': {'scoreET...|  181144|2018-05-20 18:45:00|   676|            Camp Nou|2565922|Barcelona - Real ...|null|[{'refereeId': 39...| Regular|          795|            0|        92894|      home|         676|          1|           0|                 1|{'bench': [{'play...|            0| [{'playerId': 211...|  [{'playerId': 286...|         [{'playerIn': 832...|            0|       355598|      away|         687|          0|           0|                 1|{'bench': [{'play...|            0| [{'playerId': 367...|  [{'playerId': 261...|         [{'playerIn': 328...|\n",
      "|Played|4406122|      38|{'679': {'scoreET...|  181144|2018-05-20 16:30:00|     0|Estadio Wanda Met...|2565925|Atl\\u00e9tico Mad...|null|[{'refereeId': 39...| Regular|          795|            0|         3427|      home|         679|          2|           0|                 1|{'bench': [{'play...|            1| [{'playerId': 217...|  [{'playerId': 344...|         [{'playerIn': 433...|            0|         3485|      away|         701|          2|           0|                 1|{'bench': [{'play...|            1| [{'playerId': 409...|  [{'playerId': 418...|         [{'playerIn': 480...|\n",
      "+------+-------+--------+--------------------+--------+-------------------+------+--------------------+-------+--------------------+----+--------------------+--------+-------------+-------------+-------------+----------+------------+-----------+------------+------------------+--------------------+-------------+---------------------+----------------------+-----------------------------+-------------+-------------+----------+------------+-----------+------------+------------------+--------------------+-------------+---------------------+----------------------+-----------------------------+\n",
      "only showing top 2 rows\n",
      "\n"
     ]
    }
   ],
   "source": [
    "matches.show(2)"
   ]
  },
  {
   "cell_type": "code",
   "execution_count": 19,
   "metadata": {},
   "outputs": [
    {
     "data": {
      "text/plain": [
       "1140"
      ]
     },
     "execution_count": 19,
     "metadata": {},
     "output_type": "execute_result"
    }
   ],
   "source": [
    "matches.count()"
   ]
  },
  {
   "cell_type": "code",
   "execution_count": 20,
   "metadata": {},
   "outputs": [],
   "source": [
    "# Crea la base de datos parquet particionada por el id de la competición y el id del partido\n",
    "\n",
    "matches.write.mode('overwrite').partitionBy(\"competitionId\", \"wyId\").parquet(output)"
   ]
  },
  {
   "cell_type": "code",
   "execution_count": 21,
   "metadata": {},
   "outputs": [],
   "source": [
    "#Las siguientes sentencias simplemente revisan que la base se pueda leer correctamente\n",
    "\n",
    "df_parquet = spark.read.parquet(output)"
   ]
  },
  {
   "cell_type": "code",
   "execution_count": 22,
   "metadata": {},
   "outputs": [
    {
     "data": {
      "text/plain": [
       "1140"
      ]
     },
     "execution_count": 22,
     "metadata": {},
     "output_type": "execute_result"
    }
   ],
   "source": [
    "df_parquet.count()"
   ]
  },
  {
   "cell_type": "code",
   "execution_count": 23,
   "metadata": {},
   "outputs": [],
   "source": [
    "df_parquet.createOrReplaceTempView(\"aux\")"
   ]
  },
  {
   "cell_type": "code",
   "execution_count": 24,
   "metadata": {},
   "outputs": [],
   "source": [
    "query='''\n",
    "SELECT * \n",
    "from aux\n",
    "limit 3\n",
    "'''"
   ]
  },
  {
   "cell_type": "code",
   "execution_count": 25,
   "metadata": {},
   "outputs": [
    {
     "name": "stdout",
     "output_type": "stream",
     "text": [
      "+------+-------+--------+--------------------+--------+-------------------+------+--------------------+--------------------+----+--------------------+--------+-------------+-------------+----------+------------+-----------+------------+------------------+--------------------+-------------+---------------------+----------------------+-----------------------------+-------------+-------------+----------+------------+-----------+------------+------------------+--------------------+-------------+---------------------+----------------------+-----------------------------+-------------+-------+\n",
      "|status|roundId|gameweek|           teamsData|seasonId|            dateutc|winner|               venue|               label|date|            referees|duration|team1_scoreET|team1_coachId|team1_side|team1_teamId|team1_score|team1_scoreP|team1_hasFormation|     team1_formation|team1_scoreHT|team1_formation_bench|team1_formation_lineup|team1_formation_substitutions|team2_scoreET|team2_coachId|team2_side|team2_teamId|team2_score|team2_scoreP|team2_hasFormation|     team2_formation|team2_scoreHT|team2_formation_bench|team2_formation_lineup|team2_formation_substitutions|competitionId|   wyId|\n",
      "+------+-------+--------+--------------------+--------+-------------------+------+--------------------+--------------------+----+--------------------+--------+-------------+-------------+----------+------------+-----------+------------+------------------+--------------------+-------------+---------------------+----------------------+-----------------------------+-------------+-------------+----------+------------+-----------+------------+------------------+--------------------+-------------+---------------------+----------------------+-----------------------------+-------------+-------+\n",
      "|Played|4406122|      14|{'677': {'scoreET...|  181144|2017-12-02 17:30:00|   680|Estadio Ram\\u00f3...|Sevilla - Deporti...|null|[{'refereeId': 39...| Regular|            0|            0|      away|         677|          0|           0|                 1|{'bench': [{'play...|            0| [{'playerId': 444...|  [{'playerId': 510...|         [{'playerIn': 616...|            0|        90162|      home|         680|          2|           0|                 1|{'bench': [{'play...|            1| [{'playerId': 345...|  [{'playerId': 208...|         [{'playerIn': 560...|          795|2565678|\n",
      "|Played|4406122|      32|{'680': {'scoreET...|  181144|2018-04-14 11:00:00|     0|Estadio Ram\\u00f3...|Sevilla - Villarr...|null|[{'refereeId': 39...| Regular|            0|         3500|      away|         682|          2|           0|                 1|{'bench': [{'play...|            1| [{'playerId': 225...|  [{'playerId': 451...|         [{'playerIn': 206...|            0|        21061|      home|         680|          2|           0|                 1|{'bench': [{'play...|            0| [{'playerId': 345...|  [{'playerId': 207...|         [{'playerIn': 257...|          795|2565866|\n",
      "|Played|4406122|      16|{'692': {'scoreET...|  181144|2017-12-17 15:15:00|   682|Estadio de Bala\\u...|Celta de Vigo - V...|null|[{'refereeId': 38...| Regular|            0|         3500|      away|         682|          1|           0|                 1|{'bench': [{'play...|            1| [{'playerId': 434...|  [{'playerId': 134...|         [{'playerIn': 451...|            0|         3880|      home|         692|          0|           0|                 1|{'bench': [{'play...|            0| [{'playerId': 861...|  [{'playerId': 302...|         [{'playerIn': 281...|          795|2565699|\n",
      "+------+-------+--------+--------------------+--------+-------------------+------+--------------------+--------------------+----+--------------------+--------+-------------+-------------+----------+------------+-----------+------------+------------------+--------------------+-------------+---------------------+----------------------+-----------------------------+-------------+-------------+----------+------------+-----------+------------+------------------+--------------------+-------------+---------------------+----------------------+-----------------------------+-------------+-------+\n",
      "\n"
     ]
    }
   ],
   "source": [
    "result = spark.sql(query)\n",
    "result.show()"
   ]
  },
  {
   "cell_type": "markdown",
   "metadata": {},
   "source": [
    "### Eventos del partido evaluados "
   ]
  },
  {
   "cell_type": "code",
   "execution_count": 26,
   "metadata": {},
   "outputs": [],
   "source": [
    "#Define el directorio de origen (donde están los csv) y de destino incluyendo el nombre del archivo parquet\n",
    "\n",
    "source = '/dataset/vaep/analysisOutcome/'\n",
    "output = '/dataset/vaep/parquet/match_events.parquet'"
   ]
  },
  {
   "cell_type": "code",
   "execution_count": 27,
   "metadata": {},
   "outputs": [],
   "source": [
    "esp = spark.read.csv(source + 'eventsPerMatchEsp' +'.csv', header=True)\n",
    "eng = spark.read.csv(source + 'eventsPerMatchEng' +'.csv', header=True)\n",
    "ita = spark.read.csv(source + 'eventsPerMatchIta' +'.csv', header=True)"
   ]
  },
  {
   "cell_type": "code",
   "execution_count": 28,
   "metadata": {},
   "outputs": [],
   "source": [
    "events=esp.union(eng.union(ita))"
   ]
  },
  {
   "cell_type": "code",
   "execution_count": 29,
   "metadata": {},
   "outputs": [
    {
     "name": "stdout",
     "output_type": "stream",
     "text": [
      "root\n",
      " |-- action_id: string (nullable = true)\n",
      " |-- game_id: string (nullable = true)\n",
      " |-- period_id: string (nullable = true)\n",
      " |-- time_seconds: string (nullable = true)\n",
      " |-- team_id: string (nullable = true)\n",
      " |-- player_id: string (nullable = true)\n",
      " |-- start_x: string (nullable = true)\n",
      " |-- start_y: string (nullable = true)\n",
      " |-- end_x: string (nullable = true)\n",
      " |-- end_y: string (nullable = true)\n",
      " |-- bodypart_id: string (nullable = true)\n",
      " |-- type_id: string (nullable = true)\n",
      " |-- result_id: string (nullable = true)\n",
      " |-- type_name: string (nullable = true)\n",
      " |-- result_name: string (nullable = true)\n",
      " |-- bodypart_name: string (nullable = true)\n",
      " |-- short_name: string (nullable = true)\n",
      " |-- first_name: string (nullable = true)\n",
      " |-- last_name: string (nullable = true)\n",
      " |-- birth_date: string (nullable = true)\n",
      " |-- short_team_name: string (nullable = true)\n",
      " |-- team_name: string (nullable = true)\n",
      " |-- scores: string (nullable = true)\n",
      " |-- concedes: string (nullable = true)\n",
      " |-- offensive_value: string (nullable = true)\n",
      " |-- defensive_value: string (nullable = true)\n",
      " |-- vaep_value: string (nullable = true)\n",
      "\n"
     ]
    }
   ],
   "source": [
    "events.printSchema()"
   ]
  },
  {
   "cell_type": "code",
   "execution_count": 30,
   "metadata": {},
   "outputs": [],
   "source": [
    "#Crea una lista por tipo de variable con el nombre de las columnas que corresponden a dicho tipo\n",
    "\n",
    "stringCols=['type_name','result_name','bodypart_name','short_name','first_name','last_name','short_team_name','team_name']\n",
    "\n",
    "dateCols=['birth_date']\n",
    "\n",
    "floatCols=['time_seconds','start_x','start_y','end_x','end_y','scores','concedes','offensive_value','defensive_value','vaep_value']\n",
    "\n",
    "integerCols=['action_id','game_id','period_id','team_id','player_id','bodypart_id','type_id','result_id']\n"
   ]
  },
  {
   "cell_type": "code",
   "execution_count": 31,
   "metadata": {},
   "outputs": [],
   "source": [
    "# Aplica la función para cambiar el tipo de datos\n",
    "\n",
    "events = cast_cols(events, stringCols, StringType)\n",
    "events = cast_cols(events, dateCols, DateType)\n",
    "events = cast_cols(events, floatCols, FloatType)\n",
    "events = cast_cols(events, integerCols, IntegerType)"
   ]
  },
  {
   "cell_type": "code",
   "execution_count": 32,
   "metadata": {},
   "outputs": [
    {
     "name": "stdout",
     "output_type": "stream",
     "text": [
      "root\n",
      " |-- action_id: integer (nullable = true)\n",
      " |-- game_id: integer (nullable = true)\n",
      " |-- period_id: integer (nullable = true)\n",
      " |-- time_seconds: float (nullable = true)\n",
      " |-- team_id: integer (nullable = true)\n",
      " |-- player_id: integer (nullable = true)\n",
      " |-- start_x: float (nullable = true)\n",
      " |-- start_y: float (nullable = true)\n",
      " |-- end_x: float (nullable = true)\n",
      " |-- end_y: float (nullable = true)\n",
      " |-- bodypart_id: integer (nullable = true)\n",
      " |-- type_id: integer (nullable = true)\n",
      " |-- result_id: integer (nullable = true)\n",
      " |-- type_name: string (nullable = true)\n",
      " |-- result_name: string (nullable = true)\n",
      " |-- bodypart_name: string (nullable = true)\n",
      " |-- short_name: string (nullable = true)\n",
      " |-- first_name: string (nullable = true)\n",
      " |-- last_name: string (nullable = true)\n",
      " |-- birth_date: date (nullable = true)\n",
      " |-- short_team_name: string (nullable = true)\n",
      " |-- team_name: string (nullable = true)\n",
      " |-- scores: float (nullable = true)\n",
      " |-- concedes: float (nullable = true)\n",
      " |-- offensive_value: float (nullable = true)\n",
      " |-- defensive_value: float (nullable = true)\n",
      " |-- vaep_value: float (nullable = true)\n",
      "\n"
     ]
    }
   ],
   "source": [
    "events.printSchema()"
   ]
  },
  {
   "cell_type": "code",
   "execution_count": 33,
   "metadata": {},
   "outputs": [
    {
     "name": "stdout",
     "output_type": "stream",
     "text": [
      "+---------+-------+---------+------------+-------+---------+-------+-------+-----+-----+-----------+-------+---------+---------+-----------+-------------+----------+----------+---------------+----------+---------------+--------------------+------------+------------+---------------+---------------+------------+\n",
      "|action_id|game_id|period_id|time_seconds|team_id|player_id|start_x|start_y|end_x|end_y|bodypart_id|type_id|result_id|type_name|result_name|bodypart_name|short_name|first_name|      last_name|birth_date|short_team_name|           team_name|      scores|    concedes|offensive_value|defensive_value|  vaep_value|\n",
      "+---------+-------+---------+------------+-------+---------+-------+-------+-----+-----+-----------+-------+---------+---------+-----------+-------------+----------+----------+---------------+----------+---------------+--------------------+------------+------------+---------------+---------------+------------+\n",
      "|        0|2565548|        1|    2.994582|    682|     3542|  66.15|  41.48| 52.5| 34.0|          0|      0|        1|     pass|    success|         foot| Trigueros|    Manuel|Trigueros Muñoz|1991-10-17|     Villarreal|Villarreal Club d...| 0.004796018|0.0029899876|            0.0|           -0.0|         0.0|\n",
      "|        1|2565548|        1|     3.13702|    682|   274435|   52.5|   34.0|57.75| 20.4|          0|      0|        1|     pass|    success|         foot|   E. Ünal|      Enes|           Ünal|1997-05-10|     Villarreal|Villarreal Club d...|0.0023978837|4.5216625E-4|  -0.0023981342|   0.0025378214|1.3968721E-4|\n",
      "+---------+-------+---------+------------+-------+---------+-------+-------+-----+-----+-----------+-------+---------+---------+-----------+-------------+----------+----------+---------------+----------+---------------+--------------------+------------+------------+---------------+---------------+------------+\n",
      "only showing top 2 rows\n",
      "\n"
     ]
    }
   ],
   "source": [
    "events.show(2)"
   ]
  },
  {
   "cell_type": "code",
   "execution_count": 34,
   "metadata": {},
   "outputs": [
    {
     "data": {
      "text/plain": [
       "1454382"
      ]
     },
     "execution_count": 34,
     "metadata": {},
     "output_type": "execute_result"
    }
   ],
   "source": [
    "events.count()"
   ]
  },
  {
   "cell_type": "code",
   "execution_count": 35,
   "metadata": {},
   "outputs": [],
   "source": [
    "# Crea la base de datos parquet particionada por el id del partido\n",
    "\n",
    "events.write.mode('overwrite').partitionBy(\"game_id\").parquet(output)"
   ]
  },
  {
   "cell_type": "code",
   "execution_count": 36,
   "metadata": {},
   "outputs": [],
   "source": [
    "#Las siguientes sentencias simplemente revisan que la base se pueda leer correctamente\n",
    "\n",
    "df_parquet = spark.read.parquet(output)"
   ]
  },
  {
   "cell_type": "code",
   "execution_count": 37,
   "metadata": {},
   "outputs": [
    {
     "data": {
      "text/plain": [
       "1454382"
      ]
     },
     "execution_count": 37,
     "metadata": {},
     "output_type": "execute_result"
    }
   ],
   "source": [
    "df_parquet.count()"
   ]
  },
  {
   "cell_type": "code",
   "execution_count": 38,
   "metadata": {},
   "outputs": [],
   "source": [
    "df_parquet.createOrReplaceTempView(\"aux\")"
   ]
  },
  {
   "cell_type": "code",
   "execution_count": 39,
   "metadata": {},
   "outputs": [],
   "source": [
    "query='''\n",
    "SELECT * \n",
    "from aux\n",
    "limit 3\n",
    "'''"
   ]
  },
  {
   "cell_type": "code",
   "execution_count": 40,
   "metadata": {},
   "outputs": [
    {
     "name": "stdout",
     "output_type": "stream",
     "text": [
      "+---------+---------+------------+-------+---------+-------+-------+-----+-----+-----------+-------+---------+---------+-----------+-------------+--------------+----------+--------------------+----------+---------------+--------------------+------------+------------+---------------+---------------+-----------+-------+\n",
      "|action_id|period_id|time_seconds|team_id|player_id|start_x|start_y|end_x|end_y|bodypart_id|type_id|result_id|type_name|result_name|bodypart_name|    short_name|first_name|           last_name|birth_date|short_team_name|           team_name|      scores|    concedes|offensive_value|defensive_value| vaep_value|game_id|\n",
      "+---------+---------+------------+-------+---------+-------+-------+-----+-----+-----------+-------+---------+---------+-----------+-------------+--------------+----------+--------------------+----------+---------------+--------------------+------------+------------+---------------+---------------+-----------+-------+\n",
      "|        0|        1|    1.984215|   3161|     3344|  51.45|  34.68| 48.3|35.36|          0|      0|        1|     pass|    success|         foot|       Rafinha|    Rafael|Alcântara do Nasc...|1993-02-12| Internazionale|FC Internazionale...|0.0025301015|2.1797899E-4|            0.0|           -0.0|        0.0|2576234|\n",
      "|        1|        1|    3.818617|   3161|   241676|   48.3|  35.36|36.75|55.08|          0|      0|        1|     pass|    success|         foot|R. Gagliardini|   Roberto|         Gagliardini|1994-04-07| Internazionale|FC Internazionale...|0.0034015356| 1.766924E-4|    8.714341E-4|   4.1286592E-5|9.127207E-4|2576234|\n",
      "|        2|        1|    8.049846|   3161|    21094|  34.65|  56.44| 29.4|42.16|          0|      0|        1|     pass|    success|         foot| D. D'Ambrosio|    Danilo|          D'Ambrosio|1988-09-09| Internazionale|FC Internazionale...| 0.016695525|0.0023987817|     0.01329399|  -0.0022220893|0.011071901|2576234|\n",
      "+---------+---------+------------+-------+---------+-------+-------+-----+-----+-----------+-------+---------+---------+-----------+-------------+--------------+----------+--------------------+----------+---------------+--------------------+------------+------------+---------------+---------------+-----------+-------+\n",
      "\n"
     ]
    }
   ],
   "source": [
    "result = spark.sql(query)\n",
    "result.show()"
   ]
  },
  {
   "cell_type": "markdown",
   "metadata": {},
   "source": [
    "# Creación de base de datos en postgres"
   ]
  },
  {
   "cell_type": "markdown",
   "metadata": {},
   "source": [
    "### Resultado del análisis VAEP por jugador por acción"
   ]
  },
  {
   "cell_type": "code",
   "execution_count": 41,
   "metadata": {},
   "outputs": [],
   "source": [
    "#Define el directorio de origen (donde están los csv)\n",
    "\n",
    "source = '/dataset/vaep/analysisOutcome/'"
   ]
  },
  {
   "cell_type": "code",
   "execution_count": 42,
   "metadata": {},
   "outputs": [],
   "source": [
    "esp = spark.read.csv(source + 'actionRatingAnalysisEsp' +'.csv', header=True)\n",
    "eng = spark.read.csv(source + 'actionRatingAnalysisEng' +'.csv', header=True)\n",
    "ita = spark.read.csv(source + 'actionRatingAnalysisIta' +'.csv', header=True)"
   ]
  },
  {
   "cell_type": "code",
   "execution_count": 43,
   "metadata": {},
   "outputs": [],
   "source": [
    "action_analysis_per_player=esp.union(eng.union(ita))"
   ]
  },
  {
   "cell_type": "code",
   "execution_count": 44,
   "metadata": {},
   "outputs": [
    {
     "name": "stdout",
     "output_type": "stream",
     "text": [
      "+---------+------------+--------------------+--------------------+--------------+------------+-----+-------------------+----+----------------+--------------------+--------------------+--------------------+--------------------+--------------------+----+-------------+------------+------+-------+--------+--------------------+------------------+\n",
      "|player_id|  short_name|           team_name|           clearance|corner_crossed|corner_short|cross|            dribble|foul|freekick_crossed|      freekick_short|            goalkick|        interception|         keeper_save|                pass|shot|shot_freekick|shot_penalty|tackle|take_on|throw_in|               total|    minutes_played|\n",
      "+---------+------------+--------------------+--------------------+--------------+------------+-----+-------------------+----+----------------+--------------------+--------------------+--------------------+--------------------+--------------------+----+-------------+------------+------+-------+--------+--------------------+------------------+\n",
      "|     33.0|J. Cillessen|        FC Barcelona|0.011196076753140945|           0.0|         0.0|  0.0|0.08924882991819924| 0.0|             0.0|                 0.0|0.022523471379501964|0.000407037938981...|-0.02226980425452...| -0.2281651904749264| 0.0|          0.0|         0.0|   0.0|    0.0|     0.0|-0.13115822710096836|         92.903192|\n",
      "|     99.0|    P. Tytoń|Real Club Deporti...|                 0.0|           0.0|         0.0|  0.0|0.02391019011235004| 0.0|             0.0|0.005766900184556102|-0.00090077981062384|-0.00122778942952...|-0.01349973980270...|-0.35989474258421633| 0.0|          0.0|         0.0|   0.0|    0.0|     0.0|-0.39617449464276433|103.09706778333333|\n",
      "+---------+------------+--------------------+--------------------+--------------+------------+-----+-------------------+----+----------------+--------------------+--------------------+--------------------+--------------------+--------------------+----+-------------+------------+------+-------+--------+--------------------+------------------+\n",
      "only showing top 2 rows\n",
      "\n"
     ]
    }
   ],
   "source": [
    "action_analysis_per_player.show(2)"
   ]
  },
  {
   "cell_type": "code",
   "execution_count": 45,
   "metadata": {},
   "outputs": [
    {
     "name": "stdout",
     "output_type": "stream",
     "text": [
      "root\n",
      " |-- player_id: string (nullable = true)\n",
      " |-- short_name: string (nullable = true)\n",
      " |-- team_name: string (nullable = true)\n",
      " |-- clearance: string (nullable = true)\n",
      " |-- corner_crossed: string (nullable = true)\n",
      " |-- corner_short: string (nullable = true)\n",
      " |-- cross: string (nullable = true)\n",
      " |-- dribble: string (nullable = true)\n",
      " |-- foul: string (nullable = true)\n",
      " |-- freekick_crossed: string (nullable = true)\n",
      " |-- freekick_short: string (nullable = true)\n",
      " |-- goalkick: string (nullable = true)\n",
      " |-- interception: string (nullable = true)\n",
      " |-- keeper_save: string (nullable = true)\n",
      " |-- pass: string (nullable = true)\n",
      " |-- shot: string (nullable = true)\n",
      " |-- shot_freekick: string (nullable = true)\n",
      " |-- shot_penalty: string (nullable = true)\n",
      " |-- tackle: string (nullable = true)\n",
      " |-- take_on: string (nullable = true)\n",
      " |-- throw_in: string (nullable = true)\n",
      " |-- total: string (nullable = true)\n",
      " |-- minutes_played: string (nullable = true)\n",
      "\n"
     ]
    }
   ],
   "source": [
    "action_analysis_per_player.printSchema()"
   ]
  },
  {
   "cell_type": "code",
   "execution_count": 46,
   "metadata": {},
   "outputs": [],
   "source": [
    "#Crea una lista por tipo de variable con el nombre de las columnas que corresponden a dicho tipo\n",
    "\n",
    "stringCols=['short_name','team_name']\n",
    "\n",
    "floatCols=['clearance','corner_crossed','corner_short','cross','dribble','foul','freekick_crossed','freekick_short','goalkick',\n",
    "          'interception','keeper_save','pass','shot','shot_freekick','shot_penalty','tackle','take_on','throw_in',\n",
    "           'total','minutes_played']\n",
    "\n",
    "integerCols=['player_id']\n"
   ]
  },
  {
   "cell_type": "code",
   "execution_count": 47,
   "metadata": {},
   "outputs": [],
   "source": [
    "# Aplica la función para cambiar el tipo de datos\n",
    "\n",
    "action_analysis_per_player = cast_cols(action_analysis_per_player, stringCols, StringType)\n",
    "action_analysis_per_player = cast_cols(action_analysis_per_player, floatCols, FloatType)\n",
    "action_analysis_per_player = cast_cols(action_analysis_per_player, integerCols, IntegerType)"
   ]
  },
  {
   "cell_type": "code",
   "execution_count": 48,
   "metadata": {},
   "outputs": [
    {
     "name": "stdout",
     "output_type": "stream",
     "text": [
      "root\n",
      " |-- player_id: integer (nullable = true)\n",
      " |-- short_name: string (nullable = true)\n",
      " |-- team_name: string (nullable = true)\n",
      " |-- clearance: float (nullable = true)\n",
      " |-- corner_crossed: float (nullable = true)\n",
      " |-- corner_short: float (nullable = true)\n",
      " |-- cross: float (nullable = true)\n",
      " |-- dribble: float (nullable = true)\n",
      " |-- foul: float (nullable = true)\n",
      " |-- freekick_crossed: float (nullable = true)\n",
      " |-- freekick_short: float (nullable = true)\n",
      " |-- goalkick: float (nullable = true)\n",
      " |-- interception: float (nullable = true)\n",
      " |-- keeper_save: float (nullable = true)\n",
      " |-- pass: float (nullable = true)\n",
      " |-- shot: float (nullable = true)\n",
      " |-- shot_freekick: float (nullable = true)\n",
      " |-- shot_penalty: float (nullable = true)\n",
      " |-- tackle: float (nullable = true)\n",
      " |-- take_on: float (nullable = true)\n",
      " |-- throw_in: float (nullable = true)\n",
      " |-- total: float (nullable = true)\n",
      " |-- minutes_played: float (nullable = true)\n",
      "\n"
     ]
    }
   ],
   "source": [
    "action_analysis_per_player.printSchema()"
   ]
  },
  {
   "cell_type": "code",
   "execution_count": 49,
   "metadata": {},
   "outputs": [
    {
     "name": "stdout",
     "output_type": "stream",
     "text": [
      "+---------+------------+--------------------+-----------+--------------+------------+-----+----------+----+----------------+--------------+------------+-------------+------------+-----------+----+-------------+------------+------+-------+--------+-----------+--------------+\n",
      "|player_id|  short_name|           team_name|  clearance|corner_crossed|corner_short|cross|   dribble|foul|freekick_crossed|freekick_short|    goalkick| interception| keeper_save|       pass|shot|shot_freekick|shot_penalty|tackle|take_on|throw_in|      total|minutes_played|\n",
      "+---------+------------+--------------------+-----------+--------------+------------+-----+----------+----+----------------+--------------+------------+-------------+------------+-----------+----+-------------+------------+------+-------+--------+-----------+--------------+\n",
      "|       33|J. Cillessen|        FC Barcelona|0.011196077|           0.0|         0.0|  0.0|0.08924883| 0.0|             0.0|           0.0| 0.022523472| 4.0703794E-4|-0.022269804| -0.2281652| 0.0|          0.0|         0.0|   0.0|    0.0|     0.0|-0.13115823|      92.90319|\n",
      "|       99|    P. Tytoń|Real Club Deporti...|        0.0|           0.0|         0.0|  0.0|0.02391019| 0.0|             0.0|  0.0057669003|-9.007798E-4|-0.0012277894| -0.01349974|-0.35989475| 0.0|          0.0|         0.0|   0.0|    0.0|     0.0| -0.3961745|     103.09707|\n",
      "+---------+------------+--------------------+-----------+--------------+------------+-----+----------+----+----------------+--------------+------------+-------------+------------+-----------+----+-------------+------------+------+-------+--------+-----------+--------------+\n",
      "only showing top 2 rows\n",
      "\n"
     ]
    }
   ],
   "source": [
    "action_analysis_per_player.show(2)"
   ]
  },
  {
   "cell_type": "code",
   "execution_count": 50,
   "metadata": {},
   "outputs": [
    {
     "data": {
      "text/plain": [
       "1650"
      ]
     },
     "execution_count": 50,
     "metadata": {},
     "output_type": "execute_result"
    }
   ],
   "source": [
    "action_analysis_per_player.count()"
   ]
  },
  {
   "cell_type": "code",
   "execution_count": 51,
   "metadata": {},
   "outputs": [],
   "source": [
    "# Crea la base de datos en postgres\n",
    "\n",
    "action_analysis_per_player \\\n",
    "    .write \\\n",
    "    .format(\"jdbc\") \\\n",
    "    .option(\"url\", \"jdbc:postgresql://postgres/workshop\") \\\n",
    "    .option(\"dbtable\", \"workshop.action_analysis_per_player\") \\\n",
    "    .option(\"user\", \"workshop\") \\\n",
    "    .option(\"password\", \"w0rkzh0p\") \\\n",
    "    .option(\"driver\", \"org.postgresql.Driver\") \\\n",
    "    .mode('overwrite') \\\n",
    "    .save()\n"
   ]
  },
  {
   "cell_type": "markdown",
   "metadata": {},
   "source": [
    "### Resultado del análisis VAEP por jugador (Total y normalizado)"
   ]
  },
  {
   "cell_type": "code",
   "execution_count": 52,
   "metadata": {},
   "outputs": [],
   "source": [
    "#Define el directorio de origen (donde están los csv)\n",
    "\n",
    "source = '/dataset/vaep/analysisOutcome/'"
   ]
  },
  {
   "cell_type": "code",
   "execution_count": 53,
   "metadata": {},
   "outputs": [],
   "source": [
    "esp = spark.read.csv(source + 'rankingAnalysisEsp' +'.csv', header=True)\n",
    "eng = spark.read.csv(source + 'rankingAnalysisEng' +'.csv', header=True)\n",
    "ita = spark.read.csv(source + 'rankingAnalysisIta' +'.csv', header=True)"
   ]
  },
  {
   "cell_type": "code",
   "execution_count": 54,
   "metadata": {},
   "outputs": [],
   "source": [
    "vaep_rating_per_player=esp.union(eng.union(ita))"
   ]
  },
  {
   "cell_type": "code",
   "execution_count": 55,
   "metadata": {},
   "outputs": [
    {
     "name": "stdout",
     "output_type": "stream",
     "text": [
      "+---------+----------+-------+--------------------+----------+--------------------+------------------+------------------+--------------------+------------------+-------------------+------------------+------------------+-----------------+\n",
      "|player_id|short_name|team_id|           team_name|vaep_count|           vaep_mean|          vaep_sum|vaep_sum_Offensive| vaep_mean_Offensive|vaep_sum_defensive|vaep_mean_defensive|    minutes_played|       vaep_rating|      actions_p90|\n",
      "+---------+----------+-------+--------------------+----------+--------------------+------------------+------------------+--------------------+------------------+-------------------+------------------+------------------+-----------------+\n",
      "|   3359.0|  L. Messi|  676.0|        FC Barcelona|      2753|0.013302911959650067|36.622916624916634| 38.90842350529312|0.014133099711330593|         -2.285507|     -0.00083018775|3486.5457777666666|0.9453661894420371|71.06460542695383|\n",
      "|   3840.0|Iago Aspas|  692.0|Real Club Celta d...|      1771| 0.01159092417416945|20.527526712454097|20.759287119087936|0.011721788322466366|       -0.23176043|     -0.00013086417|3093.3922160666666|0.5972334819119663|51.52595883966786|\n",
      "+---------+----------+-------+--------------------+----------+--------------------+------------------+------------------+--------------------+------------------+-------------------+------------------+------------------+-----------------+\n",
      "only showing top 2 rows\n",
      "\n"
     ]
    }
   ],
   "source": [
    "vaep_rating_per_player.show(2)"
   ]
  },
  {
   "cell_type": "code",
   "execution_count": 56,
   "metadata": {},
   "outputs": [
    {
     "name": "stdout",
     "output_type": "stream",
     "text": [
      "root\n",
      " |-- player_id: string (nullable = true)\n",
      " |-- short_name: string (nullable = true)\n",
      " |-- team_id: string (nullable = true)\n",
      " |-- team_name: string (nullable = true)\n",
      " |-- vaep_count: string (nullable = true)\n",
      " |-- vaep_mean: string (nullable = true)\n",
      " |-- vaep_sum: string (nullable = true)\n",
      " |-- vaep_sum_Offensive: string (nullable = true)\n",
      " |-- vaep_mean_Offensive: string (nullable = true)\n",
      " |-- vaep_sum_defensive: string (nullable = true)\n",
      " |-- vaep_mean_defensive: string (nullable = true)\n",
      " |-- minutes_played: string (nullable = true)\n",
      " |-- vaep_rating: string (nullable = true)\n",
      " |-- actions_p90: string (nullable = true)\n",
      "\n"
     ]
    }
   ],
   "source": [
    "vaep_rating_per_player.printSchema()"
   ]
  },
  {
   "cell_type": "code",
   "execution_count": 57,
   "metadata": {},
   "outputs": [],
   "source": [
    "#Crea una lista por tipo de variable con el nombre de las columnas que corresponden a dicho tipo\n",
    "\n",
    "stringCols=['short_name','team_name']\n",
    "\n",
    "floatCols=['vaep_mean','vaep_sum','vaep_sum_Offensive','vaep_mean_Offensive','vaep_sum_defensive','minutes_played',\n",
    "          'vaep_rating','actions_p90','vaep_mean_defensive']\n",
    "\n",
    "integerCols=['player_id','team_id','vaep_count']\n"
   ]
  },
  {
   "cell_type": "code",
   "execution_count": 58,
   "metadata": {},
   "outputs": [],
   "source": [
    "# Aplica la función para cambiar el tipo de datos\n",
    "\n",
    "vaep_rating_per_player = cast_cols(vaep_rating_per_player, stringCols, StringType)\n",
    "vaep_rating_per_player = cast_cols(vaep_rating_per_player, floatCols, FloatType)\n",
    "vaep_rating_per_player = cast_cols(vaep_rating_per_player, integerCols, IntegerType)"
   ]
  },
  {
   "cell_type": "code",
   "execution_count": 59,
   "metadata": {},
   "outputs": [
    {
     "name": "stdout",
     "output_type": "stream",
     "text": [
      "root\n",
      " |-- player_id: integer (nullable = true)\n",
      " |-- short_name: string (nullable = true)\n",
      " |-- team_id: integer (nullable = true)\n",
      " |-- team_name: string (nullable = true)\n",
      " |-- vaep_count: integer (nullable = true)\n",
      " |-- vaep_mean: float (nullable = true)\n",
      " |-- vaep_sum: float (nullable = true)\n",
      " |-- vaep_sum_Offensive: float (nullable = true)\n",
      " |-- vaep_mean_Offensive: float (nullable = true)\n",
      " |-- vaep_sum_defensive: float (nullable = true)\n",
      " |-- vaep_mean_defensive: float (nullable = true)\n",
      " |-- minutes_played: float (nullable = true)\n",
      " |-- vaep_rating: float (nullable = true)\n",
      " |-- actions_p90: float (nullable = true)\n",
      "\n"
     ]
    }
   ],
   "source": [
    "vaep_rating_per_player.printSchema()"
   ]
  },
  {
   "cell_type": "code",
   "execution_count": 60,
   "metadata": {},
   "outputs": [
    {
     "name": "stdout",
     "output_type": "stream",
     "text": [
      "+---------+----------+-------+--------------------+----------+-----------+---------+------------------+-------------------+------------------+-------------------+--------------+-----------+-----------+\n",
      "|player_id|short_name|team_id|           team_name|vaep_count|  vaep_mean| vaep_sum|vaep_sum_Offensive|vaep_mean_Offensive|vaep_sum_defensive|vaep_mean_defensive|minutes_played|vaep_rating|actions_p90|\n",
      "+---------+----------+-------+--------------------+----------+-----------+---------+------------------+-------------------+------------------+-------------------+--------------+-----------+-----------+\n",
      "|     3359|  L. Messi|    676|        FC Barcelona|      2753|0.013302912|36.622917|         38.908424|       0.0141330995|         -2.285507|      -8.3018775E-4|      3486.546|  0.9453662|  71.064606|\n",
      "|     3840|Iago Aspas|    692|Real Club Celta d...|      1771|0.011590924|20.527527|         20.759287|        0.011721788|       -0.23176043|      -1.3086417E-4|     3093.3923|  0.5972335|   51.52596|\n",
      "+---------+----------+-------+--------------------+----------+-----------+---------+------------------+-------------------+------------------+-------------------+--------------+-----------+-----------+\n",
      "only showing top 2 rows\n",
      "\n"
     ]
    }
   ],
   "source": [
    "vaep_rating_per_player.show(2)"
   ]
  },
  {
   "cell_type": "code",
   "execution_count": 61,
   "metadata": {},
   "outputs": [
    {
     "data": {
      "text/plain": [
       "1650"
      ]
     },
     "execution_count": 61,
     "metadata": {},
     "output_type": "execute_result"
    }
   ],
   "source": [
    "vaep_rating_per_player.count()"
   ]
  },
  {
   "cell_type": "code",
   "execution_count": 62,
   "metadata": {},
   "outputs": [],
   "source": [
    "# Crea la base de datos en postgres\n",
    "\n",
    "vaep_rating_per_player \\\n",
    "    .write \\\n",
    "    .format(\"jdbc\") \\\n",
    "    .option(\"url\", \"jdbc:postgresql://postgres/workshop\") \\\n",
    "    .option(\"dbtable\", \"workshop.vaep_rating_per_player\") \\\n",
    "    .option(\"user\", \"workshop\") \\\n",
    "    .option(\"password\", \"w0rkzh0p\") \\\n",
    "    .option(\"driver\", \"org.postgresql.Driver\") \\\n",
    "    .mode('overwrite') \\\n",
    "    .save()"
   ]
  },
  {
   "cell_type": "markdown",
   "metadata": {},
   "source": [
    "### Resultado del análisis VAEP por jugador (toma de riesgo)"
   ]
  },
  {
   "cell_type": "code",
   "execution_count": 63,
   "metadata": {},
   "outputs": [],
   "source": [
    "#Define el directorio de origen (donde están los csv)\n",
    "\n",
    "source = '/dataset/vaep/analysisOutcome/'"
   ]
  },
  {
   "cell_type": "code",
   "execution_count": 64,
   "metadata": {},
   "outputs": [],
   "source": [
    "esp = spark.read.csv(source + 'riskAnalysisEsp' +'.csv', header=True)\n",
    "eng = spark.read.csv(source + 'riskAnalysisEng' +'.csv', header=True)\n",
    "ita = spark.read.csv(source + 'riskAnalysisIta' +'.csv', header=True)"
   ]
  },
  {
   "cell_type": "code",
   "execution_count": 65,
   "metadata": {},
   "outputs": [],
   "source": [
    "vaep_risk_per_player=esp.union(eng.union(ita))"
   ]
  },
  {
   "cell_type": "code",
   "execution_count": 66,
   "metadata": {},
   "outputs": [
    {
     "name": "stdout",
     "output_type": "stream",
     "text": [
      "+---------+------------+--------------------+--------------------+--------------------+------------------+--------------------+--------------------+--------------------+\n",
      "|player_id|  short_name|           team_name|             success|                fail|    minutes_played|         success_sum|            fail_sum|    vaep_risk_rating|\n",
      "+---------+------------+--------------------+--------------------+--------------------+------------------+--------------------+--------------------+--------------------+\n",
      "|     33.0|J. Cillessen|        FC Barcelona|0.013786335304679273| -0.1408459140443113|         92.903192|0.014231050619855523|-0.14538927772082388|-0.12705957873963203|\n",
      "|     99.0|    P. Tytoń|Real Club Deporti...|-0.34220138178785153|-0.00364457954232...|103.09706778333333| -0.3919995450414717|-0.00417494960129261| -0.3458459613301717|\n",
      "+---------+------------+--------------------+--------------------+--------------------+------------------+--------------------+--------------------+--------------------+\n",
      "only showing top 2 rows\n",
      "\n"
     ]
    }
   ],
   "source": [
    "vaep_risk_per_player.show(2)"
   ]
  },
  {
   "cell_type": "code",
   "execution_count": 67,
   "metadata": {},
   "outputs": [
    {
     "name": "stdout",
     "output_type": "stream",
     "text": [
      "root\n",
      " |-- player_id: string (nullable = true)\n",
      " |-- short_name: string (nullable = true)\n",
      " |-- team_name: string (nullable = true)\n",
      " |-- success: string (nullable = true)\n",
      " |-- fail: string (nullable = true)\n",
      " |-- minutes_played: string (nullable = true)\n",
      " |-- success_sum: string (nullable = true)\n",
      " |-- fail_sum: string (nullable = true)\n",
      " |-- vaep_risk_rating: string (nullable = true)\n",
      "\n"
     ]
    }
   ],
   "source": [
    "vaep_risk_per_player.printSchema()"
   ]
  },
  {
   "cell_type": "code",
   "execution_count": 68,
   "metadata": {},
   "outputs": [],
   "source": [
    "#Crea una lista por tipo de variable con el nombre de las columnas que corresponden a dicho tipo\n",
    "\n",
    "stringCols=['short_name','team_name']\n",
    "\n",
    "floatCols=['success','fail','minutes_played','success_sum','fail_sum','vaep_risk_rating']\n",
    "\n",
    "integerCols=['player_id']"
   ]
  },
  {
   "cell_type": "code",
   "execution_count": 69,
   "metadata": {},
   "outputs": [],
   "source": [
    "# Aplica la función para cambiar el tipo de datos\n",
    "\n",
    "vaep_risk_per_player = cast_cols(vaep_risk_per_player, stringCols, StringType)\n",
    "vaep_risk_per_player = cast_cols(vaep_risk_per_player, floatCols, FloatType)\n",
    "vaep_risk_per_player = cast_cols(vaep_risk_per_player, integerCols, IntegerType)"
   ]
  },
  {
   "cell_type": "code",
   "execution_count": 70,
   "metadata": {},
   "outputs": [
    {
     "name": "stdout",
     "output_type": "stream",
     "text": [
      "root\n",
      " |-- player_id: integer (nullable = true)\n",
      " |-- short_name: string (nullable = true)\n",
      " |-- team_name: string (nullable = true)\n",
      " |-- success: float (nullable = true)\n",
      " |-- fail: float (nullable = true)\n",
      " |-- minutes_played: float (nullable = true)\n",
      " |-- success_sum: float (nullable = true)\n",
      " |-- fail_sum: float (nullable = true)\n",
      " |-- vaep_risk_rating: float (nullable = true)\n",
      "\n"
     ]
    }
   ],
   "source": [
    "vaep_risk_per_player.printSchema()"
   ]
  },
  {
   "cell_type": "code",
   "execution_count": 71,
   "metadata": {},
   "outputs": [
    {
     "name": "stdout",
     "output_type": "stream",
     "text": [
      "+---------+------------+--------------------+------------+-------------+--------------+-----------+-------------+----------------+\n",
      "|player_id|  short_name|           team_name|     success|         fail|minutes_played|success_sum|     fail_sum|vaep_risk_rating|\n",
      "+---------+------------+--------------------+------------+-------------+--------------+-----------+-------------+----------------+\n",
      "|       33|J. Cillessen|        FC Barcelona|0.0137863355|  -0.14084591|      92.90319| 0.01423105|  -0.14538927|     -0.12705958|\n",
      "|       99|    P. Tytoń|Real Club Deporti...| -0.34220138|-0.0036445796|     103.09707|-0.39199954|-0.0041749496|     -0.34584597|\n",
      "+---------+------------+--------------------+------------+-------------+--------------+-----------+-------------+----------------+\n",
      "only showing top 2 rows\n",
      "\n"
     ]
    }
   ],
   "source": [
    "vaep_risk_per_player.show(2)"
   ]
  },
  {
   "cell_type": "code",
   "execution_count": 72,
   "metadata": {},
   "outputs": [
    {
     "data": {
      "text/plain": [
       "1647"
      ]
     },
     "execution_count": 72,
     "metadata": {},
     "output_type": "execute_result"
    }
   ],
   "source": [
    "vaep_risk_per_player.count()"
   ]
  },
  {
   "cell_type": "code",
   "execution_count": 73,
   "metadata": {},
   "outputs": [],
   "source": [
    "# Crea la base de datos en postgres\n",
    "\n",
    "vaep_risk_per_player \\\n",
    "    .write \\\n",
    "    .format(\"jdbc\") \\\n",
    "    .option(\"url\", \"jdbc:postgresql://postgres/workshop\") \\\n",
    "    .option(\"dbtable\", \"workshop.vaep_risk_per_player\") \\\n",
    "    .option(\"user\", \"workshop\") \\\n",
    "    .option(\"password\", \"w0rkzh0p\") \\\n",
    "    .option(\"driver\", \"org.postgresql.Driver\") \\\n",
    "    .mode('overwrite') \\\n",
    "    .save()"
   ]
  },
  {
   "cell_type": "code",
   "execution_count": 74,
   "metadata": {},
   "outputs": [],
   "source": [
    "spark.stop()"
   ]
  },
  {
   "cell_type": "code",
   "execution_count": null,
   "metadata": {},
   "outputs": [],
   "source": []
  },
  {
   "cell_type": "code",
   "execution_count": null,
   "metadata": {},
   "outputs": [],
   "source": []
  },
  {
   "cell_type": "code",
   "execution_count": null,
   "metadata": {},
   "outputs": [],
   "source": []
  },
  {
   "cell_type": "code",
   "execution_count": null,
   "metadata": {},
   "outputs": [],
   "source": []
  },
  {
   "cell_type": "code",
   "execution_count": null,
   "metadata": {},
   "outputs": [],
   "source": []
  },
  {
   "cell_type": "code",
   "execution_count": null,
   "metadata": {},
   "outputs": [],
   "source": []
  },
  {
   "cell_type": "code",
   "execution_count": null,
   "metadata": {},
   "outputs": [],
   "source": []
  },
  {
   "cell_type": "code",
   "execution_count": null,
   "metadata": {},
   "outputs": [],
   "source": []
  },
  {
   "cell_type": "code",
   "execution_count": null,
   "metadata": {},
   "outputs": [],
   "source": []
  },
  {
   "cell_type": "code",
   "execution_count": null,
   "metadata": {},
   "outputs": [],
   "source": []
  },
  {
   "cell_type": "code",
   "execution_count": null,
   "metadata": {},
   "outputs": [],
   "source": []
  },
  {
   "cell_type": "code",
   "execution_count": null,
   "metadata": {},
   "outputs": [],
   "source": []
  },
  {
   "cell_type": "code",
   "execution_count": null,
   "metadata": {},
   "outputs": [],
   "source": []
  },
  {
   "cell_type": "code",
   "execution_count": null,
   "metadata": {},
   "outputs": [],
   "source": []
  },
  {
   "cell_type": "code",
   "execution_count": null,
   "metadata": {},
   "outputs": [],
   "source": []
  },
  {
   "cell_type": "code",
   "execution_count": null,
   "metadata": {},
   "outputs": [],
   "source": []
  },
  {
   "cell_type": "code",
   "execution_count": null,
   "metadata": {},
   "outputs": [],
   "source": []
  },
  {
   "cell_type": "code",
   "execution_count": null,
   "metadata": {},
   "outputs": [],
   "source": []
  },
  {
   "cell_type": "code",
   "execution_count": null,
   "metadata": {},
   "outputs": [],
   "source": []
  },
  {
   "cell_type": "code",
   "execution_count": null,
   "metadata": {},
   "outputs": [],
   "source": []
  },
  {
   "cell_type": "code",
   "execution_count": null,
   "metadata": {},
   "outputs": [],
   "source": []
  },
  {
   "cell_type": "code",
   "execution_count": null,
   "metadata": {},
   "outputs": [],
   "source": []
  },
  {
   "cell_type": "code",
   "execution_count": null,
   "metadata": {},
   "outputs": [],
   "source": []
  },
  {
   "cell_type": "code",
   "execution_count": null,
   "metadata": {},
   "outputs": [],
   "source": []
  },
  {
   "cell_type": "code",
   "execution_count": null,
   "metadata": {},
   "outputs": [],
   "source": []
  },
  {
   "cell_type": "code",
   "execution_count": null,
   "metadata": {},
   "outputs": [],
   "source": []
  },
  {
   "cell_type": "code",
   "execution_count": null,
   "metadata": {},
   "outputs": [],
   "source": []
  },
  {
   "cell_type": "code",
   "execution_count": null,
   "metadata": {},
   "outputs": [],
   "source": []
  },
  {
   "cell_type": "code",
   "execution_count": null,
   "metadata": {},
   "outputs": [],
   "source": []
  },
  {
   "cell_type": "code",
   "execution_count": null,
   "metadata": {},
   "outputs": [],
   "source": []
  },
  {
   "cell_type": "code",
   "execution_count": null,
   "metadata": {},
   "outputs": [],
   "source": []
  },
  {
   "cell_type": "code",
   "execution_count": null,
   "metadata": {},
   "outputs": [],
   "source": []
  },
  {
   "cell_type": "code",
   "execution_count": null,
   "metadata": {},
   "outputs": [],
   "source": []
  },
  {
   "cell_type": "code",
   "execution_count": null,
   "metadata": {},
   "outputs": [],
   "source": []
  },
  {
   "cell_type": "code",
   "execution_count": null,
   "metadata": {},
   "outputs": [],
   "source": []
  },
  {
   "cell_type": "code",
   "execution_count": null,
   "metadata": {},
   "outputs": [],
   "source": []
  },
  {
   "cell_type": "code",
   "execution_count": null,
   "metadata": {},
   "outputs": [],
   "source": []
  },
  {
   "cell_type": "code",
   "execution_count": null,
   "metadata": {},
   "outputs": [],
   "source": []
  },
  {
   "cell_type": "code",
   "execution_count": null,
   "metadata": {},
   "outputs": [],
   "source": []
  },
  {
   "cell_type": "code",
   "execution_count": null,
   "metadata": {},
   "outputs": [],
   "source": []
  },
  {
   "cell_type": "code",
   "execution_count": null,
   "metadata": {},
   "outputs": [],
   "source": []
  },
  {
   "cell_type": "code",
   "execution_count": null,
   "metadata": {},
   "outputs": [],
   "source": []
  },
  {
   "cell_type": "code",
   "execution_count": null,
   "metadata": {},
   "outputs": [],
   "source": []
  },
  {
   "cell_type": "code",
   "execution_count": null,
   "metadata": {},
   "outputs": [],
   "source": []
  },
  {
   "cell_type": "code",
   "execution_count": null,
   "metadata": {},
   "outputs": [],
   "source": []
  },
  {
   "cell_type": "code",
   "execution_count": null,
   "metadata": {},
   "outputs": [],
   "source": []
  },
  {
   "cell_type": "code",
   "execution_count": null,
   "metadata": {},
   "outputs": [],
   "source": []
  },
  {
   "cell_type": "code",
   "execution_count": null,
   "metadata": {},
   "outputs": [],
   "source": []
  },
  {
   "cell_type": "code",
   "execution_count": null,
   "metadata": {},
   "outputs": [],
   "source": []
  },
  {
   "cell_type": "code",
   "execution_count": null,
   "metadata": {},
   "outputs": [],
   "source": []
  },
  {
   "cell_type": "code",
   "execution_count": null,
   "metadata": {},
   "outputs": [],
   "source": []
  },
  {
   "cell_type": "code",
   "execution_count": null,
   "metadata": {},
   "outputs": [],
   "source": []
  },
  {
   "cell_type": "code",
   "execution_count": null,
   "metadata": {},
   "outputs": [],
   "source": []
  },
  {
   "cell_type": "code",
   "execution_count": null,
   "metadata": {},
   "outputs": [],
   "source": []
  },
  {
   "cell_type": "code",
   "execution_count": null,
   "metadata": {},
   "outputs": [],
   "source": []
  },
  {
   "cell_type": "code",
   "execution_count": null,
   "metadata": {},
   "outputs": [],
   "source": []
  },
  {
   "cell_type": "code",
   "execution_count": null,
   "metadata": {},
   "outputs": [],
   "source": []
  },
  {
   "cell_type": "code",
   "execution_count": null,
   "metadata": {},
   "outputs": [],
   "source": []
  },
  {
   "cell_type": "code",
   "execution_count": null,
   "metadata": {},
   "outputs": [],
   "source": []
  },
  {
   "cell_type": "code",
   "execution_count": null,
   "metadata": {},
   "outputs": [],
   "source": []
  },
  {
   "cell_type": "code",
   "execution_count": null,
   "metadata": {},
   "outputs": [],
   "source": []
  },
  {
   "cell_type": "code",
   "execution_count": null,
   "metadata": {},
   "outputs": [],
   "source": []
  },
  {
   "cell_type": "code",
   "execution_count": null,
   "metadata": {},
   "outputs": [],
   "source": []
  },
  {
   "cell_type": "code",
   "execution_count": null,
   "metadata": {},
   "outputs": [],
   "source": []
  },
  {
   "cell_type": "code",
   "execution_count": null,
   "metadata": {},
   "outputs": [],
   "source": []
  },
  {
   "cell_type": "code",
   "execution_count": null,
   "metadata": {},
   "outputs": [],
   "source": []
  },
  {
   "cell_type": "code",
   "execution_count": null,
   "metadata": {},
   "outputs": [],
   "source": []
  },
  {
   "cell_type": "code",
   "execution_count": null,
   "metadata": {},
   "outputs": [],
   "source": []
  },
  {
   "cell_type": "code",
   "execution_count": null,
   "metadata": {},
   "outputs": [],
   "source": []
  },
  {
   "cell_type": "code",
   "execution_count": null,
   "metadata": {},
   "outputs": [],
   "source": []
  },
  {
   "cell_type": "code",
   "execution_count": null,
   "metadata": {},
   "outputs": [],
   "source": []
  },
  {
   "cell_type": "code",
   "execution_count": null,
   "metadata": {},
   "outputs": [],
   "source": []
  },
  {
   "cell_type": "code",
   "execution_count": null,
   "metadata": {},
   "outputs": [],
   "source": []
  },
  {
   "cell_type": "code",
   "execution_count": null,
   "metadata": {},
   "outputs": [],
   "source": []
  },
  {
   "cell_type": "code",
   "execution_count": null,
   "metadata": {},
   "outputs": [],
   "source": []
  },
  {
   "cell_type": "code",
   "execution_count": null,
   "metadata": {},
   "outputs": [],
   "source": []
  },
  {
   "cell_type": "code",
   "execution_count": null,
   "metadata": {},
   "outputs": [],
   "source": []
  },
  {
   "cell_type": "code",
   "execution_count": null,
   "metadata": {},
   "outputs": [],
   "source": []
  },
  {
   "cell_type": "code",
   "execution_count": null,
   "metadata": {},
   "outputs": [],
   "source": []
  },
  {
   "cell_type": "code",
   "execution_count": null,
   "metadata": {},
   "outputs": [],
   "source": []
  },
  {
   "cell_type": "code",
   "execution_count": null,
   "metadata": {},
   "outputs": [],
   "source": []
  },
  {
   "cell_type": "code",
   "execution_count": null,
   "metadata": {},
   "outputs": [],
   "source": []
  },
  {
   "cell_type": "code",
   "execution_count": null,
   "metadata": {},
   "outputs": [],
   "source": []
  },
  {
   "cell_type": "code",
   "execution_count": null,
   "metadata": {},
   "outputs": [],
   "source": []
  },
  {
   "cell_type": "code",
   "execution_count": null,
   "metadata": {},
   "outputs": [],
   "source": []
  },
  {
   "cell_type": "code",
   "execution_count": null,
   "metadata": {},
   "outputs": [],
   "source": []
  },
  {
   "cell_type": "code",
   "execution_count": null,
   "metadata": {
    "scrolled": true
   },
   "outputs": [],
   "source": []
  },
  {
   "cell_type": "code",
   "execution_count": null,
   "metadata": {},
   "outputs": [],
   "source": []
  },
  {
   "cell_type": "code",
   "execution_count": null,
   "metadata": {},
   "outputs": [],
   "source": []
  },
  {
   "cell_type": "code",
   "execution_count": null,
   "metadata": {},
   "outputs": [],
   "source": []
  },
  {
   "cell_type": "code",
   "execution_count": null,
   "metadata": {},
   "outputs": [],
   "source": []
  },
  {
   "cell_type": "code",
   "execution_count": null,
   "metadata": {},
   "outputs": [],
   "source": []
  },
  {
   "cell_type": "code",
   "execution_count": null,
   "metadata": {},
   "outputs": [],
   "source": []
  },
  {
   "cell_type": "code",
   "execution_count": null,
   "metadata": {},
   "outputs": [],
   "source": []
  }
 ],
 "metadata": {
  "kernelspec": {
   "display_name": "Python 3",
   "language": "python",
   "name": "python3"
  },
  "language_info": {
   "codemirror_mode": {
    "name": "ipython",
    "version": 3
   },
   "file_extension": ".py",
   "mimetype": "text/x-python",
   "name": "python",
   "nbconvert_exporter": "python",
   "pygments_lexer": "ipython3",
   "version": "3.7.3"
  },
  "vscode": {
   "interpreter": {
    "hash": "916dbcbb3f70747c44a77c7bcd40155683ae19c65e1c03b4aa3499c5328201f1"
   }
  }
 },
 "nbformat": 4,
 "nbformat_minor": 2
}
