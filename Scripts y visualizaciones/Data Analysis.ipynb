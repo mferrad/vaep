{
 "cells": [
  {
   "cell_type": "markdown",
   "metadata": {},
   "source": [
    "# Análisis del método"
   ]
  },
  {
   "cell_type": "markdown",
   "metadata": {},
   "source": [
    "**Nota:** Por favor leer el archivo vaepReadMe.md para obtener más información incluyendo el orden en que se deben ejecutar los scripts"
   ]
  },
  {
   "cell_type": "markdown",
   "metadata": {},
   "source": [
    "El estudio original realizado por el grupo \"friends of tracking\" se centra en la explicación del algoritmo y la evaluación de jugadores utilizando el método, sin embargo, nunca prueba la validez de este. \n",
    "\n",
    "El objetivo de este script es verificar que un incremento del valor VAEP acumulado de un equipo se traduce en un mayor porcentaje de victorias, validando así el método."
   ]
  },
  {
   "cell_type": "code",
   "execution_count": 1,
   "metadata": {},
   "outputs": [],
   "source": [
    "import findspark\n",
    "findspark.init()"
   ]
  },
  {
   "cell_type": "code",
   "execution_count": 2,
   "metadata": {},
   "outputs": [],
   "source": [
    "from pyspark.sql import SparkSession\n",
    "spark = (\n",
    "    SparkSession.builder\n",
    "    .appName(\"Vaep-data-analysis\")\n",
    "    .config(\"spark.driver.memory\", \"512m\")\n",
    "    .config(\"spark.driver.cores\", \"1\")\n",
    "    .config(\"spark.executor.memory\", \"512m\")\n",
    "    .config(\"spark.executor.cores\", \"1\")\n",
    "    .config(\"spark.sql.shuffle.partitions\", \"2\")\n",
    "    .getOrCreate()\n",
    ")"
   ]
  },
  {
   "cell_type": "code",
   "execution_count": 3,
   "metadata": {},
   "outputs": [],
   "source": [
    "import pandas as pd\n",
    "import seaborn as sns"
   ]
  },
  {
   "cell_type": "code",
   "execution_count": 4,
   "metadata": {},
   "outputs": [],
   "source": [
    "from pyspark.sql.functions import when"
   ]
  },
  {
   "cell_type": "markdown",
   "metadata": {},
   "source": [
    "### Porcentaje de victorias y goles por equipo"
   ]
  },
  {
   "cell_type": "markdown",
   "metadata": {},
   "source": [
    "Un método de estimación tradicional del porcentaje de victorias es la utilización del índice \"Pythagorean expectation\". Este índice se calcula como el cuadrado de los goles a favor sobre el cuadrado de los goles a favor menos el cuadrado de los goles en contra, el valor obtenido tiene una fuerte correlación con el porcentaje de victorias del equipo.\n",
    "\n",
    "En esta sección de calcula el valor índice, el porcentaje de victorias de cada equipo y se muestra su alta correlación lineal."
   ]
  },
  {
   "cell_type": "code",
   "execution_count": 5,
   "metadata": {},
   "outputs": [],
   "source": [
    "parquetData = '/dataset/vaep/parquet/matches.parquet'"
   ]
  },
  {
   "cell_type": "code",
   "execution_count": 6,
   "metadata": {},
   "outputs": [],
   "source": [
    "df_parquet = spark.read.parquet(parquetData)"
   ]
  },
  {
   "cell_type": "code",
   "execution_count": 7,
   "metadata": {},
   "outputs": [],
   "source": [
    "df_parquet.createOrReplaceTempView(\"matches\")"
   ]
  },
  {
   "cell_type": "code",
   "execution_count": 8,
   "metadata": {},
   "outputs": [],
   "source": [
    "query='''\n",
    "\n",
    "Select competitionid, team_id, sum(goalsFavor) as goalsFavorTotal,\n",
    "sum(goalsAgainst) as goalsAgainstTotal, sum(goalsFavor)-sum(goalsAgainst) goalDiffTotal ,sum(points) as pointsTotal, \n",
    "sum(count) as npartidos, sum(winflag) as wins, sum(drawflag) as draws, sum(loseflag) as lose\n",
    "from\n",
    "(\n",
    "SELECT competitionid,team1_teamId as team_id, team1_score as goalsFavor,  team2_score as goalsAgainst,\n",
    "case when winner=team1_teamId then 3 else (case when winner=0 then 1 else 0 END ) END as points,\n",
    "case when winner=team1_teamId then 1 else 0 END as winflag,\n",
    "case when winner=0 then 1 else 0 END as drawflag,\n",
    "case when winner=team2_teamId then 1 else 0 END loseflag,\n",
    "1 as count\n",
    "FROM matches\n",
    "\n",
    "UNION ALL\n",
    "\n",
    "SELECT competitionid, team2_teamId as team_id, team2_score as goalsFavor,  team1_score as goalsAgainst,\n",
    "case when winner=team2_teamId then 3 else (case when winner=0 then 1 else 0 END ) END as points,\n",
    "case when winner=team2_teamId then 1 else 0 END as winflag,\n",
    "case when winner=0 then 1 else 0 END as drawflag,\n",
    "case when winner=team1_teamId then 1 else 0 END loseflag,\n",
    "1 as count\n",
    "FROM matches\n",
    ")\n",
    "group by competitionid,team_id\n",
    "Order by competitionid, pointsTotal desc\n",
    "\n",
    "'''\n"
   ]
  },
  {
   "cell_type": "code",
   "execution_count": 9,
   "metadata": {},
   "outputs": [
    {
     "name": "stdout",
     "output_type": "stream",
     "text": [
      "+-------------+-------+---------------+-----------------+-------------+-----------+---------+----+-----+----+\n",
      "|competitionid|team_id|goalsFavorTotal|goalsAgainstTotal|goalDiffTotal|pointsTotal|npartidos|wins|draws|lose|\n",
      "+-------------+-------+---------------+-----------------+-------------+-----------+---------+----+-----+----+\n",
      "|          364|   1625|            106|               27|           79|        100|       38|  32|    4|   2|\n",
      "|          364|   1611|             68|               28|           40|         81|       38|  25|    6|   7|\n",
      "|          364|   1624|             74|               36|           38|         77|       38|  23|    8|   7|\n",
      "|          364|   1612|             84|               38|           46|         75|       38|  21|   12|   5|\n",
      "|          364|   1610|             62|               38|           24|         70|       38|  21|    7|  10|\n",
      "+-------------+-------+---------------+-----------------+-------------+-----------+---------+----+-----+----+\n",
      "only showing top 5 rows\n",
      "\n"
     ]
    }
   ],
   "source": [
    "matchResults = spark.sql(query)\n",
    "matchResults.show(5)"
   ]
  },
  {
   "cell_type": "code",
   "execution_count": 10,
   "metadata": {},
   "outputs": [
    {
     "name": "stdout",
     "output_type": "stream",
     "text": [
      "+-------------+-------+---------------+-----------------+-------------+-----------+---------+----+-----+----+------------------+------------------+\n",
      "|competitionid|team_id|goalsFavorTotal|goalsAgainstTotal|goalDiffTotal|pointsTotal|npartidos|wins|draws|lose|               wpc|              pyth|\n",
      "+-------------+-------+---------------+-----------------+-------------+-----------+---------+----+-----+----+------------------+------------------+\n",
      "|          364|   1625|            106|               27|           79|        100|       38|  32|    4|   2|0.8947368421052632|0.9390722941913916|\n",
      "|          364|   1611|             68|               28|           40|         81|       38|  25|    6|   7|0.7368421052631579|0.8550295857988166|\n",
      "|          364|   1624|             74|               36|           38|         77|       38|  23|    8|   7|0.7105263157894737|0.8086237448316598|\n",
      "|          364|   1612|             84|               38|           46|         75|       38|  21|   12|   5|0.7105263157894737|0.8301176470588235|\n",
      "|          364|   1610|             62|               38|           24|         70|       38|  21|    7|  10|0.6447368421052632| 0.726928895612708|\n",
      "+-------------+-------+---------------+-----------------+-------------+-----------+---------+----+-----+----+------------------+------------------+\n",
      "only showing top 5 rows\n",
      "\n"
     ]
    }
   ],
   "source": [
    "# Aquí se crean dos variables adicionales wpc que es el porcentaje de victorias (para este ejercicio \n",
    "# una victoria se le asigna el valor 1 y un empate 0, se podría usar 3 y 1 también) y luego se crea el índice \n",
    "# con el nombre pyth.\n",
    "\n",
    "\n",
    "matchResults=matchResults.withColumn(\"wpc\",(matchResults['wins']+matchResults['draws']*0.5)/matchResults['npartidos'])\n",
    "matchResults=matchResults.withColumn(\"pyth\",matchResults['goalsFavorTotal']**2/(matchResults['goalsFavorTotal']**2 + matchResults['goalsAgainstTotal']**2))\n",
    "matchResults.show(5)"
   ]
  },
  {
   "cell_type": "code",
   "execution_count": 11,
   "metadata": {},
   "outputs": [
    {
     "data": {
      "image/png": "[encoded data removed]",
      "text/plain": [
       "<Figure size 464.625x360 with 1 Axes>"
      ]
     },
     "metadata": {
      "needs_background": "light"
     },
     "output_type": "display_data"
    }
   ],
   "source": [
    "# En el siguiente grafico puede apreciarse que el porcentaje de victorias es proporcional al índice \n",
    "# para las 3 ligas analizadas.\n",
    "\n",
    "g=sns.relplot(x=\"wpc\", y=\"pyth\", data=matchResults.toPandas() ,hue='competitionid', legend=\"full\")"
   ]
  },
  {
   "cell_type": "markdown",
   "metadata": {},
   "source": [
    "### Relación del porcentaje de victoria con el índice VAEP"
   ]
  },
  {
   "cell_type": "markdown",
   "metadata": {},
   "source": [
    "En esta seccion se realiza un analisis similar al realizado en la seccion anterior pero utilizando el índice VAEP acumulado por los equipos a lo largo de la temporada tanto a favor o en contra en lugar de de los goles.\n",
    "\n",
    "Como el índice VAEP en el fondo se basa en la probabilidad de anotar un gol, este muestra una correlacion muy fuerte con la cantidad de goles anotados. Debido a esto se puede calcular un índice \"Pythagorean\" utilizando el valor VAEP acumulado en lugar de los goles probando de esta manera que el índice esta relacionado con el porcentaje de victorias."
   ]
  },
  {
   "cell_type": "code",
   "execution_count": 12,
   "metadata": {},
   "outputs": [],
   "source": [
    "parquetData = '/dataset/vaep/parquet/match_events.parquet'"
   ]
  },
  {
   "cell_type": "code",
   "execution_count": 13,
   "metadata": {},
   "outputs": [],
   "source": [
    "df_parquet = spark.read.parquet(parquetData)"
   ]
  },
  {
   "cell_type": "code",
   "execution_count": 14,
   "metadata": {},
   "outputs": [],
   "source": [
    "df_parquet.createOrReplaceTempView(\"eventsAnalysis\")"
   ]
  },
  {
   "cell_type": "code",
   "execution_count": 15,
   "metadata": {},
   "outputs": [],
   "source": [
    "# Esta query obtiene el VAEP ofensivo, el VAEP defensivo y el VAEP total tanto a favor como en contra por equipo \n",
    "\n",
    "query='''\n",
    "\n",
    "select team_id, short_team_name, sum(offensiveVAEP) as offensiveVAEP, sum(defensiveVAEP) as defensiveVAEP, sum(totalVAEP) as totalVAEP,\n",
    "sum(offensiveVAEP2) as offensiveVAEPAgainst, sum(defensiveVAEP2) as defensiveVAEPAgainst, sum(totalVAEP2) as totalVAEPAgainst\n",
    "from\n",
    "(\n",
    "SELECT game_id, team_id, short_team_name, sum(offensive_value) as offensiveVAEP, sum(defensive_value) as defensiveVAEP, sum(vaep_value) as totalVAEP\n",
    "FROM eventsAnalysis\n",
    "group by game_id, team_id, short_team_name\n",
    ") as team1data\n",
    "\n",
    "join\n",
    "\n",
    "(\n",
    "SELECT game_id, team_id as team_id2, short_team_name as short_team_name2, sum(offensive_value) as offensiveVAEP2, sum(defensive_value) as defensiveVAEP2, sum(vaep_value) as totalVAEP2\n",
    "FROM eventsAnalysis\n",
    "group by game_id, team_id, short_team_name\n",
    ") as team2data\n",
    "\n",
    "on team1data.game_id=team2data.game_id\n",
    "where team_id<>team_id2\n",
    "group by team_id, short_team_name\n",
    "order by totalVAEP desc\n",
    "\n",
    "'''"
   ]
  },
  {
   "cell_type": "code",
   "execution_count": 16,
   "metadata": {},
   "outputs": [
    {
     "name": "stdout",
     "output_type": "stream",
     "text": [
      "+-------+---------------+------------------+------------------+------------------+--------------------+--------------------+-----------------+\n",
      "|team_id|short_team_name|     offensiveVAEP|     defensiveVAEP|         totalVAEP|offensiveVAEPAgainst|defensiveVAEPAgainst| totalVAEPAgainst|\n",
      "+-------+---------------+------------------+------------------+------------------+--------------------+--------------------+-----------------+\n",
      "|    676|      Barcelona|131.61614200664917|2.7090651254402474|134.32520689000376|    57.1857343907468|  12.108149793290067|69.29388393694535|\n",
      "|   1625|Manchester City|128.02869891596492| 2.398949943657499|130.42764845152533|  48.648428832457284|  7.4138100178097375|56.06223871058319|\n",
      "|    675|    Real Madrid|120.54590294212903| 7.809658260841388|128.35556118335808|   75.44652859208873|  11.048859301256016|86.49538784299148|\n",
      "|   1612|      Liverpool|112.77565603918629|3.9046886678552255|116.68034454190638|   61.02568000170868|     9.8377169315645|70.86339705443243|\n",
      "|   3162|          Lazio|107.91416628122897| 5.856476337648928|113.77064224000787|   68.59188804135192|   7.942996420897543|76.53488437614214|\n",
      "+-------+---------------+------------------+------------------+------------------+--------------------+--------------------+-----------------+\n",
      "only showing top 5 rows\n",
      "\n"
     ]
    }
   ],
   "source": [
    "vaepPerTeam = spark.sql(query)\n",
    "vaepPerTeam.show(5)"
   ]
  },
  {
   "cell_type": "code",
   "execution_count": 17,
   "metadata": {},
   "outputs": [
    {
     "data": {
      "text/html": [
       "<div>\n",
       "<style scoped>\n",
       "    .dataframe tbody tr th:only-of-type {\n",
       "        vertical-align: middle;\n",
       "    }\n",
       "\n",
       "    .dataframe tbody tr th {\n",
       "        vertical-align: top;\n",
       "    }\n",
       "\n",
       "    .dataframe thead th {\n",
       "        text-align: right;\n",
       "    }\n",
       "</style>\n",
       "<table border=\"1\" class=\"dataframe\">\n",
       "  <thead>\n",
       "    <tr style=\"text-align: right;\">\n",
       "      <th></th>\n",
       "      <th>competitionid</th>\n",
       "      <th>team_id</th>\n",
       "      <th>goalsFavorTotal</th>\n",
       "      <th>goalsAgainstTotal</th>\n",
       "      <th>goalDiffTotal</th>\n",
       "      <th>pointsTotal</th>\n",
       "      <th>npartidos</th>\n",
       "      <th>wins</th>\n",
       "      <th>draws</th>\n",
       "      <th>lose</th>\n",
       "      <th>wpc</th>\n",
       "      <th>pyth</th>\n",
       "      <th>short_team_name</th>\n",
       "      <th>offensiveVAEP</th>\n",
       "      <th>defensiveVAEP</th>\n",
       "      <th>totalVAEP</th>\n",
       "      <th>offensiveVAEPAgainst</th>\n",
       "      <th>defensiveVAEPAgainst</th>\n",
       "      <th>totalVAEPAgainst</th>\n",
       "    </tr>\n",
       "  </thead>\n",
       "  <tbody>\n",
       "    <tr>\n",
       "      <th>0</th>\n",
       "      <td>364</td>\n",
       "      <td>1625</td>\n",
       "      <td>106</td>\n",
       "      <td>27</td>\n",
       "      <td>79</td>\n",
       "      <td>100</td>\n",
       "      <td>38</td>\n",
       "      <td>32</td>\n",
       "      <td>4</td>\n",
       "      <td>2</td>\n",
       "      <td>0.894737</td>\n",
       "      <td>0.939072</td>\n",
       "      <td>Manchester City</td>\n",
       "      <td>128.028699</td>\n",
       "      <td>2.398950</td>\n",
       "      <td>130.427648</td>\n",
       "      <td>48.648429</td>\n",
       "      <td>7.413810</td>\n",
       "      <td>56.062239</td>\n",
       "    </tr>\n",
       "    <tr>\n",
       "      <th>1</th>\n",
       "      <td>364</td>\n",
       "      <td>1611</td>\n",
       "      <td>68</td>\n",
       "      <td>28</td>\n",
       "      <td>40</td>\n",
       "      <td>81</td>\n",
       "      <td>38</td>\n",
       "      <td>25</td>\n",
       "      <td>6</td>\n",
       "      <td>7</td>\n",
       "      <td>0.736842</td>\n",
       "      <td>0.855030</td>\n",
       "      <td>Manchester United</td>\n",
       "      <td>98.588145</td>\n",
       "      <td>7.553935</td>\n",
       "      <td>106.142079</td>\n",
       "      <td>61.822269</td>\n",
       "      <td>8.384479</td>\n",
       "      <td>70.206747</td>\n",
       "    </tr>\n",
       "    <tr>\n",
       "      <th>2</th>\n",
       "      <td>364</td>\n",
       "      <td>1624</td>\n",
       "      <td>74</td>\n",
       "      <td>36</td>\n",
       "      <td>38</td>\n",
       "      <td>77</td>\n",
       "      <td>38</td>\n",
       "      <td>23</td>\n",
       "      <td>8</td>\n",
       "      <td>7</td>\n",
       "      <td>0.710526</td>\n",
       "      <td>0.808624</td>\n",
       "      <td>Tottenham Hotspur</td>\n",
       "      <td>97.944202</td>\n",
       "      <td>2.274331</td>\n",
       "      <td>100.218533</td>\n",
       "      <td>61.034537</td>\n",
       "      <td>5.925000</td>\n",
       "      <td>66.959536</td>\n",
       "    </tr>\n",
       "    <tr>\n",
       "      <th>3</th>\n",
       "      <td>364</td>\n",
       "      <td>1612</td>\n",
       "      <td>84</td>\n",
       "      <td>38</td>\n",
       "      <td>46</td>\n",
       "      <td>75</td>\n",
       "      <td>38</td>\n",
       "      <td>21</td>\n",
       "      <td>12</td>\n",
       "      <td>5</td>\n",
       "      <td>0.710526</td>\n",
       "      <td>0.830118</td>\n",
       "      <td>Liverpool</td>\n",
       "      <td>112.775656</td>\n",
       "      <td>3.904689</td>\n",
       "      <td>116.680345</td>\n",
       "      <td>61.025680</td>\n",
       "      <td>9.837717</td>\n",
       "      <td>70.863397</td>\n",
       "    </tr>\n",
       "    <tr>\n",
       "      <th>4</th>\n",
       "      <td>364</td>\n",
       "      <td>1610</td>\n",
       "      <td>62</td>\n",
       "      <td>38</td>\n",
       "      <td>24</td>\n",
       "      <td>70</td>\n",
       "      <td>38</td>\n",
       "      <td>21</td>\n",
       "      <td>7</td>\n",
       "      <td>10</td>\n",
       "      <td>0.644737</td>\n",
       "      <td>0.726929</td>\n",
       "      <td>Chelsea</td>\n",
       "      <td>92.046647</td>\n",
       "      <td>5.915663</td>\n",
       "      <td>97.962310</td>\n",
       "      <td>66.009175</td>\n",
       "      <td>9.934507</td>\n",
       "      <td>75.943682</td>\n",
       "    </tr>\n",
       "  </tbody>\n",
       "</table>\n",
       "</div>"
      ],
      "text/plain": [
       "   competitionid  team_id  goalsFavorTotal  goalsAgainstTotal  goalDiffTotal  \\\n",
       "0            364     1625              106                 27             79   \n",
       "1            364     1611               68                 28             40   \n",
       "2            364     1624               74                 36             38   \n",
       "3            364     1612               84                 38             46   \n",
       "4            364     1610               62                 38             24   \n",
       "\n",
       "   pointsTotal  npartidos  wins  draws  lose       wpc      pyth  \\\n",
       "0          100         38    32      4     2  0.894737  0.939072   \n",
       "1           81         38    25      6     7  0.736842  0.855030   \n",
       "2           77         38    23      8     7  0.710526  0.808624   \n",
       "3           75         38    21     12     5  0.710526  0.830118   \n",
       "4           70         38    21      7    10  0.644737  0.726929   \n",
       "\n",
       "     short_team_name  offensiveVAEP  defensiveVAEP   totalVAEP  \\\n",
       "0    Manchester City     128.028699       2.398950  130.427648   \n",
       "1  Manchester United      98.588145       7.553935  106.142079   \n",
       "2  Tottenham Hotspur      97.944202       2.274331  100.218533   \n",
       "3          Liverpool     112.775656       3.904689  116.680345   \n",
       "4            Chelsea      92.046647       5.915663   97.962310   \n",
       "\n",
       "   offensiveVAEPAgainst  defensiveVAEPAgainst  totalVAEPAgainst  \n",
       "0             48.648429              7.413810         56.062239  \n",
       "1             61.822269              8.384479         70.206747  \n",
       "2             61.034537              5.925000         66.959536  \n",
       "3             61.025680              9.837717         70.863397  \n",
       "4             66.009175              9.934507         75.943682  "
      ]
     },
     "execution_count": 17,
     "metadata": {},
     "output_type": "execute_result"
    }
   ],
   "source": [
    "# Aquí se juntan las tablas de partidos goles y victorias con los índices VAEP\n",
    "\n",
    "fullmatchData=pd.merge(matchResults.toPandas(), vaepPerTeam.toPandas(), on = ['team_id'])\n",
    "fullmatchData.head()"
   ]
  },
  {
   "cell_type": "code",
   "execution_count": 18,
   "metadata": {},
   "outputs": [
    {
     "data": {
      "image/png": "[encoded data removed]",
      "text/plain": [
       "<Figure size 432x288 with 2 Axes>"
      ]
     },
     "metadata": {
      "needs_background": "light"
     },
     "output_type": "display_data"
    }
   ],
   "source": [
    "# Aquí puede verse la alta correlación entre el VAEP total y el VAEP ofensivo con los goles a favor, y entre el VAEP total y\n",
    "# ofensivo en contra con los goles en contra.\n",
    "\n",
    "g = sns.heatmap(fullmatchData[['goalsFavorTotal','goalsAgainstTotal','offensiveVAEP','offensiveVAEPAgainst','totalVAEP','totalVAEPAgainst']].corr(),\n",
    "                annot=True, fmt = \".3f\", cmap = \"coolwarm\")"
   ]
  },
  {
   "cell_type": "code",
   "execution_count": 19,
   "metadata": {},
   "outputs": [
    {
     "data": {
      "image/png": "[encoded data removed]",
      "text/plain": [
       "<Figure size 464.625x360 with 1 Axes>"
      ]
     },
     "metadata": {
      "needs_background": "light"
     },
     "output_type": "display_data"
    }
   ],
   "source": [
    "# Grafico de los goles a favor y el VAEP ofensivo\n",
    "\n",
    "g=sns.relplot(x=\"offensiveVAEP\", y=\"goalsFavorTotal\", data =fullmatchData ,hue='competitionid', legend=\"full\")"
   ]
  },
  {
   "cell_type": "code",
   "execution_count": 20,
   "metadata": {},
   "outputs": [
    {
     "data": {
      "image/png": "[encoded data removed]",
      "text/plain": [
       "<Figure size 464.625x360 with 1 Axes>"
      ]
     },
     "metadata": {
      "needs_background": "light"
     },
     "output_type": "display_data"
    }
   ],
   "source": [
    "# Grafico de los goles en contra  y el VAEP ofensivo en contra\n",
    "\n",
    "g=sns.relplot(x=\"offensiveVAEPAgainst\", y=\"goalsAgainstTotal\", data =fullmatchData ,hue='competitionid', legend=\"full\")"
   ]
  },
  {
   "cell_type": "code",
   "execution_count": 21,
   "metadata": {},
   "outputs": [],
   "source": [
    "# Se calcula un nuevo índice \"Pythagorean\" utilizando el VAEP total a favor y en contra (se podría utilizar el ofensivo pero\n",
    "# el total da mejor resultado)\n",
    "\n",
    "fullmatchData['pythVaep'] = fullmatchData['totalVAEP']**2/(fullmatchData['totalVAEP']**2 + fullmatchData['totalVAEPAgainst']**2)"
   ]
  },
  {
   "cell_type": "code",
   "execution_count": 22,
   "metadata": {},
   "outputs": [
    {
     "data": {
      "image/png": "[encoded data removed]",
      "text/plain": [
       "<Figure size 464.625x360 with 1 Axes>"
      ]
     },
     "metadata": {
      "needs_background": "light"
     },
     "output_type": "display_data"
    }
   ],
   "source": [
    "# Se muestra que el nuevo índice también guarda una relación bastante lineal con el porcentaje de victorias.\n",
    "\n",
    "g=sns.relplot(x=\"wpc\", y=\"pythVaep\", data =fullmatchData ,hue='competitionid', legend=\"full\")"
   ]
  },
  {
   "cell_type": "markdown",
   "metadata": {},
   "source": [
    "### Análisis de victorias y derrotas "
   ]
  },
  {
   "cell_type": "markdown",
   "metadata": {},
   "source": [
    "En esta sección se analiza la relación entre la diferencia del VAEP a favor y en contra con la diferencia de goles por partido. Se prueba que mientras mayor sea la diferencia de VAEP, mayor será la diferencia de gol a favor, con lo cual, la probabilidad de ganar aumenta."
   ]
  },
  {
   "cell_type": "code",
   "execution_count": 23,
   "metadata": {},
   "outputs": [],
   "source": [
    "# Esta query calcula la diferencia de vaep total a favor y en contra por partido por equipo\n",
    "\n",
    "query='''\n",
    "\n",
    "select team1data.game_id ,team_id,short_team_name, team_id2,short_team_name2, sum(totalVAEP) - sum(totalVAEP2) as totalVAEPDiff\n",
    "from\n",
    "(\n",
    "SELECT game_id, team_id, short_team_name, sum(offensive_value) as offensiveVAEP, sum(defensive_value) as defensiveVAEP, sum(vaep_value) as totalVAEP\n",
    "FROM eventsAnalysis\n",
    "group by game_id, team_id, short_team_name\n",
    ") as team1data\n",
    "\n",
    "join\n",
    "\n",
    "(\n",
    "SELECT game_id, team_id as team_id2, short_team_name as short_team_name2, sum(offensive_value) as offensiveVAEP2, sum(defensive_value) as defensiveVAEP2, sum(vaep_value) as totalVAEP2\n",
    "FROM eventsAnalysis\n",
    "group by game_id, team_id, short_team_name\n",
    ") as team2data\n",
    "\n",
    "on team1data.game_id=team2data.game_id\n",
    "where team_id<>team_id2\n",
    "group by team1data.game_id ,team_id,short_team_name, team_id2,short_team_name2\n",
    "order by totalVAEPDiff desc\n",
    "\n",
    "\n",
    "\n",
    "\n",
    "'''"
   ]
  },
  {
   "cell_type": "code",
   "execution_count": 24,
   "metadata": {},
   "outputs": [
    {
     "name": "stdout",
     "output_type": "stream",
     "text": [
      "+-------+-------+---------------+--------+-------------------+-----------------+\n",
      "|game_id|team_id|short_team_name|team_id2|   short_team_name2|    totalVAEPDiff|\n",
      "+-------+-------+---------------+--------+-------------------+-----------------+\n",
      "|2576186|   3159|       Juventus|    3315|           Sassuolo|6.810431888559833|\n",
      "|2565738|    675|    Real Madrid|     677|Deportivo La Coruña|6.391430085001048|\n",
      "|2499794|   1625|Manchester City|    1639|         Stoke City|6.107440480380319|\n",
      "|2565595|    674|       Valencia|     683|             Málaga|5.254037733713631|\n",
      "|2500080|   1609|        Arsenal|    1646|            Burnley|5.253435037680902|\n",
      "+-------+-------+---------------+--------+-------------------+-----------------+\n",
      "only showing top 5 rows\n",
      "\n"
     ]
    }
   ],
   "source": [
    "vaepdifPerGame = spark.sql(query)\n",
    "vaepdifPerGame.show(5)"
   ]
  },
  {
   "cell_type": "code",
   "execution_count": 25,
   "metadata": {},
   "outputs": [
    {
     "data": {
      "text/plain": [
       "2280"
      ]
     },
     "execution_count": 25,
     "metadata": {},
     "output_type": "execute_result"
    }
   ],
   "source": [
    "# Notar que la cantidad de partidos se duplica porque se hace desde el punto de vista de ambos equipos\n",
    "vaepdifPerGame.count()"
   ]
  },
  {
   "cell_type": "code",
   "execution_count": 26,
   "metadata": {},
   "outputs": [],
   "source": [
    "vaepdifPerGame.createOrReplaceTempView(\"vaepdifPerGame\")"
   ]
  },
  {
   "cell_type": "code",
   "execution_count": 27,
   "metadata": {},
   "outputs": [],
   "source": [
    "# Esta query agrega a cada partido la diferencia de goles y si se ganó o no el partido\n",
    "\n",
    "query='''\n",
    "\n",
    "SELECT vaepdifPerGame.game_id, vaepdifPerGame.team_id, vaepdifPerGame.short_team_name, vaepdifPerGame.team_id2, vaepdifPerGame.short_team_name2, vaepdifPerGame.totalVAEPDiff,\n",
    "case when winner=vaepdifPerGame.team_Id then 'Win' else (case when winner=0 then 'Draw' else 'Lose' END ) END as result,\n",
    "case when winner=vaepdifPerGame.team_Id then 1 else 0 END as winflag,\n",
    "case when matches.team1_teamId=vaepdifPerGame.team_id then (matches.team1_score-matches.team2_score) else (matches.team2_score-matches.team1_score) END as goaldiff\n",
    "\n",
    "\n",
    "FROM matches join vaepdifPerGame on matches.wyId=vaepdifPerGame.game_id\n",
    "\n",
    "'''"
   ]
  },
  {
   "cell_type": "code",
   "execution_count": 28,
   "metadata": {},
   "outputs": [
    {
     "name": "stdout",
     "output_type": "stream",
     "text": [
      "+-------+-------+---------------+--------+-------------------+-----------------+------+-------+--------+\n",
      "|game_id|team_id|short_team_name|team_id2|   short_team_name2|    totalVAEPDiff|result|winflag|goaldiff|\n",
      "+-------+-------+---------------+--------+-------------------+-----------------+------+-------+--------+\n",
      "|2576186|   3159|       Juventus|    3315|           Sassuolo|6.810431888559833|   Win|      1|       7|\n",
      "|2565738|    675|    Real Madrid|     677|Deportivo La Coruña|6.391430085001048|   Win|      1|       6|\n",
      "|2499794|   1625|Manchester City|    1639|         Stoke City|6.107440480380319|   Win|      1|       5|\n",
      "|2565595|    674|       Valencia|     683|             Málaga|5.254037733713631|   Win|      1|       5|\n",
      "|2500080|   1609|        Arsenal|    1646|            Burnley|5.253435037680902|   Win|      1|       5|\n",
      "+-------+-------+---------------+--------+-------------------+-----------------+------+-------+--------+\n",
      "only showing top 5 rows\n",
      "\n"
     ]
    }
   ],
   "source": [
    "fullVaepPerMatch = spark.sql(query)\n",
    "fullVaepPerMatch.show(5)"
   ]
  },
  {
   "cell_type": "code",
   "execution_count": 29,
   "metadata": {},
   "outputs": [
    {
     "name": "stdout",
     "output_type": "stream",
     "text": [
      "+-------+-------+--------------------+--------+--------------------+-------------------+------+-------+--------+\n",
      "|game_id|team_id|     short_team_name|team_id2|    short_team_name2|      totalVAEPDiff|result|winflag|goaldiff|\n",
      "+-------+-------+--------------------+--------+--------------------+-------------------+------+-------+--------+\n",
      "|2499997|   1644|             Watford|    1623|             Everton| 1.3710207622498274|  Draw|      0|       1|\n",
      "|2565862|    698|              Getafe|     691|            Espanyol| 0.8400223162025213|  Draw|      0|       1|\n",
      "|2500012|   1623|             Everton|    1651|Brighton & Hove A...| 0.2783736549317837|  Draw|      0|       2|\n",
      "|2500012|   1651|Brighton & Hove A...|    1623|             Everton|-0.2783736549317837|  Draw|      0|      -2|\n",
      "|2565862|    691|            Espanyol|     698|              Getafe|-0.8400223162025213|  Draw|      0|      -1|\n",
      "|2499997|   1623|             Everton|    1644|             Watford|-1.3710207622498274|  Draw|      0|      -1|\n",
      "+-------+-------+--------------------+--------+--------------------+-------------------+------+-------+--------+\n",
      "\n"
     ]
    }
   ],
   "source": [
    "# hay que corregir un par de valores que vienen mal del dataset\n",
    "fullVaepPerMatch.where((fullVaepPerMatch.result == 'Draw') & (fullVaepPerMatch.goaldiff!=0)).show()"
   ]
  },
  {
   "cell_type": "code",
   "execution_count": 30,
   "metadata": {},
   "outputs": [
    {
     "name": "stdout",
     "output_type": "stream",
     "text": [
      "+-------+-------+---------------+--------+--------------------+------------------+------+-------+--------+\n",
      "|game_id|team_id|short_team_name|team_id2|    short_team_name2|     totalVAEPDiff|result|winflag|goaldiff|\n",
      "+-------+-------+---------------+--------+--------------------+------------------+------+-------+--------+\n",
      "|2499997|   1644|        Watford|    1623|             Everton|1.3710207622498274|  Draw|      0|       1|\n",
      "|2565862|    698|         Getafe|     691|            Espanyol|0.8400223162025213|  Draw|      0|       1|\n",
      "|2500012|   1623|        Everton|    1651|Brighton & Hove A...|0.2783736549317837|  Draw|      0|       2|\n",
      "+-------+-------+---------------+--------+--------------------+------------------+------+-------+--------+\n",
      "\n"
     ]
    }
   ],
   "source": [
    "fullVaepPerMatch.where((fullVaepPerMatch.result == 'Draw') & (fullVaepPerMatch.goaldiff>0)).show()"
   ]
  },
  {
   "cell_type": "code",
   "execution_count": 31,
   "metadata": {},
   "outputs": [],
   "source": [
    "#se corrigen los valores errados\n",
    "\n",
    "fullVaepPerMatch = fullVaepPerMatch.withColumn(\"result\", when(fullVaepPerMatch.goaldiff >0,\"Win\") \\\n",
    "      .when(fullVaepPerMatch.goaldiff < 0,\"Lose\") \\\n",
    "      .otherwise(fullVaepPerMatch.result))\n",
    "\n",
    "fullVaepPerMatch = fullVaepPerMatch.withColumn(\"winflag\", when(fullVaepPerMatch.goaldiff >0, 1) \\\n",
    "      .when(fullVaepPerMatch.goaldiff < 0, 0) \\\n",
    "      .otherwise(fullVaepPerMatch.winflag))\n"
   ]
  },
  {
   "cell_type": "code",
   "execution_count": 32,
   "metadata": {},
   "outputs": [
    {
     "data": {
      "image/png": "[encoded data removed]",
      "text/plain": [
       "<Figure size 432x288 with 2 Axes>"
      ]
     },
     "metadata": {
      "needs_background": "light"
     },
     "output_type": "display_data"
    }
   ],
   "source": [
    "# Se muestra la alta correlación entre la diferencia de goles y la diferencia de VAEP por partido\n",
    "\n",
    "g = sns.heatmap(fullVaepPerMatch.select('totalVAEPDiff', 'goaldiff').toPandas().corr(),\n",
    "                annot=True, fmt = \".3f\", cmap = \"coolwarm\")"
   ]
  },
  {
   "cell_type": "code",
   "execution_count": 33,
   "metadata": {},
   "outputs": [
    {
     "data": {
      "image/png": "[encoded data removed]",
      "text/plain": [
       "<Figure size 424.375x360 with 1 Axes>"
      ]
     },
     "metadata": {
      "needs_background": "light"
     },
     "output_type": "display_data"
    }
   ],
   "source": [
    "g=sns.relplot(x=\"totalVAEPDiff\", y=\"goaldiff\", data =fullVaepPerMatch.toPandas() ,hue='result')\n",
    "\n",
    "# En este gráfico puede observarse que a mayor diferencia de VAEP hay mayor diferencia de gol. Para valores de VAEP muy \n",
    "# altos el equipo gana los partidos, pero para los valores cercanos a cero pueden darse tanto empates victorias y derrotas."
   ]
  },
  {
   "cell_type": "markdown",
   "metadata": {},
   "source": [
    "### Análisis de probabilidad de victoria "
   ]
  },
  {
   "cell_type": "markdown",
   "metadata": {},
   "source": [
    "En esta sección se utilizan una regresión logística para mostrar como varia la probabilidad de victoria en base al valor de la diferencia de VAEP.\n",
    "\n",
    "**Nota:** De la misma manera que se puede usar una regresión con todos los puntos para mostrar como una recta ajusta los datos, en este ejercicio se usa una regresión logística con todos los datos para mostrar como ajusta la curva a todos los datos (no hay train y test) y utilizando esa curva se analizan las probabilidades de victoria. Para ver cómo funciona el índice como predictor mirar el script de predicción.\n"
   ]
  },
  {
   "cell_type": "code",
   "execution_count": 34,
   "metadata": {},
   "outputs": [
    {
     "name": "stdout",
     "output_type": "stream",
     "text": [
      "+-------+------+------------------+\n",
      "|winflag|result|     totalVAEPDiff|\n",
      "+-------+------+------------------+\n",
      "|      1|   Win| 6.810431888559833|\n",
      "|      1|   Win| 6.391430085001048|\n",
      "|      1|   Win| 6.107440480380319|\n",
      "|      1|   Win| 5.254037733713631|\n",
      "|      1|   Win| 5.253435037680902|\n",
      "|      1|   Win| 5.197848386596888|\n",
      "|      1|   Win| 5.196365279320162|\n",
      "|      1|   Win| 5.156921313144267|\n",
      "|      1|   Win| 5.138717727269977|\n",
      "|      1|   Win| 5.084834983048495|\n",
      "|      1|   Win|5.0703606777242385|\n",
      "|      1|   Win| 5.058232673909515|\n",
      "|      1|   Win| 5.025967113557272|\n",
      "|      1|   Win| 4.988158743595704|\n",
      "|      1|   Win| 4.967536365264095|\n",
      "|      1|   Win| 4.889950550626963|\n",
      "|      1|   Win| 4.863394259416964|\n",
      "|      1|   Win| 4.857641160022467|\n",
      "|      1|   Win| 4.654069984040689|\n",
      "|      1|   Win| 4.619656831491739|\n",
      "+-------+------+------------------+\n",
      "only showing top 20 rows\n",
      "\n"
     ]
    }
   ],
   "source": [
    "df=fullVaepPerMatch.select('winflag','result','totalVAEPDiff')\n",
    "df.show()"
   ]
  },
  {
   "cell_type": "code",
   "execution_count": 35,
   "metadata": {},
   "outputs": [],
   "source": [
    "feature_cols=['totalVAEPDiff']"
   ]
  },
  {
   "cell_type": "code",
   "execution_count": 36,
   "metadata": {},
   "outputs": [
    {
     "name": "stdout",
     "output_type": "stream",
     "text": [
      "+--------------------+\n",
      "|            features|\n",
      "+--------------------+\n",
      "| [6.810431888559833]|\n",
      "| [6.391430085001048]|\n",
      "| [6.107440480380319]|\n",
      "| [5.254037733713631]|\n",
      "| [5.253435037680902]|\n",
      "| [5.197848386596888]|\n",
      "| [5.196365279320162]|\n",
      "| [5.156921313144267]|\n",
      "| [5.138717727269977]|\n",
      "| [5.084834983048495]|\n",
      "|[5.0703606777242385]|\n",
      "| [5.058232673909515]|\n",
      "| [5.025967113557272]|\n",
      "| [4.988158743595704]|\n",
      "| [4.967536365264095]|\n",
      "| [4.889950550626963]|\n",
      "| [4.863394259416964]|\n",
      "| [4.857641160022467]|\n",
      "| [4.654069984040689]|\n",
      "| [4.619656831491739]|\n",
      "+--------------------+\n",
      "only showing top 20 rows\n",
      "\n"
     ]
    }
   ],
   "source": [
    "from pyspark.ml.feature import VectorAssembler\n",
    "\n",
    "assembler = VectorAssembler(inputCols=feature_cols, outputCol='features')\n",
    "df = assembler.transform(df)\n",
    "df.select('features').show()"
   ]
  },
  {
   "cell_type": "code",
   "execution_count": 37,
   "metadata": {},
   "outputs": [],
   "source": [
    "#Se utilizan todos los datos para generar la curva\n",
    "\n",
    "from pyspark.ml.classification import LogisticRegression\n",
    "\n",
    "lr = LogisticRegression(labelCol='winflag', featuresCol='features')\n",
    "lrm = lr.fit(df)\n"
   ]
  },
  {
   "cell_type": "code",
   "execution_count": 38,
   "metadata": {},
   "outputs": [
    {
     "data": {
      "text/plain": [
       "0.918859649122807"
      ]
     },
     "execution_count": 38,
     "metadata": {},
     "output_type": "execute_result"
    }
   ],
   "source": [
    "# Pude observarse que la curva ajusta bastante bien los datos\n",
    "lrm.summary.accuracy"
   ]
  },
  {
   "cell_type": "code",
   "execution_count": 39,
   "metadata": {},
   "outputs": [
    {
     "data": {
      "text/plain": [
       "0.9694276480400332"
      ]
     },
     "execution_count": 39,
     "metadata": {},
     "output_type": "execute_result"
    }
   ],
   "source": [
    "# El indice ROC tambien da bien\n",
    "lrm.summary.areaUnderROC"
   ]
  },
  {
   "cell_type": "code",
   "execution_count": 40,
   "metadata": {},
   "outputs": [],
   "source": [
    "pred_df = lrm.transform(df)"
   ]
  },
  {
   "cell_type": "code",
   "execution_count": 41,
   "metadata": {},
   "outputs": [
    {
     "data": {
      "text/plain": [
       "0.9694105439428716"
      ]
     },
     "execution_count": 41,
     "metadata": {},
     "output_type": "execute_result"
    }
   ],
   "source": [
    "# Reviso que de el mismo valor para estar seguro que los datos están bien\n",
    "\n",
    "from pyspark.ml.evaluation import BinaryClassificationEvaluator\n",
    "\n",
    "evaluator = BinaryClassificationEvaluator(labelCol='winflag')\n",
    "evaluator.evaluate(pred_df)"
   ]
  },
  {
   "cell_type": "code",
   "execution_count": 42,
   "metadata": {},
   "outputs": [
    {
     "name": "stdout",
     "output_type": "stream",
     "text": [
      "+-------+------+--------------------+--------------------+--------------------+--------------------+----------+\n",
      "|winflag|result|       totalVAEPDiff|            features|       rawPrediction|         probability|prediction|\n",
      "+-------+------+--------------------+--------------------+--------------------+--------------------+----------+\n",
      "|      0|  Lose|   -1.24479228281416| [-1.24479228281416]|[5.96621656998565...|[0.99744263337556...|       0.0|\n",
      "|      1|   Win|    1.24479228281416|  [1.24479228281416]|[-2.5567306988872...|[0.07197561028413...|       1.0|\n",
      "|      0|  Lose| -0.7239726117695682|[-0.7239726117695...|[4.18322086291494...|[0.98497973625579...|       0.0|\n",
      "|      1|   Win|  0.7239726117695682|[0.7239726117695682]|[-0.7737349918165...|[0.31567170689902...|       1.0|\n",
      "|      0|  Lose| -1.7041606863494962|[-1.7041606863494...|[7.53883745395627...|[0.99946826713502...|       0.0|\n",
      "|      1|   Win|  1.7041606863494962|[1.7041606863494962]|[-4.1293515828578...|[0.01583841803743...|       1.0|\n",
      "|      0|  Lose| -1.0604248164454475|[-1.0604248164454...|[5.33504532332440...|[0.99520342634319...|       0.0|\n",
      "|      1|   Win|  1.0604248164454475|[1.0604248164454475]|[-1.9255594522260...|[0.12724289675002...|       1.0|\n",
      "|      0|  Lose|  -4.207959827734157|[-4.207959827734157]|[16.1104474922298...|[0.99999989923226...|       0.0|\n",
      "|      1|   Win|   4.207959827734157| [4.207959827734157]|[-12.700961621131...|[3.04818365003214...|       1.0|\n",
      "|      0|  Draw| -0.5785050659906119|[-0.5785050659906...|[3.68522122107771...|[0.97552255550353...|       0.0|\n",
      "|      0|  Draw|  0.5785050659906119|[0.5785050659906119]|[-0.2757353499793...|[0.43149962043236...|       1.0|\n",
      "|      0|  Draw| -0.4679280621930957|[-0.4679280621930...|[3.30666731070739...|[0.96465683177700...|       0.0|\n",
      "|      0|  Draw|  0.4679280621930957|[0.4679280621930957]|[0.10281856039100...|[0.52568201895990...|       0.0|\n",
      "|      0|  Lose| -0.5661443413700908|[-0.5661443413700...|[3.64290500270127...|[0.97449152327108...|       0.0|\n",
      "|      1|   Win|  0.5661443413700908|[0.5661443413700908]|[-0.2334191316028...|[0.44190873398763...|       1.0|\n",
      "|      0|  Lose| -1.8572254151222296|[-1.8572254151222...|[8.06284560779261...|[0.99968507013265...|       0.0|\n",
      "|      1|   Win|  1.8572254151222296|[1.8572254151222296]|[-4.6533597366942...|[0.00943957662856...|       1.0|\n",
      "|      0|  Draw|-0.43181187694426626|[-0.4318118769442...|[3.18302566114128...|[0.96019048226910...|       0.0|\n",
      "|      0|  Draw| 0.43181187694426626|[0.43181187694426...|[0.22646020995711...|[0.55637433199819...|       0.0|\n",
      "+-------+------+--------------------+--------------------+--------------------+--------------------+----------+\n",
      "only showing top 20 rows\n",
      "\n"
     ]
    }
   ],
   "source": [
    "pred_df.show()"
   ]
  },
  {
   "cell_type": "code",
   "execution_count": 43,
   "metadata": {},
   "outputs": [
    {
     "data": {
      "text/html": [
       "<div>\n",
       "<style scoped>\n",
       "    .dataframe tbody tr th:only-of-type {\n",
       "        vertical-align: middle;\n",
       "    }\n",
       "\n",
       "    .dataframe tbody tr th {\n",
       "        vertical-align: top;\n",
       "    }\n",
       "\n",
       "    .dataframe thead th {\n",
       "        text-align: right;\n",
       "    }\n",
       "</style>\n",
       "<table border=\"1\" class=\"dataframe\">\n",
       "  <thead>\n",
       "    <tr style=\"text-align: right;\">\n",
       "      <th></th>\n",
       "      <th>result</th>\n",
       "      <th>probability</th>\n",
       "      <th>totalVAEPDiff</th>\n",
       "      <th>winProb</th>\n",
       "    </tr>\n",
       "  </thead>\n",
       "  <tbody>\n",
       "    <tr>\n",
       "      <th>0</th>\n",
       "      <td>Win</td>\n",
       "      <td>[4.11845583950816e-10, 0.9999999995881543]</td>\n",
       "      <td>6.810432</td>\n",
       "      <td>1.0</td>\n",
       "    </tr>\n",
       "    <tr>\n",
       "      <th>1</th>\n",
       "      <td>Win</td>\n",
       "      <td>[1.7286165223894493e-09, 0.9999999982713834]</td>\n",
       "      <td>6.391430</td>\n",
       "      <td>1.0</td>\n",
       "    </tr>\n",
       "    <tr>\n",
       "      <th>2</th>\n",
       "      <td>Win</td>\n",
       "      <td>[4.570137092149111e-09, 0.9999999954298628]</td>\n",
       "      <td>6.107440</td>\n",
       "      <td>1.0</td>\n",
       "    </tr>\n",
       "    <tr>\n",
       "      <th>3</th>\n",
       "      <td>Win</td>\n",
       "      <td>[8.486973509855759e-08, 0.9999999151302649]</td>\n",
       "      <td>5.254038</td>\n",
       "      <td>1.0</td>\n",
       "    </tr>\n",
       "    <tr>\n",
       "      <th>4</th>\n",
       "      <td>Win</td>\n",
       "      <td>[8.504502713110692e-08, 0.9999999149549729]</td>\n",
       "      <td>5.253435</td>\n",
       "      <td>1.0</td>\n",
       "    </tr>\n",
       "  </tbody>\n",
       "</table>\n",
       "</div>"
      ],
      "text/plain": [
       "  result                                   probability  totalVAEPDiff  winProb\n",
       "0    Win    [4.11845583950816e-10, 0.9999999995881543]       6.810432      1.0\n",
       "1    Win  [1.7286165223894493e-09, 0.9999999982713834]       6.391430      1.0\n",
       "2    Win   [4.570137092149111e-09, 0.9999999954298628]       6.107440      1.0\n",
       "3    Win   [8.486973509855759e-08, 0.9999999151302649]       5.254038      1.0\n",
       "4    Win   [8.504502713110692e-08, 0.9999999149549729]       5.253435      1.0"
      ]
     },
     "execution_count": 43,
     "metadata": {},
     "output_type": "execute_result"
    }
   ],
   "source": [
    "# Se obtiene la probabilidad de ganar y se la agrega a un dataframe de pandas con el resultado y la diferencia de VAEP\n",
    "\n",
    "probWin=pred_df.select(\"result\",\"probability\",\"totalVAEPDiff\").toPandas()\n",
    "probWin['winProb']=probWin['probability'].str[1]\n",
    "probWin.head()"
   ]
  },
  {
   "cell_type": "code",
   "execution_count": 44,
   "metadata": {},
   "outputs": [
    {
     "data": {
      "image/png": "[encoded data removed]",
      "text/plain": [
       "<Figure size 360x360 with 1 Axes>"
      ]
     },
     "metadata": {
      "needs_background": "light"
     },
     "output_type": "display_data"
    }
   ],
   "source": [
    "# Puede verse que la curva de probabilidades tiene una pendiente muy empinada lo que implica que, cerca del cero, pequeños\n",
    "# dambios de la diferencia de vaep hace cambiar mucho la probabilidad de ganar.\n",
    "\n",
    "g=sns.relplot(x=\"totalVAEPDiff\", y='winProb', data =probWin, kind=\"line\")"
   ]
  },
  {
   "cell_type": "code",
   "execution_count": 45,
   "metadata": {},
   "outputs": [
    {
     "data": {
      "image/png": "[encoded data removed]",
      "text/plain": [
       "<Figure size 1144.38x360 with 3 Axes>"
      ]
     },
     "metadata": {
      "needs_background": "light"
     },
     "output_type": "display_data"
    }
   ],
   "source": [
    "# En este gráfico, al igual que el que se realizó en la sección anterior puede verse como cerca del cero hay tanto empates \n",
    "# victorias y derrotas y al alejarse del cero quedan solo derrotas o victorias dependiendo del sentido.\n",
    "\n",
    "g=sns.relplot(x=\"totalVAEPDiff\", y='winProb', data =probWin, hue='result', col=\"result\")"
   ]
  },
  {
   "cell_type": "code",
   "execution_count": 46,
   "metadata": {},
   "outputs": [
    {
     "data": {
      "text/plain": [
       "0.8189646690152586"
      ]
     },
     "execution_count": 46,
     "metadata": {},
     "output_type": "execute_result"
    }
   ],
   "source": [
    "# Se calcula la diferencia de VAEP que tiene que haber para tener 75% de probabilidad de ganar\n",
    "\n",
    "thr=0.75\n",
    "probWin[probWin.winProb>thr]['totalVAEPDiff'].min()"
   ]
  },
  {
   "cell_type": "code",
   "execution_count": 47,
   "metadata": {},
   "outputs": [
    {
     "data": {
      "text/plain": [
       "713"
      ]
     },
     "execution_count": 47,
     "metadata": {},
     "output_type": "execute_result"
    }
   ],
   "source": [
    "# Se calculan cuantos partidos hubo donde la probabilidad de ganar fue mayor que 75%\n",
    "\n",
    "probWin[probWin.winProb>thr]['totalVAEPDiff'].count()"
   ]
  },
  {
   "cell_type": "markdown",
   "metadata": {},
   "source": [
    "### Conclusión:"
   ]
  },
  {
   "cell_type": "markdown",
   "metadata": {},
   "source": [
    "Se ha demostrado que el índice VAEP es válido para la evaluación del desempeño a largo plazo de un equipo dada su relación casi lineal con el porcentaje de victorias.\n",
    "\n",
    "La principal ventaja del índice es que al ser generado por las acciones de los jugadores este permite mostrar cuando contribuye cada jugador a la victoria (un análisis de los goles a favor o en contra no tiene esta ventaja). Para más ver graficas en superset. \n",
    "\n",
    "En cuanto a la evaluación de partidos individuales, la diferencia entre el índice vaep generado por un equipo y otro durante el partido tiene una alta correlación con la diferencia de goles. Para diferencias altas de VAEP es prácticamente seguro que el equipo ganará o perderá (dependiendo de si la diferencia es a favor o en contra). Para diferencias bajas cualquiera de los tres resultados puede darse y el índice no es un estimador lo suficientemente fuerte por sí solo para decir quien ganara.  "
   ]
  },
  {
   "cell_type": "code",
   "execution_count": null,
   "metadata": {},
   "outputs": [],
   "source": []
  },
  {
   "cell_type": "code",
   "execution_count": null,
   "metadata": {},
   "outputs": [],
   "source": []
  },
  {
   "cell_type": "code",
   "execution_count": 48,
   "metadata": {},
   "outputs": [],
   "source": [
    "spark.stop()"
   ]
  },
  {
   "cell_type": "code",
   "execution_count": null,
   "metadata": {},
   "outputs": [],
   "source": []
  },
  {
   "cell_type": "code",
   "execution_count": null,
   "metadata": {},
   "outputs": [],
   "source": []
  }
 ],
 "metadata": {
  "kernelspec": {
   "display_name": "Python 3",
   "language": "python",
   "name": "python3"
  },
  "language_info": {
   "codemirror_mode": {
    "name": "ipython",
    "version": 3
   },
   "file_extension": ".py",
   "mimetype": "text/x-python",
   "name": "python",
   "nbconvert_exporter": "python",
   "pygments_lexer": "ipython3",
   "version": "3.7.3"
  }
 },
 "nbformat": 4,
 "nbformat_minor": 4
}
