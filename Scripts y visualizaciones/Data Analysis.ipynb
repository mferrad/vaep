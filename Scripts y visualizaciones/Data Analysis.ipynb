{
 "cells": [
  {
   "cell_type": "markdown",
   "metadata": {},
   "source": [
    "# Análisis del método"
   ]
  },
  {
   "cell_type": "markdown",
   "metadata": {},
   "source": [
    "**Nota:** Por favor leer el archivo vaepReadMe.md para obtener más información incluyendo el orden en que se deben ejecutar los scripts"
   ]
  },
  {
   "cell_type": "markdown",
   "metadata": {},
   "source": [
    "El estudio original realizado por el grupo \"friends of tracking\" se centra en la explicación del algoritmo y la evaluación de jugadores utilizando el método, sin embargo, nunca prueba la validez de este. \n",
    "\n",
    "El objetivo de este script es verificar que un incremento del valor VAEP acumulado de un equipo se traduce en un mayor porcentaje de victorias, validando así el método.",
    "\n",
    Nota: Se han impreso varios resultados intermedios con el fin de visualizar las diferentes etapas del proceso, esto reduce considerablemente la eficiencia ya que no toma ventaja de la programación en pyspark. Para aumentar la velocidad del algoritmo comentar las visualizaciones.
   ]
  },
  {
   "cell_type": "code",
   "execution_count": 1,
   "metadata": {},
   "outputs": [],
   "source": [
    "import findspark\n",
    "findspark.init()"
   ]
  },
  {
   "cell_type": "code",
   "execution_count": 2,
   "metadata": {},
   "outputs": [],
   "source": [
    "from pyspark.sql import SparkSession\n",
    "spark = (\n",
    "    SparkSession.builder\n",
    "    .appName(\"Vaep-data-analysis\")\n",
    "    .config(\"spark.driver.memory\", \"512m\")\n",
    "    .config(\"spark.driver.cores\", \"1\")\n",
    "    .config(\"spark.executor.memory\", \"512m\")\n",
    "    .config(\"spark.executor.cores\", \"1\")\n",
    "    .config(\"spark.sql.shuffle.partitions\", \"2\")\n",
    "    .getOrCreate()\n",
    ")"
   ]
  },
  {
   "cell_type": "code",
   "execution_count": 3,
   "metadata": {},
   "outputs": [],
   "source": [
    "import pandas as pd\n",
    "import seaborn as sns"
   ]
  },
  {
   "cell_type": "code",
   "execution_count": 4,
   "metadata": {},
   "outputs": [],
   "source": [
    "from pyspark.sql.functions import when"
   ]
  },
  {
   "cell_type": "markdown",
   "metadata": {},
   "source": [
    "### Porcentaje de victorias y goles por equipo"
   ]
  },
  {
   "cell_type": "markdown",
   "metadata": {},
   "source": [
    "Un método de estimación tradicional del porcentaje de victorias es la utilización del índice \"Pythagorean expectation\". Este índice se calcula como el cuadrado de los goles a favor sobre el cuadrado de los goles a favor menos el cuadrado de los goles en contra, el valor obtenido tiene una fuerte correlación con el porcentaje de victorias del equipo.\n",
    "\n",
    "En esta sección de calcula el valor índice, el porcentaje de victorias de cada equipo y se muestra su alta correlación lineal."
   ]
  },
  {
   "cell_type": "code",
   "execution_count": 5,
   "metadata": {},
   "outputs": [],
   "source": [
    "parquetData = '/dataset/vaep/parquet/matches.parquet'"
   ]
  },
  {
   "cell_type": "code",
   "execution_count": 6,
   "metadata": {},
   "outputs": [],
   "source": [
    "df_parquet = spark.read.parquet(parquetData)"
   ]
  },
  {
   "cell_type": "code",
   "execution_count": 7,
   "metadata": {},
   "outputs": [],
   "source": [
    "df_parquet.createOrReplaceTempView(\"matches\")"
   ]
  },
  {
   "cell_type": "code",
   "execution_count": 8,
   "metadata": {},
   "outputs": [],
   "source": [
    "query='''\n",
    "\n",
    "Select competitionid, team_id, sum(goalsFavor) as goalsFavorTotal,\n",
    "sum(goalsAgainst) as goalsAgainstTotal, sum(goalsFavor)-sum(goalsAgainst) goalDiffTotal ,sum(points) as pointsTotal, \n",
    "sum(count) as npartidos, sum(winflag) as wins, sum(drawflag) as draws, sum(loseflag) as lose,\n",
    "case when competitionid=524 then \"Italy\" else (case when competitionid=795 then \"Spain\" else \"England\" END) END as competition\n",
    "\n",
    "from\n",
    "(\n",
    "SELECT competitionid,team1_teamId as team_id, team1_score as goalsFavor,  team2_score as goalsAgainst,\n",
    "case when winner=team1_teamId then 3 else (case when winner=0 then 1 else 0 END ) END as points,\n",
    "case when winner=team1_teamId then 1 else 0 END as winflag,\n",
    "case when winner=0 then 1 else 0 END as drawflag,\n",
    "case when winner=team2_teamId then 1 else 0 END loseflag,\n",
    "1 as count\n",
    "FROM matches\n",
    "\n",
    "UNION ALL\n",
    "\n",
    "SELECT competitionid, team2_teamId as team_id, team2_score as goalsFavor,  team1_score as goalsAgainst,\n",
    "case when winner=team2_teamId then 3 else (case when winner=0 then 1 else 0 END ) END as points,\n",
    "case when winner=team2_teamId then 1 else 0 END as winflag,\n",
    "case when winner=0 then 1 else 0 END as drawflag,\n",
    "case when winner=team1_teamId then 1 else 0 END loseflag,\n",
    "1 as count\n",
    "FROM matches\n",
    ")\n",
    "group by competitionid,team_id\n",
    "Order by competitionid, pointsTotal desc\n",
    "\n",
    "'''\n"
   ]
  },
  {
   "cell_type": "code",
   "execution_count": 9,
   "metadata": {},
   "outputs": [
    {
     "name": "stdout",
     "output_type": "stream",
     "text": [
      "+-------------+-------+---------------+-----------------+-------------+-----------+---------+----+-----+----+-----------+\n",
      "|competitionid|team_id|goalsFavorTotal|goalsAgainstTotal|goalDiffTotal|pointsTotal|npartidos|wins|draws|lose|competition|\n",
      "+-------------+-------+---------------+-----------------+-------------+-----------+---------+----+-----+----+-----------+\n",
      "|          364|   1625|            106|               27|           79|        100|       38|  32|    4|   2|    England|\n",
      "|          364|   1611|             68|               28|           40|         81|       38|  25|    6|   7|    England|\n",
      "|          364|   1624|             74|               36|           38|         77|       38|  23|    8|   7|    England|\n",
      "|          364|   1612|             84|               38|           46|         75|       38|  21|   12|   5|    England|\n",
      "|          364|   1610|             62|               38|           24|         70|       38|  21|    7|  10|    England|\n",
      "+-------------+-------+---------------+-----------------+-------------+-----------+---------+----+-----+----+-----------+\n",
      "only showing top 5 rows\n",
      "\n"
     ]
    }
   ],
   "source": [
    "matchResults = spark.sql(query)\n",
    "matchResults.show(5)"
   ]
  },
  {
   "cell_type": "code",
   "execution_count": 10,
   "metadata": {},
   "outputs": [
    {
     "name": "stdout",
     "output_type": "stream",
     "text": [
      "+-------------+-------+---------------+-----------------+-------------+-----------+---------+----+-----+----+-----------+------------------+------------------+\n",
      "|competitionid|team_id|goalsFavorTotal|goalsAgainstTotal|goalDiffTotal|pointsTotal|npartidos|wins|draws|lose|competition|               wpc|              pyth|\n",
      "+-------------+-------+---------------+-----------------+-------------+-----------+---------+----+-----+----+-----------+------------------+------------------+\n",
      "|          364|   1625|            106|               27|           79|        100|       38|  32|    4|   2|    England|0.8947368421052632|0.9271518447195598|\n",
      "|          364|   1611|             68|               28|           40|         81|       38|  25|    6|   7|    England|0.7368421052631579|0.8389429346245283|\n",
      "|          364|   1624|             74|               36|           38|         77|       38|  23|    8|   7|    England|0.7105263157894737|0.7925254352962874|\n",
      "|          364|   1612|             84|               38|           46|         75|       38|  21|   12|   5|    England|0.7105263157894737|0.8138781338802851|\n",
      "|          364|   1610|             62|               38|           24|         70|       38|  21|    7|  10|    England|0.6447368421052632|0.7131146808431557|\n",
      "+-------------+-------+---------------+-----------------+-------------+-----------+---------+----+-----+----+-----------+------------------+------------------+\n",
      "only showing top 5 rows\n",
      "\n"
     ]
    }
   ],
   "source": [
    "# Aquí se crean dos variables adicionales wpc que es el porcentaje de victorias (para este ejercicio \n",
    "# una victoria se le asigna el valor 1 y un empate 0, se podría usar 3 y 1 también) y luego se crea el índice \n",
    "# con el nombre pyth.\n",
    "\n",
    "\n",
    "matchResults=matchResults.withColumn(\"wpc\",(matchResults['wins']+matchResults['draws']*0.5)/matchResults['npartidos'])\n",
    "matchResults=matchResults.withColumn(\"pyth\",matchResults['goalsFavorTotal']**1.86/(matchResults['goalsFavorTotal']**1.86 + matchResults['goalsAgainstTotal']**1.86))\n",
    "matchResults.show(5)"
   ]
  },
  {
   "cell_type": "code",
   "execution_count": 11,
   "metadata": {},
   "outputs": [
    {
     "data": {
      "image/png": "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\n",
      "text/plain": [
       "<Figure size 455.375x360 with 1 Axes>"
      ]
     },
     "metadata": {
      "needs_background": "light"
     },
     "output_type": "display_data"
    }
   ],
   "source": [
    "# En el siguiente grafico puede apreciarse que el porcentaje de victorias es proporcional al índice \n",
    "# para las 3 ligas analizadas.\n",
    "\n",
    "g=sns.relplot(x=\"wpc\", y=\"pyth\", data=matchResults.toPandas() ,hue='competition', legend=\"full\")"
   ]
  },
  {
   "cell_type": "code",
   "execution_count": 12,
   "metadata": {},
   "outputs": [
    {
     "data": {
      "image/png": "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\n",
      "text/plain": [
       "<Figure size 465.25x360 with 1 Axes>"
      ]
     },
     "metadata": {
      "needs_background": "light"
     },
     "output_type": "display_data"
    }
   ],
   "source": [
    "# Grafico para el informe en español\n",
    "\n",
    "import copy\n",
    "\n",
    "mydata=df_copy = pd.DataFrame(columns = matchResults.toPandas().columns, data = copy.deepcopy(matchResults.toPandas().values))\n",
    "mydata['Competición']=mydata['competition']\n",
    "mydata['Competición'].mask(mydata['Competición'] == \"England\", \"Liga Inglesa\", inplace=True)\n",
    "mydata['Competición'].mask(mydata['Competición'] == \"Italy\", \"Liga Italiana\", inplace=True)\n",
    "mydata['Competición'].mask(mydata['Competición'] == \"Spain\", \"Liga Española\", inplace=True)\n",
    "\n",
    "mydata['Proporción de victorias']=mydata['wpc']\n",
    "mydata['Expectativa pitagórica']=mydata['pyth']\n",
    "\n",
    "g=sns.relplot(x=\"Proporción de victorias\", y=\"Expectativa pitagórica\", data=mydata ,hue='Competición', legend=\"full\")\n",
    "g.savefig('/dataset/vaep/Images/wpcPyhtOriginal.eps', format='eps')\n",
    "g.savefig('/dataset/vaep/Images/wpcPyhtOriginal.png', dpi=1000)\n"
   ]
  },
  {
   "cell_type": "markdown",
   "metadata": {},
   "source": [
    "### Relación del porcentaje de victoria con el índice VAEP"
   ]
  },
  {
   "cell_type": "markdown",
   "metadata": {},
   "source": [
    "En esta seccion se realiza un analisis similar al realizado en la seccion anterior pero utilizando el índice VAEP acumulado por los equipos a lo largo de la temporada tanto a favor o en contra en lugar de de los goles.\n",
    "\n",
    "Como el índice VAEP en el fondo se basa en la probabilidad de anotar un gol, este muestra una correlacion muy fuerte con la cantidad de goles anotados. Debido a esto se puede calcular un índice \"Pythagorean\" utilizando el valor VAEP acumulado en lugar de los goles probando de esta manera que el índice esta relacionado con el porcentaje de victorias."
   ]
  },
  {
   "cell_type": "code",
   "execution_count": 13,
   "metadata": {},
   "outputs": [],
   "source": [
    "parquetData = '/dataset/vaep/parquet/match_events.parquet'"
   ]
  },
  {
   "cell_type": "code",
   "execution_count": 14,
   "metadata": {},
   "outputs": [],
   "source": [
    "df_parquet = spark.read.parquet(parquetData)"
   ]
  },
  {
   "cell_type": "code",
   "execution_count": 15,
   "metadata": {},
   "outputs": [],
   "source": [
    "df_parquet.createOrReplaceTempView(\"eventsAnalysis\")"
   ]
  },
  {
   "cell_type": "code",
   "execution_count": 16,
   "metadata": {},
   "outputs": [],
   "source": [
    "# Esta query obtiene el VAEP ofensivo, el VAEP defensivo y el VAEP total tanto a favor como en contra por equipo \n",
    "\n",
    "query='''\n",
    "\n",
    "select team_id, short_team_name, sum(offensiveVAEP) as offensiveVAEP, sum(defensiveVAEP) as defensiveVAEP, sum(totalVAEP) as totalVAEP,\n",
    "sum(offensiveVAEP2) as offensiveVAEPAgainst, sum(defensiveVAEP2) as defensiveVAEPAgainst, sum(totalVAEP2) as totalVAEPAgainst\n",
    "from\n",
    "(\n",
    "SELECT game_id, team_id, short_team_name, sum(offensive_value) as offensiveVAEP, sum(defensive_value) as defensiveVAEP, sum(vaep_value) as totalVAEP\n",
    "FROM eventsAnalysis\n",
    "group by game_id, team_id, short_team_name\n",
    ") as team1data\n",
    "\n",
    "join\n",
    "\n",
    "(\n",
    "SELECT game_id, team_id as team_id2, short_team_name as short_team_name2, sum(offensive_value) as offensiveVAEP2, sum(defensive_value) as defensiveVAEP2, sum(vaep_value) as totalVAEP2\n",
    "FROM eventsAnalysis\n",
    "group by game_id, team_id, short_team_name\n",
    ") as team2data\n",
    "\n",
    "on team1data.game_id=team2data.game_id\n",
    "where team_id<>team_id2\n",
    "group by team_id, short_team_name\n",
    "order by totalVAEP desc\n",
    "\n",
    "'''"
   ]
  },
  {
   "cell_type": "code",
   "execution_count": 17,
   "metadata": {},
   "outputs": [
    {
     "name": "stdout",
     "output_type": "stream",
     "text": [
      "+-------+---------------+------------------+------------------+------------------+--------------------+--------------------+-----------------+\n",
      "|team_id|short_team_name|     offensiveVAEP|     defensiveVAEP|         totalVAEP|offensiveVAEPAgainst|defensiveVAEPAgainst| totalVAEPAgainst|\n",
      "+-------+---------------+------------------+------------------+------------------+--------------------+--------------------+-----------------+\n",
      "|    676|      Barcelona|131.61614200664917|2.7090651254402474|134.32520689000376|    57.1857343907468|  12.108149793290067|69.29388393694535|\n",
      "|   1625|Manchester City|128.02869891596492| 2.398949943657499|130.42764845152533|  48.648428832457284|  7.4138100178097375|56.06223871058319|\n",
      "|    675|    Real Madrid|120.54590294212903| 7.809658260841388|128.35556118335808|   75.44652859208873|  11.048859301256016|86.49538784299148|\n",
      "|   1612|      Liverpool|112.77565603918629|3.9046886678552255|116.68034454190638|   61.02568000170868|     9.8377169315645|70.86339705443243|\n",
      "|   3162|          Lazio|107.91416628122897| 5.856476337648928|113.77064224000787|   68.59188804135192|   7.942996420897543|76.53488437614214|\n",
      "+-------+---------------+------------------+------------------+------------------+--------------------+--------------------+-----------------+\n",
      "only showing top 5 rows\n",
      "\n"
     ]
    }
   ],
   "source": [
    "vaepPerTeam = spark.sql(query)\n",
    "vaepPerTeam.show(5)"
   ]
  },
  {
   "cell_type": "code",
   "execution_count": 18,
   "metadata": {},
   "outputs": [
    {
     "data": {
      "text/html": [
       "<div>\n",
       "<style scoped>\n",
       "    .dataframe tbody tr th:only-of-type {\n",
       "        vertical-align: middle;\n",
       "    }\n",
       "\n",
       "    .dataframe tbody tr th {\n",
       "        vertical-align: top;\n",
       "    }\n",
       "\n",
       "    .dataframe thead th {\n",
       "        text-align: right;\n",
       "    }\n",
       "</style>\n",
       "<table border=\"1\" class=\"dataframe\">\n",
       "  <thead>\n",
       "    <tr style=\"text-align: right;\">\n",
       "      <th></th>\n",
       "      <th>competitionid</th>\n",
       "      <th>team_id</th>\n",
       "      <th>goalsFavorTotal</th>\n",
       "      <th>goalsAgainstTotal</th>\n",
       "      <th>goalDiffTotal</th>\n",
       "      <th>pointsTotal</th>\n",
       "      <th>npartidos</th>\n",
       "      <th>wins</th>\n",
       "      <th>draws</th>\n",
       "      <th>lose</th>\n",
       "      <th>competition</th>\n",
       "      <th>wpc</th>\n",
       "      <th>pyth</th>\n",
       "      <th>short_team_name</th>\n",
       "      <th>offensiveVAEP</th>\n",
       "      <th>defensiveVAEP</th>\n",
       "      <th>totalVAEP</th>\n",
       "      <th>offensiveVAEPAgainst</th>\n",
       "      <th>defensiveVAEPAgainst</th>\n",
       "      <th>totalVAEPAgainst</th>\n",
       "    </tr>\n",
       "  </thead>\n",
       "  <tbody>\n",
       "    <tr>\n",
       "      <th>0</th>\n",
       "      <td>364</td>\n",
       "      <td>1625</td>\n",
       "      <td>106</td>\n",
       "      <td>27</td>\n",
       "      <td>79</td>\n",
       "      <td>100</td>\n",
       "      <td>38</td>\n",
       "      <td>32</td>\n",
       "      <td>4</td>\n",
       "      <td>2</td>\n",
       "      <td>England</td>\n",
       "      <td>0.894737</td>\n",
       "      <td>0.927152</td>\n",
       "      <td>Manchester City</td>\n",
       "      <td>128.028699</td>\n",
       "      <td>2.398950</td>\n",
       "      <td>130.427648</td>\n",
       "      <td>48.648429</td>\n",
       "      <td>7.413810</td>\n",
       "      <td>56.062239</td>\n",
       "    </tr>\n",
       "    <tr>\n",
       "      <th>1</th>\n",
       "      <td>364</td>\n",
       "      <td>1611</td>\n",
       "      <td>68</td>\n",
       "      <td>28</td>\n",
       "      <td>40</td>\n",
       "      <td>81</td>\n",
       "      <td>38</td>\n",
       "      <td>25</td>\n",
       "      <td>6</td>\n",
       "      <td>7</td>\n",
       "      <td>England</td>\n",
       "      <td>0.736842</td>\n",
       "      <td>0.838943</td>\n",
       "      <td>Manchester United</td>\n",
       "      <td>98.588145</td>\n",
       "      <td>7.553935</td>\n",
       "      <td>106.142079</td>\n",
       "      <td>61.822269</td>\n",
       "      <td>8.384479</td>\n",
       "      <td>70.206747</td>\n",
       "    </tr>\n",
       "    <tr>\n",
       "      <th>2</th>\n",
       "      <td>364</td>\n",
       "      <td>1624</td>\n",
       "      <td>74</td>\n",
       "      <td>36</td>\n",
       "      <td>38</td>\n",
       "      <td>77</td>\n",
       "      <td>38</td>\n",
       "      <td>23</td>\n",
       "      <td>8</td>\n",
       "      <td>7</td>\n",
       "      <td>England</td>\n",
       "      <td>0.710526</td>\n",
       "      <td>0.792525</td>\n",
       "      <td>Tottenham Hotspur</td>\n",
       "      <td>97.944202</td>\n",
       "      <td>2.274331</td>\n",
       "      <td>100.218533</td>\n",
       "      <td>61.034537</td>\n",
       "      <td>5.925000</td>\n",
       "      <td>66.959536</td>\n",
       "    </tr>\n",
       "    <tr>\n",
       "      <th>3</th>\n",
       "      <td>364</td>\n",
       "      <td>1612</td>\n",
       "      <td>84</td>\n",
       "      <td>38</td>\n",
       "      <td>46</td>\n",
       "      <td>75</td>\n",
       "      <td>38</td>\n",
       "      <td>21</td>\n",
       "      <td>12</td>\n",
       "      <td>5</td>\n",
       "      <td>England</td>\n",
       "      <td>0.710526</td>\n",
       "      <td>0.813878</td>\n",
       "      <td>Liverpool</td>\n",
       "      <td>112.775656</td>\n",
       "      <td>3.904689</td>\n",
       "      <td>116.680345</td>\n",
       "      <td>61.025680</td>\n",
       "      <td>9.837717</td>\n",
       "      <td>70.863397</td>\n",
       "    </tr>\n",
       "    <tr>\n",
       "      <th>4</th>\n",
       "      <td>364</td>\n",
       "      <td>1610</td>\n",
       "      <td>62</td>\n",
       "      <td>38</td>\n",
       "      <td>24</td>\n",
       "      <td>70</td>\n",
       "      <td>38</td>\n",
       "      <td>21</td>\n",
       "      <td>7</td>\n",
       "      <td>10</td>\n",
       "      <td>England</td>\n",
       "      <td>0.644737</td>\n",
       "      <td>0.713115</td>\n",
       "      <td>Chelsea</td>\n",
       "      <td>92.046647</td>\n",
       "      <td>5.915663</td>\n",
       "      <td>97.962310</td>\n",
       "      <td>66.009175</td>\n",
       "      <td>9.934507</td>\n",
       "      <td>75.943682</td>\n",
       "    </tr>\n",
       "  </tbody>\n",
       "</table>\n",
       "</div>"
      ],
      "text/plain": [
       "   competitionid  team_id  goalsFavorTotal  goalsAgainstTotal  goalDiffTotal  \\\n",
       "0            364     1625              106                 27             79   \n",
       "1            364     1611               68                 28             40   \n",
       "2            364     1624               74                 36             38   \n",
       "3            364     1612               84                 38             46   \n",
       "4            364     1610               62                 38             24   \n",
       "\n",
       "   pointsTotal  npartidos  wins  draws  lose competition       wpc      pyth  \\\n",
       "0          100         38    32      4     2     England  0.894737  0.927152   \n",
       "1           81         38    25      6     7     England  0.736842  0.838943   \n",
       "2           77         38    23      8     7     England  0.710526  0.792525   \n",
       "3           75         38    21     12     5     England  0.710526  0.813878   \n",
       "4           70         38    21      7    10     England  0.644737  0.713115   \n",
       "\n",
       "     short_team_name  offensiveVAEP  defensiveVAEP   totalVAEP  \\\n",
       "0    Manchester City     128.028699       2.398950  130.427648   \n",
       "1  Manchester United      98.588145       7.553935  106.142079   \n",
       "2  Tottenham Hotspur      97.944202       2.274331  100.218533   \n",
       "3          Liverpool     112.775656       3.904689  116.680345   \n",
       "4            Chelsea      92.046647       5.915663   97.962310   \n",
       "\n",
       "   offensiveVAEPAgainst  defensiveVAEPAgainst  totalVAEPAgainst  \n",
       "0             48.648429              7.413810         56.062239  \n",
       "1             61.822269              8.384479         70.206747  \n",
       "2             61.034537              5.925000         66.959536  \n",
       "3             61.025680              9.837717         70.863397  \n",
       "4             66.009175              9.934507         75.943682  "
      ]
     },
     "execution_count": 18,
     "metadata": {},
     "output_type": "execute_result"
    }
   ],
   "source": [
    "# Aquí se juntan las tablas de partidos goles y victorias con los índices VAEP\n",
    "\n",
    "fullmatchData=pd.merge(matchResults.toPandas(), vaepPerTeam.toPandas(), on = ['team_id'])\n",
    "fullmatchData.head()"
   ]
  },
  {
   "cell_type": "code",
   "execution_count": 19,
   "metadata": {},
   "outputs": [
    {
     "data": {
      "image/png": "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\n",
      "text/plain": [
       "<Figure size 432x288 with 2 Axes>"
      ]
     },
     "metadata": {
      "needs_background": "light"
     },
     "output_type": "display_data"
    }
   ],
   "source": [
    "# Aquí puede verse la alta correlación entre el VAEP total y el VAEP ofensivo con los goles a favor, y entre el VAEP total y\n",
    "# ofensivo en contra con los goles en contra.\n",
    "\n",
    "g = sns.heatmap(fullmatchData[['goalsFavorTotal','goalsAgainstTotal','offensiveVAEP','offensiveVAEPAgainst','totalVAEP','totalVAEPAgainst']].corr(),\n",
    "                annot=True, fmt = \".3f\", cmap = \"coolwarm\")\n"
   ]
  },
  {
   "cell_type": "code",
   "execution_count": 20,
   "metadata": {},
   "outputs": [
    {
     "data": {
      "image/png": "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\n",
      "text/plain": [
       "<Figure size 455.375x360 with 1 Axes>"
      ]
     },
     "metadata": {
      "needs_background": "light"
     },
     "output_type": "display_data"
    }
   ],
   "source": [
    "# Grafico de los goles a favor y el VAEP ofensivo\n",
    "\n",
    "g=sns.relplot(x=\"offensiveVAEP\", y=\"goalsFavorTotal\", data =fullmatchData ,hue='competition', legend=\"full\")"
   ]
  },
  {
   "cell_type": "code",
   "execution_count": 21,
   "metadata": {},
   "outputs": [
    {
     "data": {
      "image/png": "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\n",
      "text/plain": [
       "<Figure size 465.25x360 with 1 Axes>"
      ]
     },
     "metadata": {
      "needs_background": "light"
     },
     "output_type": "display_data"
    }
   ],
   "source": [
    "# Grafico para el informe en español del vaep total\n",
    "\n",
    "import copy\n",
    "\n",
    "mydata= pd.DataFrame(columns = fullmatchData.columns, data = copy.deepcopy(fullmatchData.values))\n",
    "mydata['Competición']=mydata['competition']\n",
    "mydata['Competición'].mask(mydata['Competición'] == \"England\", \"Liga Inglesa\", inplace=True)\n",
    "mydata['Competición'].mask(mydata['Competición'] == \"Italy\", \"Liga Italiana\", inplace=True)\n",
    "mydata['Competición'].mask(mydata['Competición'] == \"Spain\", \"Liga Española\", inplace=True)\n",
    "\n",
    "mydata['Goles a favor']=mydata['goalsFavorTotal']\n",
    "mydata['Vaep total']=mydata['totalVAEP']\n",
    "\n",
    "g=sns.relplot(x=\"Vaep total\", y=\"Goles a favor\", data=mydata ,hue='Competición', legend=\"full\")\n",
    "g.savefig('/dataset/vaep/Images/CorrelacionGolesVaepTotal.eps', format='eps')\n",
    "g.savefig('/dataset/vaep/Images/CorrelacionGolesVaepTotal.png', dpi=1000)"
   ]
  },
  {
   "cell_type": "code",
   "execution_count": 22,
   "metadata": {},
   "outputs": [
    {
     "data": {
      "image/png": "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\n",
      "text/plain": [
       "<Figure size 455.375x360 with 1 Axes>"
      ]
     },
     "metadata": {
      "needs_background": "light"
     },
     "output_type": "display_data"
    }
   ],
   "source": [
    "# Grafico de los goles en contra  y el VAEP ofensivo en contra\n",
    "\n",
    "g=sns.relplot(x=\"offensiveVAEPAgainst\", y=\"goalsAgainstTotal\", data =fullmatchData ,hue='competition', legend=\"full\")"
   ]
  },
  {
   "cell_type": "code",
   "execution_count": 23,
   "metadata": {},
   "outputs": [
    {
     "data": {
      "image/png": "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\n",
      "text/plain": [
       "<Figure size 465.25x360 with 1 Axes>"
      ]
     },
     "metadata": {
      "needs_background": "light"
     },
     "output_type": "display_data"
    }
   ],
   "source": [
    "# Grafico para el informe en español del vaep total\n",
    "\n",
    "import copy\n",
    "\n",
    "mydata= pd.DataFrame(columns = fullmatchData.columns, data = copy.deepcopy(fullmatchData.values))\n",
    "mydata['Competición']=mydata['competition']\n",
    "mydata['Competición'].mask(mydata['Competición'] == \"England\", \"Liga Inglesa\", inplace=True)\n",
    "mydata['Competición'].mask(mydata['Competición'] == \"Italy\", \"Liga Italiana\", inplace=True)\n",
    "mydata['Competición'].mask(mydata['Competición'] == \"Spain\", \"Liga Española\", inplace=True)\n",
    "\n",
    "mydata['Goles concedidods']=mydata['goalsAgainstTotal']\n",
    "mydata['Vaep total en contra']=mydata['totalVAEPAgainst']\n",
    "\n",
    "g=sns.relplot(x=\"Vaep total en contra\", y=\"Goles concedidods\", data=mydata ,hue='Competición', legend=\"full\")\n",
    "g.savefig('/dataset/vaep/Images/CorrelacionGolesEnContraVaepTotalEnContra.eps', format='eps')\n",
    "g.savefig('/dataset/vaep/Images/CorrelacionGolesEnContraVaepTotalEnContra.png', dpi=1000)"
   ]
  },
  {
   "cell_type": "code",
   "execution_count": 24,
   "metadata": {},
   "outputs": [],
   "source": [
    "# Se calcula un nuevo índice \"Pythagorean\" utilizando el VAEP total a favor y en contra (se podría utilizar el ofensivo pero\n",
    "# el total da mejor resultado)\n",
    "\n",
    "fullmatchData['pythVaep'] = fullmatchData['totalVAEP']**1.86/(fullmatchData['totalVAEP']**1.86 + fullmatchData['totalVAEPAgainst']**1.86)"
   ]
  },
  {
   "cell_type": "code",
   "execution_count": 25,
   "metadata": {},
   "outputs": [
    {
     "data": {
      "image/png": "iVBORw0KGgoAAAANSUhEUgAAAbkAAAFgCAYAAAAmZQfPAAAABHNCSVQICAgIfAhkiAAAAAlwSFlzAAALEgAACxIB0t1+/AAAADh0RVh0U29mdHdhcmUAbWF0cGxvdGxpYiB2ZXJzaW9uMy4yLjEsIGh0dHA6Ly9tYXRwbG90bGliLm9yZy+j8jraAAAgAElEQVR4nO3deXzcVb3/8dcnk5nsW9N0pwu0pRTKUkLZUbiCBdmURUAui7J4rwgooHjlhyx6BfXKFeRyb0EWEaiCoChYpYJQ9kboQguUUlq6N2mafZnJzPn98Z22SSZtJk0ms+T9fDzmkfmeOd+Zz0zSfuYs33PMOYeIiEgmykp2ACIiIomiJCciIhlLSU5ERDKWkpyIiGQsJTkREclY2ckOoK9mz57t5s2bl+wwRES6s2QHILHSriVXU1OT7BBERCRNpF2SExERiZeSnIiIZCwlORERyVhKciIikrGU5EREJGMpyYmISMZSkhMRkYylJCciIhlLSU5ERDJW2i3rJSKSKNWN7TQHO8jxZVGQk01xnj/ZIUk/KcmJiAAb61q54IG3+KSmGTP42jGTuOr4yZTmB5IdmvSDuitFZMhrDYa5a/4KPqlpBsA5eGDBJ2xpbE9yZNJfSnIiMuS1hjpYvrEhpnx70pP0pSQnIkNeca6f2fuP6lLmyzIOGFuSpIhkoGhMTkSGvGxfFufPGs/mhjae+ud6Kopy+OGZB1CmiSdpz5xzyY6hTyorK11VVVWywxCRDNQa7KCxvYMsjPLCAGZ92gdVm6amILXkRESi8gLZ5AX032Im0ZiciIhkLCU5ERHJWEpyIiKSsZTkREQkYynJiYhIxlKSExGRjJXQJGdms83sQzNbaWY39vD4eDN7yczeNbMlZnZKIuMREZGhJWFJzsx8wL3AycB04Hwzm96t2k3A75xzhwDnAf+TqHhERGToSWRLbhaw0jm3yjkXBOYCZ3Sr44Di6P0SYEMC4xERkSEmkUluLLC20/G6aFlntwAXmtk64Hngmz09kZldYWZVZlZVXV2diFhFRCQDJXviyfnAw865ccApwKNmFhOTc26Oc67SOVdZUVEx6EGKiEh6SmSSWw/s1el4XLSss68BvwNwzr0B5ALDExiTiAwFwRaIhJMdhaSARCa5hcAUM5tkZgG8iSXPdqvzKfAvAGa2H16SU3+kiOyZlq2w5En4/VfhtV9A05ZkRyRJlrDltp1zHWZ2FfBXwAc86JxbZma3AVXOuWeB64D7zexbeJNQLnHptvePiKSGUCu8/kt49efe8Yd/8W7nPwEF6iAaqhK6p4Rz7nm8CSWdy27udH85cHQiYxCRIaK9Ad7+v65l696GYLOS3BCW7IknIiIDwwH+/NjyLN+ghyKpQ0lORDJD/jD43C1dyw48DwIFyYhGUoS2wBWRzODzw7TTYMwhsOZ1qNgPRkyDvLJkRyZJpCQnIhmj3Z9LfVEF6yYcysiCkRRn51CU7KAkqZTkRCQjOOd4b+t7XPG3KwhGggB8+9Bvc+6+51LgV5flUKUxORHJCLVttdz82s07EhzA3e/cTVOwKYlRSbIpyYlIRnA4NjR1XeO9w3XQHm5PUkSSCpTkRCQj5PpyOXHCiV3KxhaOJb+nywpkyNCYnIhkhMJAId+d9V1Kckp4Zd0rTC2byndnfZfheboQfCizdFtFq7Ky0lVVVSU7DBFJUW0dbTQFm8jNzqUwUDiYL22D+WISH7XkRCSj5Gbnkpudm+wwJEVoTE5ERDKWkpyIiGQsJTkREclYSnIiIpKxlORERCRjKcmJiEjGUpITEZGMpSQnIiIZS0lOREQylpKciIhkLCU5ERHJWEpyIiKSsZTkREQkYynJiYhIxlKSExGRjKUkJyIiGUtJTkREMpaSnIiIZCwlORERyVhKciJDUHtHmFA4kuwwRBIuO9kBiMjgaWnv4JOtzcx5ZRV5fh9f/8w+jC3Lxe/zJTu03YuEobkGwu3gy4GCCsjSd3TpnZKcyBCypraF0+55lYjzjv+4aAN/v+4zjCnNS25guxMJw6b3YO750LAeSsfDeU/AyP3BLNnRSYrTVyGRISLYEWHOK6t2JDiA1lCYvy7blLyg4tFcszPBAdR9Cr/9CjRXJzcuSQtKciJDhBkU5cZ23hTmpHiHTrh9Z4LbbttqCAeTEo6kFyU5kSHC78vi8mP3piCwc/xtdEkun5lakcSo4uDLgZK9upYN2xt8/uTEI2nFnHO910ohlZWVrqqqKtlhiKSljnCE6qZ2/v7+FvIDPo6ZPJwRxbnJDmv3IhHYstzroty22ktwX34MRuyXamNyKRWMeJTkRCT1OeeNwYWD4At4sytTK8GBklxKSvHOeBERvIRWOCLZUUgaSuiYnJnNNrMPzWylmd3Yw+N3mdmi6G2FmdUlMh4RERlaEtaSMzMfcC9wIrAOWGhmzzrnlm+v45z7Vqf63wQOSVQ8Ihmto92bar/6VSgaBSOne116IkNcIrsrZwErnXOrAMxsLnAGsHwX9c8HfpDAeEQyV+3HMOd46GjzjscdBuc/oUQnQ14iuyvHAms7Ha+LlsUwswnAJODFXTx+hZlVmVlVdbUuABXpoq0BXrhlZ4IDWLcQalcnKyKRlJEq18mdBzzlnAv39KBzbo5zrtI5V1lRoW+mIl1EOqC1Nra8ddvgxyKSYhKZ5NYDna/gHBct68l5wBMJjEUkc+UPgyO/0bUsrwxGH5iceERSSCKT3EJgiplNMrMAXiJ7tnslM5sGlAFvJDAWkcy292fhvMe9nwdfAFf8Q+NxIiRw4olzrsPMrgL+CviAB51zy8zsNqDKObc94Z0HzHXpdlW6SCrJK4NpX4CJx3gXS/sHZleBjkgEHGT7UmVkQ6RvtOKJiMQIhcNsrG/ngQWraA9FuPy4SYwtzSMvoPUjdkMrnqQg/cWKDEFtoTAG5Ph73ix1S2OQz9/1Cq0hby7Y799Zx7xrj2XyiKJBjFKk/9QHITKENLeHWLqujut+t4ib/vAen9Q0E+yIndT8p8UbdiQ4gI6I48HXPvG6L0XSiJKcSLoJh6BhI3z8orc6f8vWuE9ds7WFPy1dw78eM4wzDi3i/gUrqGmK3Zctr4cWXl52tvrjJO2ou1Ik3dSsgAc+B6EW73jGOXDynZBfvtvTgh0R2iONdJQ8x7+/8hQBX4BL9ruSTY0jGFPadZ2G2QeMoralkaOnFmIGb3/czBkHTsSXpe/Fkl70FyuSTlq3wbwbdyY4gKVPxtWayzJY2fRPnvzoCUKREM2hZu5d8nOcP/ZC8kCgDVc2n6+/fBaXv/RFNvufJC+vrYdnFUltSnIi6SQcgoYe1lRo7j3JhV2I1za+FFNetfn1mLKVdR/x0HsPEoqECLswz6x8mjc2xNYTSXVKciLpJK8MDr6wa1luKQyb1Oupfp+fw0bNiimfOWJmTNkbG2LXZnh53cuEIqH4YxVJAUpyIunE54eZF8NJP4QR02HqyXDZ/LhWN8myLE6eOJujxxwNgGGcPeVsJpdNjql7xOgjYsqOHXcs/ix//9+DyCDSxBORdFNQDof/Gxx4HmTnQG5x3KcOC3fw4zEn0rr/ZWQB+bWrKA53xNSbUjaFi6ZfxOPvP06ECKdMOoVjxh4zgG9CZHBoxRORoSIShtd+AX+/tWv5V56CKSfGVG8ONdMUbAIg359PUUAXgvdCV1ikILXkRIaKcAg2vBtbvnFJj0muwF9Agb9gEAITSRyNyYkMFf5cOOj82PJppwx+LCKDRElOZCgZfwSceDsUjoSyiXD2Q1A8JtlRiSSMuitFhpL8YXD41+HAL4OZt0pKVs+LNItkAiU5kaEmOwBFI5MdhcigUHeliIhkLCU5ERHJWEpyIiKSsZTkREQkYynJiYhIxlKSExGRjKUkJyIiGUtJTkREMpaSnIiIZCwlORERyVhKciIikrGU5ETi1NAaorqxnVBHJNmhiEictECzSC/CEcearc3c+qdlrN7awmkHjuHSoydSXpiT7NBEpBdKciK92NrUzln3vc62lhAAv3xpJaFwhG+fOJUcv7apEUll6q4U6cXmxvYdCW67PyxaT31raBdniEiqUJIT6UVpnj+mbGxpPv5s/fMRSXX6VyrSi+JcP189euKO4/yAjx+eeQBl+YEBfZ3m9g7WbWth3nubWLG5kbqW4IA+v8hQZM65ZMfQJ5WVla6qqirZYcgQU9cSpK4lxJbGNiaUFzCswI/fN3DjceGI4+UV1Vz2yEIi0X+SVx63N1edMJmi3NiWpKQkS3YAEksTT0TiUJofoDQ/wMThBQl5/trmIP/vD+/tSHAA9y9YxSVHTYxJcs2hZjY1b2LeJ/OYWDKRI0YfQXleeULiEkl3SnIiKcFR09TepSTiIBiOvSZv8ZbFfH3+13F4GXH6sOnc97n7GJY3bFAiFUknGpMTSQEFOdmcNXNcl7LJIwopyOn6PXRb2zZ+8e4vdiQ4gOW1y9nSumVQ4hRJN2rJiaSA/EA21500lbFlucx7bzMzxhbzzX+ZwvBuF5w75+iIdMScH46EBytUkbSiJCeSIsoLc7jyuH04f9Z48vzZ5AViJ7aU5ZZx+YzLueGVG3aUjS8az6iCUYMZqkja0OxKkTTT0N7AyrqVPLniSfYu2ZszJ59JRX5FssMSza5MSQltyZnZbOAXgA94wDl3Rw91zgVuARyw2Dl3QSJjEkl3xTnFzBw5k4MqDiLLsjDT/60iu5KwJGdmPuBe4ERgHbDQzJ51zi3vVGcK8D3gaOfcNjMbkah4RDKNL0vrZor0JpGzK2cBK51zq5xzQWAucEa3OpcD9zrntgE45zRFTEREBkwik9xYYG2n43XRss6mAlPN7DUzezPavRnDzK4wsyozq6qurk5QuCIikmmSfZ1cNjAF+CxwPnC/mZV2r+Scm+Ocq3TOVVZUaIBdRETik8gktx7Yq9PxuGhZZ+uAZ51zIefcJ8AKvKQnIiLSb4lMcguBKWY2ycwCwHnAs93q/AGvFYeZDcfrvlyVwJhERGQISViSc851AFcBfwXeB37nnFtmZreZ2enRan8FtprZcuAl4Abn3NZExSQiIkOLLgYXERkYumAxBSV74omIiEjCKMmJiEjGUpITEZGMFfeyXmY2EzgGb43J15xz7yQsKhERkQEQV0vOzG4GHgHKgeHAQ2Z2UyIDExlwwWZo2AgNG6C1LtnRiMggiLcl9xXgIOdcG4CZ3QEsAn6YqMBEBlTLNqj6FbzyUwi3w7TT4dSfQ8Hw+M5vroFta2DbKtjrcMgfDoH8xMYsIv0Wb5LbAOQCbdHjHGJXLxFJXfWfwou37zx+/48w/gg4/ErobTX/llp4/gZY9rR3nJUNF/8ZJhyZuHhFZEDEO/GkHlhmZg+b2UPAe0Cdmd1tZncnLjyRAbLm9diyj+dDqKX3c1u37UxwAJEOmHej17qLqVvvtfhWvQz1670uUhFJmnhbcs9Eb9v9Y+BDEUmg8T20uvb5F/DH0eXYU6Jq2QqRcNey9mZY9Dj89UbvOMsH5831Xsenvd9EkiGuJOece8TM8oDxzrkPExyTyMArnQDH3wQLfgrhIEw7DQ48t/euSoDCkVA8Fho69dBXfhXyh3Wt114P82/eeRwJw5+uhitehqKRA/M+RKRP4kpyZnYa8DMgAEwys4OB25xzp+/+TJEUkV8GR/47HHIh4LwWXF7Mrk49KxoJX/2rN2ml5kM48HyYfhr4/F3rhYPerbOmzd7riUhSxNtdeQveTt//AHDOLTKzvRMUk0hiBAq8254o3QtOvhM62iCnBLJ6GM7250PFNKj+YGfZvl8Af96evaaI9Fu8E09Czrn6bmWRgQ5GJFXUtdVR01JDsHPLzJ8HeWU9JziAwhFw4e/hgHNg2N4w60rvMoXcksEJWkRixNuSW2ZmFwA+M5sCXA30MF1NJL0Fw0E+rvuYH731IzY1b+KMyWdw4X4XUpZbFt8TlIyD0/7bm7WZU6RWnAxJZnYmsMI5tzx6fBvwinNuvpldC8xxzrVEH3seuMA5l5AVGuJtyX0T2B9oB54AGoBrExGQSDLVtddx0V8uYnH1Yja3bGbOkjk8ueJJOiId8T9JTqHXqlOCk6HrTGD69gPn3M3OufnRw2uB/E6PnZKoBAdxJjnnXItz7vvOucOcc5XR+229nymSXlbVraIt3PVP+/lPnqe+vXtvvUjqMrOLzGyJmS02s0fNbKKZvRgt+7uZjY/We9jM7jOzN81slZl91sweNLP3zezhTs/XZGZ3mdmy6PkV0fJ9zGyemf3TzBaY2TQzOwo4HfipmS2K1nnYzM42s6uBMcBLZvZS9DlWm9nw6P1vm9l70du10bKJ0Xjuj77+36Kz/eMS79qVFWb2UzN7PvpBvWhmL8b7IiLpYkT+iJiy8UXjCfgCSYhGpO/MbH/gJuAE59xBwDXAPcAjzrkDgceAzot4lAFHAt8CngXuwuu5mxGdSQ9QAFQ55/YHXgZ+EC2fA3zTOXcocD3wP86516PPc4Nz7mDn3MfbX8g5dzfeClrHO+eO7xb3ocClwOHAEcDlZnZI9OEpwL3R168Dzor384i3u/Ix4ANgEnArsBpYGO+LiHRW117H5ubNVLdUEwqHkh1OF8PyhnH21LN3HJfllHF95fUUBYqSGJVIn5wAPOmcqwFwztXiJbHHo48/irejzHZ/cs45YCmw2Tm31DkXAZYBE6N1IsBvo/d/AxxjZoXAUcCTZrYI+D9gdD/iPgZ4xjnX7JxrAp4Gjo0+9olzblH0/j87xdWreCeelDvnfmVm1zjnXgZeNjMlOemz6pZqvrfge7y16S1Kc0r5wZE/4KgxR5Efz8ojg6A0p5RrZ17LVw/4Ko3BRiryKijPK092WCKJ1B79Gel0f/vxrnKEw2sk1TnnDt5FnYHUOa4wMLDdlcD2r9sbzewL0SbksN2dINJda6iVX777S97a9Bbgteiue/k6GoINSY6sq5KcEvYq2ovp5dOpyK8gy7S3sKSVF4FzzKwcwMyG4c2GPy/6+FeABX18zixgexfHBcCrzrkG4BMzOyf6OmZmB0XrNAK76v7Y1WMLgDPNLN/MCoAv7kGcPQa+S2a2fUmHH5pZCXAdXr/rA3j9tyJxawo18famt7uURVyEtY1rkxSRSOZxzi0DfoTX47YY+DneDPlLzWwJ8K9443R90QzMMrP38LpDb4uWfwX4WvR1lgFnRMvnAjeY2btmtk+355oDzNs+8aRT3O8ADwNvA28BDzjn3u1jnDHM64rdxYNmW/AGEJ8AXnS7qzxIKisrXVVVVbLDkD3QHGrm9jdv57lVz+0oM4x5Z81jTOGYJEYmMiAs2QEkipk1OecKkx3HnuitH2Y/vAkmNwFrzewXZnZE4sOSTFTgL+BbM7/F9HLv8pm87DxuPepWSnK0IoiIJMZuW3JdKpqNAc7B69cdAcx1zn0/gbH1SC259FfbVktbRxvZWdmUBErIyc5JdkgiAyFjW3LpLO4RdefcBuBXwH14A4eXJSooyWzDcocxpnAMI/JHKMGJSEL1muTMLNfMzjGzp4GVeIOON+JdtS4iIpKydnudnJk9DnwO7wr3x/AW0dRyXiIikhZ6uxh8HnClc65xMIIRSaj2ZmhvABeBQL63bY6IZLTdJjnn3K8BzCwHb62wiZ3Pcc7d1vOZIn1T315PW0cbWZZFcaB44MfqWmrhrf+FV+/ydu+eejKccQ8UVAzs64ikADML4y3Ttd1c59wde/hcA3L5gJlNBP7snDugv8/VF/Eu6/VHoB5vzbD2XuqK9MnW1q38v9f+HwvWL6DQX8h3DvsOJ044kcLAAF6WU7cGXr5z5/GKv8DiuXDEv0OWb+BeR6SPJt743AXAfwLjgU+B/1h9xxce3/1ZvWodpOW2Ul68syvHOee+7Jz7iXPuv7bfEhqZDAnBcJBHlj3CgvXe6j1NoSZufv1mtrVtG9gX+vSt2LJVL3mbm4okSTTB3Q9MwLsEYQJwf7R8wEW3tbnVzN4xs6VmNi1aXmFmL0S3snnAzNZs3/6m07mF0W12tp97RrR8l1vhmNmh0e1+FgPfSMR76k28Se51M5uR0EhkSGoKNfHmxjdjyldsWzGwLzThqNiyySdBiiwMLUPWf9JpA9Go/Gh5f+RF93Lbfvtyp8dqnHMz8S4Huz5a9gO8Va32B57Ca1V21wZ8MXru8cB/mdn2awN3tRXOQ3hb8RwU82yDpLe1K5dG1zo7BnjHzD6Mbrq3vVykXwqyC6gcWRlTPrls8sC+UMle8Llbvd26LQv2PwtmnK2uSkm2npLJ7srj1Rrdy2377bedHns6+rPzljXH4K03iXNuHtBTV4oB/xn9v38+MBYYGX0sZiscMysFSp1zr0TLH+3ne9ojvY3JnTooUciQlZOdw1cP+Crv175P1eYqcn25XDvzWoblDvAmF/llcPiVcNCXwTkIFECulhOTpPsUr4uyp/JE2T6vIkz88zLAW4y5AjjUORcys9VAbrfn3P68cW+Fk2i9za5cA2Bmjzrn/rXzY2b2KN5q1iL9Mjx/OD//7M9pC7fhMx9FgSLyshPwb8Sf591EUsd/4I3Jde6ybImWD6bXgHOBO83sJLzdwrsrAbZEE9zx9Jycd3DO1ZlZnZkd45x7FS9JDrp4x+T273xgZj7g0IEPR4aqstwyRheMZkT+iMQkOJEUFJ1FeTmwBm8j0jXA5QMwu7L7mFxvlw/cCpwU3UrnHGAT3vKNnT0GVJrZUuAi4IM44rgUuDe6c3hS1vbsbaud7+F9o8jD+3YBXqBBYI5z7nsJj7AbLdAsIikqbRdojl4LHXbOdZjZkcB9mXIJQm/dlT8GfmxmP05GQhMRkUExHvidmWXhNWIuT3I8AybeQcd9zewUYJ5zLpLIgEREZHA55z4CDkl2HIkQ75jc/+ANGn5kZneY2b7xnGRms6OXHaw0sxt7ePwSM6vu1G+s7XtERGTAxJXknHPznXNfAWYCq4H5Zva6mV1qZv6ezolOTrkXOBmYDpxvZtN7qPrbTtdyPLBH70IyVn17Pc3B5mSHISJpKu5rJMysHO+SgQuBd/Fm2hwDXAx8todTZgErnXOroufPBc4AlvcvZBkKGtobqNpcxa+X/5riQDFXz7ya8UXjCfgCMXVrWmv4tOFTzIzxReMpzyuP+3Xq2utoDDbSGmplWN4whucN7/0kEUkbcSU5M3sG2BfvivVTnXObog/91sx2NdVxLLC20/E64PAe6p1lZscBK4BvOefWdq9gZlcAVwCMH9/fhQAkHSyuXsw1L12z4/j1Da/z5y/+mVEFo7rUq2mt4aK/XMTaRu/PZmLxRB6a/RB0FLGyuolgR4T9RhdRUZRLd9vatnHH23fw/CfPAzAyfySPnvwoowtHJ/CdichgindMbg7wIF7r7F4z+5aZ5QI452LXZIrfn4CJzrkDgReAR3qq5Jyb45yrdM5VVlRoa5RM1xRs4rH3H+tS1h5u5+2Nb8fUfX7V8zsSHMDqhtXMXz2fO+d9wHlz3uSiB9/m1HteZVN97F6/G5o37EhwAJtbNnPf4vto69C+wJLezKwp+nOimfW62HO03nuJj2zwxZvkLgWmAXcDv8QbY+ttHbL1wF6djsdFy3Zwzm11zm1fDuYBdIF5Wqhrq+ONDW/wn2/+J3//9O/UttUO6PP7s/xU5Md+mRmeH9uVuKZhTWxZ41raQuEdx5sb2nn87U+JRLpeE7q2IabTgFX1q2gLK8nJILql5AJuKVnNLSWR6M+B3IFgIpCQHQ3SRbxJ7gDn3GXOuZeit8vptgpKDxYCU8xskpkFgPOAZztXMLPO/UKnA+/HG7gkR2tHK4++/yhXvHAFT3z4BNe+dC0/W/gzGtobBuw1crJzuPLAKykOFO8omz5sOvuWxU7qPXvq2V2ODWP2hNN4c1XXxLt+WwuRbgsfHFRxENnWtcf+tL1P6/K6IgnlJbSYrXYGMNHdARwbnb3+rWiLbUF0u5x3zCxmew4ze8XMDu50/KqZJW0Xgf6Kd+LJO2Z2hHPuTQAzOxzY7bIj0SvnrwL+CviAB51zy8zsNqDKOfcscLWZnQ50ALXAJXv4PmSQNAWbeGRZ117lP6/6M1fPvJrinIFLDqMLRvPMGc+wbOsySgIlTCie0OOEknFF45hz4hzuXXQvWZbFNw7+BuU5I6ltWdWl3kVHTiTb1/U7XWluKQ98/gHufPtOattqOXvq2Zw08SSyLN7vfiL9trutdvq7tBfAjcD1zrlTAcwsHzjROddmZlOAJ4DuQ06/wvu/+FozmwrkOucWD0AsSbHbZb12VDJ7H2/iyfaVsccDH+IlJxcdUxsUWtYruapbqpn9+9kEI8EdZYbxt7P/FjMpZDDVtdWBQWlOKS3tHXy0pYmf/e1Dgh0RrjphMgfvVUpRbo9Xu1DbWkvERSjJKcHv67mOSBz6vqzXLSWRXZznuKV+j79tmVmTc67QzD5L1yRXgjfkdDDebgFTnXP5ZjYR+LNz7oBoIlwC7AfcDqxzzv1yT2NJtnhbcrMTGoWkjUJ/IRdOv5AH33twR9nsibOTvqhyaW7pjvv5OdkctFcp914wE+ccJfmxlx10NixvgLf1EYnfYG+18y1gM3AQ3nBVzAC0c67FzF7Au+TrXNJ8rkRcSW77ljsief48Ltn/Eg4deSjz18znqDFHMWv0LEpyUm9vtuI8tcok5SV6q51GoKjTcQleyyxiZhfjDSX15AG82e8LnHM9baCaNvqyYZ4I4G2Lc9y44zhu3HHJDkUkvd1S/zi3lIA3BjcerwX3H9xSPxDjceB1O4bNbDHwMN4Sjb83s4uAeUCPywk55/5pZg3AQwMUR9LENSaXSjQmJyIpKm232unOzMYA/wCmpfui/JpGJiIiO0RbeW8B30/3BAfqrhQRkU6cc78Gfp3sOAaKkpz0WVsoTF1riC0NbVQU5VCc66cgJ/4/pa1N7bSGwvh9WRTnZZPn78OfYdMWaNoMWX4oGO7dRER2QUlO+iQcjrBwdS1fe7iKYDiCL8v46dkHcvKMUXElq431rVz2SBXLNjSQ5/fxg9Onc+qM0RTu4hq2Lho30fH63dRNPAo62hm2aBFZR10NhfGtZ1rXVkdTqIlQJN+KP9kAABs+SURBVERxoLhPuxWISHpSkpM+2doc5LrfLSYY9rrqwxHH9595j6MnD+81yTW1d3DHXz5g2QZvCbDWUJjvPb2UYycP7z3JhcPUNazjjxXjeGTxz8nJzuHa6ZdyVONGiuJIcrVttdz+xu3M/3Q+AJNKJvGrk37V4xqZIpI5NPFE+iTiYEtje5ey1lCYYEfv49OtwQ7e+bTrJTfOwdptrb2/sOtgUesmfrb0Pqpbq1nXuI7r37qdzb74Zgd/XPfxjgQH8En9Jzz+weN0RDriOl9E0pOSnPRJrj+Lo/bp2s03eUQhef5dXVO6U2FONkft03UMzZdljB/Wfem+WO3AH9f+Pab8pY1v9XouwEfbPoop+7D2Q9rD7T3UFkl/ZvZ9M1tmZkuiCzT3tJ9nb89xupndmIj4Bou6K6VPSvMD3PXlg/nRc8t54+NaDhxXwq1n7M/wopxez80LZHPdiVPZUNfKgo9qKC8I8OMvzaA0P7arMhQOUdtWyxsb36A0p5RDKg5hevn0Lq0xgGnDpsUV91FjjsIwHDtbfqfufSoF/oK4zhdJlBmPzLiAbheDL714ab8uBjezI4FTgZnOuXYzGw7sfn27HkQX0n+214opTElO+mxkcS4//tKBNLd3kOv39Wn5rBHFudxz/iG0hSJkZUFZfgC/L7ZDYUPTBs758zm0dnhdmVNLp3Lfifcxb/U8VmxbAcCxY49l/4oD4nrdivwK7jnhHn5W9TOaQk1cMO0CjhoTs8uIyKCKJrjOy3pNAO6f8cgM+pnoRgM12/frdM7VAJjZauB3wMlAK3CBc26lmZ0G3ISXCLcCX3HObTazS4BK59xVZvYw0IC3a8Eo4DvOuaf6EeOgUJKTPVKQk92nywY6K+1lweS2jjb+d8n/7khwACvqVrC6fjVzTpxDY7ARX5aPQn8hZbll8cXrL+C4ccdxwPADduw4EPD1+YutyEBL1FY7fwNuNrMVwHzgt865l6OP1TvnZkQv+v5vvBbfq8ARzjlnZpcB3wGu6+F5RwPH4G2i/SygJCfSV+FImPr2+pjyLS1bmDV61h5P/TczXTYgqWZ8H8vj4pxrMrNDgWOB44Hfdhpbe6LTz7ui98dF64zGa819soun/kN0FZTlZjayPzEOFk08kZRTECjgkgMu6VKWn53PYaMOS05AIomzqy11+r3VjnMu7Jz7h3PuB8BVwFnbH+pcLfrzHuCXzrkZwJVA7i6etvNMrbRYq1NJTlLSfsP248HPP8hnxn2GM/c5k6dOe0qtMMlE/4G3tU5n/d5qx8z2je78vd3BwPYt077c6ecb0fslwPro/Yv789qpRt2VkpKKAkUcNuowppdPJzsrmxxf77M3RdLN0ouXPj7jkRkwwLMrgULgHjMrBTqAlcAVeONvZWa2BK9Vdn60/i3Ak2a2DXgRmNTP108Z2mpHRGRgpHz3XXR2ZeX22ZZDgborRUQkY6m7UkRkiHDOTUx2DINNLTkREclYasnJgGjvaKeuvY51TesYmT+SkpwSigJFyQ5LRIY4JTnpN+ccS2qWcuULVxCKhAC4Zua1nD/tPK0NKSJJpe5K6bea1q384PWbdyQ4gF++ew8N7Y1JjEpERElOBkA4EmFj88auZS5Mm7axEZEkU5KTfssih8+NP6lL2djCseRk5SUpIhERj8bkpN9Kc4v4txnfojC7mDc3vco+pVP4txnfpiA7vh0CREQSRSueyE6RCLRUQ7gDsgNQUBH3qduag2xpbGRrawN5/lwmlA1jWIGW4pIhJeVXPBmK1JITT7gDNi2BJy+Guk9h5P7w5cdgWHxL2JUVBCgrKAe0iLKIpA6NyYmnpQYeP8dLcACbl8FTl0LzkFniTkQykJKceEItsQltw7sQDvVcX0QkDai7ciho3QYtteAc+HMhbxgE8rvW8edDXplXd7uR+0NWfH8iDa0hNta3seCjag4YW8LUkYW7HJNrCjbR2tGKmTEsdxhZpu9aIpIYSnKZrrkG1v8Tnr8e6tfC5BPhlJ9BYELXejnFcM7D8PuveeeUToAv3Q+FPU8+cc7REgyT6/cRcY4Xlm/iuieX7Hj8SzPHcvOp0ynND3Q5b2vrVu546w5e+PQFRuaP5Lajb+OgioPIzd7VRsQiIntOX6EzXagVfneRN9bmHHz0N3jxdmiq7lqvvR7efgC++H9wyXPw+R/Byz+JrQdsbW5n7sK1fPOJd/nVq6uobQ5y3z9Wdanz9DvraQmGu5S1dbTxf0v+j3lr5hF2YTY0b+Dr879OfXv9gL9tERFQSy7zNW6EjrauZZ+8HFsWaoMP/uTdOpt9R5fDpvYQP533IXMXrgXgxQ+28OrKGi49eiLf/8N7XeqGI10vT2kKNrFg/YIuZR2RDtY2rmVkwcg+vjERkd6pJZfpikZB9zGvUTMg0G3hZH8+FHZLNOMqwde1u7G5PcxT/1zXpeyVFTVUTux64ffBe5WSH/B1KcvNzmVa2bSYEEcXjI7jjYiI9J2SXKbLLYMv/BdkRyeBlE3yxuTyh3Wtl18OFz4Nw6d6x+MOg7MfgoLY695y/V2Tly/LKMzxc9eXD+Jf9hvB9SdN5f6LKikv7DrxpDBQyA2H3cD4ovEAZFs211VeR3FOMcGOCNWNbdQ2BwfmfYuIoBVPhoZgM7TWeV2UgUIo2k3XYP0GIAJZfigaScRFqG2rJRgOEvAFKMou5TdvreX2Py/fccplx0zims9NoSjXT0uwgxxfFj7frr8/1bTW0BpqJZAdoNBfSHvQz2NvrmHuwrVUFOVwy+n7s9/oInKyfbt8DpEUpBVPUlBCk5yZzQZ+AfiAB5xzd+yi3lnAU8BhzrndZjAluQSJRKD2Y/jD12HjEph4LOEv3seK9lqufulqNjVvYkzBGO4+4W5G501i3bZWXv94KzPHlzFpeAFlBYHeX6MH4Yjj12+s5tY/7UyaAV8WL9/wWUaXaoFnSStKcikoYd2VZuYD7gVOBqYD55vZ9B7qFQHXAG8lKhaJQ3M1PHomrKuCcBA+/ju1tSt3JDiADc0buPalawnSwPQxJVx27N7MnFC2xwkOoL41yNPvrO9SFgxHeG+DZlyKSP8lckxuFrDSObfKORcE5gJn9FDvduBOoK2Hx2SwhFqgvuuEklCWb0eC225d0zpCA7gKSk62j70rYncPH1uW30NtEZG+SWSSGwus7XS8Llq2g5nNBPZyzj23uycysyvMrMrMqqqrY6/bkgGQnRsz4zIQbImZ+TiuaBwB35633LoryMnm+pP2paLTJJUzDx7DqGJdHC4i/Ze06+TMLAv4OXBJb3Wdc3OAOeCNySU2sjTT1giRkLckl+1iSKC5GjYshuoPYOrnvcsKcoq61skrgzPug2cuh452yC1hWMEo7jnhHq556RrWN61nXNE47j7+boblDuv5dfbQuLI8nrvmGLY0tFOYm01Jnp+y/IFLpCIydCVs4omZHQnc4pz7fPT4ewDOuR9Hj0uAj4Gm6CmjgFrg9N1NPtHEk6hwyJsoMv9WaN4Cs66EKSd6yaqz5hr4/WWw6iXv2AwueNKr212oBVrrIdjoLfOVX47LymZr21ZC4RB+n5/y3HKa2juobQ6ydH09+44sYkRRLiX5/sS/Z5HUpoknKSiRLbmFwBQzmwSsB84DLtj+oHOuHhi+/djM/gFc39vsSolqroY5x3uJCbwJI2c9CDPO6lqvddvOBAfe0l4v3AxjDo7dFNWf793Y2UVpwPC8Hb8mgh0RXli+mW//bvGOsutPmsqlR0+iIEcL6IhIaknYmJxzrgO4Cvgr8D7wO+fcMjO7zcxOT9TrDhnrqnYmuO0W3t91FwHwZkp2F2wGF/F2825oo6k9/okkdS3BLtP9Ae7++0oa2zrifg4RkcGS0K/ezrnngee7ld28i7qfTWQsGaf7ElwARaNjluGioALK94GtH+8ockdexaZgPt+Yu5CPNjdxwn4juOkL+1FR1PtkDwc0tnVNisFwJGadShGRVKBlvdJV+d4w4eidxznFcMJNsWtSFo7wdhU47gbY9xQ473GC+32J0+59k3c+raOxvYM/LtrArX9aTlNb7y26vICPU2Z0nXE5c3wpeX79KYlI6tGyXumsuRq2fQotNTD6IMivAN8ulsKKdEBHEAL5fFzdxL/818tdHs7JzmLBd49nRBytuZqmdn7z5hpe+mALlROHceVxezNCU/5FNPEkBWmmQDorqIidPLIrWdkQ8H7dBQEf2VlGR6cuxn0qCvHt6hKEboYX5vCN4ydz8ZETyc/xaY1JEUlZSnJDUGGunzvPmsGG+jbGlOTx/sZ6zjp0XMyuAbvj92X1azkvEZHBoIGUIagg4OPQCcNY9Gkdd81fQTgCFYXqbhSRzKOW3BBU3dTOeXPeZFODt1zoQ6+vprGtg1vP2F/XuolIRlFLLk3UNLXz9ie1vPj+ZjY3tBHpx5T9praOHQluu+eWbqQ5qGvdRCSz6Gt7GqhpbOfih95m2YYGAMry/fz5m8cytmzP9lvL8/vIMuicJ8eV5ZEV58QTEZF0oZZcGli8rm5HggPY1hLivpdXEuyI7NHzFeZm8+0Tp+44zsnO4o6zZjC8DxNPRETSgVpyaWBzQ3tM2cb6NjoiEQJ78D2lKNfPvx45kdMPHsvm+jbGl+dTmqcFlkUk8yjJpYHPTK0g4MsiGN7Zcrv0qEnkB/b811eS56ckz8/4YdqcVEQyl5JcGhheFODZq47mJ3/9kMa2EFcctw8zxpUkOywRkZSnJJcGcrJ9TBtdzC/OO5hwxFGqDUVFROKiJJcm6luDNLeHCUccYecoL9AkERGR3ijJpYHa5nZ+Mu9D5i5cC8BB40p44OLDqChSohMR2R1dQpAGVtU070hwAIvX1fP4W2voiOzZJQQiIkOFklwaeG99fUzZO5/W0RYKJyEaEZH0oSSXBo7eZ3hM2SkzRlHQj0sIRESGAiW5NDCyOJefn3sQwwsD5PqzuPyYSZw4fRSmZbhERHZLTYEk29a2jeZQMwAF/gLKcsti6hTn+Tn9oDEcO6UCcBTm+MkLaKNSEZHeKMkl0dbWrVz/8vVUba4C4IjRR3DHsXdQnlceUzfbl6XZlCIifaTuyiR6Zd0rOxIcwJsb3+SNjW/06TnaQmGa2kK7rVPT1M4f313PnX/5gGUb6mnopb6ISKZQSy6JFlcvjilbWr2UU/c+tddzw+EI6+vbuOfvH7GlsZ1Lj57IIePLKOm20PLWpnaueLSKd9bUAXDfyx9z31dmMvsAjemJSOZTSy6JvrD3F2LKZk+aHde5Nc1BTr17AU/+cx0vr6jmkocW8vYntTH1trWEdiS47X72txVsbQruWdAiImlESS6JppZN5Xuzvkd5bjnD84Zz0+E3sXfJ3nGdu3htHQ1tXXfy/tWrq6hv6Zq8Ii52B/FwJMKe7ysuIpI+1F2ZRCU5JZy777mcNOEkMCjNKSU7K75fSfduye1l2b6u31uGFQSYNqqIDzY17ij7xvGTGVagRZ5FJPMpySVZdlY2w/NjL/buzT4jCtl/TPGOHcNz/Vlcf9K+FOR0/ZUOL8zh0a8dzrOLN7B8Qz3nVu7FvqOK8GVpPE5EMp+5HrqzUlllZaWrqqrqveIQUNPUzvINDVQ3tnPU5HLKCwIEsnd9/Vw4EsGXpR5qkQTRN8cUpJZcGhtemMNxUyvirq8EJyJDjf7XExGRjKUkJyIiGUtJTkREMpaSnIiIZCwlORERyVhKciIikrGU5EREJGNlfpJzDkKt3k8RERlSMvti8OYaeP9PsHI+TDkJpn0BCvq+hJaIiKSnzE1yrXXw/A2w7Gnv+IM/w5rX4JSfQm5JcmMTEZFBkdDuSjObbWYfmtlKM7uxh8e/bmZLzWyRmb1qZtMH7MWDzbD8ma5lS5/0ykVEZEhIWJIzMx9wL3AyMB04v4ck9rhzboZz7mDgJ8DPBy6ALOi+bY3Pj9ZQFREZOhLZkpsFrHTOrXLOBYG5wBmdKzjnGjodFsAA7uWZUwRHXNW17KhrILd4wF5CRERSWyLH5MYCazsdrwMO717JzL4BfBsIACf09ERmdgVwBcD48ePje/WcQjj6m7DvbFj9Kkw6DsonQ6CgT29CRETSV9Innjjn7gXuNbMLgJuAi3uoMweYA95+cnE/eX45jC+H8UcMULQCQDgELVsh2OR9acgtA39usqMSEYmRyCS3Htir0/G4aNmuzAXuS2A8MhAiEdi4CH5zFrTVgz8fznkYJn0W/DnJjk5EpItEjsktBKaY2SQzCwDnAc92rmBmUzodfgH4aCADqGurY+Gmhdzz7j38c/M/2da2bSCffmhqqYGnvuYlOIBQCzx9OeizFZEUlLCWnHOuw8yuAv4K+IAHnXPLzOw2oMo59yxwlZl9DggB2+ihq3JPNYeaeWDpAzyy/BEA5iyZw9cO+BpXHHgF+f78gXqZoSfSAXVrupa11UNHW3LiERHZjYSOyTnnngee71Z2c6f71yTqtZuCTTz2/mNdyn69/NdcsN8FSnL94cuBcYfBuoU7y0oneN2WIiIpJqPXrgy7cJfjiIvgBvAqhSGpoBzOfsibrWpZMPZQuPBpKKhIdmQiIjGSPrsyUfL9+Zyy9yk8t+q5HWWn7X0aBdl9uISgaYs35uTLgbxS8OclINI0VLoXnPtr6AhClk/rgYpIysrYJFcUKOI7h32HI0cfyYL1C/jMuM9w9NijKQwUxvcE21bDb74EWz/2psmf+t/eAs+6zs6TV5bsCEREemUuzbagqaysdFVVVX06JxQO4ff54z+htQ6evARWvbSzLCsbrl0KxWP69NoiMmRozcAUlNFjctv1KcGBN1Nw46KuZZEO7wJoERFJG0MiyfWZPx8mHtetLE9jTyIiaUZJrie5xXDynd4MQoDisXDBkxqHEhFJMxk78aTfikfDOb/2ui6zsiC/wvspIiJpQ0lud/LVchMRSWdqmoiISMZSkhMRkYylJCciIhlLSU5ERDKWkpyIiGQsJTkREclYSnIiIpKxlOSiwpEwde11BMPBZIciIiIDRBeDA9vatvHHlX9k/qfzmV4+nctmXMaI/BHJDktERPppyCe51lAr/7Pof5j74VwAFlcvZuGmhTxw0gOU55UnOToREemPId9d2Rxq5pmVz3QpW1m3kpZQS5IiEhGRgTLkkxwGpTml3Yqs73vQiYhIyhnySa4sp4zvH/59rNOmvl/Z7ysU+AuSGJWIiAyEIT8m58vyMWvULJ7/0vMsqV7CPqX7MDJ/JEWBomSHJiIi/TTkkxxAQaCAgkAB44rGJTsUEREZQEO+u1JERDKXkpyIiGQsJTkREclYSnIiIpKxlORERCRjKcmJiEjGUpITEZGMpSQnIiIZS0lOREQylpKciIhkLHPOJTuGPjGzamDNHp4+HKgZwHAGiuLqu1SNLVXjgtSNLVXjgr7FVuOcm53IYKTv0i7J9YeZVTnnKpMdR3eKq+9SNbZUjQtSN7ZUjQtSOzaJj7orRUQkYynJiYhIxhpqSW5OsgPYBcXVd6kaW6rGBakbW6rGBakdm8RhSI3JiYjI0DLUWnIiIjKEKMmJiEjGyrgkZ2azzexDM1tpZjf28Pi3zWy5mS0xs7+b2YQUiu3rZrbUzBaZ2atmNj0V4upU7ywzc2Y2aFOq4/jMLjGz6uhntsjMLkuFuKJ1zo3+rS0zs8cHI654YjOzuzp9XivMrC5F4hpvZi+Z2bvRf5+nDEZcccY2Ifr/xRIz+4eZjRus2KSfnHMZcwN8wMfA3kAAWAxM71bneCA/ev/fgN+mUGzFne6fDsxLhbii9YqAV4A3gcoU+swuAX6Zgn9nU4B3gbLo8YhUia1b/W8CD6ZCXHiTPP4ten86sDpVPjPgSeDi6P0TgEcH829Otz2/ZVpLbhaw0jm3yjkXBOYCZ3Su4Jx7yTnXEj18Exisb2TxxNbQ6bAAGIxZQb3GFXU7cCfQNggx9TW2wRZPXJcD9zrntgE457akUGydnQ88kSJxOaA4er8E2DAIccUb23Tgxej9l3p4XFJUpiW5scDaTsfromW78jXgLwmNaKe4YjOzb5jZx8BPgKtTIS4zmwns5Zx7bhDi6Sze3+dZ0W6kp8xsrxSJayow1cxeM7M3zWywlnuK+99AtKt+Ejv/8052XLcAF5rZOuB5vFbmYIgntsXAl6L3vwgUmVn5IMQm/ZRpSS5uZnYhUAn8NNmxdOacu9c5tw/wXeCmZMdjZlnAz4Hrkh3LLvwJmOicOxB4AXgkyfFsl43XZflZvNbS/WZWmtSIYp0HPOWcCyc7kKjzgYedc+OAU4BHo39/qeB64DNm9i7wGWA9kCqfm+xGqvwBDZT1QOdv8uOiZV2Y2eeA7wOnO+faUym2TuYCZyY0Ik9vcRUBBwD/MLPVwBHAs4M0+aTXz8w5t7XT7/AB4NBUiAuvNfCscy7knPsEWIGX9FIhtu3OY3C6KiG+uL4G/A7AOfcGkIu3QHLSY3PObXDOfck5dwje/x045wZlwo70U7IHBQfyhvfteRVeF8z2AeT9u9U5BG+QeUoKxjal0/3TgKpUiKtb/X8weBNP4vnMRne6/0XgzRSJazbwSPT+cLzusPJUiC1abxqwmuiCEKkQF97QwSXR+/vhjcklPL44YxsOZEXv/wi4bTA+N90G4Peb7AAG/A153Rwroons+9Gy2/BabQDzgc3Aoujt2RSK7RfAsmhcL+0u2QxmXN3qDlqSi/Mz+3H0M1sc/cympUhchtfNuxxYCpyXKp9Z9PgW4I7BiinOz2w68Fr0d7kIOCmFYjsb+Cha5wEgZzA/O932/KZlvUREJGNl2piciIjIDkpyIiKSsZTkREQkYynJiYhIxlKSExGRjKUkJyIiGUtJTkREMpaSnGQkM7vBzK6O3r/LzF6M3j/BzB4zs6Zo+bLoPmEV0ccnm9l8M1tsZu+Y2T7JfB8i0j9KcpKpFgDHRu9XAoVm5o+WvYK3lVGVc25/4GXgB9G6j+FtkXMQcBSwcVCjFpEBpSQnmeqfwKFmVgy0A2/gJbtj8RJgBPhttO5vgGPMrAgY65x7BsA51+Z27j0oImkoO9kBiCSCcy5kZp/g7Rz+OrAEb1f4ycD7PZ0yeNGJyGBRS04y2QK8fcBeid7/OvCu8xZszcJbdBfgAuBV51wjsM7MzgQwsxwzyx/8sEVkoCjJSSZbAIwG3nDObQbaomUAzcAsM3sPOAFvxXmAfwWuNrMleC3AUYMbsogMJO1CIEOSmTU55wqTHYeIJJZaciIikrHUkhMRkYyllpyIiGQsJTkREclYSnIiIpKxlORERCRjKcmJiEjG+v+QHD7dqoQljwAAAABJRU5ErkJggg==\n",
      "text/plain": [
       "<Figure size 455.375x360 with 1 Axes>"
      ]
     },
     "metadata": {
      "needs_background": "light"
     },
     "output_type": "display_data"
    }
   ],
   "source": [
    "# Se muestra que el nuevo índice también guarda una relación bastante lineal con el porcentaje de victorias.\n",
    "\n",
    "g=sns.relplot(x=\"wpc\", y=\"pythVaep\", data =fullmatchData ,hue='competition', legend=\"full\")"
   ]
  },
  {
   "cell_type": "code",
   "execution_count": 26,
   "metadata": {},
   "outputs": [
    {
     "data": {
      "image/png": "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\n",
      "text/plain": [
       "<Figure size 465.25x360 with 1 Axes>"
      ]
     },
     "metadata": {
      "needs_background": "light"
     },
     "output_type": "display_data"
    }
   ],
   "source": [
    "# Grafico para el informe en español\n",
    "\n",
    "import copy\n",
    "\n",
    "mydata= pd.DataFrame(columns = fullmatchData.columns, data = copy.deepcopy(fullmatchData.values))\n",
    "mydata['Competición']=mydata['competition']\n",
    "mydata['Competición'].mask(mydata['Competición'] == \"England\", \"Liga Inglesa\", inplace=True)\n",
    "mydata['Competición'].mask(mydata['Competición'] == \"Italy\", \"Liga Italiana\", inplace=True)\n",
    "mydata['Competición'].mask(mydata['Competición'] == \"Spain\", \"Liga Española\", inplace=True)\n",
    "\n",
    "mydata['Proporción de victorias']=mydata['wpc']\n",
    "mydata['Expectativa pitagórica version Vaep']=mydata['pythVaep']\n",
    "\n",
    "g=sns.relplot(x=\"Proporción de victorias\", y=\"Expectativa pitagórica version Vaep\", data=mydata ,hue='Competición', legend=\"full\")\n",
    "g.savefig('/dataset/vaep/Images/wpcPyhtVaep.eps', format='eps')\n",
    "g.savefig('/dataset/vaep/Images/wpcPyhtVaep.png', dpi=1000)"
   ]
  },
  {
   "cell_type": "code",
   "execution_count": 27,
   "metadata": {},
   "outputs": [
    {
     "data": {
      "image/png": "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\n",
      "text/plain": [
       "<Figure size 432x288 with 2 Axes>"
      ]
     },
     "metadata": {
      "needs_background": "light"
     },
     "output_type": "display_data"
    }
   ],
   "source": [
    "# Resumen de las correlaciones calculadas\n",
    "\n",
    "g = sns.heatmap(fullmatchData[['goalsFavorTotal','goalsAgainstTotal','totalVAEP','totalVAEPAgainst', 'wpc', 'pyth','pythVaep'  ]].corr(),\n",
    "                annot=True, fmt = \".3f\", cmap = \"coolwarm\")\n"
   ]
  },
  {
   "cell_type": "markdown",
   "metadata": {},
   "source": [
    "### Efecto en la tabla de posiciones"
   ]
  },
  {
   "cell_type": "code",
   "execution_count": 28,
   "metadata": {},
   "outputs": [
    {
     "name": "stdout",
     "output_type": "stream",
     "text": [
      "TotalErrorVaepDiff:  40\n",
      "MaxErrorVaepDiff:  6\n",
      "TotalErrorPythVaep:  40\n",
      "MaxErrorPythVaep:  6\n"
     ]
    }
   ],
   "source": [
    "#Calculo la diferencia de VAEP y elijo la liga que quiero analizar\n",
    "\n",
    "fullmatchData['TotalVaepDiff']=fullmatchData['totalVAEP']-fullmatchData['totalVAEPAgainst']\n",
    "\n",
    "League=\"Spain\"\n",
    "#League=\"England\"\n",
    "#League=\"Italy\"\n",
    "\n",
    "competitionData=fullmatchData.loc[fullmatchData['competition'] == League]\n",
    "\n",
    "#Crea una nueva columna con la posicion en la tabla de posiciones segun la diferencia de puntuacion VAEP\n",
    "\n",
    "competitionData=competitionData.sort_values('TotalVaepDiff', ascending=[False])\n",
    "competitionData['TPositionVAEP'] = competitionData.reset_index().index+1 \n",
    "\n",
    "#Crea una nueva columna con la posicion en la tabla de posiciones segun la diferencia de puntuacion VAEP\n",
    "\n",
    "competitionData=competitionData.sort_values('pythVaep', ascending=[False])\n",
    "competitionData['TPositionPythVaepVAEP'] = competitionData.reset_index().index+1 \n",
    "\n",
    "#Crea una nueva columna con la posicion en la tabla segun los puntos\n",
    "\n",
    "competitionData=competitionData.sort_values('pointsTotal', ascending=[False])\n",
    "competitionData['TablePosition'] = competitionData.reset_index().index+1 \n",
    "\n",
    "#Calculo la diferencia entre la posicion dada por la diferencia de VAEP y las posiciones Reales\n",
    "\n",
    "competitionData['ErrorVaepDiff']=(competitionData['TablePosition']-competitionData['TPositionVAEP'])*-1\n",
    "\n",
    "#Calculo la diferencia entre la posicion dada por la diferencia de la expectativa pitragorica modificada y las posiciones Reales\n",
    "\n",
    "competitionData['ErrorPythVaep']=(competitionData['TablePosition']-competitionData['TPositionPythVaepVAEP'])*-1\n",
    "\n",
    "print(\"TotalErrorVaepDiff: \", competitionData['ErrorVaepDiff'].abs().sum())\n",
    "print(\"MaxErrorVaepDiff: \", competitionData['ErrorVaepDiff'].abs().max())\n",
    "print(\"TotalErrorPythVaep: \", competitionData['ErrorPythVaep'].abs().sum())\n",
    "print(\"MaxErrorPythVaep: \", competitionData['ErrorPythVaep'].abs().max())"
   ]
  },
  {
   "cell_type": "code",
   "execution_count": 29,
   "metadata": {},
   "outputs": [
    {
     "data": {
      "text/html": [
       "<div>\n",
       "<style scoped>\n",
       "    .dataframe tbody tr th:only-of-type {\n",
       "        vertical-align: middle;\n",
       "    }\n",
       "\n",
       "    .dataframe tbody tr th {\n",
       "        vertical-align: top;\n",
       "    }\n",
       "\n",
       "    .dataframe thead th {\n",
       "        text-align: right;\n",
       "    }\n",
       "</style>\n",
       "<table border=\"1\" class=\"dataframe\">\n",
       "  <thead>\n",
       "    <tr style=\"text-align: right;\">\n",
       "      <th></th>\n",
       "      <th>Liga</th>\n",
       "      <th>PartidosTotales</th>\n",
       "      <th>ProporcionDeEmpates</th>\n",
       "      <th>GolesTotales</th>\n",
       "      <th>PuntuacionVaepTotal</th>\n",
       "      <th>PuntuacionVaepOfensivaTotal</th>\n",
       "      <th>PuntuacionVaepDefensivaTotal</th>\n",
       "      <th>VaepPorGol</th>\n",
       "      <th>GolesPorPartido</th>\n",
       "      <th>VaepTotalPorPartido</th>\n",
       "      <th>VaepOfensivoPorPartido</th>\n",
       "      <th>VaepDefensivoPorPartido</th>\n",
       "    </tr>\n",
       "  </thead>\n",
       "  <tbody>\n",
       "    <tr>\n",
       "      <th>0</th>\n",
       "      <td>Spain</td>\n",
       "      <td>380</td>\n",
       "      <td>45.79</td>\n",
       "      <td>1024</td>\n",
       "      <td>1701.39</td>\n",
       "      <td>1586.01</td>\n",
       "      <td>115.38</td>\n",
       "      <td>1.75</td>\n",
       "      <td>2.69</td>\n",
       "      <td>4.48</td>\n",
       "      <td>4.17</td>\n",
       "      <td>0.3</td>\n",
       "    </tr>\n",
       "  </tbody>\n",
       "</table>\n",
       "</div>"
      ],
      "text/plain": [
       "    Liga  PartidosTotales  ProporcionDeEmpates  GolesTotales  \\\n",
       "0  Spain              380                45.79          1024   \n",
       "\n",
       "   PuntuacionVaepTotal  PuntuacionVaepOfensivaTotal  \\\n",
       "0              1701.39                      1586.01   \n",
       "\n",
       "   PuntuacionVaepDefensivaTotal  VaepPorGol  GolesPorPartido  \\\n",
       "0                        115.38        1.75             2.69   \n",
       "\n",
       "   VaepTotalPorPartido  VaepOfensivoPorPartido  VaepDefensivoPorPartido  \n",
       "0                 4.48                    4.17                      0.3  "
      ]
     },
     "execution_count": 29,
     "metadata": {},
     "output_type": "execute_result"
    }
   ],
   "source": [
    "#Calculo algunas estadisticas para el informe en español\n",
    "\n",
    "estadisticasLiga=pd.DataFrame(columns=['Liga'], data =[League] )\n",
    "estadisticasLiga['PartidosTotales']=(competitionData['npartidos'].sum()/2).astype(int)\n",
    "estadisticasLiga['ProporcionDeEmpates']=(competitionData['draws'].sum()/estadisticasLiga['PartidosTotales']*100).astype(float).round(2)\n",
    "\n",
    "estadisticasLiga['GolesTotales']=competitionData['goalsFavorTotal'].sum()\n",
    "estadisticasLiga['PuntuacionVaepTotal']=competitionData['totalVAEP'].sum().astype(float).round(2)\n",
    "\n",
    "estadisticasLiga['PuntuacionVaepOfensivaTotal']=competitionData['offensiveVAEP'].sum().astype(float).round(2)\n",
    "estadisticasLiga['PuntuacionVaepDefensivaTotal']=competitionData['defensiveVAEP'].sum().astype(float).round(2)\n",
    "\n",
    "estadisticasLiga['VaepPorGol']=((competitionData['totalVAEP']/competitionData['goalsFavorTotal']).mean()).astype(float).round(2)\n",
    "\n",
    "estadisticasLiga['GolesPorPartido']=(estadisticasLiga['GolesTotales']/estadisticasLiga['PartidosTotales']).astype(float).round(2)\n",
    "estadisticasLiga['VaepTotalPorPartido']=(estadisticasLiga['PuntuacionVaepTotal']/estadisticasLiga['PartidosTotales']).astype(float).round(2)\n",
    "estadisticasLiga['VaepOfensivoPorPartido']=(estadisticasLiga['PuntuacionVaepOfensivaTotal']/estadisticasLiga['PartidosTotales']).astype(float).round(2)\n",
    "estadisticasLiga['VaepDefensivoPorPartido']=(estadisticasLiga['PuntuacionVaepDefensivaTotal']/estadisticasLiga['PartidosTotales']).astype(float).round(2)\n",
    "\n",
    "\n",
    "\n",
    "\n",
    "\n",
    "\n",
    "\n",
    "gfg_csv_data = estadisticasLiga.to_csv('/dataset/vaep/CSVs/DatosAgregadosLiga'+League+'.csv', index = False)\n",
    "\n",
    "estadisticasLiga.head()"
   ]
  },
  {
   "cell_type": "code",
   "execution_count": 30,
   "metadata": {},
   "outputs": [
    {
     "data": {
      "text/html": [
       "<div>\n",
       "<style scoped>\n",
       "    .dataframe tbody tr th:only-of-type {\n",
       "        vertical-align: middle;\n",
       "    }\n",
       "\n",
       "    .dataframe tbody tr th {\n",
       "        vertical-align: top;\n",
       "    }\n",
       "\n",
       "    .dataframe thead th {\n",
       "        text-align: right;\n",
       "    }\n",
       "</style>\n",
       "<table border=\"1\" class=\"dataframe\">\n",
       "  <thead>\n",
       "    <tr style=\"text-align: right;\">\n",
       "      <th></th>\n",
       "      <th>short_team_name</th>\n",
       "      <th>goalsFavorTotal</th>\n",
       "      <th>goalsAgainstTotal</th>\n",
       "      <th>goalDiffTotal</th>\n",
       "      <th>wins</th>\n",
       "      <th>draws</th>\n",
       "      <th>lose</th>\n",
       "      <th>pointsTotal</th>\n",
       "      <th>TablePosition</th>\n",
       "    </tr>\n",
       "  </thead>\n",
       "  <tbody>\n",
       "    <tr>\n",
       "      <th>40</th>\n",
       "      <td>Barcelona</td>\n",
       "      <td>99</td>\n",
       "      <td>29</td>\n",
       "      <td>70</td>\n",
       "      <td>28</td>\n",
       "      <td>9</td>\n",
       "      <td>1</td>\n",
       "      <td>93</td>\n",
       "      <td>1</td>\n",
       "    </tr>\n",
       "    <tr>\n",
       "      <th>41</th>\n",
       "      <td>Atlético Madrid</td>\n",
       "      <td>58</td>\n",
       "      <td>22</td>\n",
       "      <td>36</td>\n",
       "      <td>23</td>\n",
       "      <td>10</td>\n",
       "      <td>5</td>\n",
       "      <td>79</td>\n",
       "      <td>2</td>\n",
       "    </tr>\n",
       "    <tr>\n",
       "      <th>42</th>\n",
       "      <td>Real Madrid</td>\n",
       "      <td>94</td>\n",
       "      <td>44</td>\n",
       "      <td>50</td>\n",
       "      <td>22</td>\n",
       "      <td>10</td>\n",
       "      <td>6</td>\n",
       "      <td>76</td>\n",
       "      <td>3</td>\n",
       "    </tr>\n",
       "    <tr>\n",
       "      <th>43</th>\n",
       "      <td>Valencia</td>\n",
       "      <td>65</td>\n",
       "      <td>38</td>\n",
       "      <td>27</td>\n",
       "      <td>22</td>\n",
       "      <td>7</td>\n",
       "      <td>9</td>\n",
       "      <td>73</td>\n",
       "      <td>4</td>\n",
       "    </tr>\n",
       "    <tr>\n",
       "      <th>44</th>\n",
       "      <td>Villarreal</td>\n",
       "      <td>57</td>\n",
       "      <td>50</td>\n",
       "      <td>7</td>\n",
       "      <td>18</td>\n",
       "      <td>7</td>\n",
       "      <td>13</td>\n",
       "      <td>61</td>\n",
       "      <td>5</td>\n",
       "    </tr>\n",
       "    <tr>\n",
       "      <th>45</th>\n",
       "      <td>Real Betis</td>\n",
       "      <td>60</td>\n",
       "      <td>61</td>\n",
       "      <td>-1</td>\n",
       "      <td>18</td>\n",
       "      <td>6</td>\n",
       "      <td>14</td>\n",
       "      <td>60</td>\n",
       "      <td>6</td>\n",
       "    </tr>\n",
       "    <tr>\n",
       "      <th>46</th>\n",
       "      <td>Sevilla</td>\n",
       "      <td>49</td>\n",
       "      <td>58</td>\n",
       "      <td>-9</td>\n",
       "      <td>17</td>\n",
       "      <td>7</td>\n",
       "      <td>14</td>\n",
       "      <td>58</td>\n",
       "      <td>7</td>\n",
       "    </tr>\n",
       "    <tr>\n",
       "      <th>47</th>\n",
       "      <td>Getafe</td>\n",
       "      <td>42</td>\n",
       "      <td>33</td>\n",
       "      <td>9</td>\n",
       "      <td>14</td>\n",
       "      <td>11</td>\n",
       "      <td>13</td>\n",
       "      <td>53</td>\n",
       "      <td>8</td>\n",
       "    </tr>\n",
       "    <tr>\n",
       "      <th>49</th>\n",
       "      <td>Girona</td>\n",
       "      <td>50</td>\n",
       "      <td>59</td>\n",
       "      <td>-9</td>\n",
       "      <td>14</td>\n",
       "      <td>9</td>\n",
       "      <td>15</td>\n",
       "      <td>51</td>\n",
       "      <td>9</td>\n",
       "    </tr>\n",
       "    <tr>\n",
       "      <th>48</th>\n",
       "      <td>Eibar</td>\n",
       "      <td>44</td>\n",
       "      <td>50</td>\n",
       "      <td>-6</td>\n",
       "      <td>14</td>\n",
       "      <td>9</td>\n",
       "      <td>15</td>\n",
       "      <td>51</td>\n",
       "      <td>10</td>\n",
       "    </tr>\n",
       "    <tr>\n",
       "      <th>50</th>\n",
       "      <td>Espanyol</td>\n",
       "      <td>36</td>\n",
       "      <td>42</td>\n",
       "      <td>-6</td>\n",
       "      <td>12</td>\n",
       "      <td>14</td>\n",
       "      <td>12</td>\n",
       "      <td>50</td>\n",
       "      <td>11</td>\n",
       "    </tr>\n",
       "    <tr>\n",
       "      <th>52</th>\n",
       "      <td>Real Sociedad</td>\n",
       "      <td>66</td>\n",
       "      <td>59</td>\n",
       "      <td>7</td>\n",
       "      <td>14</td>\n",
       "      <td>7</td>\n",
       "      <td>17</td>\n",
       "      <td>49</td>\n",
       "      <td>12</td>\n",
       "    </tr>\n",
       "    <tr>\n",
       "      <th>51</th>\n",
       "      <td>Celta de Vigo</td>\n",
       "      <td>59</td>\n",
       "      <td>60</td>\n",
       "      <td>-1</td>\n",
       "      <td>13</td>\n",
       "      <td>10</td>\n",
       "      <td>15</td>\n",
       "      <td>49</td>\n",
       "      <td>13</td>\n",
       "    </tr>\n",
       "    <tr>\n",
       "      <th>53</th>\n",
       "      <td>Deportivo Alavés</td>\n",
       "      <td>40</td>\n",
       "      <td>50</td>\n",
       "      <td>-10</td>\n",
       "      <td>15</td>\n",
       "      <td>2</td>\n",
       "      <td>21</td>\n",
       "      <td>47</td>\n",
       "      <td>14</td>\n",
       "    </tr>\n",
       "    <tr>\n",
       "      <th>54</th>\n",
       "      <td>Levante</td>\n",
       "      <td>44</td>\n",
       "      <td>58</td>\n",
       "      <td>-14</td>\n",
       "      <td>11</td>\n",
       "      <td>13</td>\n",
       "      <td>14</td>\n",
       "      <td>46</td>\n",
       "      <td>15</td>\n",
       "    </tr>\n",
       "    <tr>\n",
       "      <th>55</th>\n",
       "      <td>Athletic Club</td>\n",
       "      <td>41</td>\n",
       "      <td>49</td>\n",
       "      <td>-8</td>\n",
       "      <td>10</td>\n",
       "      <td>13</td>\n",
       "      <td>15</td>\n",
       "      <td>43</td>\n",
       "      <td>16</td>\n",
       "    </tr>\n",
       "    <tr>\n",
       "      <th>56</th>\n",
       "      <td>Leganés</td>\n",
       "      <td>34</td>\n",
       "      <td>51</td>\n",
       "      <td>-17</td>\n",
       "      <td>12</td>\n",
       "      <td>7</td>\n",
       "      <td>19</td>\n",
       "      <td>43</td>\n",
       "      <td>17</td>\n",
       "    </tr>\n",
       "    <tr>\n",
       "      <th>57</th>\n",
       "      <td>Deportivo La Coruña</td>\n",
       "      <td>38</td>\n",
       "      <td>76</td>\n",
       "      <td>-38</td>\n",
       "      <td>6</td>\n",
       "      <td>11</td>\n",
       "      <td>21</td>\n",
       "      <td>29</td>\n",
       "      <td>18</td>\n",
       "    </tr>\n",
       "    <tr>\n",
       "      <th>58</th>\n",
       "      <td>Las Palmas</td>\n",
       "      <td>24</td>\n",
       "      <td>74</td>\n",
       "      <td>-50</td>\n",
       "      <td>5</td>\n",
       "      <td>7</td>\n",
       "      <td>26</td>\n",
       "      <td>22</td>\n",
       "      <td>19</td>\n",
       "    </tr>\n",
       "    <tr>\n",
       "      <th>59</th>\n",
       "      <td>Málaga</td>\n",
       "      <td>24</td>\n",
       "      <td>61</td>\n",
       "      <td>-37</td>\n",
       "      <td>5</td>\n",
       "      <td>5</td>\n",
       "      <td>28</td>\n",
       "      <td>20</td>\n",
       "      <td>20</td>\n",
       "    </tr>\n",
       "  </tbody>\n",
       "</table>\n",
       "</div>"
      ],
      "text/plain": [
       "        short_team_name  goalsFavorTotal  goalsAgainstTotal  goalDiffTotal  \\\n",
       "40            Barcelona               99                 29             70   \n",
       "41      Atlético Madrid               58                 22             36   \n",
       "42          Real Madrid               94                 44             50   \n",
       "43             Valencia               65                 38             27   \n",
       "44           Villarreal               57                 50              7   \n",
       "45           Real Betis               60                 61             -1   \n",
       "46              Sevilla               49                 58             -9   \n",
       "47               Getafe               42                 33              9   \n",
       "49               Girona               50                 59             -9   \n",
       "48                Eibar               44                 50             -6   \n",
       "50             Espanyol               36                 42             -6   \n",
       "52        Real Sociedad               66                 59              7   \n",
       "51        Celta de Vigo               59                 60             -1   \n",
       "53     Deportivo Alavés               40                 50            -10   \n",
       "54              Levante               44                 58            -14   \n",
       "55        Athletic Club               41                 49             -8   \n",
       "56              Leganés               34                 51            -17   \n",
       "57  Deportivo La Coruña               38                 76            -38   \n",
       "58           Las Palmas               24                 74            -50   \n",
       "59               Málaga               24                 61            -37   \n",
       "\n",
       "    wins  draws  lose  pointsTotal  TablePosition  \n",
       "40    28      9     1           93              1  \n",
       "41    23     10     5           79              2  \n",
       "42    22     10     6           76              3  \n",
       "43    22      7     9           73              4  \n",
       "44    18      7    13           61              5  \n",
       "45    18      6    14           60              6  \n",
       "46    17      7    14           58              7  \n",
       "47    14     11    13           53              8  \n",
       "49    14      9    15           51              9  \n",
       "48    14      9    15           51             10  \n",
       "50    12     14    12           50             11  \n",
       "52    14      7    17           49             12  \n",
       "51    13     10    15           49             13  \n",
       "53    15      2    21           47             14  \n",
       "54    11     13    14           46             15  \n",
       "55    10     13    15           43             16  \n",
       "56    12      7    19           43             17  \n",
       "57     6     11    21           29             18  \n",
       "58     5      7    26           22             19  \n",
       "59     5      5    28           20             20  "
      ]
     },
     "execution_count": 30,
     "metadata": {},
     "output_type": "execute_result"
    }
   ],
   "source": [
    "competitionData=competitionData.sort_values('pointsTotal', ascending=[False])\n",
    "competitionData[['short_team_name','goalsFavorTotal','goalsAgainstTotal','goalDiffTotal','wins','draws','lose','pointsTotal','TablePosition' ]].head(20)"
   ]
  },
  {
   "cell_type": "code",
   "execution_count": 31,
   "metadata": {},
   "outputs": [
    {
     "data": {
      "text/html": [
       "<div>\n",
       "<style scoped>\n",
       "    .dataframe tbody tr th:only-of-type {\n",
       "        vertical-align: middle;\n",
       "    }\n",
       "\n",
       "    .dataframe tbody tr th {\n",
       "        vertical-align: top;\n",
       "    }\n",
       "\n",
       "    .dataframe thead th {\n",
       "        text-align: right;\n",
       "    }\n",
       "</style>\n",
       "<table border=\"1\" class=\"dataframe\">\n",
       "  <thead>\n",
       "    <tr style=\"text-align: right;\">\n",
       "      <th></th>\n",
       "      <th>Equipo</th>\n",
       "      <th>Gfavor</th>\n",
       "      <th>Gcontra</th>\n",
       "      <th>DifGol</th>\n",
       "      <th>Vic</th>\n",
       "      <th>Emp</th>\n",
       "      <th>Derr</th>\n",
       "      <th>Puntos</th>\n",
       "      <th>Pos</th>\n",
       "    </tr>\n",
       "  </thead>\n",
       "  <tbody>\n",
       "    <tr>\n",
       "      <th>0</th>\n",
       "      <td>Barcelona</td>\n",
       "      <td>99</td>\n",
       "      <td>29</td>\n",
       "      <td>70</td>\n",
       "      <td>28</td>\n",
       "      <td>9</td>\n",
       "      <td>1</td>\n",
       "      <td>93</td>\n",
       "      <td>1</td>\n",
       "    </tr>\n",
       "    <tr>\n",
       "      <th>1</th>\n",
       "      <td>Atlético Madrid</td>\n",
       "      <td>58</td>\n",
       "      <td>22</td>\n",
       "      <td>36</td>\n",
       "      <td>23</td>\n",
       "      <td>10</td>\n",
       "      <td>5</td>\n",
       "      <td>79</td>\n",
       "      <td>2</td>\n",
       "    </tr>\n",
       "    <tr>\n",
       "      <th>2</th>\n",
       "      <td>Real Madrid</td>\n",
       "      <td>94</td>\n",
       "      <td>44</td>\n",
       "      <td>50</td>\n",
       "      <td>22</td>\n",
       "      <td>10</td>\n",
       "      <td>6</td>\n",
       "      <td>76</td>\n",
       "      <td>3</td>\n",
       "    </tr>\n",
       "    <tr>\n",
       "      <th>3</th>\n",
       "      <td>Valencia</td>\n",
       "      <td>65</td>\n",
       "      <td>38</td>\n",
       "      <td>27</td>\n",
       "      <td>22</td>\n",
       "      <td>7</td>\n",
       "      <td>9</td>\n",
       "      <td>73</td>\n",
       "      <td>4</td>\n",
       "    </tr>\n",
       "    <tr>\n",
       "      <th>4</th>\n",
       "      <td>Villarreal</td>\n",
       "      <td>57</td>\n",
       "      <td>50</td>\n",
       "      <td>7</td>\n",
       "      <td>18</td>\n",
       "      <td>7</td>\n",
       "      <td>13</td>\n",
       "      <td>61</td>\n",
       "      <td>5</td>\n",
       "    </tr>\n",
       "    <tr>\n",
       "      <th>5</th>\n",
       "      <td>Real Betis</td>\n",
       "      <td>60</td>\n",
       "      <td>61</td>\n",
       "      <td>-1</td>\n",
       "      <td>18</td>\n",
       "      <td>6</td>\n",
       "      <td>14</td>\n",
       "      <td>60</td>\n",
       "      <td>6</td>\n",
       "    </tr>\n",
       "    <tr>\n",
       "      <th>6</th>\n",
       "      <td>Sevilla</td>\n",
       "      <td>49</td>\n",
       "      <td>58</td>\n",
       "      <td>-9</td>\n",
       "      <td>17</td>\n",
       "      <td>7</td>\n",
       "      <td>14</td>\n",
       "      <td>58</td>\n",
       "      <td>7</td>\n",
       "    </tr>\n",
       "    <tr>\n",
       "      <th>7</th>\n",
       "      <td>Getafe</td>\n",
       "      <td>42</td>\n",
       "      <td>33</td>\n",
       "      <td>9</td>\n",
       "      <td>14</td>\n",
       "      <td>11</td>\n",
       "      <td>13</td>\n",
       "      <td>53</td>\n",
       "      <td>8</td>\n",
       "    </tr>\n",
       "    <tr>\n",
       "      <th>8</th>\n",
       "      <td>Girona</td>\n",
       "      <td>50</td>\n",
       "      <td>59</td>\n",
       "      <td>-9</td>\n",
       "      <td>14</td>\n",
       "      <td>9</td>\n",
       "      <td>15</td>\n",
       "      <td>51</td>\n",
       "      <td>9</td>\n",
       "    </tr>\n",
       "    <tr>\n",
       "      <th>9</th>\n",
       "      <td>Eibar</td>\n",
       "      <td>44</td>\n",
       "      <td>50</td>\n",
       "      <td>-6</td>\n",
       "      <td>14</td>\n",
       "      <td>9</td>\n",
       "      <td>15</td>\n",
       "      <td>51</td>\n",
       "      <td>10</td>\n",
       "    </tr>\n",
       "    <tr>\n",
       "      <th>10</th>\n",
       "      <td>Espanyol</td>\n",
       "      <td>36</td>\n",
       "      <td>42</td>\n",
       "      <td>-6</td>\n",
       "      <td>12</td>\n",
       "      <td>14</td>\n",
       "      <td>12</td>\n",
       "      <td>50</td>\n",
       "      <td>11</td>\n",
       "    </tr>\n",
       "    <tr>\n",
       "      <th>11</th>\n",
       "      <td>Real Sociedad</td>\n",
       "      <td>66</td>\n",
       "      <td>59</td>\n",
       "      <td>7</td>\n",
       "      <td>14</td>\n",
       "      <td>7</td>\n",
       "      <td>17</td>\n",
       "      <td>49</td>\n",
       "      <td>12</td>\n",
       "    </tr>\n",
       "    <tr>\n",
       "      <th>12</th>\n",
       "      <td>Celta de Vigo</td>\n",
       "      <td>59</td>\n",
       "      <td>60</td>\n",
       "      <td>-1</td>\n",
       "      <td>13</td>\n",
       "      <td>10</td>\n",
       "      <td>15</td>\n",
       "      <td>49</td>\n",
       "      <td>13</td>\n",
       "    </tr>\n",
       "    <tr>\n",
       "      <th>13</th>\n",
       "      <td>Deportivo Alavés</td>\n",
       "      <td>40</td>\n",
       "      <td>50</td>\n",
       "      <td>-10</td>\n",
       "      <td>15</td>\n",
       "      <td>2</td>\n",
       "      <td>21</td>\n",
       "      <td>47</td>\n",
       "      <td>14</td>\n",
       "    </tr>\n",
       "    <tr>\n",
       "      <th>14</th>\n",
       "      <td>Levante</td>\n",
       "      <td>44</td>\n",
       "      <td>58</td>\n",
       "      <td>-14</td>\n",
       "      <td>11</td>\n",
       "      <td>13</td>\n",
       "      <td>14</td>\n",
       "      <td>46</td>\n",
       "      <td>15</td>\n",
       "    </tr>\n",
       "    <tr>\n",
       "      <th>15</th>\n",
       "      <td>Athletic Club</td>\n",
       "      <td>41</td>\n",
       "      <td>49</td>\n",
       "      <td>-8</td>\n",
       "      <td>10</td>\n",
       "      <td>13</td>\n",
       "      <td>15</td>\n",
       "      <td>43</td>\n",
       "      <td>16</td>\n",
       "    </tr>\n",
       "    <tr>\n",
       "      <th>16</th>\n",
       "      <td>Leganés</td>\n",
       "      <td>34</td>\n",
       "      <td>51</td>\n",
       "      <td>-17</td>\n",
       "      <td>12</td>\n",
       "      <td>7</td>\n",
       "      <td>19</td>\n",
       "      <td>43</td>\n",
       "      <td>17</td>\n",
       "    </tr>\n",
       "    <tr>\n",
       "      <th>17</th>\n",
       "      <td>Deportivo La Coruña</td>\n",
       "      <td>38</td>\n",
       "      <td>76</td>\n",
       "      <td>-38</td>\n",
       "      <td>6</td>\n",
       "      <td>11</td>\n",
       "      <td>21</td>\n",
       "      <td>29</td>\n",
       "      <td>18</td>\n",
       "    </tr>\n",
       "    <tr>\n",
       "      <th>18</th>\n",
       "      <td>Las Palmas</td>\n",
       "      <td>24</td>\n",
       "      <td>74</td>\n",
       "      <td>-50</td>\n",
       "      <td>5</td>\n",
       "      <td>7</td>\n",
       "      <td>26</td>\n",
       "      <td>22</td>\n",
       "      <td>19</td>\n",
       "    </tr>\n",
       "    <tr>\n",
       "      <th>19</th>\n",
       "      <td>Málaga</td>\n",
       "      <td>24</td>\n",
       "      <td>61</td>\n",
       "      <td>-37</td>\n",
       "      <td>5</td>\n",
       "      <td>5</td>\n",
       "      <td>28</td>\n",
       "      <td>20</td>\n",
       "      <td>20</td>\n",
       "    </tr>\n",
       "  </tbody>\n",
       "</table>\n",
       "</div>"
      ],
      "text/plain": [
       "                 Equipo Gfavor Gcontra DifGol Vic Emp Derr Puntos Pos\n",
       "0             Barcelona     99      29     70  28   9    1     93   1\n",
       "1       Atlético Madrid     58      22     36  23  10    5     79   2\n",
       "2           Real Madrid     94      44     50  22  10    6     76   3\n",
       "3              Valencia     65      38     27  22   7    9     73   4\n",
       "4            Villarreal     57      50      7  18   7   13     61   5\n",
       "5            Real Betis     60      61     -1  18   6   14     60   6\n",
       "6               Sevilla     49      58     -9  17   7   14     58   7\n",
       "7                Getafe     42      33      9  14  11   13     53   8\n",
       "8                Girona     50      59     -9  14   9   15     51   9\n",
       "9                 Eibar     44      50     -6  14   9   15     51  10\n",
       "10             Espanyol     36      42     -6  12  14   12     50  11\n",
       "11        Real Sociedad     66      59      7  14   7   17     49  12\n",
       "12        Celta de Vigo     59      60     -1  13  10   15     49  13\n",
       "13     Deportivo Alavés     40      50    -10  15   2   21     47  14\n",
       "14              Levante     44      58    -14  11  13   14     46  15\n",
       "15        Athletic Club     41      49     -8  10  13   15     43  16\n",
       "16              Leganés     34      51    -17  12   7   19     43  17\n",
       "17  Deportivo La Coruña     38      76    -38   6  11   21     29  18\n",
       "18           Las Palmas     24      74    -50   5   7   26     22  19\n",
       "19               Málaga     24      61    -37   5   5   28     20  20"
      ]
     },
     "execution_count": 31,
     "metadata": {},
     "output_type": "execute_result"
    }
   ],
   "source": [
    "# Grafico para el informe en español\n",
    "\n",
    "import copy\n",
    "\n",
    "aux=competitionData[['short_team_name','goalsFavorTotal','goalsAgainstTotal','goalDiffTotal','wins','draws','lose','pointsTotal','TablePosition' ]]\n",
    "\n",
    "mydata= pd.DataFrame(columns = aux.columns, data = copy.deepcopy(aux.values))\n",
    "mydata['Equipo']=mydata['short_team_name']\n",
    "mydata['Gfavor']=mydata['goalsFavorTotal']\n",
    "mydata['Gcontra']=mydata['goalsAgainstTotal']\n",
    "mydata['DifGol']=mydata['goalDiffTotal']\n",
    "mydata['Vic']=mydata['wins']\n",
    "mydata['Emp']=mydata['draws']\n",
    "mydata['Derr']=mydata['lose']\n",
    "mydata['Puntos']=mydata['pointsTotal']\n",
    "mydata['Pos']=mydata['TablePosition']\n",
    "\n",
    "mydata=mydata.sort_values('Pos')\n",
    "\n",
    "mydata=mydata[['Equipo','Gfavor','Gcontra','DifGol','Vic','Emp','Derr','Puntos','Pos' ]]\n",
    "\n",
    "gfg_csv_data = mydata.to_csv('/dataset/vaep/CSVs/TablaDePosicionesNormal'+League+'.csv', index = False)\n",
    "\n",
    "mydata.head(20)\n",
    "\n",
    "\n",
    "\n"
   ]
  },
  {
   "cell_type": "code",
   "execution_count": 32,
   "metadata": {},
   "outputs": [
    {
     "data": {
      "text/html": [
       "<div>\n",
       "<style scoped>\n",
       "    .dataframe tbody tr th:only-of-type {\n",
       "        vertical-align: middle;\n",
       "    }\n",
       "\n",
       "    .dataframe tbody tr th {\n",
       "        vertical-align: top;\n",
       "    }\n",
       "\n",
       "    .dataframe thead th {\n",
       "        text-align: right;\n",
       "    }\n",
       "</style>\n",
       "<table border=\"1\" class=\"dataframe\">\n",
       "  <thead>\n",
       "    <tr style=\"text-align: right;\">\n",
       "      <th></th>\n",
       "      <th>short_team_name</th>\n",
       "      <th>totalVAEP</th>\n",
       "      <th>totalVAEPAgainst</th>\n",
       "      <th>TotalVaepDiff</th>\n",
       "      <th>pythVaep</th>\n",
       "      <th>TPositionPythVaepVAEP</th>\n",
       "      <th>TablePosition</th>\n",
       "      <th>ErrorPythVaep</th>\n",
       "    </tr>\n",
       "  </thead>\n",
       "  <tbody>\n",
       "    <tr>\n",
       "      <th>40</th>\n",
       "      <td>Barcelona</td>\n",
       "      <td>134.325207</td>\n",
       "      <td>69.293884</td>\n",
       "      <td>65.031323</td>\n",
       "      <td>0.774019</td>\n",
       "      <td>1</td>\n",
       "      <td>1</td>\n",
       "      <td>0</td>\n",
       "    </tr>\n",
       "    <tr>\n",
       "      <th>42</th>\n",
       "      <td>Real Madrid</td>\n",
       "      <td>128.355561</td>\n",
       "      <td>86.495388</td>\n",
       "      <td>41.860173</td>\n",
       "      <td>0.675719</td>\n",
       "      <td>2</td>\n",
       "      <td>3</td>\n",
       "      <td>-1</td>\n",
       "    </tr>\n",
       "    <tr>\n",
       "      <th>41</th>\n",
       "      <td>Atlético Madrid</td>\n",
       "      <td>93.395429</td>\n",
       "      <td>63.239253</td>\n",
       "      <td>30.156176</td>\n",
       "      <td>0.673761</td>\n",
       "      <td>3</td>\n",
       "      <td>2</td>\n",
       "      <td>1</td>\n",
       "    </tr>\n",
       "    <tr>\n",
       "      <th>43</th>\n",
       "      <td>Valencia</td>\n",
       "      <td>97.117115</td>\n",
       "      <td>75.949504</td>\n",
       "      <td>21.167611</td>\n",
       "      <td>0.612368</td>\n",
       "      <td>4</td>\n",
       "      <td>4</td>\n",
       "      <td>0</td>\n",
       "    </tr>\n",
       "    <tr>\n",
       "      <th>44</th>\n",
       "      <td>Villarreal</td>\n",
       "      <td>92.776184</td>\n",
       "      <td>82.408143</td>\n",
       "      <td>10.368041</td>\n",
       "      <td>0.554883</td>\n",
       "      <td>5</td>\n",
       "      <td>5</td>\n",
       "      <td>0</td>\n",
       "    </tr>\n",
       "    <tr>\n",
       "      <th>52</th>\n",
       "      <td>Real Sociedad</td>\n",
       "      <td>96.934929</td>\n",
       "      <td>87.998477</td>\n",
       "      <td>8.936451</td>\n",
       "      <td>0.544854</td>\n",
       "      <td>6</td>\n",
       "      <td>12</td>\n",
       "      <td>-6</td>\n",
       "    </tr>\n",
       "    <tr>\n",
       "      <th>51</th>\n",
       "      <td>Celta de Vigo</td>\n",
       "      <td>96.698127</td>\n",
       "      <td>92.225453</td>\n",
       "      <td>4.472675</td>\n",
       "      <td>0.522007</td>\n",
       "      <td>7</td>\n",
       "      <td>13</td>\n",
       "      <td>-6</td>\n",
       "    </tr>\n",
       "    <tr>\n",
       "      <th>48</th>\n",
       "      <td>Eibar</td>\n",
       "      <td>75.679329</td>\n",
       "      <td>76.258972</td>\n",
       "      <td>-0.579643</td>\n",
       "      <td>0.496452</td>\n",
       "      <td>8</td>\n",
       "      <td>10</td>\n",
       "      <td>-2</td>\n",
       "    </tr>\n",
       "    <tr>\n",
       "      <th>47</th>\n",
       "      <td>Getafe</td>\n",
       "      <td>67.761381</td>\n",
       "      <td>68.404466</td>\n",
       "      <td>-0.643085</td>\n",
       "      <td>0.495608</td>\n",
       "      <td>9</td>\n",
       "      <td>8</td>\n",
       "      <td>1</td>\n",
       "    </tr>\n",
       "    <tr>\n",
       "      <th>45</th>\n",
       "      <td>Real Betis</td>\n",
       "      <td>91.219083</td>\n",
       "      <td>92.119990</td>\n",
       "      <td>-0.900907</td>\n",
       "      <td>0.495430</td>\n",
       "      <td>10</td>\n",
       "      <td>6</td>\n",
       "      <td>4</td>\n",
       "    </tr>\n",
       "    <tr>\n",
       "      <th>53</th>\n",
       "      <td>Deportivo Alavés</td>\n",
       "      <td>79.198689</td>\n",
       "      <td>80.953313</td>\n",
       "      <td>-1.754624</td>\n",
       "      <td>0.489812</td>\n",
       "      <td>11</td>\n",
       "      <td>14</td>\n",
       "      <td>-3</td>\n",
       "    </tr>\n",
       "    <tr>\n",
       "      <th>46</th>\n",
       "      <td>Sevilla</td>\n",
       "      <td>90.382886</td>\n",
       "      <td>97.191294</td>\n",
       "      <td>-6.808408</td>\n",
       "      <td>0.466280</td>\n",
       "      <td>12</td>\n",
       "      <td>7</td>\n",
       "      <td>5</td>\n",
       "    </tr>\n",
       "    <tr>\n",
       "      <th>50</th>\n",
       "      <td>Espanyol</td>\n",
       "      <td>69.082212</td>\n",
       "      <td>74.396665</td>\n",
       "      <td>-5.314453</td>\n",
       "      <td>0.465592</td>\n",
       "      <td>13</td>\n",
       "      <td>11</td>\n",
       "      <td>2</td>\n",
       "    </tr>\n",
       "    <tr>\n",
       "      <th>49</th>\n",
       "      <td>Girona</td>\n",
       "      <td>86.890129</td>\n",
       "      <td>95.042142</td>\n",
       "      <td>-8.152014</td>\n",
       "      <td>0.458397</td>\n",
       "      <td>14</td>\n",
       "      <td>9</td>\n",
       "      <td>5</td>\n",
       "    </tr>\n",
       "    <tr>\n",
       "      <th>55</th>\n",
       "      <td>Athletic Club</td>\n",
       "      <td>70.499050</td>\n",
       "      <td>81.097437</td>\n",
       "      <td>-10.598387</td>\n",
       "      <td>0.435242</td>\n",
       "      <td>15</td>\n",
       "      <td>16</td>\n",
       "      <td>-1</td>\n",
       "    </tr>\n",
       "    <tr>\n",
       "      <th>54</th>\n",
       "      <td>Levante</td>\n",
       "      <td>74.602881</td>\n",
       "      <td>89.972233</td>\n",
       "      <td>-15.369352</td>\n",
       "      <td>0.413766</td>\n",
       "      <td>16</td>\n",
       "      <td>15</td>\n",
       "      <td>1</td>\n",
       "    </tr>\n",
       "    <tr>\n",
       "      <th>56</th>\n",
       "      <td>Leganés</td>\n",
       "      <td>66.027475</td>\n",
       "      <td>81.831958</td>\n",
       "      <td>-15.804482</td>\n",
       "      <td>0.401517</td>\n",
       "      <td>17</td>\n",
       "      <td>17</td>\n",
       "      <td>0</td>\n",
       "    </tr>\n",
       "    <tr>\n",
       "      <th>57</th>\n",
       "      <td>Deportivo La Coruña</td>\n",
       "      <td>72.457477</td>\n",
       "      <td>103.129335</td>\n",
       "      <td>-30.671859</td>\n",
       "      <td>0.341515</td>\n",
       "      <td>18</td>\n",
       "      <td>18</td>\n",
       "      <td>0</td>\n",
       "    </tr>\n",
       "    <tr>\n",
       "      <th>59</th>\n",
       "      <td>Málaga</td>\n",
       "      <td>58.848550</td>\n",
       "      <td>95.708362</td>\n",
       "      <td>-36.859812</td>\n",
       "      <td>0.288108</td>\n",
       "      <td>19</td>\n",
       "      <td>20</td>\n",
       "      <td>-1</td>\n",
       "    </tr>\n",
       "    <tr>\n",
       "      <th>58</th>\n",
       "      <td>Las Palmas</td>\n",
       "      <td>59.134822</td>\n",
       "      <td>107.670245</td>\n",
       "      <td>-48.535422</td>\n",
       "      <td>0.247012</td>\n",
       "      <td>20</td>\n",
       "      <td>19</td>\n",
       "      <td>1</td>\n",
       "    </tr>\n",
       "  </tbody>\n",
       "</table>\n",
       "</div>"
      ],
      "text/plain": [
       "        short_team_name   totalVAEP  totalVAEPAgainst  TotalVaepDiff  \\\n",
       "40            Barcelona  134.325207         69.293884      65.031323   \n",
       "42          Real Madrid  128.355561         86.495388      41.860173   \n",
       "41      Atlético Madrid   93.395429         63.239253      30.156176   \n",
       "43             Valencia   97.117115         75.949504      21.167611   \n",
       "44           Villarreal   92.776184         82.408143      10.368041   \n",
       "52        Real Sociedad   96.934929         87.998477       8.936451   \n",
       "51        Celta de Vigo   96.698127         92.225453       4.472675   \n",
       "48                Eibar   75.679329         76.258972      -0.579643   \n",
       "47               Getafe   67.761381         68.404466      -0.643085   \n",
       "45           Real Betis   91.219083         92.119990      -0.900907   \n",
       "53     Deportivo Alavés   79.198689         80.953313      -1.754624   \n",
       "46              Sevilla   90.382886         97.191294      -6.808408   \n",
       "50             Espanyol   69.082212         74.396665      -5.314453   \n",
       "49               Girona   86.890129         95.042142      -8.152014   \n",
       "55        Athletic Club   70.499050         81.097437     -10.598387   \n",
       "54              Levante   74.602881         89.972233     -15.369352   \n",
       "56              Leganés   66.027475         81.831958     -15.804482   \n",
       "57  Deportivo La Coruña   72.457477        103.129335     -30.671859   \n",
       "59               Málaga   58.848550         95.708362     -36.859812   \n",
       "58           Las Palmas   59.134822        107.670245     -48.535422   \n",
       "\n",
       "    pythVaep  TPositionPythVaepVAEP  TablePosition  ErrorPythVaep  \n",
       "40  0.774019                      1              1              0  \n",
       "42  0.675719                      2              3             -1  \n",
       "41  0.673761                      3              2              1  \n",
       "43  0.612368                      4              4              0  \n",
       "44  0.554883                      5              5              0  \n",
       "52  0.544854                      6             12             -6  \n",
       "51  0.522007                      7             13             -6  \n",
       "48  0.496452                      8             10             -2  \n",
       "47  0.495608                      9              8              1  \n",
       "45  0.495430                     10              6              4  \n",
       "53  0.489812                     11             14             -3  \n",
       "46  0.466280                     12              7              5  \n",
       "50  0.465592                     13             11              2  \n",
       "49  0.458397                     14              9              5  \n",
       "55  0.435242                     15             16             -1  \n",
       "54  0.413766                     16             15              1  \n",
       "56  0.401517                     17             17              0  \n",
       "57  0.341515                     18             18              0  \n",
       "59  0.288108                     19             20             -1  \n",
       "58  0.247012                     20             19              1  "
      ]
     },
     "execution_count": 32,
     "metadata": {},
     "output_type": "execute_result"
    }
   ],
   "source": [
    "competitionData=competitionData.sort_values('pythVaep', ascending=[False])\n",
    "competitionData[['short_team_name','totalVAEP','totalVAEPAgainst','TotalVaepDiff','pythVaep','TPositionPythVaepVAEP','TablePosition','ErrorPythVaep' ]].head(20)"
   ]
  },
  {
   "cell_type": "code",
   "execution_count": 33,
   "metadata": {},
   "outputs": [
    {
     "data": {
      "text/html": [
       "<div>\n",
       "<style scoped>\n",
       "    .dataframe tbody tr th:only-of-type {\n",
       "        vertical-align: middle;\n",
       "    }\n",
       "\n",
       "    .dataframe tbody tr th {\n",
       "        vertical-align: top;\n",
       "    }\n",
       "\n",
       "    .dataframe thead th {\n",
       "        text-align: right;\n",
       "    }\n",
       "</style>\n",
       "<table border=\"1\" class=\"dataframe\">\n",
       "  <thead>\n",
       "    <tr style=\"text-align: right;\">\n",
       "      <th></th>\n",
       "      <th>Equipo</th>\n",
       "      <th>VaepAFav</th>\n",
       "      <th>VaepCon</th>\n",
       "      <th>DifVaep</th>\n",
       "      <th>ExpVaep</th>\n",
       "      <th>PosExp</th>\n",
       "      <th>Pos</th>\n",
       "      <th>Error</th>\n",
       "    </tr>\n",
       "  </thead>\n",
       "  <tbody>\n",
       "    <tr>\n",
       "      <th>0</th>\n",
       "      <td>Barcelona</td>\n",
       "      <td>134.33</td>\n",
       "      <td>69.29</td>\n",
       "      <td>65.03</td>\n",
       "      <td>0.77</td>\n",
       "      <td>1</td>\n",
       "      <td>1</td>\n",
       "      <td>0</td>\n",
       "    </tr>\n",
       "    <tr>\n",
       "      <th>1</th>\n",
       "      <td>Real Madrid</td>\n",
       "      <td>128.36</td>\n",
       "      <td>86.50</td>\n",
       "      <td>41.86</td>\n",
       "      <td>0.68</td>\n",
       "      <td>2</td>\n",
       "      <td>3</td>\n",
       "      <td>-1</td>\n",
       "    </tr>\n",
       "    <tr>\n",
       "      <th>2</th>\n",
       "      <td>Atlético Madrid</td>\n",
       "      <td>93.40</td>\n",
       "      <td>63.24</td>\n",
       "      <td>30.16</td>\n",
       "      <td>0.67</td>\n",
       "      <td>3</td>\n",
       "      <td>2</td>\n",
       "      <td>1</td>\n",
       "    </tr>\n",
       "    <tr>\n",
       "      <th>3</th>\n",
       "      <td>Valencia</td>\n",
       "      <td>97.12</td>\n",
       "      <td>75.95</td>\n",
       "      <td>21.17</td>\n",
       "      <td>0.61</td>\n",
       "      <td>4</td>\n",
       "      <td>4</td>\n",
       "      <td>0</td>\n",
       "    </tr>\n",
       "    <tr>\n",
       "      <th>4</th>\n",
       "      <td>Villarreal</td>\n",
       "      <td>92.78</td>\n",
       "      <td>82.41</td>\n",
       "      <td>10.37</td>\n",
       "      <td>0.55</td>\n",
       "      <td>5</td>\n",
       "      <td>5</td>\n",
       "      <td>0</td>\n",
       "    </tr>\n",
       "    <tr>\n",
       "      <th>5</th>\n",
       "      <td>Real Sociedad</td>\n",
       "      <td>96.93</td>\n",
       "      <td>88.00</td>\n",
       "      <td>8.94</td>\n",
       "      <td>0.54</td>\n",
       "      <td>6</td>\n",
       "      <td>12</td>\n",
       "      <td>-6</td>\n",
       "    </tr>\n",
       "    <tr>\n",
       "      <th>6</th>\n",
       "      <td>Celta de Vigo</td>\n",
       "      <td>96.70</td>\n",
       "      <td>92.23</td>\n",
       "      <td>4.47</td>\n",
       "      <td>0.52</td>\n",
       "      <td>7</td>\n",
       "      <td>13</td>\n",
       "      <td>-6</td>\n",
       "    </tr>\n",
       "    <tr>\n",
       "      <th>7</th>\n",
       "      <td>Eibar</td>\n",
       "      <td>75.68</td>\n",
       "      <td>76.26</td>\n",
       "      <td>-0.58</td>\n",
       "      <td>0.50</td>\n",
       "      <td>8</td>\n",
       "      <td>10</td>\n",
       "      <td>-2</td>\n",
       "    </tr>\n",
       "    <tr>\n",
       "      <th>8</th>\n",
       "      <td>Getafe</td>\n",
       "      <td>67.76</td>\n",
       "      <td>68.40</td>\n",
       "      <td>-0.64</td>\n",
       "      <td>0.50</td>\n",
       "      <td>9</td>\n",
       "      <td>8</td>\n",
       "      <td>1</td>\n",
       "    </tr>\n",
       "    <tr>\n",
       "      <th>9</th>\n",
       "      <td>Real Betis</td>\n",
       "      <td>91.22</td>\n",
       "      <td>92.12</td>\n",
       "      <td>-0.90</td>\n",
       "      <td>0.50</td>\n",
       "      <td>10</td>\n",
       "      <td>6</td>\n",
       "      <td>4</td>\n",
       "    </tr>\n",
       "    <tr>\n",
       "      <th>10</th>\n",
       "      <td>Deportivo Alavés</td>\n",
       "      <td>79.20</td>\n",
       "      <td>80.95</td>\n",
       "      <td>-1.75</td>\n",
       "      <td>0.49</td>\n",
       "      <td>11</td>\n",
       "      <td>14</td>\n",
       "      <td>-3</td>\n",
       "    </tr>\n",
       "    <tr>\n",
       "      <th>11</th>\n",
       "      <td>Sevilla</td>\n",
       "      <td>90.38</td>\n",
       "      <td>97.19</td>\n",
       "      <td>-6.81</td>\n",
       "      <td>0.47</td>\n",
       "      <td>12</td>\n",
       "      <td>7</td>\n",
       "      <td>5</td>\n",
       "    </tr>\n",
       "    <tr>\n",
       "      <th>12</th>\n",
       "      <td>Espanyol</td>\n",
       "      <td>69.08</td>\n",
       "      <td>74.40</td>\n",
       "      <td>-5.31</td>\n",
       "      <td>0.47</td>\n",
       "      <td>13</td>\n",
       "      <td>11</td>\n",
       "      <td>2</td>\n",
       "    </tr>\n",
       "    <tr>\n",
       "      <th>13</th>\n",
       "      <td>Girona</td>\n",
       "      <td>86.89</td>\n",
       "      <td>95.04</td>\n",
       "      <td>-8.15</td>\n",
       "      <td>0.46</td>\n",
       "      <td>14</td>\n",
       "      <td>9</td>\n",
       "      <td>5</td>\n",
       "    </tr>\n",
       "    <tr>\n",
       "      <th>14</th>\n",
       "      <td>Athletic Club</td>\n",
       "      <td>70.50</td>\n",
       "      <td>81.10</td>\n",
       "      <td>-10.60</td>\n",
       "      <td>0.44</td>\n",
       "      <td>15</td>\n",
       "      <td>16</td>\n",
       "      <td>-1</td>\n",
       "    </tr>\n",
       "    <tr>\n",
       "      <th>15</th>\n",
       "      <td>Levante</td>\n",
       "      <td>74.60</td>\n",
       "      <td>89.97</td>\n",
       "      <td>-15.37</td>\n",
       "      <td>0.41</td>\n",
       "      <td>16</td>\n",
       "      <td>15</td>\n",
       "      <td>1</td>\n",
       "    </tr>\n",
       "    <tr>\n",
       "      <th>16</th>\n",
       "      <td>Leganés</td>\n",
       "      <td>66.03</td>\n",
       "      <td>81.83</td>\n",
       "      <td>-15.80</td>\n",
       "      <td>0.40</td>\n",
       "      <td>17</td>\n",
       "      <td>17</td>\n",
       "      <td>0</td>\n",
       "    </tr>\n",
       "    <tr>\n",
       "      <th>17</th>\n",
       "      <td>Deportivo La Coruña</td>\n",
       "      <td>72.46</td>\n",
       "      <td>103.13</td>\n",
       "      <td>-30.67</td>\n",
       "      <td>0.34</td>\n",
       "      <td>18</td>\n",
       "      <td>18</td>\n",
       "      <td>0</td>\n",
       "    </tr>\n",
       "    <tr>\n",
       "      <th>18</th>\n",
       "      <td>Málaga</td>\n",
       "      <td>58.85</td>\n",
       "      <td>95.71</td>\n",
       "      <td>-36.86</td>\n",
       "      <td>0.29</td>\n",
       "      <td>19</td>\n",
       "      <td>20</td>\n",
       "      <td>-1</td>\n",
       "    </tr>\n",
       "    <tr>\n",
       "      <th>19</th>\n",
       "      <td>Las Palmas</td>\n",
       "      <td>59.13</td>\n",
       "      <td>107.67</td>\n",
       "      <td>-48.54</td>\n",
       "      <td>0.25</td>\n",
       "      <td>20</td>\n",
       "      <td>19</td>\n",
       "      <td>1</td>\n",
       "    </tr>\n",
       "  </tbody>\n",
       "</table>\n",
       "</div>"
      ],
      "text/plain": [
       "                 Equipo  VaepAFav  VaepCon  DifVaep  ExpVaep PosExp Pos Error\n",
       "0             Barcelona    134.33    69.29    65.03     0.77      1   1     0\n",
       "1           Real Madrid    128.36    86.50    41.86     0.68      2   3    -1\n",
       "2       Atlético Madrid     93.40    63.24    30.16     0.67      3   2     1\n",
       "3              Valencia     97.12    75.95    21.17     0.61      4   4     0\n",
       "4            Villarreal     92.78    82.41    10.37     0.55      5   5     0\n",
       "5         Real Sociedad     96.93    88.00     8.94     0.54      6  12    -6\n",
       "6         Celta de Vigo     96.70    92.23     4.47     0.52      7  13    -6\n",
       "7                 Eibar     75.68    76.26    -0.58     0.50      8  10    -2\n",
       "8                Getafe     67.76    68.40    -0.64     0.50      9   8     1\n",
       "9            Real Betis     91.22    92.12    -0.90     0.50     10   6     4\n",
       "10     Deportivo Alavés     79.20    80.95    -1.75     0.49     11  14    -3\n",
       "11              Sevilla     90.38    97.19    -6.81     0.47     12   7     5\n",
       "12             Espanyol     69.08    74.40    -5.31     0.47     13  11     2\n",
       "13               Girona     86.89    95.04    -8.15     0.46     14   9     5\n",
       "14        Athletic Club     70.50    81.10   -10.60     0.44     15  16    -1\n",
       "15              Levante     74.60    89.97   -15.37     0.41     16  15     1\n",
       "16              Leganés     66.03    81.83   -15.80     0.40     17  17     0\n",
       "17  Deportivo La Coruña     72.46   103.13   -30.67     0.34     18  18     0\n",
       "18               Málaga     58.85    95.71   -36.86     0.29     19  20    -1\n",
       "19           Las Palmas     59.13   107.67   -48.54     0.25     20  19     1"
      ]
     },
     "execution_count": 33,
     "metadata": {},
     "output_type": "execute_result"
    }
   ],
   "source": [
    "# Grafico para el informe en español\n",
    "\n",
    "import copy\n",
    "\n",
    "aux=competitionData[['short_team_name','totalVAEP','totalVAEPAgainst','TotalVaepDiff','pythVaep','TPositionPythVaepVAEP','TablePosition','ErrorPythVaep' ]]\n",
    "mydata= pd.DataFrame(columns = aux.columns, data = copy.deepcopy(aux.values))\n",
    "mydata['Equipo']=mydata['short_team_name']\n",
    "mydata['VaepAFav']=mydata['totalVAEP'].astype(float).round(2)\n",
    "mydata['VaepCon']=mydata['totalVAEPAgainst'].astype(float).round(2)\n",
    "mydata['DifVaep']=mydata['TotalVaepDiff'].astype(float).round(2)\n",
    "mydata['ExpVaep']=mydata['pythVaep'].astype(float).round(2)\n",
    "mydata['PosExp']=mydata['TPositionPythVaepVAEP']\n",
    "mydata['Pos']=mydata['TablePosition']\n",
    "mydata['Error']=mydata['ErrorPythVaep']\n",
    "\n",
    "mydata=mydata[['Equipo','VaepAFav','VaepCon','DifVaep','ExpVaep','PosExp','Pos','Error' ]]\n",
    "\n",
    "\n",
    "mydata=mydata.sort_values('PosExp')\n",
    "\n",
    "gfg_csv_data = mydata.to_csv('/dataset/vaep/CSVs/TablaDePosicionesVaep'+League+'.csv', index = False)\n",
    "\n",
    "mydata.head(20)\n",
    "\n"
   ]
  },
  {
   "cell_type": "markdown",
   "metadata": {},
   "source": [
    "### Análisis de victorias y derrotas "
   ]
  },
  {
   "cell_type": "markdown",
   "metadata": {},
   "source": [
    "En esta sección se analiza la relación entre la diferencia del VAEP a favor y en contra con la diferencia de goles por partido. Se prueba que mientras mayor sea la diferencia de VAEP, mayor será la diferencia de gol a favor, con lo cual, la probabilidad de ganar aumenta."
   ]
  },
  {
   "cell_type": "code",
   "execution_count": 34,
   "metadata": {},
   "outputs": [],
   "source": [
    "# Esta query calcula la diferencia de vaep total a favor y en contra por partido por equipo\n",
    "\n",
    "query='''\n",
    "\n",
    "select team1data.game_id ,team_id,short_team_name, team_id2,short_team_name2, sum(totalVAEP) - sum(totalVAEP2) as totalVAEPDiff\n",
    "from\n",
    "(\n",
    "SELECT game_id, team_id, short_team_name, sum(offensive_value) as offensiveVAEP, sum(defensive_value) as defensiveVAEP, sum(vaep_value) as totalVAEP\n",
    "FROM eventsAnalysis\n",
    "group by game_id, team_id, short_team_name\n",
    ") as team1data\n",
    "\n",
    "join\n",
    "\n",
    "(\n",
    "SELECT game_id, team_id as team_id2, short_team_name as short_team_name2, sum(offensive_value) as offensiveVAEP2, sum(defensive_value) as defensiveVAEP2, sum(vaep_value) as totalVAEP2\n",
    "FROM eventsAnalysis\n",
    "group by game_id, team_id, short_team_name\n",
    ") as team2data\n",
    "\n",
    "on team1data.game_id=team2data.game_id\n",
    "where team_id<>team_id2\n",
    "group by team1data.game_id ,team_id,short_team_name, team_id2,short_team_name2\n",
    "order by totalVAEPDiff desc\n",
    "\n",
    "\n",
    "\n",
    "\n",
    "'''"
   ]
  },
  {
   "cell_type": "code",
   "execution_count": 35,
   "metadata": {},
   "outputs": [
    {
     "name": "stdout",
     "output_type": "stream",
     "text": [
      "+-------+-------+---------------+--------+-------------------+-----------------+\n",
      "|game_id|team_id|short_team_name|team_id2|   short_team_name2|    totalVAEPDiff|\n",
      "+-------+-------+---------------+--------+-------------------+-----------------+\n",
      "|2576186|   3159|       Juventus|    3315|           Sassuolo|6.810431888559833|\n",
      "|2565738|    675|    Real Madrid|     677|Deportivo La Coruña|6.391430085001048|\n",
      "|2499794|   1625|Manchester City|    1639|         Stoke City|6.107440480380319|\n",
      "|2565595|    674|       Valencia|     683|             Málaga|5.254037733713631|\n",
      "|2500080|   1609|        Arsenal|    1646|            Burnley|5.253435037680902|\n",
      "+-------+-------+---------------+--------+-------------------+-----------------+\n",
      "only showing top 5 rows\n",
      "\n"
     ]
    }
   ],
   "source": [
    "vaepdifPerGame = spark.sql(query)\n",
    "vaepdifPerGame.show(5)"
   ]
  },
  {
   "cell_type": "code",
   "execution_count": 36,
   "metadata": {},
   "outputs": [
    {
     "data": {
      "text/plain": [
       "2280"
      ]
     },
     "execution_count": 36,
     "metadata": {},
     "output_type": "execute_result"
    }
   ],
   "source": [
    "# Notar que la cantidad de partidos se duplica porque se hace desde el punto de vista de ambos equipos\n",
    "vaepdifPerGame.count()"
   ]
  },
  {
   "cell_type": "code",
   "execution_count": 37,
   "metadata": {},
   "outputs": [],
   "source": [
    "vaepdifPerGame.createOrReplaceTempView(\"vaepdifPerGame\")"
   ]
  },
  {
   "cell_type": "code",
   "execution_count": 38,
   "metadata": {},
   "outputs": [],
   "source": [
    "# Esta query agrega a cada partido la diferencia de goles y si se ganó o no el partido\n",
    "\n",
    "query='''\n",
    "\n",
    "SELECT vaepdifPerGame.game_id, vaepdifPerGame.team_id, vaepdifPerGame.short_team_name, vaepdifPerGame.team_id2, vaepdifPerGame.short_team_name2, vaepdifPerGame.totalVAEPDiff,\n",
    "case when winner=vaepdifPerGame.team_Id then 'Win' else (case when winner=0 then 'Draw' else 'Lose' END ) END as result,\n",
    "case when winner=vaepdifPerGame.team_Id then 1 else 0 END as winflag,\n",
    "case when matches.team1_teamId=vaepdifPerGame.team_id then (matches.team1_score-matches.team2_score) else (matches.team2_score-matches.team1_score) END as goaldiff\n",
    "\n",
    "\n",
    "FROM matches join vaepdifPerGame on matches.wyId=vaepdifPerGame.game_id\n",
    "\n",
    "'''"
   ]
  },
  {
   "cell_type": "code",
   "execution_count": 39,
   "metadata": {},
   "outputs": [
    {
     "name": "stdout",
     "output_type": "stream",
     "text": [
      "+-------+-------+---------------+--------+-------------------+-----------------+------+-------+--------+\n",
      "|game_id|team_id|short_team_name|team_id2|   short_team_name2|    totalVAEPDiff|result|winflag|goaldiff|\n",
      "+-------+-------+---------------+--------+-------------------+-----------------+------+-------+--------+\n",
      "|2576186|   3159|       Juventus|    3315|           Sassuolo|6.810431888559833|   Win|      1|       7|\n",
      "|2565738|    675|    Real Madrid|     677|Deportivo La Coruña|6.391430085001048|   Win|      1|       6|\n",
      "|2499794|   1625|Manchester City|    1639|         Stoke City|6.107440480380319|   Win|      1|       5|\n",
      "|2565595|    674|       Valencia|     683|             Málaga|5.254037733713631|   Win|      1|       5|\n",
      "|2500080|   1609|        Arsenal|    1646|            Burnley|5.253435037680902|   Win|      1|       5|\n",
      "+-------+-------+---------------+--------+-------------------+-----------------+------+-------+--------+\n",
      "only showing top 5 rows\n",
      "\n"
     ]
    }
   ],
   "source": [
    "fullVaepPerMatch = spark.sql(query)\n",
    "fullVaepPerMatch.show(5)"
   ]
  },
  {
   "cell_type": "code",
   "execution_count": 40,
   "metadata": {},
   "outputs": [
    {
     "name": "stdout",
     "output_type": "stream",
     "text": [
      "+-------+-------+--------------------+--------+--------------------+-------------------+------+-------+--------+\n",
      "|game_id|team_id|     short_team_name|team_id2|    short_team_name2|      totalVAEPDiff|result|winflag|goaldiff|\n",
      "+-------+-------+--------------------+--------+--------------------+-------------------+------+-------+--------+\n",
      "|2499997|   1644|             Watford|    1623|             Everton| 1.3710207622498274|  Draw|      0|       1|\n",
      "|2565862|    698|              Getafe|     691|            Espanyol| 0.8400223162025213|  Draw|      0|       1|\n",
      "|2500012|   1623|             Everton|    1651|Brighton & Hove A...| 0.2783736549317837|  Draw|      0|       2|\n",
      "|2500012|   1651|Brighton & Hove A...|    1623|             Everton|-0.2783736549317837|  Draw|      0|      -2|\n",
      "|2565862|    691|            Espanyol|     698|              Getafe|-0.8400223162025213|  Draw|      0|      -1|\n",
      "|2499997|   1623|             Everton|    1644|             Watford|-1.3710207622498274|  Draw|      0|      -1|\n",
      "+-------+-------+--------------------+--------+--------------------+-------------------+------+-------+--------+\n",
      "\n"
     ]
    }
   ],
   "source": [
    "# hay que corregir un par de valores que vienen mal del dataset\n",
    "fullVaepPerMatch.where((fullVaepPerMatch.result == 'Draw') & (fullVaepPerMatch.goaldiff!=0)).show()"
   ]
  },
  {
   "cell_type": "code",
   "execution_count": 41,
   "metadata": {},
   "outputs": [
    {
     "name": "stdout",
     "output_type": "stream",
     "text": [
      "+-------+-------+---------------+--------+--------------------+------------------+------+-------+--------+\n",
      "|game_id|team_id|short_team_name|team_id2|    short_team_name2|     totalVAEPDiff|result|winflag|goaldiff|\n",
      "+-------+-------+---------------+--------+--------------------+------------------+------+-------+--------+\n",
      "|2499997|   1644|        Watford|    1623|             Everton|1.3710207622498274|  Draw|      0|       1|\n",
      "|2565862|    698|         Getafe|     691|            Espanyol|0.8400223162025213|  Draw|      0|       1|\n",
      "|2500012|   1623|        Everton|    1651|Brighton & Hove A...|0.2783736549317837|  Draw|      0|       2|\n",
      "+-------+-------+---------------+--------+--------------------+------------------+------+-------+--------+\n",
      "\n"
     ]
    }
   ],
   "source": [
    "fullVaepPerMatch.where((fullVaepPerMatch.result == 'Draw') & (fullVaepPerMatch.goaldiff>0)).show()"
   ]
  },
  {
   "cell_type": "code",
   "execution_count": 42,
   "metadata": {},
   "outputs": [],
   "source": [
    "#se corrigen los valores errados\n",
    "\n",
    "fullVaepPerMatch = fullVaepPerMatch.withColumn(\"result\", when(fullVaepPerMatch.goaldiff >0,\"Win\") \\\n",
    "      .when(fullVaepPerMatch.goaldiff < 0,\"Lose\") \\\n",
    "      .otherwise(fullVaepPerMatch.result))\n",
    "\n",
    "fullVaepPerMatch = fullVaepPerMatch.withColumn(\"winflag\", when(fullVaepPerMatch.goaldiff >0, 1) \\\n",
    "      .when(fullVaepPerMatch.goaldiff < 0, 0) \\\n",
    "      .otherwise(fullVaepPerMatch.winflag))\n"
   ]
  },
  {
   "cell_type": "code",
   "execution_count": 43,
   "metadata": {},
   "outputs": [
    {
     "data": {
      "image/png": "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\n",
      "text/plain": [
       "<Figure size 432x288 with 2 Axes>"
      ]
     },
     "metadata": {
      "needs_background": "light"
     },
     "output_type": "display_data"
    }
   ],
   "source": [
    "# Se muestra la alta correlación entre la diferencia de goles y la diferencia de VAEP por partido\n",
    "\n",
    "g = sns.heatmap(fullVaepPerMatch.select('totalVAEPDiff', 'goaldiff').toPandas().corr(),\n",
    "                annot=True, fmt = \".3f\", cmap = \"coolwarm\")"
   ]
  },
  {
   "cell_type": "code",
   "execution_count": 44,
   "metadata": {},
   "outputs": [
    {
     "data": {
      "image/png": "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\n",
      "text/plain": [
       "<Figure size 424.375x360 with 1 Axes>"
      ]
     },
     "metadata": {
      "needs_background": "light"
     },
     "output_type": "display_data"
    }
   ],
   "source": [
    "mydata=fullVaepPerMatch.toPandas()\n",
    "g=sns.relplot(x=\"totalVAEPDiff\", y=\"goaldiff\", data=mydata ,hue='result')\n",
    "\n",
    "# En este gráfico puede observarse que a mayor diferencia de VAEP hay mayor diferencia de gol. Para valores de VAEP muy \n",
    "# altos el equipo gana los partidos, pero para los valores cercanos a cero pueden darse tanto empates victorias y derrotas."
   ]
  },
  {
   "cell_type": "code",
   "execution_count": 45,
   "metadata": {},
   "outputs": [
    {
     "data": {
      "image/png": "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\n",
      "text/plain": [
       "<Figure size 445.375x360 with 1 Axes>"
      ]
     },
     "metadata": {
      "needs_background": "light"
     },
     "output_type": "display_data"
    }
   ],
   "source": [
    "# Grafico para el informe en español\n",
    "import copy\n",
    "\n",
    "aux=fullVaepPerMatch.toPandas().sample(frac =1, random_state = 2)\n",
    "mydata= pd.DataFrame(columns = aux.columns, data = copy.deepcopy(aux.values))\n",
    "\n",
    "#mydata=fullVaepPerMatch.toPandas().sample(frac =1, random_state = 2) # El sample esta para que dibuje bien el grafico\n",
    "mydata['Resultado']=mydata['result']\n",
    "mydata['Resultado'].mask(mydata['result'] == \"Win\", \"Victoria\", inplace=True)\n",
    "mydata['Resultado'].mask(mydata['result'] == \"Lose\", \"Derrota\", inplace=True)\n",
    "mydata['Resultado'].mask(mydata['result'] == \"Draw\", \"Empate\", inplace=True)\n",
    "\n",
    "mydata['Diferencia de puntuacion VAEP']=mydata['totalVAEPDiff']\n",
    "mydata['Diferencia de gol']=mydata['goaldiff']\n",
    "\n",
    "g=sns.relplot(x=\"Diferencia de puntuacion VAEP\", y=\"Diferencia de gol\", data=mydata ,hue='Resultado')\n",
    "g.savefig('/dataset/vaep/Images/goaldiffTotalVaepDiff.eps', format='eps')\n",
    "g.savefig('/dataset/vaep/Images/goaldiffTotalVaepDiff.png', dpi=1000)"
   ]
  },
  {
   "cell_type": "markdown",
   "metadata": {},
   "source": [
    "### Análisis de probabilidad de victoria "
   ]
  },
  {
   "cell_type": "markdown",
   "metadata": {},
   "source": [
    "En esta sección se utilizan una regresión logística para mostrar como varia la probabilidad de victoria en base al valor de la diferencia de VAEP.\n",
    "\n",
    "**Nota:** De la misma manera que se puede usar una regresión con todos los puntos para mostrar como una recta ajusta los datos, en este ejercicio se usa una regresión logística con todos los datos para mostrar como ajusta la curva a todos los datos (no hay train y test) y utilizando esa curva se analizan las probabilidades de victoria. Para ver cómo funciona el índice como predictor mirar el script de predicción.\n"
   ]
  },
  {
   "cell_type": "code",
   "execution_count": 46,
   "metadata": {},
   "outputs": [
    {
     "name": "stdout",
     "output_type": "stream",
     "text": [
      "+-------+------+------------------+\n",
      "|winflag|result|     totalVAEPDiff|\n",
      "+-------+------+------------------+\n",
      "|      1|   Win| 6.810431888559833|\n",
      "|      1|   Win| 6.391430085001048|\n",
      "|      1|   Win| 6.107440480380319|\n",
      "|      1|   Win| 5.254037733713631|\n",
      "|      1|   Win| 5.253435037680902|\n",
      "|      1|   Win| 5.197848386596888|\n",
      "|      1|   Win| 5.196365279320162|\n",
      "|      1|   Win| 5.156921313144267|\n",
      "|      1|   Win| 5.138717727269977|\n",
      "|      1|   Win| 5.084834983048495|\n",
      "|      1|   Win|5.0703606777242385|\n",
      "|      1|   Win| 5.058232673909515|\n",
      "|      1|   Win| 5.025967113557272|\n",
      "|      1|   Win| 4.988158743595704|\n",
      "|      1|   Win| 4.967536365264095|\n",
      "|      1|   Win| 4.889950550626963|\n",
      "|      1|   Win| 4.863394259416964|\n",
      "|      1|   Win| 4.857641160022467|\n",
      "|      1|   Win| 4.654069984040689|\n",
      "|      1|   Win| 4.619656831491739|\n",
      "+-------+------+------------------+\n",
      "only showing top 20 rows\n",
      "\n"
     ]
    }
   ],
   "source": [
    "df=fullVaepPerMatch.select('winflag','result','totalVAEPDiff')\n",
    "df.show()"
   ]
  },
  {
   "cell_type": "code",
   "execution_count": 47,
   "metadata": {},
   "outputs": [],
   "source": [
    "feature_cols=['totalVAEPDiff']"
   ]
  },
  {
   "cell_type": "code",
   "execution_count": 48,
   "metadata": {},
   "outputs": [
    {
     "name": "stdout",
     "output_type": "stream",
     "text": [
      "+--------------------+\n",
      "|            features|\n",
      "+--------------------+\n",
      "| [6.810431888559833]|\n",
      "| [6.391430085001048]|\n",
      "| [6.107440480380319]|\n",
      "| [5.254037733713631]|\n",
      "| [5.253435037680902]|\n",
      "| [5.197848386596888]|\n",
      "| [5.196365279320162]|\n",
      "| [5.156921313144267]|\n",
      "| [5.138717727269977]|\n",
      "| [5.084834983048495]|\n",
      "|[5.0703606777242385]|\n",
      "| [5.058232673909515]|\n",
      "| [5.025967113557272]|\n",
      "| [4.988158743595704]|\n",
      "| [4.967536365264095]|\n",
      "| [4.889950550626963]|\n",
      "| [4.863394259416964]|\n",
      "| [4.857641160022467]|\n",
      "| [4.654069984040689]|\n",
      "| [4.619656831491739]|\n",
      "+--------------------+\n",
      "only showing top 20 rows\n",
      "\n"
     ]
    }
   ],
   "source": [
    "from pyspark.ml.feature import VectorAssembler\n",
    "\n",
    "assembler = VectorAssembler(inputCols=feature_cols, outputCol='features')\n",
    "df = assembler.transform(df)\n",
    "df.select('features').show()"
   ]
  },
  {
   "cell_type": "code",
   "execution_count": 49,
   "metadata": {},
   "outputs": [],
   "source": [
    "#Se utilizan todos los datos para generar la curva\n",
    "\n",
    "from pyspark.ml.classification import LogisticRegression\n",
    "\n",
    "lr = LogisticRegression(labelCol='winflag', featuresCol='features')\n",
    "lrm = lr.fit(df)\n"
   ]
  },
  {
   "cell_type": "code",
   "execution_count": 50,
   "metadata": {},
   "outputs": [
    {
     "data": {
      "text/plain": [
       "DenseVector([3.4234])"
      ]
     },
     "execution_count": 50,
     "metadata": {},
     "output_type": "execute_result"
    }
   ],
   "source": [
    "#Obtengo el coeficiente\n",
    "lrm.coefficients"
   ]
  },
  {
   "cell_type": "code",
   "execution_count": 51,
   "metadata": {},
   "outputs": [
    {
     "data": {
      "text/plain": [
       "-1.704742935549201"
      ]
     },
     "execution_count": 51,
     "metadata": {},
     "output_type": "execute_result"
    }
   ],
   "source": [
    "#obtengo el termino indepeindiente\n",
    "lrm.intercept"
   ]
  },
  {
   "cell_type": "code",
   "execution_count": 52,
   "metadata": {},
   "outputs": [],
   "source": [
    "#La formula queda como p=1/(1+e-(intercept+coefficients*x))"
   ]
  },
  {
   "cell_type": "code",
   "execution_count": 53,
   "metadata": {},
   "outputs": [
    {
     "data": {
      "text/plain": [
       "0.918859649122807"
      ]
     },
     "execution_count": 53,
     "metadata": {},
     "output_type": "execute_result"
    }
   ],
   "source": [
    "# Pude observarse que la curva ajusta bastante bien los datos\n",
    "lrm.summary.accuracy"
   ]
  },
  {
   "cell_type": "code",
   "execution_count": 54,
   "metadata": {},
   "outputs": [
    {
     "data": {
      "text/plain": [
       "0.9694162453085905"
      ]
     },
     "execution_count": 54,
     "metadata": {},
     "output_type": "execute_result"
    }
   ],
   "source": [
    "# El indice ROC tambien da bien\n",
    "lrm.summary.areaUnderROC"
   ]
  },
  {
   "cell_type": "code",
   "execution_count": 55,
   "metadata": {},
   "outputs": [],
   "source": [
    "pred_df = lrm.transform(df)"
   ]
  },
  {
   "cell_type": "code",
   "execution_count": 56,
   "metadata": {},
   "outputs": [
    {
     "data": {
      "text/plain": [
       "0.9694105439428716"
      ]
     },
     "execution_count": 56,
     "metadata": {},
     "output_type": "execute_result"
    }
   ],
   "source": [
    "# Reviso que de el mismo valor para estar seguro que los datos están bien\n",
    "\n",
    "from pyspark.ml.evaluation import BinaryClassificationEvaluator\n",
    "\n",
    "evaluator = BinaryClassificationEvaluator(labelCol='winflag')\n",
    "evaluator.evaluate(pred_df)"
   ]
  },
  {
   "cell_type": "code",
   "execution_count": 57,
   "metadata": {},
   "outputs": [
    {
     "name": "stdout",
     "output_type": "stream",
     "text": [
      "+-------+------+--------------------+--------------------+--------------------+--------------------+----------+\n",
      "|winflag|result|       totalVAEPDiff|            features|       rawPrediction|         probability|prediction|\n",
      "+-------+------+--------------------+--------------------+--------------------+--------------------+----------+\n",
      "|      0|  Lose|   -1.24479228281416| [-1.24479228281416]|[5.96621656998565...|[0.99744263337556...|       0.0|\n",
      "|      1|   Win|    1.24479228281416|  [1.24479228281416]|[-2.5567306988872...|[0.07197561028413...|       1.0|\n",
      "|      0|  Lose| -0.7239726117695682|[-0.7239726117695...|[4.18322086291494...|[0.98497973625579...|       0.0|\n",
      "|      1|   Win|  0.7239726117695682|[0.7239726117695682]|[-0.7737349918165...|[0.31567170689902...|       1.0|\n",
      "|      0|  Lose| -1.7041606863494962|[-1.7041606863494...|[7.53883745395627...|[0.99946826713502...|       0.0|\n",
      "|      1|   Win|  1.7041606863494962|[1.7041606863494962]|[-4.1293515828578...|[0.01583841803743...|       1.0|\n",
      "|      0|  Lose| -1.0604248164454475|[-1.0604248164454...|[5.33504532332440...|[0.99520342634319...|       0.0|\n",
      "|      1|   Win|  1.0604248164454475|[1.0604248164454475]|[-1.9255594522260...|[0.12724289675002...|       1.0|\n",
      "|      0|  Lose|  -4.207959827734157|[-4.207959827734157]|[16.1104474922298...|[0.99999989923226...|       0.0|\n",
      "|      1|   Win|   4.207959827734157| [4.207959827734157]|[-12.700961621131...|[3.04818365003215...|       1.0|\n",
      "|      0|  Draw| -0.5785050659906119|[-0.5785050659906...|[3.68522122107771...|[0.97552255550353...|       0.0|\n",
      "|      0|  Draw|  0.5785050659906119|[0.5785050659906119]|[-0.2757353499793...|[0.43149962043236...|       1.0|\n",
      "|      0|  Draw| -0.4679280621930957|[-0.4679280621930...|[3.30666731070739...|[0.96465683177700...|       0.0|\n",
      "|      0|  Draw|  0.4679280621930957|[0.4679280621930957]|[0.10281856039100...|[0.52568201895990...|       0.0|\n",
      "|      0|  Lose| -0.5661443413700908|[-0.5661443413700...|[3.64290500270126...|[0.97449152327108...|       0.0|\n",
      "|      1|   Win|  0.5661443413700908|[0.5661443413700908]|[-0.2334191316028...|[0.44190873398763...|       1.0|\n",
      "|      0|  Lose| -1.8572254151222296|[-1.8572254151222...|[8.06284560779261...|[0.99968507013265...|       0.0|\n",
      "|      1|   Win|  1.8572254151222296|[1.8572254151222296]|[-4.6533597366942...|[0.00943957662856...|       1.0|\n",
      "|      0|  Draw|-0.43181187694426626|[-0.4318118769442...|[3.18302566114128...|[0.96019048226910...|       0.0|\n",
      "|      0|  Draw| 0.43181187694426626|[0.43181187694426...|[0.22646020995711...|[0.55637433199819...|       0.0|\n",
      "+-------+------+--------------------+--------------------+--------------------+--------------------+----------+\n",
      "only showing top 20 rows\n",
      "\n"
     ]
    }
   ],
   "source": [
    "pred_df.show()"
   ]
  },
  {
   "cell_type": "code",
   "execution_count": 58,
   "metadata": {},
   "outputs": [
    {
     "data": {
      "text/html": [
       "<div>\n",
       "<style scoped>\n",
       "    .dataframe tbody tr th:only-of-type {\n",
       "        vertical-align: middle;\n",
       "    }\n",
       "\n",
       "    .dataframe tbody tr th {\n",
       "        vertical-align: top;\n",
       "    }\n",
       "\n",
       "    .dataframe thead th {\n",
       "        text-align: right;\n",
       "    }\n",
       "</style>\n",
       "<table border=\"1\" class=\"dataframe\">\n",
       "  <thead>\n",
       "    <tr style=\"text-align: right;\">\n",
       "      <th></th>\n",
       "      <th>result</th>\n",
       "      <th>probability</th>\n",
       "      <th>totalVAEPDiff</th>\n",
       "      <th>winProb</th>\n",
       "    </tr>\n",
       "  </thead>\n",
       "  <tbody>\n",
       "    <tr>\n",
       "      <th>0</th>\n",
       "      <td>Win</td>\n",
       "      <td>[4.118455839508175e-10, 0.9999999995881543]</td>\n",
       "      <td>6.810432</td>\n",
       "      <td>1.0</td>\n",
       "    </tr>\n",
       "    <tr>\n",
       "      <th>1</th>\n",
       "      <td>Win</td>\n",
       "      <td>[1.7286165223894553e-09, 0.9999999982713834]</td>\n",
       "      <td>6.391430</td>\n",
       "      <td>1.0</td>\n",
       "    </tr>\n",
       "    <tr>\n",
       "      <th>2</th>\n",
       "      <td>Win</td>\n",
       "      <td>[4.5701370921491275e-09, 0.9999999954298628]</td>\n",
       "      <td>6.107440</td>\n",
       "      <td>1.0</td>\n",
       "    </tr>\n",
       "    <tr>\n",
       "      <th>3</th>\n",
       "      <td>Win</td>\n",
       "      <td>[8.486973509855759e-08, 0.9999999151302649]</td>\n",
       "      <td>5.254038</td>\n",
       "      <td>1.0</td>\n",
       "    </tr>\n",
       "    <tr>\n",
       "      <th>4</th>\n",
       "      <td>Win</td>\n",
       "      <td>[8.504502713110721e-08, 0.9999999149549729]</td>\n",
       "      <td>5.253435</td>\n",
       "      <td>1.0</td>\n",
       "    </tr>\n",
       "  </tbody>\n",
       "</table>\n",
       "</div>"
      ],
      "text/plain": [
       "  result                                   probability  totalVAEPDiff  winProb\n",
       "0    Win   [4.118455839508175e-10, 0.9999999995881543]       6.810432      1.0\n",
       "1    Win  [1.7286165223894553e-09, 0.9999999982713834]       6.391430      1.0\n",
       "2    Win  [4.5701370921491275e-09, 0.9999999954298628]       6.107440      1.0\n",
       "3    Win   [8.486973509855759e-08, 0.9999999151302649]       5.254038      1.0\n",
       "4    Win   [8.504502713110721e-08, 0.9999999149549729]       5.253435      1.0"
      ]
     },
     "execution_count": 58,
     "metadata": {},
     "output_type": "execute_result"
    }
   ],
   "source": [
    "# Se obtiene la probabilidad de ganar y se la agrega a un dataframe de pandas con el resultado y la diferencia de VAEP\n",
    "\n",
    "probWin=pred_df.select(\"result\",\"probability\",\"totalVAEPDiff\").toPandas()\n",
    "probWin['winProb']=probWin['probability'].str[1]\n",
    "probWin.head()"
   ]
  },
  {
   "cell_type": "code",
   "execution_count": 59,
   "metadata": {},
   "outputs": [
    {
     "data": {
      "image/png": "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\n",
      "text/plain": [
       "<Figure size 360x360 with 1 Axes>"
      ]
     },
     "metadata": {
      "needs_background": "light"
     },
     "output_type": "display_data"
    }
   ],
   "source": [
    "# Puede verse que la curva de probabilidades tiene una pendiente muy empinada lo que implica que, cerca del cero, pequeños\n",
    "# dambios de la diferencia de vaep hace cambiar mucho la probabilidad de ganar.\n",
    "\n",
    "g=sns.relplot(x=\"totalVAEPDiff\", y='winProb', data =probWin, kind=\"line\")"
   ]
  },
  {
   "cell_type": "code",
   "execution_count": 60,
   "metadata": {},
   "outputs": [
    {
     "data": {
      "image/png": "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\n",
      "text/plain": [
       "<Figure size 360x360 with 1 Axes>"
      ]
     },
     "metadata": {
      "needs_background": "light"
     },
     "output_type": "display_data"
    }
   ],
   "source": [
    "# Grafico para el informe en español\n",
    "\n",
    "mydata=probWin\n",
    "\n",
    "mydata['Probabilidad de ganar']=mydata['winProb']\n",
    "mydata['Diferencia de puntuación VAEP']=mydata['totalVAEPDiff']\n",
    "\n",
    "g=sns.relplot(x=\"Diferencia de puntuación VAEP\", y='Probabilidad de ganar', data =mydata, kind=\"line\")\n",
    "g.savefig('/dataset/vaep/Images/WinProbTotalVaepDiff.eps', format='eps')\n",
    "g.savefig('/dataset/vaep/Images/WinProbTotalVaepDiff.png', dpi=1000)"
   ]
  },
  {
   "cell_type": "code",
   "execution_count": 61,
   "metadata": {},
   "outputs": [
    {
     "data": {
      "image/png": "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\n",
      "text/plain": [
       "<Figure size 1144.38x360 with 3 Axes>"
      ]
     },
     "metadata": {
      "needs_background": "light"
     },
     "output_type": "display_data"
    }
   ],
   "source": [
    "# En este gráfico, al igual que el que se realizó en la sección anterior puede verse como cerca del cero hay tanto empates \n",
    "# victorias y derrotas y al alejarse del cero quedan solo derrotas o victorias dependiendo del sentido.\n",
    "\n",
    "probWin2=probWin\n",
    "g=sns.relplot(x=\"totalVAEPDiff\", y='winProb', data =probWin2, hue='result', col=\"result\")"
   ]
  },
  {
   "cell_type": "code",
   "execution_count": 62,
   "metadata": {},
   "outputs": [
    {
     "data": {
      "image/png": "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\n",
      "text/plain": [
       "<Figure size 1165.38x360 with 3 Axes>"
      ]
     },
     "metadata": {
      "needs_background": "light"
     },
     "output_type": "display_data"
    }
   ],
   "source": [
    "# Grafico para el informe en español\n",
    "\n",
    "import copy\n",
    "\n",
    "aux=probWin.sample(frac =1, random_state = 2)\n",
    "mydata= pd.DataFrame(columns = aux.columns, data = copy.deepcopy(aux.values))\n",
    "\n",
    "\n",
    "#mydata=probWin.sample(frac =1, random_state = 2) # El sample esta para que dibuje bien el grafico\n",
    "mydata['Resultado']=mydata['result']\n",
    "mydata['Resultado'].mask(mydata['result'] == \"Win\", \"Victoria\", inplace=True)\n",
    "mydata['Resultado'].mask(mydata['result'] == \"Lose\", \"Derrota\", inplace=True)\n",
    "mydata['Resultado'].mask(mydata['result'] == \"Draw\", \"Empate\", inplace=True)\n",
    "\n",
    "mydata['Probabilidad de ganar']=mydata['winProb']\n",
    "mydata['Diferencia de puntuación VAEP']=mydata['totalVAEPDiff']\n",
    "\n",
    "g=sns.relplot(x=\"Diferencia de puntuación VAEP\", y='Probabilidad de ganar', data =mydata, hue='Resultado', col=\"Resultado\")\n",
    "g.savefig('/dataset/vaep/Images/WinProbTotalVaepDiffDesglosado.eps', format='eps')\n",
    "g.savefig('/dataset/vaep/Images/WinProbTotalVaepDiffDesglosado.png', dpi=1000)"
   ]
  },
  {
   "cell_type": "code",
   "execution_count": 63,
   "metadata": {},
   "outputs": [
    {
     "data": {
      "text/plain": [
       "0.8189646690152586"
      ]
     },
     "execution_count": 63,
     "metadata": {},
     "output_type": "execute_result"
    }
   ],
   "source": [
    "# Se calcula la diferencia de VAEP que tiene que haber para tener 75% de probabilidad de ganar\n",
    "\n",
    "thr=0.75\n",
    "probWin[probWin.winProb>thr]['totalVAEPDiff'].min()"
   ]
  },
  {
   "cell_type": "code",
   "execution_count": 64,
   "metadata": {},
   "outputs": [
    {
     "data": {
      "text/plain": [
       "713"
      ]
     },
     "execution_count": 64,
     "metadata": {},
     "output_type": "execute_result"
    }
   ],
   "source": [
    "# Se calculan cuantos partidos hubo donde la probabilidad de ganar fue mayor que 75%\n",
    "\n",
    "probWin[probWin.winProb>thr]['totalVAEPDiff'].count()"
   ]
  },
  {
   "cell_type": "markdown",
   "metadata": {},
   "source": [
    "### Conclusión:"
   ]
  },
  {
   "cell_type": "markdown",
   "metadata": {},
   "source": [
    "Se ha demostrado que el índice VAEP es válido para la evaluación del desempeño a largo plazo de un equipo dada su relación casi lineal con el porcentaje de victorias.\n",
    "\n",
    "La principal ventaja del índice es que al ser generado por las acciones de los jugadores este permite mostrar cuando contribuye cada jugador a la victoria (un análisis de los goles a favor o en contra no tiene esta ventaja). Para más ver graficas en superset. \n",
    "\n",
    "En cuanto a la evaluación de partidos individuales, la diferencia entre el índice vaep generado por un equipo y otro durante el partido tiene una alta correlación con la diferencia de goles. Para diferencias altas de VAEP es prácticamente seguro que el equipo ganará o perderá (dependiendo de si la diferencia es a favor o en contra). Para diferencias bajas cualquiera de los tres resultados puede darse y el índice no es un estimador lo suficientemente fuerte por sí solo para decir quien ganara.  "
   ]
  },
  {
   "cell_type": "markdown",
   "metadata": {},
   "source": [
    "## Anexo: Estadisticas de jugadores"
   ]
  },
  {
   "cell_type": "code",
   "execution_count": 65,
   "metadata": {},
   "outputs": [],
   "source": [
    "# Esta seccion se agrega para generar estadisticas de jugadores para el informe\n",
    "\n",
    "\n",
    "query='''\n",
    "\n",
    "SELECT player_id, short_name as Jugador, short_team_name as Equipo, sum(offensive_value) as VAEPofensivo, sum(defensive_value) as VAEPdefensivo, sum(vaep_value) as VAEPtotal\n",
    "FROM eventsAnalysis\n",
    "group by player_id, short_name, short_team_name\n",
    "Order by VAEPtotal desc\n",
    "\n",
    "'''"
   ]
  },
  {
   "cell_type": "code",
   "execution_count": 66,
   "metadata": {},
   "outputs": [],
   "source": [
    "platerData = spark.sql(query)\n"
   ]
  },
  {
   "cell_type": "code",
   "execution_count": 67,
   "metadata": {},
   "outputs": [
    {
     "name": "stdout",
     "output_type": "stream",
     "text": [
      "+---------+-----------------+-----------------+------------------+-------------------+------------------+\n",
      "|player_id|          Jugador|           Equipo|      VAEPofensivo|      VAEPdefensivo|         VAEPtotal|\n",
      "+---------+-----------------+-----------------+------------------+-------------------+------------------+\n",
      "|     3359|         L. Messi|        Barcelona| 38.90842363098636| -2.285506880376488|36.622916780703235|\n",
      "|   120353|    Mohamed Salah|        Liverpool| 27.43924822838744|-1.0998653293354437|26.339382817968726|\n",
      "|     8717|          H. Kane|Tottenham Hotspur|22.020754586323164|-0.5036652160342783|21.517089559463784|\n",
      "|     3840|       Iago Aspas|    Celta de Vigo|20.759287101682276| -0.231760406633839|20.527526756341103|\n",
      "|    21384|      C. Immobile|            Lazio|19.549808505456895|-0.6116513748420402| 18.93815711431671|\n",
      "|     7972|        L. Suárez|        Barcelona|20.141902141971514| -1.440355948987417|18.701546206022613|\n",
      "|     3322|Cristiano Ronaldo|      Real Madrid| 19.10440177540295|-0.8723577879136428|18.232044062111527|\n",
      "|     3682|     A. Griezmann|  Atlético Madrid| 18.10293353081215|0.03999447438400239| 18.14292801101692|\n",
      "|     3676|     Illarramendi|    Real Sociedad| 16.67020602413686| 1.0703765884973109|17.740582519385498|\n",
      "|   206314|        M. Icardi|   Internazionale|18.181736129219644|-0.5303531397657935| 17.65138314117212|\n",
      "+---------+-----------------+-----------------+------------------+-------------------+------------------+\n",
      "only showing top 10 rows\n",
      "\n"
     ]
    }
   ],
   "source": [
    "platerData.show(10)"
   ]
  },
  {
   "cell_type": "code",
   "execution_count": 68,
   "metadata": {},
   "outputs": [],
   "source": [
    "myPlayerData=platerData.toPandas()"
   ]
  },
  {
   "cell_type": "code",
   "execution_count": 69,
   "metadata": {},
   "outputs": [
    {
     "data": {
      "text/html": [
       "<div>\n",
       "<style scoped>\n",
       "    .dataframe tbody tr th:only-of-type {\n",
       "        vertical-align: middle;\n",
       "    }\n",
       "\n",
       "    .dataframe tbody tr th {\n",
       "        vertical-align: top;\n",
       "    }\n",
       "\n",
       "    .dataframe thead th {\n",
       "        text-align: right;\n",
       "    }\n",
       "</style>\n",
       "<table border=\"1\" class=\"dataframe\">\n",
       "  <thead>\n",
       "    <tr style=\"text-align: right;\">\n",
       "      <th></th>\n",
       "      <th>player_id</th>\n",
       "      <th>Jugador</th>\n",
       "      <th>Equipo</th>\n",
       "      <th>VAEPofensivo</th>\n",
       "      <th>VAEPdefensivo</th>\n",
       "      <th>VAEPtotal</th>\n",
       "    </tr>\n",
       "  </thead>\n",
       "  <tbody>\n",
       "    <tr>\n",
       "      <th>0</th>\n",
       "      <td>3359</td>\n",
       "      <td>L. Messi</td>\n",
       "      <td>Barcelona</td>\n",
       "      <td>38.908424</td>\n",
       "      <td>-2.285507</td>\n",
       "      <td>36.622917</td>\n",
       "    </tr>\n",
       "    <tr>\n",
       "      <th>1</th>\n",
       "      <td>120353</td>\n",
       "      <td>Mohamed Salah</td>\n",
       "      <td>Liverpool</td>\n",
       "      <td>27.439248</td>\n",
       "      <td>-1.099865</td>\n",
       "      <td>26.339383</td>\n",
       "    </tr>\n",
       "    <tr>\n",
       "      <th>2</th>\n",
       "      <td>8717</td>\n",
       "      <td>H. Kane</td>\n",
       "      <td>Tottenham Hotspur</td>\n",
       "      <td>22.020755</td>\n",
       "      <td>-0.503665</td>\n",
       "      <td>21.517090</td>\n",
       "    </tr>\n",
       "    <tr>\n",
       "      <th>3</th>\n",
       "      <td>3840</td>\n",
       "      <td>Iago Aspas</td>\n",
       "      <td>Celta de Vigo</td>\n",
       "      <td>20.759287</td>\n",
       "      <td>-0.231760</td>\n",
       "      <td>20.527527</td>\n",
       "    </tr>\n",
       "    <tr>\n",
       "      <th>4</th>\n",
       "      <td>21384</td>\n",
       "      <td>C. Immobile</td>\n",
       "      <td>Lazio</td>\n",
       "      <td>19.549809</td>\n",
       "      <td>-0.611651</td>\n",
       "      <td>18.938157</td>\n",
       "    </tr>\n",
       "    <tr>\n",
       "      <th>5</th>\n",
       "      <td>7972</td>\n",
       "      <td>L. Suárez</td>\n",
       "      <td>Barcelona</td>\n",
       "      <td>20.141902</td>\n",
       "      <td>-1.440356</td>\n",
       "      <td>18.701546</td>\n",
       "    </tr>\n",
       "    <tr>\n",
       "      <th>6</th>\n",
       "      <td>3322</td>\n",
       "      <td>Cristiano Ronaldo</td>\n",
       "      <td>Real Madrid</td>\n",
       "      <td>19.104402</td>\n",
       "      <td>-0.872358</td>\n",
       "      <td>18.232044</td>\n",
       "    </tr>\n",
       "    <tr>\n",
       "      <th>7</th>\n",
       "      <td>3682</td>\n",
       "      <td>A. Griezmann</td>\n",
       "      <td>Atlético Madrid</td>\n",
       "      <td>18.102934</td>\n",
       "      <td>0.039994</td>\n",
       "      <td>18.142928</td>\n",
       "    </tr>\n",
       "    <tr>\n",
       "      <th>8</th>\n",
       "      <td>3676</td>\n",
       "      <td>Illarramendi</td>\n",
       "      <td>Real Sociedad</td>\n",
       "      <td>16.670206</td>\n",
       "      <td>1.070377</td>\n",
       "      <td>17.740583</td>\n",
       "    </tr>\n",
       "    <tr>\n",
       "      <th>9</th>\n",
       "      <td>206314</td>\n",
       "      <td>M. Icardi</td>\n",
       "      <td>Internazionale</td>\n",
       "      <td>18.181736</td>\n",
       "      <td>-0.530353</td>\n",
       "      <td>17.651383</td>\n",
       "    </tr>\n",
       "  </tbody>\n",
       "</table>\n",
       "</div>"
      ],
      "text/plain": [
       "   player_id            Jugador             Equipo  VAEPofensivo  \\\n",
       "0       3359           L. Messi          Barcelona     38.908424   \n",
       "1     120353      Mohamed Salah          Liverpool     27.439248   \n",
       "2       8717            H. Kane  Tottenham Hotspur     22.020755   \n",
       "3       3840         Iago Aspas      Celta de Vigo     20.759287   \n",
       "4      21384        C. Immobile              Lazio     19.549809   \n",
       "5       7972          L. Suárez          Barcelona     20.141902   \n",
       "6       3322  Cristiano Ronaldo        Real Madrid     19.104402   \n",
       "7       3682       A. Griezmann    Atlético Madrid     18.102934   \n",
       "8       3676       Illarramendi      Real Sociedad     16.670206   \n",
       "9     206314          M. Icardi     Internazionale     18.181736   \n",
       "\n",
       "   VAEPdefensivo  VAEPtotal  \n",
       "0      -2.285507  36.622917  \n",
       "1      -1.099865  26.339383  \n",
       "2      -0.503665  21.517090  \n",
       "3      -0.231760  20.527527  \n",
       "4      -0.611651  18.938157  \n",
       "5      -1.440356  18.701546  \n",
       "6      -0.872358  18.232044  \n",
       "7       0.039994  18.142928  \n",
       "8       1.070377  17.740583  \n",
       "9      -0.530353  17.651383  "
      ]
     },
     "execution_count": 69,
     "metadata": {},
     "output_type": "execute_result"
    }
   ],
   "source": [
    "myPlayerData.head(10)"
   ]
  },
  {
   "cell_type": "code",
   "execution_count": 70,
   "metadata": {},
   "outputs": [
    {
     "data": {
      "image/png": "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\n",
      "text/plain": [
       "<Figure size 432x288 with 1 Axes>"
      ]
     },
     "metadata": {
      "needs_background": "light"
     },
     "output_type": "display_data"
    }
   ],
   "source": [
    "g=sns.barplot(y='Jugador',x='VAEPtotal',data=myPlayerData.head(10), color='steelblue')\n",
    "g.figure.savefig('/dataset/vaep/Images/playerBarChart.eps', format='eps', bbox_inches='tight')\n",
    "g.figure.savefig('/dataset/vaep/Images/playerBarChart.png', dpi=1000, bbox_inches='tight')"
   ]
  },
  {
   "cell_type": "code",
   "execution_count": 71,
   "metadata": {},
   "outputs": [
    {
     "data": {
      "text/plain": [
       "1650"
      ]
     },
     "execution_count": 71,
     "metadata": {},
     "output_type": "execute_result"
    }
   ],
   "source": [
    "#Cantidad de jugadores\n",
    "myPlayerData['Jugador'].count()"
   ]
  },
  {
   "cell_type": "code",
   "execution_count": 72,
   "metadata": {},
   "outputs": [
    {
     "data": {
      "text/plain": [
       "3.023144895016335"
      ]
     },
     "execution_count": 72,
     "metadata": {},
     "output_type": "execute_result"
    }
   ],
   "source": [
    "#VaepPromedio\n",
    "myPlayerData['VAEPtotal'].sum()/myPlayerData['Jugador'].count()"
   ]
  },
  {
   "cell_type": "code",
   "execution_count": 73,
   "metadata": {},
   "outputs": [
    {
     "data": {
      "text/plain": [
       "12.51551087667744"
      ]
     },
     "execution_count": 73,
     "metadata": {},
     "output_type": "execute_result"
    }
   ],
   "source": [
    "#VaepPromedio primeros n jugadores\n",
    "n=100\n",
    "myPlayerData['VAEPtotal'].head(n).sum()/n"
   ]
  },
  {
   "cell_type": "code",
   "execution_count": 74,
   "metadata": {},
   "outputs": [
    {
     "data": {
      "text/plain": [
       "7.521776702351595"
      ]
     },
     "execution_count": 74,
     "metadata": {},
     "output_type": "execute_result"
    }
   ],
   "source": [
    "#VaepPromedio primeros n jugadores\n",
    "n=500\n",
    "myPlayerData['VAEPtotal'].head(n).sum()/n"
   ]
  },
  {
   "cell_type": "code",
   "execution_count": 75,
   "metadata": {},
   "outputs": [
    {
     "data": {
      "text/html": [
       "<div>\n",
       "<style scoped>\n",
       "    .dataframe tbody tr th:only-of-type {\n",
       "        vertical-align: middle;\n",
       "    }\n",
       "\n",
       "    .dataframe tbody tr th {\n",
       "        vertical-align: top;\n",
       "    }\n",
       "\n",
       "    .dataframe thead th {\n",
       "        text-align: right;\n",
       "    }\n",
       "</style>\n",
       "<table border=\"1\" class=\"dataframe\">\n",
       "  <thead>\n",
       "    <tr style=\"text-align: right;\">\n",
       "      <th></th>\n",
       "      <th>player_id</th>\n",
       "      <th>Jugador</th>\n",
       "      <th>Equipo</th>\n",
       "      <th>VAEPofensivo</th>\n",
       "      <th>VAEPdefensivo</th>\n",
       "      <th>VAEPtotal</th>\n",
       "    </tr>\n",
       "  </thead>\n",
       "  <tbody>\n",
       "    <tr>\n",
       "      <th>0</th>\n",
       "      <td>3359</td>\n",
       "      <td>L. Messi</td>\n",
       "      <td>Barcelona</td>\n",
       "      <td>38.908424</td>\n",
       "      <td>-2.285507</td>\n",
       "      <td>36.622917</td>\n",
       "    </tr>\n",
       "    <tr>\n",
       "      <th>1</th>\n",
       "      <td>120353</td>\n",
       "      <td>Mohamed Salah</td>\n",
       "      <td>Liverpool</td>\n",
       "      <td>27.439248</td>\n",
       "      <td>-1.099865</td>\n",
       "      <td>26.339383</td>\n",
       "    </tr>\n",
       "    <tr>\n",
       "      <th>2</th>\n",
       "      <td>8717</td>\n",
       "      <td>H. Kane</td>\n",
       "      <td>Tottenham Hotspur</td>\n",
       "      <td>22.020755</td>\n",
       "      <td>-0.503665</td>\n",
       "      <td>21.517090</td>\n",
       "    </tr>\n",
       "    <tr>\n",
       "      <th>3</th>\n",
       "      <td>3840</td>\n",
       "      <td>Iago Aspas</td>\n",
       "      <td>Celta de Vigo</td>\n",
       "      <td>20.759287</td>\n",
       "      <td>-0.231760</td>\n",
       "      <td>20.527527</td>\n",
       "    </tr>\n",
       "    <tr>\n",
       "      <th>4</th>\n",
       "      <td>21384</td>\n",
       "      <td>C. Immobile</td>\n",
       "      <td>Lazio</td>\n",
       "      <td>19.549809</td>\n",
       "      <td>-0.611651</td>\n",
       "      <td>18.938157</td>\n",
       "    </tr>\n",
       "    <tr>\n",
       "      <th>...</th>\n",
       "      <td>...</td>\n",
       "      <td>...</td>\n",
       "      <td>...</td>\n",
       "      <td>...</td>\n",
       "      <td>...</td>\n",
       "      <td>...</td>\n",
       "    </tr>\n",
       "    <tr>\n",
       "      <th>495</th>\n",
       "      <td>3425</td>\n",
       "      <td>Muniain</td>\n",
       "      <td>Athletic Club</td>\n",
       "      <td>4.424177</td>\n",
       "      <td>-0.038146</td>\n",
       "      <td>4.386030</td>\n",
       "    </tr>\n",
       "    <tr>\n",
       "      <th>496</th>\n",
       "      <td>3468</td>\n",
       "      <td>Juan Cala</td>\n",
       "      <td>Getafe</td>\n",
       "      <td>3.815928</td>\n",
       "      <td>0.547395</td>\n",
       "      <td>4.363323</td>\n",
       "    </tr>\n",
       "    <tr>\n",
       "      <th>497</th>\n",
       "      <td>3344</td>\n",
       "      <td>Rafinha</td>\n",
       "      <td>Internazionale</td>\n",
       "      <td>4.166381</td>\n",
       "      <td>0.180381</td>\n",
       "      <td>4.346762</td>\n",
       "    </tr>\n",
       "    <tr>\n",
       "      <th>498</th>\n",
       "      <td>116</td>\n",
       "      <td>G. Wijnaldum</td>\n",
       "      <td>Liverpool</td>\n",
       "      <td>3.415530</td>\n",
       "      <td>0.926038</td>\n",
       "      <td>4.341568</td>\n",
       "    </tr>\n",
       "    <tr>\n",
       "      <th>499</th>\n",
       "      <td>257028</td>\n",
       "      <td>D. Calabria</td>\n",
       "      <td>Milan</td>\n",
       "      <td>4.217194</td>\n",
       "      <td>0.121731</td>\n",
       "      <td>4.338925</td>\n",
       "    </tr>\n",
       "  </tbody>\n",
       "</table>\n",
       "<p>500 rows × 6 columns</p>\n",
       "</div>"
      ],
      "text/plain": [
       "     player_id        Jugador             Equipo  VAEPofensivo  VAEPdefensivo  \\\n",
       "0         3359       L. Messi          Barcelona     38.908424      -2.285507   \n",
       "1       120353  Mohamed Salah          Liverpool     27.439248      -1.099865   \n",
       "2         8717        H. Kane  Tottenham Hotspur     22.020755      -0.503665   \n",
       "3         3840     Iago Aspas      Celta de Vigo     20.759287      -0.231760   \n",
       "4        21384    C. Immobile              Lazio     19.549809      -0.611651   \n",
       "..         ...            ...                ...           ...            ...   \n",
       "495       3425        Muniain      Athletic Club      4.424177      -0.038146   \n",
       "496       3468      Juan Cala             Getafe      3.815928       0.547395   \n",
       "497       3344        Rafinha     Internazionale      4.166381       0.180381   \n",
       "498        116   G. Wijnaldum          Liverpool      3.415530       0.926038   \n",
       "499     257028    D. Calabria              Milan      4.217194       0.121731   \n",
       "\n",
       "     VAEPtotal  \n",
       "0    36.622917  \n",
       "1    26.339383  \n",
       "2    21.517090  \n",
       "3    20.527527  \n",
       "4    18.938157  \n",
       "..         ...  \n",
       "495   4.386030  \n",
       "496   4.363323  \n",
       "497   4.346762  \n",
       "498   4.341568  \n",
       "499   4.338925  \n",
       "\n",
       "[500 rows x 6 columns]"
      ]
     },
     "execution_count": 75,
     "metadata": {},
     "output_type": "execute_result"
    }
   ],
   "source": [
    "myPlayerData.head(500)"
   ]
  },
  {
   "cell_type": "code",
   "execution_count": 76,
   "metadata": {},
   "outputs": [],
   "source": [
    "spark.stop()"
   ]
  },
  {
   "cell_type": "code",
   "execution_count": null,
   "metadata": {},
   "outputs": [],
   "source": []
  },
  {
   "cell_type": "code",
   "execution_count": null,
   "metadata": {},
   "outputs": [],
   "source": []
  }
 ],
 "metadata": {
  "kernelspec": {
   "display_name": "Python 3",
   "language": "python",
   "name": "python3"
  },
  "language_info": {
   "codemirror_mode": {
    "name": "ipython",
    "version": 3
   },
   "file_extension": ".py",
   "mimetype": "text/x-python",
   "name": "python",
   "nbconvert_exporter": "python",
   "pygments_lexer": "ipython3",
   "version": "3.7.3"
  }
 },
 "nbformat": 4,
 "nbformat_minor": 4
}
