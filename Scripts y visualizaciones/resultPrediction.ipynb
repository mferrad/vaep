{
 "cells": [
  {
   "cell_type": "markdown",
   "metadata": {},
   "source": [
    "# Análisis Predictivo "
   ]
  },
  {
   "cell_type": "markdown",
   "metadata": {},
   "source": [
    "**Nota:** Por favor leer el archivo vaepReadMe.md para obtener más información incluyendo el orden en que se deben ejecutar los scripts"
   ]
  },
  {
   "cell_type": "markdown",
   "metadata": {},
   "source": [
    "El siguiente script tiene por objetivo utilizar el índice VAEP para predecir el resultado de los partidos (si el equipo ganará o no).\n",
    "\n",
    "Se utilizará el valor acumulado de los índices VAEP total ofensivo y defensivo, a favor y en contra en los partidos anteriores para predecir el resultado del próximo partido.\n"
   ]
  },
  {
   "cell_type": "code",
   "execution_count": 1,
   "metadata": {},
   "outputs": [],
   "source": [
    "import findspark\n",
    "findspark.init()"
   ]
  },
  {
   "cell_type": "code",
   "execution_count": 2,
   "metadata": {},
   "outputs": [],
   "source": [
    "from pyspark.sql import SparkSession\n",
    "spark = (\n",
    "    SparkSession.builder\n",
    "    .appName(\"Vaep-result-pred\")\n",
    "    .config(\"spark.driver.memory\", \"512m\")\n",
    "    .config(\"spark.driver.cores\", \"1\")\n",
    "    .config(\"spark.executor.memory\", \"512m\")\n",
    "    .config(\"spark.executor.cores\", \"1\")\n",
    "    .config(\"spark.sql.shuffle.partitions\", \"2\")\n",
    "    .getOrCreate()\n",
    ")"
   ]
  },
  {
   "cell_type": "markdown",
   "metadata": {},
   "source": [
    "### Preparacion de los datos"
   ]
  },
  {
   "cell_type": "markdown",
   "metadata": {},
   "source": [
    "A continuacion se calculan los indices acumulados para ambos equipos por partido"
   ]
  },
  {
   "cell_type": "code",
   "execution_count": 3,
   "metadata": {},
   "outputs": [],
   "source": [
    "import pandas as pd"
   ]
  },
  {
   "cell_type": "code",
   "execution_count": 4,
   "metadata": {},
   "outputs": [],
   "source": [
    "parquetData = '/dataset/vaep/parquet/match_events.parquet'"
   ]
  },
  {
   "cell_type": "code",
   "execution_count": 5,
   "metadata": {},
   "outputs": [],
   "source": [
    "df_parquet = spark.read.parquet(parquetData)"
   ]
  },
  {
   "cell_type": "code",
   "execution_count": 6,
   "metadata": {},
   "outputs": [],
   "source": [
    "df_parquet.createOrReplaceTempView(\"eventsAnalysis\")"
   ]
  },
  {
   "cell_type": "code",
   "execution_count": 7,
   "metadata": {},
   "outputs": [],
   "source": [
    "# Esta query calcula el puntaje VAEP ofensivo, defensivo y total por equipo por partido\n",
    "\n",
    "query='''\n",
    "\n",
    "SELECT game_id, team_id, short_team_name, sum(offensive_value) as offensiveVAEP, sum(defensive_value) as defensiveVAEP, sum(vaep_value) as totalVAEP\n",
    "FROM eventsAnalysis\n",
    "group by game_id, team_id, short_team_name\n",
    "\n",
    "'''"
   ]
  },
  {
   "cell_type": "code",
   "execution_count": 8,
   "metadata": {},
   "outputs": [
    {
     "name": "stdout",
     "output_type": "stream",
     "text": [
      "+-------+-------+--------------------+------------------+--------------------+------------------+\n",
      "|game_id|team_id|     short_team_name|     offensiveVAEP|       defensiveVAEP|         totalVAEP|\n",
      "+-------+-------+--------------------+------------------+--------------------+------------------+\n",
      "|2499850|   1609|             Arsenal| 5.800531201530248|-8.23160109575837...| 5.799708048347384|\n",
      "|2576059|   3219|           Benevento|1.7643836359493434| 0.10706544801359996|1.8714490730781108|\n",
      "|2576044|   3161|      Internazionale|0.5785705242305994|  0.3317085389280692|0.9102790635079145|\n",
      "|2500065|  10531|        Swansea City|0.5273028190713376|  0.2623006572248414|0.7896034918958321|\n",
      "|2500024|   1651|Brighton & Hove A...| 1.321480500861071| 0.36449467175407335|1.6859752273885533|\n",
      "+-------+-------+--------------------+------------------+--------------------+------------------+\n",
      "only showing top 5 rows\n",
      "\n"
     ]
    }
   ],
   "source": [
    "df_parquet = spark.sql(query)\n",
    "df_parquet.createOrReplaceTempView(\"vaepPerGame\")\n",
    "df_parquet.show(5)"
   ]
  },
  {
   "cell_type": "code",
   "execution_count": 9,
   "metadata": {},
   "outputs": [],
   "source": [
    "parquetData = '/dataset/vaep/parquet/matches.parquet'"
   ]
  },
  {
   "cell_type": "code",
   "execution_count": 10,
   "metadata": {},
   "outputs": [],
   "source": [
    "df_parquet = spark.read.parquet(parquetData)"
   ]
  },
  {
   "cell_type": "code",
   "execution_count": 11,
   "metadata": {},
   "outputs": [],
   "source": [
    "df_parquet.createOrReplaceTempView(\"matches\")"
   ]
  },
  {
   "cell_type": "code",
   "execution_count": 12,
   "metadata": {},
   "outputs": [],
   "source": [
    "# Esta query obtiene el resultado de cada partido, los equipos que lo jugaron, la fecha del mismo y crea la variable team1winflag\n",
    "# que toma el valor de 1 si el equipo 1 ganó o 0 si empató o perdió. Esta será la variable a predecir.\n",
    "\n",
    "query='''\n",
    "\n",
    "\n",
    "SELECT competitionid, wyId as game_id ,team1_teamId, team1_side , team2_teamId,\n",
    "case when winner=team1_teamId then 1 else 0 END as team1winflag,\n",
    "dateutc\n",
    "FROM matches\n",
    "Order by dateutc desc\n",
    "\n",
    "'''"
   ]
  },
  {
   "cell_type": "code",
   "execution_count": 13,
   "metadata": {},
   "outputs": [
    {
     "name": "stdout",
     "output_type": "stream",
     "text": [
      "+-------------+-------+------------+----------+------------+------------+-------------------+\n",
      "|competitionid|game_id|team1_teamId|team1_side|team2_teamId|team1winflag|            dateutc|\n",
      "+-------------+-------+------------+----------+------------+------------+-------------------+\n",
      "|          524|2576336|        3158|      away|        3315|           1|2018-05-20 18:45:00|\n",
      "|          795|2565922|         676|      home|         687|           1|2018-05-20 18:45:00|\n",
      "|          524|2576335|        3162|      home|        3161|           0|2018-05-20 18:45:00|\n",
      "|          795|2565925|         679|      home|         701|           0|2018-05-20 16:30:00|\n",
      "|          524|2576330|        3165|      home|        3219|           1|2018-05-20 16:00:00|\n",
      "+-------------+-------+------------+----------+------------+------------+-------------------+\n",
      "only showing top 5 rows\n",
      "\n"
     ]
    }
   ],
   "source": [
    "df_parquet = spark.sql(query)\n",
    "df_parquet.createOrReplaceTempView(\"matchResults\")\n",
    "df_parquet.show(5)"
   ]
  },
  {
   "cell_type": "code",
   "execution_count": 14,
   "metadata": {},
   "outputs": [],
   "source": [
    "# Esta query obtiene el resultado del partido, los valores VAEP para cada partido y la fecha en que se jugó.\n",
    "\n",
    "query='''\n",
    "\n",
    "select  competitionid, tableWithTeam1.game_id ,team1_teamId, team1_side , team1_name, team1_offensiveVAEP,\n",
    "team1_defensiveVAEP, team1_totalVAEP, \n",
    "\n",
    "team2_teamId, short_team_name as team2_name, offensiveVAEP as team2_offensiveVAEP,\n",
    "defensiveVAEP as team2_defensiveVAEP, totalVAEP as team2_totalVAEP, \n",
    "\n",
    "team1winflag, dateutc\n",
    "\n",
    "from\n",
    "(\n",
    "select competitionid, matchResults.game_id ,team1_teamId, team1_side , short_team_name as team1_name, offensiveVAEP as team1_offensiveVAEP,\n",
    "defensiveVAEP as team1_defensiveVAEP, totalVAEP as team1_totalVAEP, team2_teamId, team1winflag, dateutc\n",
    "FROM matchResults join vaepPerGame on \n",
    "(matchResults.game_id=vaepPerGame.game_id and matchResults.team1_teamId=vaepPerGame.team_id)\n",
    ") as tableWithTeam1\n",
    "\n",
    "join vaepPerGame on \n",
    "(tableWithTeam1.game_id=vaepPerGame.game_id and tableWithTeam1.team2_teamId=vaepPerGame.team_id)\n",
    "\n",
    "order by dateutc asc\n",
    "'''"
   ]
  },
  {
   "cell_type": "code",
   "execution_count": 15,
   "metadata": {},
   "outputs": [
    {
     "name": "stdout",
     "output_type": "stream",
     "text": [
      "+-------------+-------+------------+----------+--------------+-------------------+--------------------+------------------+------------+-----------------+-------------------+--------------------+------------------+------------+-------------------+\n",
      "|competitionid|game_id|team1_teamId|team1_side|    team1_name|team1_offensiveVAEP| team1_defensiveVAEP|   team1_totalVAEP|team2_teamId|       team2_name|team2_offensiveVAEP| team2_defensiveVAEP|   team2_totalVAEP|team1winflag|            dateutc|\n",
      "+-------------+-------+------------+----------+--------------+-------------------+--------------------+------------------+------------+-----------------+-------------------+--------------------+------------------+------------+-------------------+\n",
      "|          364|2499719|        1609|      home|       Arsenal|  4.670027377083898| 0.11731985094957054| 4.787347314530052|        1631|   Leicester City| 3.7192057595821097| -0.3971957864705473|3.3220099792815745|           1|2017-08-11 18:45:00|\n",
      "|          364|2499727|        1612|      away|     Liverpool| 3.0626650587655604|  0.7538052361924201|3.8164702638750896|        1644|          Watford|  4.363582341466099|-0.07918395713204518| 4.284398326068185|           0|2017-08-12 11:30:00|\n",
      "|          364|2499723|        1639|      away|    Stoke City| 0.6793820166494697| 0.15819223574362695|0.8375742377247661|        1623|          Everton| 1.9237668714486063|-0.02576783276163...|1.8979990541702136|           0|2017-08-12 14:00:00|\n",
      "|          364|2499722|        1628|      home|Crystal Palace| 1.1081110008526593|-0.19863958191126585|0.9094714188249782|        1673|Huddersfield Town|  2.406356260587927| 0.20727584813721478|2.6136321051744744|           0|2017-08-12 14:00:00|\n",
      "|          364|2499726|        1619|      home|   Southampton|   0.57230643928051|  -0.244290764501784| 0.328015681123361|       10531|     Swansea City| 1.1597508401609957| -0.2532301185419783|0.9065207471139729|           0|2017-08-12 14:00:00|\n",
      "+-------------+-------+------------+----------+--------------+-------------------+--------------------+------------------+------------+-----------------+-------------------+--------------------+------------------+------------+-------------------+\n",
      "only showing top 5 rows\n",
      "\n"
     ]
    }
   ],
   "source": [
    "matches = spark.sql(query)\n",
    "matches.show(5)"
   ]
  },
  {
   "cell_type": "code",
   "execution_count": 16,
   "metadata": {},
   "outputs": [
    {
     "data": {
      "text/plain": [
       "1140"
      ]
     },
     "execution_count": 16,
     "metadata": {},
     "output_type": "execute_result"
    }
   ],
   "source": [
    "matches.count()"
   ]
  },
  {
   "cell_type": "code",
   "execution_count": 17,
   "metadata": {},
   "outputs": [],
   "source": [
    "#Se agregan 2 features nuevas con la diferencia del vaep total a favor del team 1 y a favor del team 2 para cada partido\n",
    "\n",
    "matches=matches.withColumn(\"VaepDiffTeam1\",(matches['team1_totalVAEP']-matches['team2_totalVAEP']))\n",
    "matches=matches.withColumn(\"VaepDiffTeam2\",(matches['team2_totalVAEP']-matches['team1_totalVAEP']))"
   ]
  },
  {
   "cell_type": "code",
   "execution_count": 18,
   "metadata": {},
   "outputs": [
    {
     "name": "stdout",
     "output_type": "stream",
     "text": [
      "+------------------+------------------+-------------------+-------------------+\n",
      "|   team1_totalVAEP|   team2_totalVAEP|      VaepDiffTeam1|      VaepDiffTeam2|\n",
      "+------------------+------------------+-------------------+-------------------+\n",
      "| 4.787347314530052|3.3220099792815745| 1.4653373352484778|-1.4653373352484778|\n",
      "|3.8164702638750896| 4.284398326068185|-0.4679280621930957| 0.4679280621930957|\n",
      "|0.9094714188249782|2.6136321051744744|-1.7041606863494962| 1.7041606863494962|\n",
      "|1.1590999013278633| 2.141056228079833|-0.9819563267519698| 0.9819563267519698|\n",
      "| 0.328015681123361|0.9065207471139729|-0.5785050659906119| 0.5785050659906119|\n",
      "+------------------+------------------+-------------------+-------------------+\n",
      "only showing top 5 rows\n",
      "\n"
     ]
    }
   ],
   "source": [
    "matches.select('team1_totalVAEP','team2_totalVAEP','VaepDiffTeam1', 'VaepDiffTeam2').show(5)"
   ]
  },
  {
   "cell_type": "code",
   "execution_count": 19,
   "metadata": {},
   "outputs": [],
   "source": [
    "matches.createOrReplaceTempView(\"matchData\")"
   ]
  },
  {
   "cell_type": "code",
   "execution_count": 20,
   "metadata": {},
   "outputs": [],
   "source": [
    "# Esta query calcula los valores VAEP acumulados por partido (incluyendo el del partido a analizar que \n",
    "# se resta más adelante) para el team1 únicamente\n",
    "\n",
    "query='''\n",
    "\n",
    "select teamID as team1ID, game_id, sum(offensiveVAEP) as sum_off_vaep_team1, sum(defensiveVAEP) as sum_def_vaep_team1,\n",
    "sum(totalVAEP) as sum_tot_vaep_team1,sum(VaepDiff) as sum_vaep_diff_team1\n",
    "from\n",
    "(\n",
    "(\n",
    "SELECT matchData1.team1_teamId as teamID, matchData1.dateutc as row_num_index, matchData2.dateutc as other_row_num,\n",
    "matchData1.game_id, matchData2.game_id as previous_game_id, matchData2.team1_offensiveVAEP as offensiveVAEP, \n",
    "matchData2.team1_defensiveVAEP as defensiveVAEP,matchData2.team1_totalVAEP as totalVAEP,\n",
    "matchData2.VaepDiffTeam1 as VaepDiff\n",
    "\n",
    "FROM matchData as matchData1 JOIN matchData as matchData2\n",
    "on ((matchData1.dateutc >= matchData2.dateutc) and \n",
    "(matchData1.team1_teamId=matchData2.team1_teamId ))\n",
    "order by matchData1.team1_teamId, matchData1.dateutc, matchData2.dateutc\n",
    ")\n",
    "\n",
    "UNION ALL\n",
    "\n",
    "(\n",
    "SELECT matchData1.team1_teamId as teamID, matchData1.dateutc as row_num_index, matchData2.dateutc as other_row_num,\n",
    "matchData1.game_id, matchData2.game_id as previous_game_id, matchData2.team2_offensiveVAEP as offensiveVAEP, \n",
    "matchData2.team2_defensiveVAEP as defensiveVAEP,matchData2.team2_totalVAEP as totalVAEP,\n",
    "matchData2.VaepDiffTeam2 as VaepDiff\n",
    "\n",
    "FROM matchData as matchData1 JOIN matchData as matchData2\n",
    "on ((matchData1.dateutc >= matchData2.dateutc) and \n",
    "(matchData1.team1_teamId=matchData2.team2_teamId ))\n",
    "order by matchData1.team1_teamId, matchData1.dateutc, matchData2.dateutc\n",
    ")\n",
    ")\n",
    "group by teamID, game_id\n",
    "'''"
   ]
  },
  {
   "cell_type": "code",
   "execution_count": 21,
   "metadata": {},
   "outputs": [
    {
     "name": "stdout",
     "output_type": "stream",
     "text": [
      "+-------+-------+------------------+------------------+------------------+-------------------+\n",
      "|team1ID|game_id|sum_off_vaep_team1|sum_def_vaep_team1|sum_tot_vaep_team1|sum_vaep_diff_team1|\n",
      "+-------+-------+------------------+------------------+------------------+-------------------+\n",
      "|   1628|2500032| 52.65330614952836|3.9343720939359628|56.587678376119584|-19.518962395755807|\n",
      "|   1628|2500050| 58.93963948398232| 4.215343568299431| 63.15498315880541|-18.493923846952384|\n",
      "|   1628|2500086| 67.67657503956798| 4.445066029846203| 72.12164114380721| -13.66812230713549|\n",
      "|   1628|2500090| 70.80542062996756| 4.586050957150292| 75.39147164695896| -11.62679388813558|\n",
      "|   1631|2500084| 71.07911543373484| 3.923202375503024|  75.0023177228286| -7.114156703290064|\n",
      "|   1639|2499825|18.957333178259432|1.5556655153050087|20.512998815625906|-10.232259312819224|\n",
      "|   1639|2499877|28.239005031820852| 1.581779753731098|29.820784809824545| -16.65735918894643|\n",
      "|   1639|2499896|30.318566119472962| 1.830691495211795|32.149257612705696| -19.42141402955167|\n",
      "|   1639|2499994| 48.39358673256356| 3.405441105365753| 51.79902757843956|-23.948941038455814|\n",
      "|   1639|2500058|55.502584948553704|3.6672710054554045|59.169855767686386| -29.08621675238828|\n",
      "+-------+-------+------------------+------------------+------------------+-------------------+\n",
      "only showing top 10 rows\n",
      "\n"
     ]
    }
   ],
   "source": [
    "team1Data = spark.sql(query)\n",
    "team1Data.show(10)"
   ]
  },
  {
   "cell_type": "code",
   "execution_count": 22,
   "metadata": {},
   "outputs": [
    {
     "data": {
      "text/plain": [
       "1140"
      ]
     },
     "execution_count": 22,
     "metadata": {},
     "output_type": "execute_result"
    }
   ],
   "source": [
    "team1Data.count()"
   ]
  },
  {
   "cell_type": "code",
   "execution_count": 23,
   "metadata": {},
   "outputs": [],
   "source": [
    "# Esta query calcula los valores VAEP acumulados por partido (incluyendo el del partido a analizar que \n",
    "# se resta más adelante) para el team2 únicamente\n",
    "\n",
    "\n",
    "query='''\n",
    "\n",
    "select teamID as team2ID, game_id, sum(offensiveVAEP) as sum_off_vaep_team2, sum(defensiveVAEP) as sum_def_vaep_team2,\n",
    "sum(totalVAEP) as sum_tot_vaep_team2,sum(VaepDiff) as sum_vaep_diff_team2\n",
    "from\n",
    "(\n",
    "(\n",
    "SELECT matchData1.team2_teamId as teamID, matchData1.dateutc as row_num_index, matchData2.dateutc as other_row_num,\n",
    "matchData1.game_id, matchData2.game_id as previous_game_id, matchData2.team1_offensiveVAEP as offensiveVAEP, \n",
    "matchData2.team1_defensiveVAEP as defensiveVAEP,matchData2.team1_totalVAEP as totalVAEP,\n",
    "matchData2.VaepDiffTeam1 as VaepDiff\n",
    "\n",
    "FROM matchData as matchData1 JOIN matchData as matchData2\n",
    "on ((matchData1.dateutc >= matchData2.dateutc) and \n",
    "(matchData1.team2_teamId=matchData2.team1_teamId ))\n",
    "order by matchData1.team2_teamId, matchData1.dateutc, matchData2.dateutc\n",
    ")\n",
    "\n",
    "UNION ALL\n",
    "\n",
    "(\n",
    "SELECT matchData1.team2_teamId as teamID, matchData1.dateutc as row_num_index, matchData2.dateutc as other_row_num,\n",
    "matchData1.game_id, matchData2.game_id as previous_game_id, matchData2.team2_offensiveVAEP as offensiveVAEP, \n",
    "matchData2.team2_defensiveVAEP as defensiveVAEP,matchData2.team2_totalVAEP as totalVAEP,\n",
    "matchData2.VaepDiffTeam2 as VaepDiff\n",
    "\n",
    "FROM matchData as matchData1 JOIN matchData as matchData2\n",
    "on ((matchData1.dateutc >= matchData2.dateutc) and \n",
    "(matchData1.team2_teamId=matchData2.team2_teamId ))\n",
    "order by matchData1.team2_teamId, matchData1.dateutc, matchData2.dateutc\n",
    ")\n",
    ")\n",
    "group by teamID, game_id\n",
    "'''"
   ]
  },
  {
   "cell_type": "code",
   "execution_count": 24,
   "metadata": {},
   "outputs": [
    {
     "name": "stdout",
     "output_type": "stream",
     "text": [
      "+-------+-------+------------------+-------------------+------------------+-------------------+\n",
      "|team2ID|game_id|sum_off_vaep_team2| sum_def_vaep_team2|sum_tot_vaep_team2|sum_vaep_diff_team2|\n",
      "+-------+-------+------------------+-------------------+------------------+-------------------+\n",
      "|   1627|2500090| 63.48440709657734|  5.842754062090535| 69.32716113136848| -23.20337752083651|\n",
      "|   1628|2499751| 4.753765938570723|-0.6082334127859212| 4.145532526716124| -4.413750352396164|\n",
      "|   1628|2499941| 37.43408431223361| 1.0494996983907185| 38.48358404356986|-12.808104421623284|\n",
      "|   1631|2499864| 28.67676688177744| 1.6740998768655118| 30.35086686228169| -3.112550322606694|\n",
      "|   1631|2499874|31.347165403945837| 1.9715386432071682| 33.31870410783449| -3.093477435351815|\n",
      "|   1631|2499903|39.614693594223354| 2.2193638031894807| 41.83405751764076|-3.0890267692739144|\n",
      "|   1631|2499933| 46.87502730923006| 2.4835078189789783|49.358535205887165|-0.9910734962322749|\n",
      "|   1631|2499940|  47.7104030433693|  2.653444908297388| 50.36384802352404|-1.2326747377519496|\n",
      "|   1631|2499953| 50.07820228632772| 2.6176742039097007| 52.69587655569194|0.17341105925152078|\n",
      "|   1631|2499974|52.763496316212695|  2.666671865415992| 55.43016820476623| -1.483082902559545|\n",
      "+-------+-------+------------------+-------------------+------------------+-------------------+\n",
      "only showing top 10 rows\n",
      "\n"
     ]
    }
   ],
   "source": [
    "team2Data = spark.sql(query)\n",
    "team2Data.show(10)"
   ]
  },
  {
   "cell_type": "code",
   "execution_count": 25,
   "metadata": {},
   "outputs": [
    {
     "data": {
      "text/plain": [
       "1140"
      ]
     },
     "execution_count": 25,
     "metadata": {},
     "output_type": "execute_result"
    }
   ],
   "source": [
    "team2Data.count()"
   ]
  },
  {
   "cell_type": "code",
   "execution_count": 26,
   "metadata": {},
   "outputs": [],
   "source": [
    "team1Data.createOrReplaceTempView(\"Team1Data\")\n",
    "team2Data.createOrReplaceTempView(\"Team2Data\")"
   ]
  },
  {
   "cell_type": "code",
   "execution_count": 27,
   "metadata": {},
   "outputs": [],
   "source": [
    "# Esta query calcula los valores VAEP acumulados por partido para ambos equipos teniendo en cuenta solo los partidos \n",
    "# anteriores y se incluyen los resultados del partido\n",
    "\n",
    "\n",
    "query='''\n",
    "\n",
    "select competitionid, matchdata.game_id, \n",
    "\n",
    "team1_teamId, team1_name,\n",
    "(sum_tot_vaep_team1 - team1_totalVAEP) as team1_totalVaepAccum, \n",
    "(sum_off_vaep_team1 - team1_offensiveVAEP) as team1_offVaepAccum, \n",
    "(sum_def_vaep_team1 - team1_defensiveVAEP) as team1_defVaepAccum,\n",
    "(sum_vaep_diff_team1 - VaepDiffTeam1) as team1_againstVaepAccum,\n",
    "\n",
    "team2_teamId, team2_name,\n",
    "(sum_tot_vaep_team2 - team2_totalVAEP) as team2_totalVaepAccum, \n",
    "(sum_off_vaep_team2 - team2_offensiveVAEP) as team2_offVaepAccum, \n",
    "(sum_def_vaep_team2 - team2_defensiveVAEP) as team2_defVaepAccum,\n",
    "(sum_vaep_diff_team2 - VaepDiffTeam2) as team2_againstVaepAccum,\n",
    "\n",
    "team1_side,team1winflag, dateutc\n",
    "\n",
    "from matchData join Team1Data on\n",
    "((matchData.team1_teamId=Team1Data.team1ID) and (matchData.game_id=Team1Data.game_id))\n",
    "join Team2Data on\n",
    "((matchData.team2_teamId=Team2Data.team2ID) and (matchData.game_id=Team2Data.game_id))\n",
    "\n",
    "order by dateutc asc\n",
    "'''"
   ]
  },
  {
   "cell_type": "code",
   "execution_count": 28,
   "metadata": {},
   "outputs": [
    {
     "name": "stdout",
     "output_type": "stream",
     "text": [
      "+-------------+-------+------------+--------------------+--------------------+------------------+------------------+----------------------+------------+--------------------+--------------------+------------------+------------------+----------------------+----------+------------+-------------------+\n",
      "|competitionid|game_id|team1_teamId|          team1_name|team1_totalVaepAccum|team1_offVaepAccum|team1_defVaepAccum|team1_againstVaepAccum|team2_teamId|          team2_name|team2_totalVaepAccum|team2_offVaepAccum|team2_defVaepAccum|team2_againstVaepAccum|team1_side|team1winflag|            dateutc|\n",
      "+-------------+-------+------------+--------------------+--------------------+------------------+------------------+----------------------+------------+--------------------+--------------------+------------------+------------------+----------------------+----------+------------+-------------------+\n",
      "|          364|2499719|        1609|             Arsenal|                 0.0|               0.0|               0.0|                   0.0|        1631|      Leicester City|                 0.0|               0.0|               0.0|                   0.0|      home|           1|2017-08-11 18:45:00|\n",
      "|          364|2499727|        1612|           Liverpool|                 0.0|               0.0|               0.0|                   0.0|        1644|             Watford|                 0.0|               0.0|               0.0|                   0.0|      away|           0|2017-08-12 11:30:00|\n",
      "|          364|2499728|        1659|     AFC Bournemouth|                 0.0|               0.0|               0.0|                   0.0|        1627|West Bromwich Albion|                 0.0|               0.0|               0.0|                   0.0|      away|           0|2017-08-12 14:00:00|\n",
      "|          364|2499722|        1628|      Crystal Palace|                 0.0|               0.0|               0.0|                   0.0|        1673|   Huddersfield Town|                 0.0|               0.0|               0.0|                   0.0|      home|           0|2017-08-12 14:00:00|\n",
      "|          364|2499723|        1639|          Stoke City|                 0.0|               0.0|               0.0|                   0.0|        1623|             Everton|                 0.0|               0.0|               0.0|                   0.0|      away|           0|2017-08-12 14:00:00|\n",
      "|          364|2499721|        1646|             Burnley|                 0.0|               0.0|               0.0|                   0.0|        1610|             Chelsea|                 0.0|               0.0|               0.0|                   0.0|      away|           1|2017-08-12 14:00:00|\n",
      "|          364|2499726|        1619|         Southampton|                 0.0|               0.0|               0.0|                   0.0|       10531|        Swansea City|                 0.0|               0.0|               0.0|                   0.0|      home|           0|2017-08-12 14:00:00|\n",
      "|          364|2499720|        1651|Brighton & Hove A...|                 0.0|               0.0|               0.0|                   0.0|        1625|     Manchester City|                 0.0|               0.0|               0.0|                   0.0|      home|           0|2017-08-12 16:30:00|\n",
      "|          364|2499725|        1613|    Newcastle United|                 0.0|               0.0|               0.0|                   0.0|        1624|   Tottenham Hotspur|                 0.0|               0.0|               0.0|                   0.0|      home|           0|2017-08-13 12:30:00|\n",
      "|          364|2499724|        1611|   Manchester United|                 0.0|               0.0|               0.0|                   0.0|        1633|     West Ham United|                 0.0|               0.0|               0.0|                   0.0|      home|           1|2017-08-13 15:00:00|\n",
      "+-------------+-------+------------+--------------------+--------------------+------------------+------------------+----------------------+------------+--------------------+--------------------+------------------+------------------+----------------------+----------+------------+-------------------+\n",
      "only showing top 10 rows\n",
      "\n"
     ]
    }
   ],
   "source": [
    "fullMatchData = spark.sql(query)\n",
    "fullMatchData.show(10)"
   ]
  },
  {
   "cell_type": "code",
   "execution_count": 29,
   "metadata": {},
   "outputs": [
    {
     "data": {
      "text/plain": [
       "1140"
      ]
     },
     "execution_count": 29,
     "metadata": {},
     "output_type": "execute_result"
    }
   ],
   "source": [
    "fullMatchData.count()"
   ]
  },
  {
   "cell_type": "markdown",
   "metadata": {},
   "source": [
    "### Feature engineering "
   ]
  },
  {
   "cell_type": "markdown",
   "metadata": {},
   "source": [
    "Aqui se crean features adicionales relacionando los valores VAEP acumulados de los dos equipos mediante restas y divisiones."
   ]
  },
  {
   "cell_type": "code",
   "execution_count": 30,
   "metadata": {},
   "outputs": [],
   "source": [
    "fullMatchData=fullMatchData.withColumn(\"pythTeam1\",fullMatchData['team1_totalVaepAccum']**2/(fullMatchData['team1_totalVaepAccum']**2 + fullMatchData['team1_againstVaepAccum']**2))\n",
    "fullMatchData=fullMatchData.withColumn(\"pythTeam2\",fullMatchData['team2_totalVaepAccum']**2/(fullMatchData['team2_totalVaepAccum']**2 + fullMatchData['team2_againstVaepAccum']**2))\n",
    "fullMatchData=fullMatchData.withColumn(\"pythdiff\",fullMatchData['pythTeam1']-fullMatchData['pythTeam2'])\n",
    "fullMatchData=fullMatchData.withColumn(\"pythdiv\",fullMatchData['pythTeam1']/fullMatchData['pythTeam2'])"
   ]
  },
  {
   "cell_type": "code",
   "execution_count": 31,
   "metadata": {},
   "outputs": [],
   "source": [
    "fullMatchData=fullMatchData.withColumn(\"totalVaepDiv\",fullMatchData['team1_totalVaepAccum']/fullMatchData['team2_totalVaepAccum'])\n",
    "fullMatchData=fullMatchData.withColumn(\"totalVaepDiff\",fullMatchData['team1_totalVaepAccum']-fullMatchData['team2_totalVaepAccum'])\n",
    "\n",
    "fullMatchData=fullMatchData.withColumn(\"OffensiveVaepDiv\",fullMatchData['team1_offVaepAccum']/fullMatchData['team2_offVaepAccum'])\n",
    "fullMatchData=fullMatchData.withColumn(\"OffensiveVaepDiff\",fullMatchData['team1_offVaepAccum']-fullMatchData['team2_offVaepAccum'])\n",
    "\n",
    "fullMatchData=fullMatchData.withColumn(\"totalDefVaepDiv\",fullMatchData['team1_defVaepAccum']/fullMatchData['team2_defVaepAccum'])\n",
    "fullMatchData=fullMatchData.withColumn(\"totalDefVaepDiff\",fullMatchData['team1_defVaepAccum']-fullMatchData['team2_defVaepAccum'])\n",
    "\n",
    "fullMatchData=fullMatchData.withColumn(\"totalVaepAgainstDiv\",fullMatchData['team1_againstVaepAccum']/fullMatchData['team2_againstVaepAccum'])\n",
    "fullMatchData=fullMatchData.withColumn(\"totalVaepAgainstDiff\",fullMatchData['team1_againstVaepAccum']-fullMatchData['team2_againstVaepAccum'])\n",
    "\n",
    "\n"
   ]
  },
  {
   "cell_type": "markdown",
   "metadata": {},
   "source": [
    "### Eliminación de filas y columnas innecesarias"
   ]
  },
  {
   "cell_type": "markdown",
   "metadata": {},
   "source": [
    "Se eliminan los datos de los primeros partidos al tener poca informacion relevante (valores acumulados nulos o muy pequeños), las filas con valores nulos o NAN y las columnas que no serán utilizadas para el análisis."
   ]
  },
  {
   "cell_type": "code",
   "execution_count": 32,
   "metadata": {},
   "outputs": [],
   "source": [
    "# Se agrega una columna nueva con el número de columna y se eliminan los primeros 110 partidos\n",
    "# La columna no se elimina posteriormente para que el algoritmo tenga noción de cuáles son los partidos más y menos\n",
    "# recientes.\n",
    "\n",
    "from pyspark.sql.functions import row_number,lit\n",
    "from pyspark.sql.window import Window\n",
    "\n",
    "w = Window().orderBy(lit('dateutc'))\n",
    "fullMatchData = fullMatchData.withColumn(\"row_num\", row_number().over(w))\n",
    "\n",
    "numberOfColumnsToDrop=110\n",
    "fullMatchData=fullMatchData.where(fullMatchData['row_num']>numberOfColumnsToDrop)"
   ]
  },
  {
   "cell_type": "code",
   "execution_count": 33,
   "metadata": {},
   "outputs": [],
   "source": [
    "# Se eliminan las columnas que no se utilizarán para el análisis\n",
    "\n",
    "df=fullMatchData.drop('competitionid','game_id','team1_teamId','team1_name','team2_teamId','team2_name','dateutc')"
   ]
  },
  {
   "cell_type": "code",
   "execution_count": 34,
   "metadata": {},
   "outputs": [
    {
     "data": {
      "text/html": [
       "<div>\n",
       "<style scoped>\n",
       "    .dataframe tbody tr th:only-of-type {\n",
       "        vertical-align: middle;\n",
       "    }\n",
       "\n",
       "    .dataframe tbody tr th {\n",
       "        vertical-align: top;\n",
       "    }\n",
       "\n",
       "    .dataframe thead th {\n",
       "        text-align: right;\n",
       "    }\n",
       "</style>\n",
       "<table border=\"1\" class=\"dataframe\">\n",
       "  <thead>\n",
       "    <tr style=\"text-align: right;\">\n",
       "      <th></th>\n",
       "      <th>team1_totalVaepAccum</th>\n",
       "      <th>team1_offVaepAccum</th>\n",
       "      <th>team1_defVaepAccum</th>\n",
       "      <th>team1_againstVaepAccum</th>\n",
       "      <th>team2_totalVaepAccum</th>\n",
       "      <th>team2_offVaepAccum</th>\n",
       "      <th>team2_defVaepAccum</th>\n",
       "      <th>team2_againstVaepAccum</th>\n",
       "      <th>team1_side</th>\n",
       "      <th>team1winflag</th>\n",
       "      <th>...</th>\n",
       "      <th>pythdiv</th>\n",
       "      <th>totalVaepDiv</th>\n",
       "      <th>totalVaepDiff</th>\n",
       "      <th>OffensiveVaepDiv</th>\n",
       "      <th>OffensiveVaepDiff</th>\n",
       "      <th>totalDefVaepDiv</th>\n",
       "      <th>totalDefVaepDiff</th>\n",
       "      <th>totalVaepAgainstDiv</th>\n",
       "      <th>totalVaepAgainstDiff</th>\n",
       "      <th>row_num</th>\n",
       "    </tr>\n",
       "  </thead>\n",
       "  <tbody>\n",
       "    <tr>\n",
       "      <th>0</th>\n",
       "      <td>62.256439</td>\n",
       "      <td>58.418385</td>\n",
       "      <td>3.838054</td>\n",
       "      <td>19.852099</td>\n",
       "      <td>31.986823</td>\n",
       "      <td>31.092704</td>\n",
       "      <td>0.894119</td>\n",
       "      <td>-14.269763</td>\n",
       "      <td>away</td>\n",
       "      <td>0</td>\n",
       "      <td>...</td>\n",
       "      <td>1.088352</td>\n",
       "      <td>1.946315</td>\n",
       "      <td>30.269616</td>\n",
       "      <td>1.878845</td>\n",
       "      <td>27.325681</td>\n",
       "      <td>4.292556</td>\n",
       "      <td>2.943935</td>\n",
       "      <td>-1.391200</td>\n",
       "      <td>34.121862</td>\n",
       "      <td>111</td>\n",
       "    </tr>\n",
       "    <tr>\n",
       "      <th>1</th>\n",
       "      <td>52.639141</td>\n",
       "      <td>49.548289</td>\n",
       "      <td>3.090851</td>\n",
       "      <td>16.997119</td>\n",
       "      <td>37.673858</td>\n",
       "      <td>33.301245</td>\n",
       "      <td>4.372613</td>\n",
       "      <td>-17.947661</td>\n",
       "      <td>home</td>\n",
       "      <td>0</td>\n",
       "      <td>...</td>\n",
       "      <td>1.111105</td>\n",
       "      <td>1.397233</td>\n",
       "      <td>14.965282</td>\n",
       "      <td>1.487881</td>\n",
       "      <td>16.247044</td>\n",
       "      <td>0.706866</td>\n",
       "      <td>-1.281762</td>\n",
       "      <td>-0.947038</td>\n",
       "      <td>34.944780</td>\n",
       "      <td>112</td>\n",
       "    </tr>\n",
       "    <tr>\n",
       "      <th>2</th>\n",
       "      <td>42.908403</td>\n",
       "      <td>40.381314</td>\n",
       "      <td>2.527089</td>\n",
       "      <td>3.171343</td>\n",
       "      <td>34.815139</td>\n",
       "      <td>33.878986</td>\n",
       "      <td>0.936153</td>\n",
       "      <td>-2.494625</td>\n",
       "      <td>home</td>\n",
       "      <td>0</td>\n",
       "      <td>...</td>\n",
       "      <td>0.999673</td>\n",
       "      <td>1.232464</td>\n",
       "      <td>8.093264</td>\n",
       "      <td>1.191928</td>\n",
       "      <td>6.502328</td>\n",
       "      <td>2.699440</td>\n",
       "      <td>1.590936</td>\n",
       "      <td>-1.271270</td>\n",
       "      <td>5.665968</td>\n",
       "      <td>113</td>\n",
       "    </tr>\n",
       "    <tr>\n",
       "      <th>3</th>\n",
       "      <td>46.285169</td>\n",
       "      <td>44.589501</td>\n",
       "      <td>1.695668</td>\n",
       "      <td>11.997312</td>\n",
       "      <td>41.094806</td>\n",
       "      <td>34.524585</td>\n",
       "      <td>6.570221</td>\n",
       "      <td>-22.434370</td>\n",
       "      <td>away</td>\n",
       "      <td>1</td>\n",
       "      <td>...</td>\n",
       "      <td>1.216306</td>\n",
       "      <td>1.126302</td>\n",
       "      <td>5.190363</td>\n",
       "      <td>1.291529</td>\n",
       "      <td>10.064916</td>\n",
       "      <td>0.258084</td>\n",
       "      <td>-4.874553</td>\n",
       "      <td>-0.534774</td>\n",
       "      <td>34.431682</td>\n",
       "      <td>114</td>\n",
       "    </tr>\n",
       "    <tr>\n",
       "      <th>4</th>\n",
       "      <td>31.167319</td>\n",
       "      <td>27.921339</td>\n",
       "      <td>3.245980</td>\n",
       "      <td>-21.547131</td>\n",
       "      <td>68.154509</td>\n",
       "      <td>65.726951</td>\n",
       "      <td>2.427559</td>\n",
       "      <td>33.638116</td>\n",
       "      <td>away</td>\n",
       "      <td>0</td>\n",
       "      <td>...</td>\n",
       "      <td>0.841436</td>\n",
       "      <td>0.457304</td>\n",
       "      <td>-36.987190</td>\n",
       "      <td>0.424808</td>\n",
       "      <td>-37.805612</td>\n",
       "      <td>1.337138</td>\n",
       "      <td>0.818421</td>\n",
       "      <td>-0.640557</td>\n",
       "      <td>-55.185247</td>\n",
       "      <td>115</td>\n",
       "    </tr>\n",
       "    <tr>\n",
       "      <th>...</th>\n",
       "      <td>...</td>\n",
       "      <td>...</td>\n",
       "      <td>...</td>\n",
       "      <td>...</td>\n",
       "      <td>...</td>\n",
       "      <td>...</td>\n",
       "      <td>...</td>\n",
       "      <td>...</td>\n",
       "      <td>...</td>\n",
       "      <td>...</td>\n",
       "      <td>...</td>\n",
       "      <td>...</td>\n",
       "      <td>...</td>\n",
       "      <td>...</td>\n",
       "      <td>...</td>\n",
       "      <td>...</td>\n",
       "      <td>...</td>\n",
       "      <td>...</td>\n",
       "      <td>...</td>\n",
       "      <td>...</td>\n",
       "      <td>...</td>\n",
       "    </tr>\n",
       "    <tr>\n",
       "      <th>1025</th>\n",
       "      <td>54.970672</td>\n",
       "      <td>53.156055</td>\n",
       "      <td>1.814617</td>\n",
       "      <td>18.837231</td>\n",
       "      <td>42.727455</td>\n",
       "      <td>39.482025</td>\n",
       "      <td>3.245430</td>\n",
       "      <td>-15.580456</td>\n",
       "      <td>home</td>\n",
       "      <td>0</td>\n",
       "      <td>...</td>\n",
       "      <td>1.013907</td>\n",
       "      <td>1.286542</td>\n",
       "      <td>12.243217</td>\n",
       "      <td>1.346336</td>\n",
       "      <td>13.674030</td>\n",
       "      <td>0.559130</td>\n",
       "      <td>-1.430813</td>\n",
       "      <td>-1.209030</td>\n",
       "      <td>34.417687</td>\n",
       "      <td>1136</td>\n",
       "    </tr>\n",
       "    <tr>\n",
       "      <th>1026</th>\n",
       "      <td>35.737135</td>\n",
       "      <td>33.387977</td>\n",
       "      <td>2.349158</td>\n",
       "      <td>-4.771341</td>\n",
       "      <td>43.092235</td>\n",
       "      <td>40.430818</td>\n",
       "      <td>2.661416</td>\n",
       "      <td>5.089794</td>\n",
       "      <td>home</td>\n",
       "      <td>0</td>\n",
       "      <td>...</td>\n",
       "      <td>0.996193</td>\n",
       "      <td>0.829317</td>\n",
       "      <td>-7.355100</td>\n",
       "      <td>0.825805</td>\n",
       "      <td>-7.042842</td>\n",
       "      <td>0.882672</td>\n",
       "      <td>-0.312258</td>\n",
       "      <td>-0.937433</td>\n",
       "      <td>-9.861135</td>\n",
       "      <td>1137</td>\n",
       "    </tr>\n",
       "    <tr>\n",
       "      <th>1027</th>\n",
       "      <td>48.057910</td>\n",
       "      <td>45.195870</td>\n",
       "      <td>2.862040</td>\n",
       "      <td>17.241111</td>\n",
       "      <td>44.845003</td>\n",
       "      <td>42.306831</td>\n",
       "      <td>2.538172</td>\n",
       "      <td>8.068928</td>\n",
       "      <td>away</td>\n",
       "      <td>0</td>\n",
       "      <td>...</td>\n",
       "      <td>0.914653</td>\n",
       "      <td>1.071645</td>\n",
       "      <td>3.212907</td>\n",
       "      <td>1.068288</td>\n",
       "      <td>2.889039</td>\n",
       "      <td>1.127599</td>\n",
       "      <td>0.323868</td>\n",
       "      <td>2.136729</td>\n",
       "      <td>9.172183</td>\n",
       "      <td>1138</td>\n",
       "    </tr>\n",
       "    <tr>\n",
       "      <th>1028</th>\n",
       "      <td>38.313494</td>\n",
       "      <td>35.218284</td>\n",
       "      <td>3.095210</td>\n",
       "      <td>-5.116042</td>\n",
       "      <td>41.887939</td>\n",
       "      <td>38.599951</td>\n",
       "      <td>3.287988</td>\n",
       "      <td>0.051916</td>\n",
       "      <td>away</td>\n",
       "      <td>0</td>\n",
       "      <td>...</td>\n",
       "      <td>0.982483</td>\n",
       "      <td>0.914666</td>\n",
       "      <td>-3.574445</td>\n",
       "      <td>0.912392</td>\n",
       "      <td>-3.381668</td>\n",
       "      <td>0.941369</td>\n",
       "      <td>-0.192778</td>\n",
       "      <td>-98.545003</td>\n",
       "      <td>-5.167958</td>\n",
       "      <td>1139</td>\n",
       "    </tr>\n",
       "    <tr>\n",
       "      <th>1029</th>\n",
       "      <td>42.790739</td>\n",
       "      <td>39.715586</td>\n",
       "      <td>3.075153</td>\n",
       "      <td>16.171128</td>\n",
       "      <td>35.668474</td>\n",
       "      <td>33.948608</td>\n",
       "      <td>1.719867</td>\n",
       "      <td>4.114544</td>\n",
       "      <td>home</td>\n",
       "      <td>1</td>\n",
       "      <td>...</td>\n",
       "      <td>0.886674</td>\n",
       "      <td>1.199680</td>\n",
       "      <td>7.122264</td>\n",
       "      <td>1.169874</td>\n",
       "      <td>5.766978</td>\n",
       "      <td>1.788018</td>\n",
       "      <td>1.355286</td>\n",
       "      <td>3.930236</td>\n",
       "      <td>12.056584</td>\n",
       "      <td>1140</td>\n",
       "    </tr>\n",
       "  </tbody>\n",
       "</table>\n",
       "<p>1030 rows × 23 columns</p>\n",
       "</div>"
      ],
      "text/plain": [
       "      team1_totalVaepAccum  team1_offVaepAccum  team1_defVaepAccum  \\\n",
       "0                62.256439           58.418385            3.838054   \n",
       "1                52.639141           49.548289            3.090851   \n",
       "2                42.908403           40.381314            2.527089   \n",
       "3                46.285169           44.589501            1.695668   \n",
       "4                31.167319           27.921339            3.245980   \n",
       "...                    ...                 ...                 ...   \n",
       "1025             54.970672           53.156055            1.814617   \n",
       "1026             35.737135           33.387977            2.349158   \n",
       "1027             48.057910           45.195870            2.862040   \n",
       "1028             38.313494           35.218284            3.095210   \n",
       "1029             42.790739           39.715586            3.075153   \n",
       "\n",
       "      team1_againstVaepAccum  team2_totalVaepAccum  team2_offVaepAccum  \\\n",
       "0                  19.852099             31.986823           31.092704   \n",
       "1                  16.997119             37.673858           33.301245   \n",
       "2                   3.171343             34.815139           33.878986   \n",
       "3                  11.997312             41.094806           34.524585   \n",
       "4                 -21.547131             68.154509           65.726951   \n",
       "...                      ...                   ...                 ...   \n",
       "1025               18.837231             42.727455           39.482025   \n",
       "1026               -4.771341             43.092235           40.430818   \n",
       "1027               17.241111             44.845003           42.306831   \n",
       "1028               -5.116042             41.887939           38.599951   \n",
       "1029               16.171128             35.668474           33.948608   \n",
       "\n",
       "      team2_defVaepAccum  team2_againstVaepAccum team1_side  team1winflag  \\\n",
       "0               0.894119              -14.269763       away             0   \n",
       "1               4.372613              -17.947661       home             0   \n",
       "2               0.936153               -2.494625       home             0   \n",
       "3               6.570221              -22.434370       away             1   \n",
       "4               2.427559               33.638116       away             0   \n",
       "...                  ...                     ...        ...           ...   \n",
       "1025            3.245430              -15.580456       home             0   \n",
       "1026            2.661416                5.089794       home             0   \n",
       "1027            2.538172                8.068928       away             0   \n",
       "1028            3.287988                0.051916       away             0   \n",
       "1029            1.719867                4.114544       home             1   \n",
       "\n",
       "      ...   pythdiv  totalVaepDiv  totalVaepDiff  OffensiveVaepDiv  \\\n",
       "0     ...  1.088352      1.946315      30.269616          1.878845   \n",
       "1     ...  1.111105      1.397233      14.965282          1.487881   \n",
       "2     ...  0.999673      1.232464       8.093264          1.191928   \n",
       "3     ...  1.216306      1.126302       5.190363          1.291529   \n",
       "4     ...  0.841436      0.457304     -36.987190          0.424808   \n",
       "...   ...       ...           ...            ...               ...   \n",
       "1025  ...  1.013907      1.286542      12.243217          1.346336   \n",
       "1026  ...  0.996193      0.829317      -7.355100          0.825805   \n",
       "1027  ...  0.914653      1.071645       3.212907          1.068288   \n",
       "1028  ...  0.982483      0.914666      -3.574445          0.912392   \n",
       "1029  ...  0.886674      1.199680       7.122264          1.169874   \n",
       "\n",
       "      OffensiveVaepDiff  totalDefVaepDiv  totalDefVaepDiff  \\\n",
       "0             27.325681         4.292556          2.943935   \n",
       "1             16.247044         0.706866         -1.281762   \n",
       "2              6.502328         2.699440          1.590936   \n",
       "3             10.064916         0.258084         -4.874553   \n",
       "4            -37.805612         1.337138          0.818421   \n",
       "...                 ...              ...               ...   \n",
       "1025          13.674030         0.559130         -1.430813   \n",
       "1026          -7.042842         0.882672         -0.312258   \n",
       "1027           2.889039         1.127599          0.323868   \n",
       "1028          -3.381668         0.941369         -0.192778   \n",
       "1029           5.766978         1.788018          1.355286   \n",
       "\n",
       "      totalVaepAgainstDiv  totalVaepAgainstDiff  row_num  \n",
       "0               -1.391200             34.121862      111  \n",
       "1               -0.947038             34.944780      112  \n",
       "2               -1.271270              5.665968      113  \n",
       "3               -0.534774             34.431682      114  \n",
       "4               -0.640557            -55.185247      115  \n",
       "...                   ...                   ...      ...  \n",
       "1025            -1.209030             34.417687     1136  \n",
       "1026            -0.937433             -9.861135     1137  \n",
       "1027             2.136729              9.172183     1138  \n",
       "1028           -98.545003             -5.167958     1139  \n",
       "1029             3.930236             12.056584     1140  \n",
       "\n",
       "[1030 rows x 23 columns]"
      ]
     },
     "execution_count": 34,
     "metadata": {},
     "output_type": "execute_result"
    }
   ],
   "source": [
    "# Estas son las features finales antes del análisis\n",
    "\n",
    "df.toPandas()"
   ]
  },
  {
   "cell_type": "code",
   "execution_count": 35,
   "metadata": {},
   "outputs": [],
   "source": [
    "# Se elimnan las filas con NANs y NuLLs\n",
    "\n",
    "df=df.na.drop(\"any\")"
   ]
  },
  {
   "cell_type": "code",
   "execution_count": 36,
   "metadata": {},
   "outputs": [
    {
     "data": {
      "text/html": [
       "<div>\n",
       "<style scoped>\n",
       "    .dataframe tbody tr th:only-of-type {\n",
       "        vertical-align: middle;\n",
       "    }\n",
       "\n",
       "    .dataframe tbody tr th {\n",
       "        vertical-align: top;\n",
       "    }\n",
       "\n",
       "    .dataframe thead th {\n",
       "        text-align: right;\n",
       "    }\n",
       "</style>\n",
       "<table border=\"1\" class=\"dataframe\">\n",
       "  <thead>\n",
       "    <tr style=\"text-align: right;\">\n",
       "      <th></th>\n",
       "      <th>team1_totalVaepAccum</th>\n",
       "      <th>team1_offVaepAccum</th>\n",
       "      <th>team1_defVaepAccum</th>\n",
       "      <th>team1_againstVaepAccum</th>\n",
       "      <th>team2_totalVaepAccum</th>\n",
       "      <th>team2_offVaepAccum</th>\n",
       "      <th>team2_defVaepAccum</th>\n",
       "      <th>team2_againstVaepAccum</th>\n",
       "      <th>team1_side</th>\n",
       "      <th>team1winflag</th>\n",
       "      <th>...</th>\n",
       "      <th>pythdiv</th>\n",
       "      <th>totalVaepDiv</th>\n",
       "      <th>totalVaepDiff</th>\n",
       "      <th>OffensiveVaepDiv</th>\n",
       "      <th>OffensiveVaepDiff</th>\n",
       "      <th>totalDefVaepDiv</th>\n",
       "      <th>totalDefVaepDiff</th>\n",
       "      <th>totalVaepAgainstDiv</th>\n",
       "      <th>totalVaepAgainstDiff</th>\n",
       "      <th>row_num</th>\n",
       "    </tr>\n",
       "  </thead>\n",
       "  <tbody>\n",
       "    <tr>\n",
       "      <th>0</th>\n",
       "      <td>4.348786</td>\n",
       "      <td>4.060909</td>\n",
       "      <td>0.287877</td>\n",
       "      <td>-2.059870</td>\n",
       "      <td>7.616157</td>\n",
       "      <td>7.556213</td>\n",
       "      <td>0.059944</td>\n",
       "      <td>1.829438</td>\n",
       "      <td>away</td>\n",
       "      <td>0</td>\n",
       "      <td>...</td>\n",
       "      <td>0.863879</td>\n",
       "      <td>0.570995</td>\n",
       "      <td>-3.267371</td>\n",
       "      <td>0.537427</td>\n",
       "      <td>-3.495304</td>\n",
       "      <td>4.802399</td>\n",
       "      <td>0.227932</td>\n",
       "      <td>-1.125958</td>\n",
       "      <td>-3.889309</td>\n",
       "      <td>111</td>\n",
       "    </tr>\n",
       "    <tr>\n",
       "      <th>1</th>\n",
       "      <td>5.616330</td>\n",
       "      <td>5.373874</td>\n",
       "      <td>0.242455</td>\n",
       "      <td>-2.413288</td>\n",
       "      <td>9.396289</td>\n",
       "      <td>8.730638</td>\n",
       "      <td>0.665651</td>\n",
       "      <td>2.550623</td>\n",
       "      <td>away</td>\n",
       "      <td>0</td>\n",
       "      <td>...</td>\n",
       "      <td>0.906343</td>\n",
       "      <td>0.597718</td>\n",
       "      <td>-3.779959</td>\n",
       "      <td>0.615519</td>\n",
       "      <td>-3.356763</td>\n",
       "      <td>0.364238</td>\n",
       "      <td>-0.423196</td>\n",
       "      <td>-0.946156</td>\n",
       "      <td>-4.963911</td>\n",
       "      <td>112</td>\n",
       "    </tr>\n",
       "    <tr>\n",
       "      <th>2</th>\n",
       "      <td>5.962385</td>\n",
       "      <td>5.601157</td>\n",
       "      <td>0.361228</td>\n",
       "      <td>-4.425627</td>\n",
       "      <td>5.382625</td>\n",
       "      <td>4.916190</td>\n",
       "      <td>0.466435</td>\n",
       "      <td>-2.215435</td>\n",
       "      <td>away</td>\n",
       "      <td>0</td>\n",
       "      <td>...</td>\n",
       "      <td>0.753995</td>\n",
       "      <td>1.107710</td>\n",
       "      <td>0.579761</td>\n",
       "      <td>1.139329</td>\n",
       "      <td>0.684968</td>\n",
       "      <td>0.774445</td>\n",
       "      <td>-0.105207</td>\n",
       "      <td>1.997633</td>\n",
       "      <td>-2.210192</td>\n",
       "      <td>113</td>\n",
       "    </tr>\n",
       "    <tr>\n",
       "      <th>3</th>\n",
       "      <td>9.809754</td>\n",
       "      <td>9.346874</td>\n",
       "      <td>0.462879</td>\n",
       "      <td>3.821610</td>\n",
       "      <td>4.385033</td>\n",
       "      <td>3.845625</td>\n",
       "      <td>0.539409</td>\n",
       "      <td>-3.273826</td>\n",
       "      <td>home</td>\n",
       "      <td>1</td>\n",
       "      <td>...</td>\n",
       "      <td>1.352182</td>\n",
       "      <td>2.237099</td>\n",
       "      <td>5.424720</td>\n",
       "      <td>2.430522</td>\n",
       "      <td>5.501249</td>\n",
       "      <td>0.858124</td>\n",
       "      <td>-0.076529</td>\n",
       "      <td>-1.167322</td>\n",
       "      <td>7.095436</td>\n",
       "      <td>114</td>\n",
       "    </tr>\n",
       "    <tr>\n",
       "      <th>4</th>\n",
       "      <td>3.820187</td>\n",
       "      <td>3.435519</td>\n",
       "      <td>0.384668</td>\n",
       "      <td>-1.345644</td>\n",
       "      <td>3.342920</td>\n",
       "      <td>2.541575</td>\n",
       "      <td>0.801345</td>\n",
       "      <td>-5.781949</td>\n",
       "      <td>home</td>\n",
       "      <td>1</td>\n",
       "      <td>...</td>\n",
       "      <td>3.550959</td>\n",
       "      <td>1.142769</td>\n",
       "      <td>0.477266</td>\n",
       "      <td>1.351728</td>\n",
       "      <td>0.893943</td>\n",
       "      <td>0.480028</td>\n",
       "      <td>-0.416677</td>\n",
       "      <td>0.232732</td>\n",
       "      <td>4.436305</td>\n",
       "      <td>115</td>\n",
       "    </tr>\n",
       "    <tr>\n",
       "      <th>...</th>\n",
       "      <td>...</td>\n",
       "      <td>...</td>\n",
       "      <td>...</td>\n",
       "      <td>...</td>\n",
       "      <td>...</td>\n",
       "      <td>...</td>\n",
       "      <td>...</td>\n",
       "      <td>...</td>\n",
       "      <td>...</td>\n",
       "      <td>...</td>\n",
       "      <td>...</td>\n",
       "      <td>...</td>\n",
       "      <td>...</td>\n",
       "      <td>...</td>\n",
       "      <td>...</td>\n",
       "      <td>...</td>\n",
       "      <td>...</td>\n",
       "      <td>...</td>\n",
       "      <td>...</td>\n",
       "      <td>...</td>\n",
       "      <td>...</td>\n",
       "    </tr>\n",
       "    <tr>\n",
       "      <th>1025</th>\n",
       "      <td>79.067737</td>\n",
       "      <td>80.202457</td>\n",
       "      <td>-1.134720</td>\n",
       "      <td>-4.809436</td>\n",
       "      <td>64.610715</td>\n",
       "      <td>60.651563</td>\n",
       "      <td>3.959153</td>\n",
       "      <td>-17.091040</td>\n",
       "      <td>away</td>\n",
       "      <td>0</td>\n",
       "      <td>...</td>\n",
       "      <td>1.066028</td>\n",
       "      <td>1.223756</td>\n",
       "      <td>14.457021</td>\n",
       "      <td>1.322348</td>\n",
       "      <td>19.550894</td>\n",
       "      <td>-0.286607</td>\n",
       "      <td>-5.093873</td>\n",
       "      <td>0.281401</td>\n",
       "      <td>12.281604</td>\n",
       "      <td>1136</td>\n",
       "    </tr>\n",
       "    <tr>\n",
       "      <th>1026</th>\n",
       "      <td>90.463882</td>\n",
       "      <td>84.685144</td>\n",
       "      <td>5.778737</td>\n",
       "      <td>30.032876</td>\n",
       "      <td>72.871082</td>\n",
       "      <td>72.426754</td>\n",
       "      <td>0.444328</td>\n",
       "      <td>-0.456343</td>\n",
       "      <td>home</td>\n",
       "      <td>0</td>\n",
       "      <td>...</td>\n",
       "      <td>0.900761</td>\n",
       "      <td>1.241424</td>\n",
       "      <td>17.592800</td>\n",
       "      <td>1.169252</td>\n",
       "      <td>12.258390</td>\n",
       "      <td>13.005567</td>\n",
       "      <td>5.334410</td>\n",
       "      <td>-65.812037</td>\n",
       "      <td>30.489219</td>\n",
       "      <td>1137</td>\n",
       "    </tr>\n",
       "    <tr>\n",
       "      <th>1027</th>\n",
       "      <td>131.912998</td>\n",
       "      <td>129.204383</td>\n",
       "      <td>2.708616</td>\n",
       "      <td>63.698653</td>\n",
       "      <td>95.855389</td>\n",
       "      <td>93.810651</td>\n",
       "      <td>2.044739</td>\n",
       "      <td>10.269121</td>\n",
       "      <td>home</td>\n",
       "      <td>1</td>\n",
       "      <td>...</td>\n",
       "      <td>0.820221</td>\n",
       "      <td>1.376167</td>\n",
       "      <td>36.057609</td>\n",
       "      <td>1.377289</td>\n",
       "      <td>35.393732</td>\n",
       "      <td>1.324675</td>\n",
       "      <td>0.663876</td>\n",
       "      <td>6.202931</td>\n",
       "      <td>53.429532</td>\n",
       "      <td>1138</td>\n",
       "    </tr>\n",
       "    <tr>\n",
       "      <th>1028</th>\n",
       "      <td>111.339853</td>\n",
       "      <td>105.522377</td>\n",
       "      <td>5.817476</td>\n",
       "      <td>38.481203</td>\n",
       "      <td>91.181520</td>\n",
       "      <td>86.110300</td>\n",
       "      <td>5.071220</td>\n",
       "      <td>33.057884</td>\n",
       "      <td>home</td>\n",
       "      <td>0</td>\n",
       "      <td>...</td>\n",
       "      <td>1.010711</td>\n",
       "      <td>1.221079</td>\n",
       "      <td>20.158332</td>\n",
       "      <td>1.225433</td>\n",
       "      <td>19.412076</td>\n",
       "      <td>1.147155</td>\n",
       "      <td>0.746257</td>\n",
       "      <td>1.164055</td>\n",
       "      <td>5.423319</td>\n",
       "      <td>1139</td>\n",
       "    </tr>\n",
       "    <tr>\n",
       "      <th>1029</th>\n",
       "      <td>86.357842</td>\n",
       "      <td>84.069288</td>\n",
       "      <td>2.288554</td>\n",
       "      <td>27.321400</td>\n",
       "      <td>56.398151</td>\n",
       "      <td>50.975976</td>\n",
       "      <td>5.422176</td>\n",
       "      <td>-35.580216</td>\n",
       "      <td>away</td>\n",
       "      <td>1</td>\n",
       "      <td>...</td>\n",
       "      <td>1.270806</td>\n",
       "      <td>1.531218</td>\n",
       "      <td>29.959691</td>\n",
       "      <td>1.649194</td>\n",
       "      <td>33.093313</td>\n",
       "      <td>0.422073</td>\n",
       "      <td>-3.133621</td>\n",
       "      <td>-0.767882</td>\n",
       "      <td>62.901617</td>\n",
       "      <td>1140</td>\n",
       "    </tr>\n",
       "  </tbody>\n",
       "</table>\n",
       "<p>1030 rows × 23 columns</p>\n",
       "</div>"
      ],
      "text/plain": [
       "      team1_totalVaepAccum  team1_offVaepAccum  team1_defVaepAccum  \\\n",
       "0                 4.348786            4.060909            0.287877   \n",
       "1                 5.616330            5.373874            0.242455   \n",
       "2                 5.962385            5.601157            0.361228   \n",
       "3                 9.809754            9.346874            0.462879   \n",
       "4                 3.820187            3.435519            0.384668   \n",
       "...                    ...                 ...                 ...   \n",
       "1025             79.067737           80.202457           -1.134720   \n",
       "1026             90.463882           84.685144            5.778737   \n",
       "1027            131.912998          129.204383            2.708616   \n",
       "1028            111.339853          105.522377            5.817476   \n",
       "1029             86.357842           84.069288            2.288554   \n",
       "\n",
       "      team1_againstVaepAccum  team2_totalVaepAccum  team2_offVaepAccum  \\\n",
       "0                  -2.059870              7.616157            7.556213   \n",
       "1                  -2.413288              9.396289            8.730638   \n",
       "2                  -4.425627              5.382625            4.916190   \n",
       "3                   3.821610              4.385033            3.845625   \n",
       "4                  -1.345644              3.342920            2.541575   \n",
       "...                      ...                   ...                 ...   \n",
       "1025               -4.809436             64.610715           60.651563   \n",
       "1026               30.032876             72.871082           72.426754   \n",
       "1027               63.698653             95.855389           93.810651   \n",
       "1028               38.481203             91.181520           86.110300   \n",
       "1029               27.321400             56.398151           50.975976   \n",
       "\n",
       "      team2_defVaepAccum  team2_againstVaepAccum team1_side  team1winflag  \\\n",
       "0               0.059944                1.829438       away             0   \n",
       "1               0.665651                2.550623       away             0   \n",
       "2               0.466435               -2.215435       away             0   \n",
       "3               0.539409               -3.273826       home             1   \n",
       "4               0.801345               -5.781949       home             1   \n",
       "...                  ...                     ...        ...           ...   \n",
       "1025            3.959153              -17.091040       away             0   \n",
       "1026            0.444328               -0.456343       home             0   \n",
       "1027            2.044739               10.269121       home             1   \n",
       "1028            5.071220               33.057884       home             0   \n",
       "1029            5.422176              -35.580216       away             1   \n",
       "\n",
       "      ...   pythdiv  totalVaepDiv  totalVaepDiff  OffensiveVaepDiv  \\\n",
       "0     ...  0.863879      0.570995      -3.267371          0.537427   \n",
       "1     ...  0.906343      0.597718      -3.779959          0.615519   \n",
       "2     ...  0.753995      1.107710       0.579761          1.139329   \n",
       "3     ...  1.352182      2.237099       5.424720          2.430522   \n",
       "4     ...  3.550959      1.142769       0.477266          1.351728   \n",
       "...   ...       ...           ...            ...               ...   \n",
       "1025  ...  1.066028      1.223756      14.457021          1.322348   \n",
       "1026  ...  0.900761      1.241424      17.592800          1.169252   \n",
       "1027  ...  0.820221      1.376167      36.057609          1.377289   \n",
       "1028  ...  1.010711      1.221079      20.158332          1.225433   \n",
       "1029  ...  1.270806      1.531218      29.959691          1.649194   \n",
       "\n",
       "      OffensiveVaepDiff  totalDefVaepDiv  totalDefVaepDiff  \\\n",
       "0             -3.495304         4.802399          0.227932   \n",
       "1             -3.356763         0.364238         -0.423196   \n",
       "2              0.684968         0.774445         -0.105207   \n",
       "3              5.501249         0.858124         -0.076529   \n",
       "4              0.893943         0.480028         -0.416677   \n",
       "...                 ...              ...               ...   \n",
       "1025          19.550894        -0.286607         -5.093873   \n",
       "1026          12.258390        13.005567          5.334410   \n",
       "1027          35.393732         1.324675          0.663876   \n",
       "1028          19.412076         1.147155          0.746257   \n",
       "1029          33.093313         0.422073         -3.133621   \n",
       "\n",
       "      totalVaepAgainstDiv  totalVaepAgainstDiff  row_num  \n",
       "0               -1.125958             -3.889309      111  \n",
       "1               -0.946156             -4.963911      112  \n",
       "2                1.997633             -2.210192      113  \n",
       "3               -1.167322              7.095436      114  \n",
       "4                0.232732              4.436305      115  \n",
       "...                   ...                   ...      ...  \n",
       "1025             0.281401             12.281604     1136  \n",
       "1026           -65.812037             30.489219     1137  \n",
       "1027             6.202931             53.429532     1138  \n",
       "1028             1.164055              5.423319     1139  \n",
       "1029            -0.767882             62.901617     1140  \n",
       "\n",
       "[1030 rows x 23 columns]"
      ]
     },
     "execution_count": 36,
     "metadata": {},
     "output_type": "execute_result"
    }
   ],
   "source": [
    "# Asi queda el dataframe final\n",
    "\n",
    "df.toPandas()"
   ]
  },
  {
   "cell_type": "code",
   "execution_count": 37,
   "metadata": {},
   "outputs": [
    {
     "data": {
      "text/plain": [
       "team1_totalVaepAccum      0\n",
       "team1_offVaepAccum        0\n",
       "team1_defVaepAccum        0\n",
       "team1_againstVaepAccum    0\n",
       "team2_totalVaepAccum      0\n",
       "team2_offVaepAccum        0\n",
       "team2_defVaepAccum        0\n",
       "team2_againstVaepAccum    0\n",
       "team1_side                0\n",
       "team1winflag              0\n",
       "pythTeam1                 0\n",
       "pythTeam2                 0\n",
       "pythdiff                  0\n",
       "pythdiv                   0\n",
       "totalVaepDiv              0\n",
       "totalVaepDiff             0\n",
       "OffensiveVaepDiv          0\n",
       "OffensiveVaepDiff         0\n",
       "totalDefVaepDiv           0\n",
       "totalDefVaepDiff          0\n",
       "totalVaepAgainstDiv       0\n",
       "totalVaepAgainstDiff      0\n",
       "row_num                   0\n",
       "dtype: int64"
      ]
     },
     "execution_count": 37,
     "metadata": {},
     "output_type": "execute_result"
    }
   ],
   "source": [
    "df.toPandas().isna().sum() "
   ]
  },
  {
   "cell_type": "code",
   "execution_count": 38,
   "metadata": {},
   "outputs": [
    {
     "data": {
      "text/plain": [
       "team1_totalVaepAccum      0\n",
       "team1_offVaepAccum        0\n",
       "team1_defVaepAccum        0\n",
       "team1_againstVaepAccum    0\n",
       "team2_totalVaepAccum      0\n",
       "team2_offVaepAccum        0\n",
       "team2_defVaepAccum        0\n",
       "team2_againstVaepAccum    0\n",
       "team1_side                0\n",
       "team1winflag              0\n",
       "pythTeam1                 0\n",
       "pythTeam2                 0\n",
       "pythdiff                  0\n",
       "pythdiv                   0\n",
       "totalVaepDiv              0\n",
       "totalVaepDiff             0\n",
       "OffensiveVaepDiv          0\n",
       "OffensiveVaepDiff         0\n",
       "totalDefVaepDiv           0\n",
       "totalDefVaepDiff          0\n",
       "totalVaepAgainstDiv       0\n",
       "totalVaepAgainstDiff      0\n",
       "row_num                   0\n",
       "dtype: int64"
      ]
     },
     "execution_count": 38,
     "metadata": {},
     "output_type": "execute_result"
    }
   ],
   "source": [
    "df.toPandas().isnull().sum() "
   ]
  },
  {
   "cell_type": "markdown",
   "metadata": {},
   "source": [
    "### Estimación de victoria con el algoritmo random forest (simple)"
   ]
  },
  {
   "cell_type": "markdown",
   "metadata": {},
   "source": [
    "En la siguiente sección se utiliza el algoritmo random forest para predecir si el equipo 1 ganará o no en base a las features obtenidas en la sección anterior sin optimización de hiperparametros."
   ]
  },
  {
   "cell_type": "code",
   "execution_count": 39,
   "metadata": {},
   "outputs": [],
   "source": [
    "# Se protege la variable a estimar\n",
    "\n",
    "PROTECTED_COLS = ['team1winflag']"
   ]
  },
  {
   "cell_type": "code",
   "execution_count": 40,
   "metadata": {},
   "outputs": [],
   "source": [
    "def _get_typed_cols(df, col_type='cat'):\n",
    "    assert col_type in ('cat', 'num')\n",
    "    dtypes = ('int', 'double') if col_type == 'num' else ('string')\n",
    "    typed_cols = [c for c,dtype in df.dtypes if dtype.startswith(dtypes) \n",
    "                  and c not in PROTECTED_COLS]\n",
    "    return typed_cols"
   ]
  },
  {
   "cell_type": "code",
   "execution_count": 41,
   "metadata": {},
   "outputs": [
    {
     "data": {
      "text/plain": [
       "(['team1_side'],\n",
       " ['team1_totalVaepAccum',\n",
       "  'team1_offVaepAccum',\n",
       "  'team1_defVaepAccum',\n",
       "  'team1_againstVaepAccum',\n",
       "  'team2_totalVaepAccum',\n",
       "  'team2_offVaepAccum',\n",
       "  'team2_defVaepAccum',\n",
       "  'team2_againstVaepAccum',\n",
       "  'pythTeam1',\n",
       "  'pythTeam2',\n",
       "  'pythdiff',\n",
       "  'pythdiv',\n",
       "  'totalVaepDiv',\n",
       "  'totalVaepDiff',\n",
       "  'OffensiveVaepDiv',\n",
       "  'OffensiveVaepDiff',\n",
       "  'totalDefVaepDiv',\n",
       "  'totalDefVaepDiff',\n",
       "  'totalVaepAgainstDiv',\n",
       "  'totalVaepAgainstDiff',\n",
       "  'row_num'])"
      ]
     },
     "execution_count": 41,
     "metadata": {},
     "output_type": "execute_result"
    }
   ],
   "source": [
    "# Se dividen las columnas entre las categóricas y las numéricas\n",
    "# De aquí en más se preparan las variables para usar el algoritmo de random forest\n",
    "\n",
    "num_cols = _get_typed_cols(df, col_type='num')\n",
    "cat_cols = _get_typed_cols(df, col_type='cat')\n",
    "cat_cols, num_cols# ,df.columns"
   ]
  },
  {
   "cell_type": "code",
   "execution_count": 42,
   "metadata": {},
   "outputs": [],
   "source": [
    "from pyspark.ml.feature import StringIndexer\n",
    "\n",
    "def _encode_categorical(df):\n",
    "    cat_cols = _get_typed_cols(df, col_type='cat')\n",
    "    encoded_cols = []\n",
    "    for cat in cat_cols:\n",
    "        cat_suff = f'{cat}_num'\n",
    "        encoded_cols.append(cat_suff)\n",
    "        if cat_suff not in df.columns:\n",
    "            indexer = StringIndexer(inputCol=cat, outputCol=cat_suff).fit(df)\n",
    "            df = indexer.transform(df)\n",
    "    return df, encoded_cols"
   ]
  },
  {
   "cell_type": "code",
   "execution_count": 43,
   "metadata": {},
   "outputs": [
    {
     "name": "stdout",
     "output_type": "stream",
     "text": [
      "+--------------------+------------------+-------------------+----------------------+--------------------+------------------+-------------------+----------------------+----------+------------+------------------+-------------------+--------------------+------------------+------------------+-------------------+------------------+-------------------+------------------+--------------------+-------------------+--------------------+-------+--------------+\n",
      "|team1_totalVaepAccum|team1_offVaepAccum| team1_defVaepAccum|team1_againstVaepAccum|team2_totalVaepAccum|team2_offVaepAccum| team2_defVaepAccum|team2_againstVaepAccum|team1_side|team1winflag|         pythTeam1|          pythTeam2|            pythdiff|           pythdiv|      totalVaepDiv|      totalVaepDiff|  OffensiveVaepDiv|  OffensiveVaepDiff|   totalDefVaepDiv|    totalDefVaepDiff|totalVaepAgainstDiv|totalVaepAgainstDiff|row_num|team1_side_num|\n",
      "+--------------------+------------------+-------------------+----------------------+--------------------+------------------+-------------------+----------------------+----------+------------+------------------+-------------------+--------------------+------------------+------------------+-------------------+------------------+-------------------+------------------+--------------------+-------------------+--------------------+-------+--------------+\n",
      "|   4.348785643815063| 4.060909017920494| 0.2878765715577174|   -2.0598703584400937|   7.616156842850614| 7.556212657655124|0.05994432403531391|    1.8294382689055055|      away|           0|0.8167538138170545| 0.9454491007553691|-0.12869528693831467|0.8638792010743961|0.5709947593709713|-3.2673711990355514|0.5374265127128771|-3.4953036397346295| 4.802399162731836| 0.22793224752240349|-1.1259578382343824| -3.8893086273455992|    111|           1.0|\n",
      "|   5.616329655866139| 5.373874333337881|  0.242455214378424|    -2.413287828268949|   9.396288853080478|  8.73063778062351| 0.6656509378226474|    2.5506234506028704|      away|           0|0.8441421597878201| 0.9313717331008279|-0.08722957331300774|0.9063429023955953|0.5977178590060992| -3.779959197214339|0.6155191027698435|  -3.35676344728563|0.3642377717839594| -0.4231957234442234|-0.9461560575311654|  -4.963911278871819|    112|           1.0|\n",
      "|   5.962385391816497| 5.601157419150695|0.36122801434248686|    -4.425626809825189|   5.382624615565874| 4.916189758456312| 0.4664348548394628|   -2.2154349824413657|      away|           0|0.6447675335122095| 0.8551347024287257| -0.2103671689165162|0.7539952848141489| 1.107709680250417| 0.5797607762506232|1.1393289710829761| 0.6849676606943831|0.7744447281213881|-0.10520684049697593| 1.9976333518703564| -2.2101918273838237|    113|           1.0|\n",
      "|   9.809753557899967|  9.34687400504481|0.46287946886150166|    3.8216103201848455|   4.385033434955403|3.8456246537389234| 0.5394088387256488|   -3.2738261778722517|      home|           1|0.8682313566704716| 0.6420966201018902|  0.2261347365685814|1.3521817892962862|  2.23709891917842|  5.424720122944564|  2.43052165685418|  5.501249351305887|0.8581236265150058|-0.07652936986414716|-1.1673223050188368|   7.095436498057097|    114|           0.0|\n",
      "|   3.820186634315178|3.4355185431195423| 0.3846680182614364|    -1.345643935201224|   3.342920287977904|2.5415751356631517| 0.8013451256556436|    -5.781948949967045|      home|           1|0.8896188008681939|0.25052915745682375|  0.6390896434113702|3.5509591374469496|1.1427692870971706| 0.4772663463372737|1.3517281055014498| 0.8939434074563906|0.4800279005212756|-0.41667710739420727|0.23273189487584348|   4.436305014765821|    115|           0.0|\n",
      "+--------------------+------------------+-------------------+----------------------+--------------------+------------------+-------------------+----------------------+----------+------------+------------------+-------------------+--------------------+------------------+------------------+-------------------+------------------+-------------------+------------------+--------------------+-------------------+--------------------+-------+--------------+\n",
      "only showing top 5 rows\n",
      "\n"
     ]
    }
   ],
   "source": [
    "df, encoded_cols = _encode_categorical(df)\n",
    "df.show(5)"
   ]
  },
  {
   "cell_type": "code",
   "execution_count": 44,
   "metadata": {},
   "outputs": [
    {
     "data": {
      "text/plain": [
       "['team1_totalVaepAccum',\n",
       " 'team1_offVaepAccum',\n",
       " 'team1_defVaepAccum',\n",
       " 'team1_againstVaepAccum',\n",
       " 'team2_totalVaepAccum',\n",
       " 'team2_offVaepAccum',\n",
       " 'team2_defVaepAccum',\n",
       " 'team2_againstVaepAccum',\n",
       " 'pythTeam1',\n",
       " 'pythTeam2',\n",
       " 'pythdiff',\n",
       " 'pythdiv',\n",
       " 'totalVaepDiv',\n",
       " 'totalVaepDiff',\n",
       " 'OffensiveVaepDiv',\n",
       " 'OffensiveVaepDiff',\n",
       " 'totalDefVaepDiv',\n",
       " 'totalDefVaepDiff',\n",
       " 'totalVaepAgainstDiv',\n",
       " 'totalVaepAgainstDiff',\n",
       " 'row_num',\n",
       " 'team1_side_num']"
      ]
     },
     "execution_count": 44,
     "metadata": {},
     "output_type": "execute_result"
    }
   ],
   "source": [
    "feature_cols = num_cols + encoded_cols\n",
    "feature_cols"
   ]
  },
  {
   "cell_type": "code",
   "execution_count": 45,
   "metadata": {},
   "outputs": [
    {
     "name": "stdout",
     "output_type": "stream",
     "text": [
      "+--------------------+------------------+-------------------+----------------------+--------------------+------------------+-------------------+----------------------+----------+------------+------------------+-------------------+--------------------+------------------+------------------+-------------------+------------------+-------------------+------------------+--------------------+-------------------+--------------------+-------+--------------+------------------+\n",
      "|team1_totalVaepAccum|team1_offVaepAccum| team1_defVaepAccum|team1_againstVaepAccum|team2_totalVaepAccum|team2_offVaepAccum| team2_defVaepAccum|team2_againstVaepAccum|team1_side|team1winflag|         pythTeam1|          pythTeam2|            pythdiff|           pythdiv|      totalVaepDiv|      totalVaepDiff|  OffensiveVaepDiv|  OffensiveVaepDiff|   totalDefVaepDiv|    totalDefVaepDiff|totalVaepAgainstDiv|totalVaepAgainstDiff|row_num|team1_side_num|team1_side_num_vec|\n",
      "+--------------------+------------------+-------------------+----------------------+--------------------+------------------+-------------------+----------------------+----------+------------+------------------+-------------------+--------------------+------------------+------------------+-------------------+------------------+-------------------+------------------+--------------------+-------------------+--------------------+-------+--------------+------------------+\n",
      "|   4.348785643815063| 4.060909017920494| 0.2878765715577174|   -2.0598703584400937|   7.616156842850614| 7.556212657655124|0.05994432403531391|    1.8294382689055055|      away|           0|0.8167538138170545| 0.9454491007553691|-0.12869528693831467|0.8638792010743961|0.5709947593709713|-3.2673711990355514|0.5374265127128771|-3.4953036397346295| 4.802399162731836| 0.22793224752240349|-1.1259578382343824| -3.8893086273455992|    111|           1.0|         (1,[],[])|\n",
      "|   5.616329655866139| 5.373874333337881|  0.242455214378424|    -2.413287828268949|   9.396288853080478|  8.73063778062351| 0.6656509378226474|    2.5506234506028704|      away|           0|0.8441421597878201| 0.9313717331008279|-0.08722957331300774|0.9063429023955953|0.5977178590060992| -3.779959197214339|0.6155191027698435|  -3.35676344728563|0.3642377717839594| -0.4231957234442234|-0.9461560575311654|  -4.963911278871819|    112|           1.0|         (1,[],[])|\n",
      "|   5.962385391816497| 5.601157419150695|0.36122801434248686|    -4.425626809825189|   5.382624615565874| 4.916189758456312| 0.4664348548394628|   -2.2154349824413657|      away|           0|0.6447675335122095| 0.8551347024287257| -0.2103671689165162|0.7539952848141489| 1.107709680250417| 0.5797607762506232|1.1393289710829761| 0.6849676606943831|0.7744447281213881|-0.10520684049697593| 1.9976333518703564| -2.2101918273838237|    113|           1.0|         (1,[],[])|\n",
      "|   9.809753557899967|  9.34687400504481|0.46287946886150166|    3.8216103201848455|   4.385033434955403|3.8456246537389234| 0.5394088387256488|   -3.2738261778722517|      home|           1|0.8682313566704716| 0.6420966201018902|  0.2261347365685814|1.3521817892962862|  2.23709891917842|  5.424720122944564|  2.43052165685418|  5.501249351305887|0.8581236265150058|-0.07652936986414716|-1.1673223050188368|   7.095436498057097|    114|           0.0|     (1,[0],[1.0])|\n",
      "|   3.820186634315178|3.4355185431195423| 0.3846680182614364|    -1.345643935201224|   3.342920287977904|2.5415751356631517| 0.8013451256556436|    -5.781948949967045|      home|           1|0.8896188008681939|0.25052915745682375|  0.6390896434113702|3.5509591374469496|1.1427692870971706| 0.4772663463372737|1.3517281055014498| 0.8939434074563906|0.4800279005212756|-0.41667710739420727|0.23273189487584348|   4.436305014765821|    115|           0.0|     (1,[0],[1.0])|\n",
      "+--------------------+------------------+-------------------+----------------------+--------------------+------------------+-------------------+----------------------+----------+------------+------------------+-------------------+--------------------+------------------+------------------+-------------------+------------------+-------------------+------------------+--------------------+-------------------+--------------------+-------+--------------+------------------+\n",
      "only showing top 5 rows\n",
      "\n"
     ]
    }
   ],
   "source": [
    "from pyspark.ml.feature import OneHotEncoderEstimator\n",
    "\n",
    "ohe_cols = [f'{c}_vec' for c in encoded_cols]\n",
    "encoder = OneHotEncoderEstimator(inputCols=encoded_cols, outputCols=ohe_cols)\n",
    "ohem = encoder.fit(df)\n",
    "df = ohem.transform(df)\n",
    "df.show(5)\n",
    "feature_cols = num_cols + ohe_cols"
   ]
  },
  {
   "cell_type": "code",
   "execution_count": 46,
   "metadata": {},
   "outputs": [
    {
     "name": "stdout",
     "output_type": "stream",
     "text": [
      "+--------------------+\n",
      "|            features|\n",
      "+--------------------+\n",
      "|[50.7332046945230...|\n",
      "|[56.4251595281530...|\n",
      "|[37.8207373741861...|\n",
      "|[71.3712884841661...|\n",
      "|[62.2564391593332...|\n",
      "+--------------------+\n",
      "only showing top 5 rows\n",
      "\n"
     ]
    }
   ],
   "source": [
    "from pyspark.ml.feature import VectorAssembler\n",
    "\n",
    "assembler = VectorAssembler(inputCols=feature_cols, outputCol='features')\n",
    "df = assembler.transform(df)\n",
    "df.select('features').show(5)"
   ]
  },
  {
   "cell_type": "code",
   "execution_count": 47,
   "metadata": {},
   "outputs": [
    {
     "data": {
      "text/plain": [
       "['team1_totalVaepAccum',\n",
       " 'team1_offVaepAccum',\n",
       " 'team1_defVaepAccum',\n",
       " 'team1_againstVaepAccum',\n",
       " 'team2_totalVaepAccum',\n",
       " 'team2_offVaepAccum',\n",
       " 'team2_defVaepAccum',\n",
       " 'team2_againstVaepAccum',\n",
       " 'team1_side',\n",
       " 'team1winflag',\n",
       " 'pythTeam1',\n",
       " 'pythTeam2',\n",
       " 'pythdiff',\n",
       " 'pythdiv',\n",
       " 'totalVaepDiv',\n",
       " 'totalVaepDiff',\n",
       " 'OffensiveVaepDiv',\n",
       " 'OffensiveVaepDiff',\n",
       " 'totalDefVaepDiv',\n",
       " 'totalDefVaepDiff',\n",
       " 'totalVaepAgainstDiv',\n",
       " 'totalVaepAgainstDiff',\n",
       " 'row_num',\n",
       " 'team1_side_num',\n",
       " 'team1_side_num_vec',\n",
       " 'features']"
      ]
     },
     "execution_count": 47,
     "metadata": {},
     "output_type": "execute_result"
    }
   ],
   "source": [
    "df.columns"
   ]
  },
  {
   "cell_type": "code",
   "execution_count": 48,
   "metadata": {},
   "outputs": [],
   "source": [
    "# Se divide el dataset en training y testing\n",
    "train_data, test_data = df.randomSplit([0.7,0.3],seed=1234)"
   ]
  },
  {
   "cell_type": "code",
   "execution_count": 49,
   "metadata": {},
   "outputs": [
    {
     "name": "stdout",
     "output_type": "stream",
     "text": [
      "+--------------------+------------------+--------------------+----------------------+--------------------+------------------+-------------------+----------------------+----------+------------+------------------+-------------------+--------------------+------------------+-------------------+-------------------+------------------+-------------------+--------------------+--------------------+-------------------+--------------------+-------+--------------+------------------+--------------------+--------------------+--------------------+----------+\n",
      "|team1_totalVaepAccum|team1_offVaepAccum|  team1_defVaepAccum|team1_againstVaepAccum|team2_totalVaepAccum|team2_offVaepAccum| team2_defVaepAccum|team2_againstVaepAccum|team1_side|team1winflag|         pythTeam1|          pythTeam2|            pythdiff|           pythdiv|       totalVaepDiv|      totalVaepDiff|  OffensiveVaepDiv|  OffensiveVaepDiff|     totalDefVaepDiv|    totalDefVaepDiff|totalVaepAgainstDiv|totalVaepAgainstDiff|row_num|team1_side_num|team1_side_num_vec|            features|       rawPrediction|         probability|prediction|\n",
      "+--------------------+------------------+--------------------+----------------------+--------------------+------------------+-------------------+----------------------+----------+------------+------------------+-------------------+--------------------+------------------+-------------------+-------------------+------------------+-------------------+--------------------+--------------------+-------------------+--------------------+-------+--------------+------------------+--------------------+--------------------+--------------------+----------+\n",
      "|  3.6809652326628566|3.3222994294483215| 0.35866584727773443|   -5.8579975825268775|   7.187017558142543|  6.85199203673983|0.33502552000572905|    0.7935198485502042|      home|           1|0.2830737213580955| 0.9879564100560171| -0.7048826886979216|0.2865245050052818| 0.5121686712024937|-3.5060523254796863| 0.484866212866918|-3.5296926072915085|  1.0705627657009564| 0.02364032727200538| -7.382294964933389|  -6.651517431077082|    129|           0.0|     (1,[0],[1.0])|[3.68096523266285...|[12.1848612365606...|[0.60924306182803...|       0.0|\n",
      "|  3.7510890694102272|3.3195994407869875| 0.43148958520032465|   -2.6389108697185293|  10.280477083753794| 10.16748036199715|0.11299673322355375|      6.69051135488553|      away|           0|0.6689322765858727| 0.7024752431926384| -0.0335429666067657|0.9522503220834969|0.36487499936535644| -6.529388014343567|0.3264918468094227| -6.847880921210162|  3.8186022984103603|  0.3184928519767709|-0.3944258861157974|  -9.329422224604059|    121|           1.0|         (1,[],[])|[3.75108906941022...|[17.1617535212666...|[0.85808767606333...|       0.0|\n",
      "|   3.820186634315178|3.4355185431195423|  0.3846680182614364|    -1.345643935201224|   3.342920287977904|2.5415751356631517| 0.8013451256556436|    -5.781948949967045|      home|           1|0.8896188008681939|0.25052915745682375|  0.6390896434113702|3.5509591374469496| 1.1427692870971706| 0.4772663463372737|1.3517281055014498| 0.8939434074563906|  0.4800279005212756|-0.41667710739420727|0.23273189487584348|   4.436305014765821|    115|           0.0|     (1,[0],[1.0])|[3.82018663431517...|[7.46711023229164...|[0.37335551161458...|       1.0|\n",
      "|   5.932105285231955| 5.937473576166667|-0.00536833226215...|   -1.7840173980221152|   8.158357097534463| 7.884193995851092| 0.2741629921802087|    0.7417852443177253|      away|           0|0.9170575148141483| 0.9918007263630656|-0.07474321154891728|0.9246388820232057| 0.7271200824274653|-2.2262518123025075|0.7530856774061052| -1.946720419684425|-0.01958080563485...| -0.2795313244423596|-2.4050321999367994| -2.5258026423398405|    119|           1.0|         (1,[],[])|[5.93210528523195...|[14.2036776290999...|[0.71018388145499...|       0.0|\n",
      "|  7.3458521460415795| 7.142605050987186| 0.20324711047578603|    -5.147538343677297|  10.100405045435764|  9.64805343421176|0.45235162298195064|    -4.343103325169068|      home|           1|0.6706738646259817| 0.8439573725649921|-0.17328350793901048|0.7946774166894713| 0.7272829270704416|-2.7545528993941844|0.7403156605310335| -2.505448383224575|  0.4493122167573075| -0.2491045125061646| 1.1852212480984239| -0.8044350185082294|    165|           0.0|     (1,[0],[1.0])|[7.34585214604157...|[16.1135184343058...|[0.80567592171529...|       0.0|\n",
      "+--------------------+------------------+--------------------+----------------------+--------------------+------------------+-------------------+----------------------+----------+------------+------------------+-------------------+--------------------+------------------+-------------------+-------------------+------------------+-------------------+--------------------+--------------------+-------------------+--------------------+-------+--------------+------------------+--------------------+--------------------+--------------------+----------+\n",
      "only showing top 5 rows\n",
      "\n"
     ]
    }
   ],
   "source": [
    "# Se entrena el algoritmo de random forest\n",
    "\n",
    "from pyspark.ml.classification import RandomForestClassifier\n",
    "\n",
    "rf = RandomForestClassifier(labelCol='team1winflag', featuresCol='features', seed=1234)\n",
    "rfm = rf.fit(train_data)\n",
    "pred_df = rfm.transform(test_data)\n",
    "pred_df.show(5)"
   ]
  },
  {
   "cell_type": "code",
   "execution_count": 50,
   "metadata": {},
   "outputs": [
    {
     "data": {
      "text/plain": [
       "0.7643765769554247"
      ]
     },
     "execution_count": 50,
     "metadata": {},
     "output_type": "execute_result"
    }
   ],
   "source": [
    "#Se calcula el área bajo la curva con el dataset de testeo\n",
    "\n",
    "from pyspark.ml.evaluation import BinaryClassificationEvaluator\n",
    "\n",
    "evaluator = BinaryClassificationEvaluator(labelCol='team1winflag', metricName='areaUnderROC')\n",
    "evaluator.evaluate(pred_df)"
   ]
  },
  {
   "cell_type": "code",
   "execution_count": 51,
   "metadata": {},
   "outputs": [
    {
     "data": {
      "text/plain": [
       "0.6468401486988847"
      ]
     },
     "execution_count": 51,
     "metadata": {},
     "output_type": "execute_result"
    }
   ],
   "source": [
    "#Se calcula el accuracy con el dataset de testeo\n",
    "\n",
    "from pyspark.ml.evaluation import MulticlassClassificationEvaluator\n",
    "\n",
    "evaluator = MulticlassClassificationEvaluator(labelCol='team1winflag', metricName='accuracy')\n",
    "evaluator.evaluate(pred_df)"
   ]
  },
  {
   "cell_type": "code",
   "execution_count": 52,
   "metadata": {},
   "outputs": [
    {
     "data": {
      "text/plain": [
       "SparseVector(22, {0: 0.0172, 1: 0.022, 2: 0.0222, 3: 0.0433, 4: 0.0198, 5: 0.0337, 6: 0.0378, 7: 0.0421, 8: 0.0314, 9: 0.0323, 10: 0.037, 11: 0.0238, 12: 0.0778, 13: 0.0567, 14: 0.1939, 15: 0.0595, 16: 0.0236, 17: 0.0161, 18: 0.066, 19: 0.0832, 20: 0.0314, 21: 0.0291})"
      ]
     },
     "execution_count": 52,
     "metadata": {},
     "output_type": "execute_result"
    }
   ],
   "source": [
    "rfm.featureImportances"
   ]
  },
  {
   "cell_type": "code",
   "execution_count": 53,
   "metadata": {},
   "outputs": [
    {
     "data": {
      "text/html": [
       "<div>\n",
       "<style scoped>\n",
       "    .dataframe tbody tr th:only-of-type {\n",
       "        vertical-align: middle;\n",
       "    }\n",
       "\n",
       "    .dataframe tbody tr th {\n",
       "        vertical-align: top;\n",
       "    }\n",
       "\n",
       "    .dataframe thead th {\n",
       "        text-align: right;\n",
       "    }\n",
       "</style>\n",
       "<table border=\"1\" class=\"dataframe\">\n",
       "  <thead>\n",
       "    <tr style=\"text-align: right;\">\n",
       "      <th></th>\n",
       "      <th>feature</th>\n",
       "      <th>importance</th>\n",
       "    </tr>\n",
       "  </thead>\n",
       "  <tbody>\n",
       "    <tr>\n",
       "      <th>14</th>\n",
       "      <td>OffensiveVaepDiv</td>\n",
       "      <td>0.193890</td>\n",
       "    </tr>\n",
       "    <tr>\n",
       "      <th>19</th>\n",
       "      <td>totalVaepAgainstDiff</td>\n",
       "      <td>0.083248</td>\n",
       "    </tr>\n",
       "    <tr>\n",
       "      <th>12</th>\n",
       "      <td>totalVaepDiv</td>\n",
       "      <td>0.077833</td>\n",
       "    </tr>\n",
       "    <tr>\n",
       "      <th>18</th>\n",
       "      <td>totalVaepAgainstDiv</td>\n",
       "      <td>0.066019</td>\n",
       "    </tr>\n",
       "    <tr>\n",
       "      <th>15</th>\n",
       "      <td>OffensiveVaepDiff</td>\n",
       "      <td>0.059509</td>\n",
       "    </tr>\n",
       "    <tr>\n",
       "      <th>13</th>\n",
       "      <td>totalVaepDiff</td>\n",
       "      <td>0.056667</td>\n",
       "    </tr>\n",
       "    <tr>\n",
       "      <th>3</th>\n",
       "      <td>team1_againstVaepAccum</td>\n",
       "      <td>0.043280</td>\n",
       "    </tr>\n",
       "    <tr>\n",
       "      <th>7</th>\n",
       "      <td>team2_againstVaepAccum</td>\n",
       "      <td>0.042106</td>\n",
       "    </tr>\n",
       "    <tr>\n",
       "      <th>6</th>\n",
       "      <td>team2_defVaepAccum</td>\n",
       "      <td>0.037842</td>\n",
       "    </tr>\n",
       "    <tr>\n",
       "      <th>10</th>\n",
       "      <td>pythdiff</td>\n",
       "      <td>0.036979</td>\n",
       "    </tr>\n",
       "    <tr>\n",
       "      <th>5</th>\n",
       "      <td>team2_offVaepAccum</td>\n",
       "      <td>0.033654</td>\n",
       "    </tr>\n",
       "    <tr>\n",
       "      <th>9</th>\n",
       "      <td>pythTeam2</td>\n",
       "      <td>0.032323</td>\n",
       "    </tr>\n",
       "    <tr>\n",
       "      <th>20</th>\n",
       "      <td>row_num</td>\n",
       "      <td>0.031443</td>\n",
       "    </tr>\n",
       "    <tr>\n",
       "      <th>8</th>\n",
       "      <td>pythTeam1</td>\n",
       "      <td>0.031435</td>\n",
       "    </tr>\n",
       "    <tr>\n",
       "      <th>21</th>\n",
       "      <td>team1_side_num_vec_home</td>\n",
       "      <td>0.029050</td>\n",
       "    </tr>\n",
       "  </tbody>\n",
       "</table>\n",
       "</div>"
      ],
      "text/plain": [
       "                    feature  importance\n",
       "14         OffensiveVaepDiv    0.193890\n",
       "19     totalVaepAgainstDiff    0.083248\n",
       "12             totalVaepDiv    0.077833\n",
       "18      totalVaepAgainstDiv    0.066019\n",
       "15        OffensiveVaepDiff    0.059509\n",
       "13            totalVaepDiff    0.056667\n",
       "3    team1_againstVaepAccum    0.043280\n",
       "7    team2_againstVaepAccum    0.042106\n",
       "6        team2_defVaepAccum    0.037842\n",
       "10                 pythdiff    0.036979\n",
       "5        team2_offVaepAccum    0.033654\n",
       "9                 pythTeam2    0.032323\n",
       "20                  row_num    0.031443\n",
       "8                 pythTeam1    0.031435\n",
       "21  team1_side_num_vec_home    0.029050"
      ]
     },
     "execution_count": 53,
     "metadata": {},
     "output_type": "execute_result"
    }
   ],
   "source": [
    "# Se calcula la importancia de las distintas features\n",
    "\n",
    "from itertools import chain\n",
    "attrs = sorted(\n",
    "    (attr['idx'], attr['name'])\n",
    "    for attr in (\n",
    "        chain(*pred_df.schema['features'].metadata['ml_attr']['attrs'].values())\n",
    "    )\n",
    ")\n",
    "feat_import = [(name, rfm.featureImportances[idx]) for idx, name in attrs if rfm.featureImportances[idx]]\n",
    "feat_import = pd.DataFrame(feat_import, columns=['feature', 'importance']).sort_values(by='importance', ascending=False)\n",
    "feat_import.head(15)"
   ]
  },
  {
   "cell_type": "code",
   "execution_count": 54,
   "metadata": {},
   "outputs": [
    {
     "data": {
      "text/plain": [
       "[Text(0, 0, 'OffensiveVaepDiv'),\n",
       " Text(0, 0, 'totalVaepAgainstDiff'),\n",
       " Text(0, 0, 'totalVaepDiv'),\n",
       " Text(0, 0, 'totalVaepAgainstDiv'),\n",
       " Text(0, 0, 'OffensiveVaepDiff'),\n",
       " Text(0, 0, 'totalVaepDiff'),\n",
       " Text(0, 0, 'team1_againstVaepAccum'),\n",
       " Text(0, 0, 'team2_againstVaepAccum'),\n",
       " Text(0, 0, 'team2_defVaepAccum'),\n",
       " Text(0, 0, 'pythdiff'),\n",
       " Text(0, 0, 'team2_offVaepAccum'),\n",
       " Text(0, 0, 'pythTeam2'),\n",
       " Text(0, 0, 'row_num'),\n",
       " Text(0, 0, 'pythTeam1'),\n",
       " Text(0, 0, 'team1_side_num_vec_home'),\n",
       " Text(0, 0, 'pythdiv'),\n",
       " Text(0, 0, 'totalDefVaepDiv'),\n",
       " Text(0, 0, 'team1_defVaepAccum'),\n",
       " Text(0, 0, 'team1_offVaepAccum'),\n",
       " Text(0, 0, 'team2_totalVaepAccum')]"
      ]
     },
     "execution_count": 54,
     "metadata": {},
     "output_type": "execute_result"
    },
    {
     "data": {
      "image/png": "[encoded data removed]",
      "text/plain": [
       "<Figure size 432x288 with 1 Axes>"
      ]
     },
     "metadata": {
      "needs_background": "light"
     },
     "output_type": "display_data"
    }
   ],
   "source": [
    "# Se grafica la importancia de las features\n",
    "\n",
    "ax = feat_import[:20].plot(kind='bar')\n",
    "ax.set_xticklabels(feat_import[:20]['feature'].tolist())"
   ]
  },
  {
   "cell_type": "code",
   "execution_count": 55,
   "metadata": {},
   "outputs": [],
   "source": [
    "pred_df.createOrReplaceTempView(\"predicciones\")"
   ]
  },
  {
   "cell_type": "code",
   "execution_count": 56,
   "metadata": {},
   "outputs": [],
   "source": [
    "# Esta query calcula cuantas veces el algoritmo predijo correctamente y cuantas no\n",
    "\n",
    "query='''\n",
    "\n",
    "select team1winflag, prediction, count(*) as cantidad\n",
    "from predicciones\n",
    "group by team1winflag,prediction\n",
    "\n",
    "'''"
   ]
  },
  {
   "cell_type": "code",
   "execution_count": 57,
   "metadata": {},
   "outputs": [
    {
     "name": "stdout",
     "output_type": "stream",
     "text": [
      "+------------+----------+--------+\n",
      "|team1winflag|prediction|cantidad|\n",
      "+------------+----------+--------+\n",
      "|           1|       0.0|      61|\n",
      "|           0|       0.0|     137|\n",
      "|           1|       1.0|      55|\n",
      "|           0|       1.0|      27|\n",
      "+------------+----------+--------+\n",
      "\n"
     ]
    }
   ],
   "source": [
    "matrix = spark.sql(query)\n",
    "matrix.show()"
   ]
  },
  {
   "cell_type": "markdown",
   "metadata": {},
   "source": [
    "### Estimación de victoria con el algoritmo random forest (con estimación de hiperparametros)"
   ]
  },
  {
   "cell_type": "markdown",
   "metadata": {},
   "source": [
    "En la siguiente sección se utiliza el algoritmo random forest para predecir si el equipo 1 ganará o no en base a las features obtenidas en la sección anterior con optimización de hiperparametros."
   ]
  },
  {
   "cell_type": "markdown",
   "metadata": {},
   "source": [
    "**Nota:** El entrenamiento del algoritmo toma su tiempo..."
   ]
  },
  {
   "cell_type": "code",
   "execution_count": 58,
   "metadata": {},
   "outputs": [],
   "source": [
    "from pyspark.ml.tuning import CrossValidator, ParamGridBuilder"
   ]
  },
  {
   "cell_type": "code",
   "execution_count": 59,
   "metadata": {},
   "outputs": [],
   "source": [
    "# Se definen los hiperparametros entre los cuales se iterará\n",
    "\n",
    "paramGrid= ParamGridBuilder() \\\n",
    "  .addGrid(rf.numTrees  , [30, 50, 70]) \\\n",
    "  .addGrid(rf.maxBins   , [5, 10, 20]) \\\n",
    "  .addGrid(rf.maxDepth, [6,8,10]) \\\n",
    "  .build()"
   ]
  },
  {
   "cell_type": "code",
   "execution_count": 60,
   "metadata": {},
   "outputs": [],
   "source": [
    "# Defino el evaluator denuevo\n",
    "\n",
    "evaluator = BinaryClassificationEvaluator(labelCol='team1winflag', metricName='areaUnderROC')"
   ]
  },
  {
   "cell_type": "code",
   "execution_count": 61,
   "metadata": {},
   "outputs": [],
   "source": [
    "# Se crea la función de cross validation para buscar los hiperparametros óptimos\n",
    "\n",
    "crossval = CrossValidator(estimator=rf,\n",
    "                      estimatorParamMaps=paramGrid,\n",
    "                      evaluator=evaluator,\n",
    "                      numFolds=3)  "
   ]
  },
  {
   "cell_type": "code",
   "execution_count": 62,
   "metadata": {},
   "outputs": [],
   "source": [
    "# Se entrena el algoritmo con todos los hiperparametros y se obtiene el óptimo\n",
    "\n",
    "cvModel = crossval.fit(train_data)"
   ]
  },
  {
   "cell_type": "code",
   "execution_count": 63,
   "metadata": {},
   "outputs": [
    {
     "name": "stdout",
     "output_type": "stream",
     "text": [
      "+--------------------+------------------+--------------------+----------------------+--------------------+------------------+--------------------+----------------------+----------+------------+-------------------+-------------------+--------------------+-------------------+-------------------+--------------------+-------------------+--------------------+--------------------+--------------------+--------------------+--------------------+-------+--------------+------------------+--------------------+--------------------+--------------------+----------+\n",
      "|team1_totalVaepAccum|team1_offVaepAccum|  team1_defVaepAccum|team1_againstVaepAccum|team2_totalVaepAccum|team2_offVaepAccum|  team2_defVaepAccum|team2_againstVaepAccum|team1_side|team1winflag|          pythTeam1|          pythTeam2|            pythdiff|            pythdiv|       totalVaepDiv|       totalVaepDiff|   OffensiveVaepDiv|   OffensiveVaepDiff|     totalDefVaepDiv|    totalDefVaepDiff| totalVaepAgainstDiv|totalVaepAgainstDiff|row_num|team1_side_num|team1_side_num_vec|            features|       rawPrediction|         probability|prediction|\n",
      "+--------------------+------------------+--------------------+----------------------+--------------------+------------------+--------------------+----------------------+----------+------------+-------------------+-------------------+--------------------+-------------------+-------------------+--------------------+-------------------+--------------------+--------------------+--------------------+--------------------+--------------------+-------+--------------+------------------+--------------------+--------------------+--------------------+----------+\n",
      "|  3.6809652326628566|3.3222994294483215| 0.35866584727773443|   -5.8579975825268775|   7.187017558142543|  6.85199203673983| 0.33502552000572905|    0.7935198485502042|      home|           1| 0.2830737213580955| 0.9879564100560171| -0.7048826886979216| 0.2865245050052818| 0.5121686712024937| -3.5060523254796863|  0.484866212866918| -3.5296926072915085|  1.0705627657009564| 0.02364032727200538|  -7.382294964933389|  -6.651517431077082|    129|           0.0|     (1,[0],[1.0])|[3.68096523266285...|[40.7425949028078...|[0.81485189805615...|       0.0|\n",
      "|  3.7510890694102272|3.3195994407869875| 0.43148958520032465|   -2.6389108697185293|  10.280477083753794| 10.16748036199715| 0.11299673322355375|      6.69051135488553|      away|           0| 0.6689322765858727| 0.7024752431926384| -0.0335429666067657| 0.9522503220834969|0.36487499936535644|  -6.529388014343567| 0.3264918468094227|  -6.847880921210162|  3.8186022984103603|  0.3184928519767709| -0.3944258861157974|  -9.329422224604059|    121|           1.0|         (1,[],[])|[3.75108906941022...|[47.3280570258469...|[0.94656114051693...|       0.0|\n",
      "|   3.820186634315178|3.4355185431195423|  0.3846680182614364|    -1.345643935201224|   3.342920287977904|2.5415751356631517|  0.8013451256556436|    -5.781948949967045|      home|           1| 0.8896188008681939|0.25052915745682375|  0.6390896434113702| 3.5509591374469496| 1.1427692870971706|  0.4772663463372737| 1.3517281055014498|  0.8939434074563906|  0.4800279005212756|-0.41667710739420727| 0.23273189487584348|   4.436305014765821|    115|           0.0|     (1,[0],[1.0])|[3.82018663431517...|[24.7240086558506...|[0.49448017311701...|       1.0|\n",
      "|   5.932105285231955| 5.937473576166667|-0.00536833226215...|   -1.7840173980221152|   8.158357097534463| 7.884193995851092|  0.2741629921802087|    0.7417852443177253|      away|           0| 0.9170575148141483| 0.9918007263630656|-0.07474321154891728| 0.9246388820232057| 0.7271200824274653| -2.2262518123025075| 0.7530856774061052|  -1.946720419684425|-0.01958080563485...| -0.2795313244423596| -2.4050321999367994| -2.5258026423398405|    119|           1.0|         (1,[],[])|[5.93210528523195...|[31.0411944399583...|[0.62082388879916...|       0.0|\n",
      "|  7.3458521460415795| 7.142605050987186| 0.20324711047578603|    -5.147538343677297|  10.100405045435764|  9.64805343421176| 0.45235162298195064|    -4.343103325169068|      home|           1| 0.6706738646259817| 0.8439573725649921|-0.17328350793901048| 0.7946774166894713| 0.7272829270704416| -2.7545528993941844| 0.7403156605310335|  -2.505448383224575|  0.4493122167573075| -0.2491045125061646|  1.1852212480984239| -0.8044350185082294|    165|           0.0|     (1,[0],[1.0])|[7.34585214604157...|[45.0803408885063...|[0.90160681777012...|       0.0|\n",
      "|   7.363070064981002| 6.058469023089856|  1.3046010881080292|   -2.5706414154847153|  6.1901597047108226|6.0328045634087175| 0.15735515096457675|    0.0728934389189817|      away|           0| 0.8913536409447013| 0.9998613522094203|-0.10850771126471903| 0.8914772422946975| 1.1894798222051643|  1.1729103602701798| 1.0042541506875264|0.025664459681138396|   8.290806370880839|  1.1472459371434525|  -35.26574481335537|  -2.643534854403697|    135|           1.0|         (1,[],[])|[7.36307006498100...|[39.6518170448307...|[0.79303634089661...|       0.0|\n",
      "|   7.845573137165047| 6.526538515463471|  1.3190346129995305|   -12.560560000361875|   9.424601154270931| 6.875062417297158|  2.5495387337723514|   -11.910262423582026|      away|           0|0.28065304349126485| 0.3850532588648285|-0.10440021537356364|   0.72886811637085| 0.8324567807954061|  -1.579028017105884| 0.9493060745227816|  -0.348523901833687|  0.5173620606453228|  -1.230504120772821|  1.0545997689767335| -0.6502975767798489|    237|           1.0|         (1,[],[])|[7.84557313716504...|[34.4566881079254...|[0.68913376215850...|       0.0|\n",
      "|  7.9961487870896235|7.3739543870906346|    0.62219440669287|     3.837261204087554|   6.411004584806506| 5.748965423787013|  0.6620391817996278|   -0.7977735353051685|      away|           1| 0.8128144190270266| 0.9847512717116751|-0.17193685268464853| 0.8254007304953348| 1.2472536372910674|   1.585144202283118|  1.282657633768337|  1.6249889633036219|  0.9398150801309865|-0.03984477510675788|  -4.809963021172048|   4.635034739392722|    123|           1.0|         (1,[],[])|[7.99614878708962...|[26.2704925182344...|[0.52540985036468...|       0.0|\n",
      "|   8.186959388258401| 7.797556867590174| 0.38940252058091573|   -13.137139836791903|  16.359620094299316| 14.24357714591315|  2.1160430362215266|   -2.3143312311149202|      away|           1| 0.2797299571559994| 0.9803799980685647| -0.7006500409125653|0.28532809492961114| 0.5004370114383789|  -8.172660706040915| 0.5474437206125214|  -6.446020278322976| 0.18402391346267002| -1.7266405156406108|   5.676430262086182| -10.822808605676983|    261|           1.0|         (1,[],[])|[8.18695938825840...|[27.9819508734259...|[0.55963901746852...|       0.0|\n",
      "|   8.601868740399368| 8.125784499687143| 0.47608415537979454|   -0.6977084865502547|   8.696503384970129| 8.416264928062446|  0.2802383593225386|   -1.0033117941929959|      home|           0| 0.9934639629288173| 0.9868646966333886|0.006599266295428...| 1.0066871034275942| 0.9891180810974771|-0.09463464457076043|  0.965485826449361|-0.29048042837530375|  1.6988543486006085| 0.19584579605725594|  0.6954054468296665| 0.30560330764274113|    167|           0.0|     (1,[0],[1.0])|[8.60186874039936...|[38.6413083493665...|[0.77282616698733...|       0.0|\n",
      "|   8.914804297848605| 7.336582206538878|  1.5782220666005742|   -13.993906397256069|  18.727559290244244|17.760395316814538|  0.9671640599117381|    2.3636008255416527|      home|           0| 0.2886771731943313| 0.9843208473659689| -0.6956436741716376| 0.2932754842761159| 0.4760259551009724|   -9.81275499239564|0.41308665013739965|  -10.42381311027566|   1.631803881075358|   0.611058006688836|  -5.920587878475278|  -16.35750722279772|    257|           0.0|     (1,[0],[1.0])|[8.91480429784860...|[40.4055514283446...|[0.80811102856689...|       0.0|\n",
      "|   8.950345125049353| 8.614009792974684|  0.3363352508749813|  -0.24702445085858926|   6.238518272177316| 5.158983639325015|  1.0795346712111495|    -9.420680966344662|      away|           0| 0.9992388510854945| 0.3048454315393672|  0.6943934195461272|  3.277854111310356| 1.4346908567962848|  2.7118268528720364| 1.6697106242619746|   3.455026153649669|  0.3115557655018534| -0.7431994203361683|0.026221506889054298|   9.173656515486073|    161|           1.0|         (1,[],[])|[8.95034512504935...|[15.7141095894887...|[0.31428219178977...|       1.0|\n",
      "|   9.406522108707577|  8.75274438643828|  0.6537777465709951|    1.6915551949641667|   9.135955546051264|  8.09326468774816|  1.0426907615619712|   -0.7473812501411885|      away|           0| 0.9686749163590774| 0.9933521733291559| -0.0246772569700785| 0.9751575950275779| 1.0296155734660133|  0.2705665626563132| 1.0814850031642314|  0.6594796986901201|  0.6270102034774176| -0.3889130149909761| -2.2633096490507536|  2.4389364451053552|    171|           1.0|         (1,[],[])|[9.40652210870757...|[32.0261397908084...|[0.64052279581616...|       0.0|\n",
      "|   9.787501695158426| 9.307161492761225| 0.48034007934620604|   -0.9412956408341415|   8.856216142710764|7.5658437348902225|  1.2903724418283673|    -5.734936585184187|      away|           1| 0.9908354753894311| 0.7045554399149829| 0.28628003547444814| 1.4063271947896576| 1.1051561454057521|  0.9312855524476618| 1.2301551312566552|   1.741317757871002|  0.3722491768853943| -0.8100323624821613| 0.16413357442624804|   4.793640944350045|    193|           1.0|         (1,[],[])|[9.78750169515842...|[33.2346006773482...|[0.66469201354696...|       0.0|\n",
      "|  10.309673336276319| 9.525111505296081|  0.7845618512073997|   -13.983366138942074|  32.711729009170085| 32.07306791393785|  0.6386609869659878|    18.086064190487377|      away|           0|0.35215689284161433| 0.7658786171224123|  -0.413721724280798|  0.459807709692629| 0.3151674842190765| -22.402055672893766| 0.2969816149441942| -22.547956408641767|  1.2284480612077562|  0.1459008642414119| -0.7731569451299871|  -32.06943032942945|    299|           1.0|         (1,[],[])|[10.3096733362763...|[41.8821417905807...|[0.83764283581161...|       0.0|\n",
      "|  10.438640521024354|10.364491613872815| 0.07414906557823997|     2.837205327989068|  14.007893479400082|14.008670367999002|-7.76872882852330...|     9.896014112484409|      away|           0| 0.9312076442100253| 0.6670733599042554|  0.2641342843057699|  1.395959875153283| 0.7451970231195255| -3.5692529583757278| 0.7398626237611499| -3.6441787541261874|  -95.44555771595176|  0.0749259384610923| 0.28670182719422005|  -7.058808784495341|    136|           1.0|         (1,[],[])|[10.4386405210243...|[38.4735749659733...|[0.76947149931946...|       0.0|\n",
      "|    11.0433568112785|  9.31702312384732|  1.7263336880714633|   -0.8002707161940634|    9.83875702926889| 9.818878562131431| 0.01987851707963273|    1.6504398273536935|      home|           1| 0.9947760745185598| 0.9726305036997975|0.022145570818762228| 1.0227687397573102| 1.1224341426895794|   1.204599782009609|  0.948888721343431| -0.5018554382841103|   86.84418868650128|  1.7064551709918305| -0.4848833037901256|  -2.450710543547757|    178|           0.0|     (1,[0],[1.0])|[11.0433568112785...|[31.286377182972,...|[0.62572754365944...|       0.0|\n",
      "|  11.321051519131288|10.455068956071045|   0.865982691932004|     -6.47915770218242|  18.079722747497726|17.189173502556514|  0.8905490339384414|     6.077696608903352|      away|           0| 0.7532733034304526| 0.8984692237778492| -0.1451959203473966| 0.8383963340036487| 0.6261739561630251|  -6.758671228366438| 0.6082356987388651|  -6.734104546485469|  0.9724143858785708|-0.02456634200643748| -1.0660548097598288| -12.556854311085772|    213|           1.0|         (1,[],[])|[11.3210515191312...|[44.9437800734140...|[0.89887560146828...|       0.0|\n",
      "|  11.580348118848633|10.958894129144028|   0.621454002102837|   0.26598465035203844|   9.979088770603994|   8.5888897938421|  1.3901989225996658|    -6.452194698358653|      away|           1|  0.999472720527001| 0.7051913928494596| 0.29428132767754134|  1.417307032759492| 1.1604614795051795|  1.6012593482446391| 1.2759383799523343|  2.3700043353019282|  0.4470252364609237| -0.7687449204968289|-0.04122390330528947|   6.718179348710692|    202|           1.0|         (1,[],[])|[11.5803481188486...|[23.8740419337662...|[0.47748083867532...|       1.0|\n",
      "|  11.601407058653422|11.082952317548916|  0.5184546694508754|     4.714427374943625|  7.5869963532313704| 7.403058978088666| 0.18393734365236014|    1.6577923134318553|      away|           1| 0.8582703599803585| 0.9544314475203702|-0.09616108754001174| 0.8992477796180753| 1.5291172578081282|   4.014410705422051|  1.497077404131438|    3.67989333946025|   2.818648237253822| 0.33451732579851523|  2.8437985486759314|    3.05663506151177|    134|           1.0|         (1,[],[])|[11.6014070586534...|[23.6379395639423...|[0.47275879127884...|       1.0|\n",
      "+--------------------+------------------+--------------------+----------------------+--------------------+------------------+--------------------+----------------------+----------+------------+-------------------+-------------------+--------------------+-------------------+-------------------+--------------------+-------------------+--------------------+--------------------+--------------------+--------------------+--------------------+-------+--------------+------------------+--------------------+--------------------+--------------------+----------+\n",
      "only showing top 20 rows\n",
      "\n"
     ]
    }
   ],
   "source": [
    "# Se obtiene el dataset con las predicciones usando los datos de prueba\n",
    "\n",
    "pred_df = cvModel.transform(test_data)\n",
    "pred_df.show()"
   ]
  },
  {
   "cell_type": "code",
   "execution_count": 64,
   "metadata": {},
   "outputs": [
    {
     "data": {
      "text/plain": [
       "0.7821428571428571"
      ]
     },
     "execution_count": 64,
     "metadata": {},
     "output_type": "execute_result"
    }
   ],
   "source": [
    "# Se calcula el accuracy con los mejores hiperparametros\n",
    "\n",
    "evaluator = MulticlassClassificationEvaluator(labelCol='team1winflag', metricName='accuracy')\n",
    "evaluator.evaluate(pred_df)\n"
   ]
  },
  {
   "cell_type": "code",
   "execution_count": 65,
   "metadata": {},
   "outputs": [
    {
     "data": {
      "text/plain": [
       "0.9025555555555557"
      ]
     },
     "execution_count": 65,
     "metadata": {},
     "output_type": "execute_result"
    }
   ],
   "source": [
    "# Se calcula el areaUnderROC con los mejores hiperparametros\n",
    "\n",
    "evaluator = BinaryClassificationEvaluator(labelCol='team1winflag', metricName='areaUnderROC')\n",
    "evaluator.evaluate(pred_df)\n"
   ]
  },
  {
   "cell_type": "code",
   "execution_count": 66,
   "metadata": {},
   "outputs": [
    {
     "data": {
      "text/html": [
       "<div>\n",
       "<style scoped>\n",
       "    .dataframe tbody tr th:only-of-type {\n",
       "        vertical-align: middle;\n",
       "    }\n",
       "\n",
       "    .dataframe tbody tr th {\n",
       "        vertical-align: top;\n",
       "    }\n",
       "\n",
       "    .dataframe thead th {\n",
       "        text-align: right;\n",
       "    }\n",
       "</style>\n",
       "<table border=\"1\" class=\"dataframe\">\n",
       "  <thead>\n",
       "    <tr style=\"text-align: right;\">\n",
       "      <th></th>\n",
       "      <th>feature</th>\n",
       "      <th>importance</th>\n",
       "    </tr>\n",
       "  </thead>\n",
       "  <tbody>\n",
       "    <tr>\n",
       "      <th>14</th>\n",
       "      <td>OffensiveVaepDiv</td>\n",
       "      <td>0.193890</td>\n",
       "    </tr>\n",
       "    <tr>\n",
       "      <th>19</th>\n",
       "      <td>totalVaepAgainstDiff</td>\n",
       "      <td>0.083248</td>\n",
       "    </tr>\n",
       "    <tr>\n",
       "      <th>12</th>\n",
       "      <td>totalVaepDiv</td>\n",
       "      <td>0.077833</td>\n",
       "    </tr>\n",
       "    <tr>\n",
       "      <th>18</th>\n",
       "      <td>totalVaepAgainstDiv</td>\n",
       "      <td>0.066019</td>\n",
       "    </tr>\n",
       "    <tr>\n",
       "      <th>15</th>\n",
       "      <td>OffensiveVaepDiff</td>\n",
       "      <td>0.059509</td>\n",
       "    </tr>\n",
       "    <tr>\n",
       "      <th>13</th>\n",
       "      <td>totalVaepDiff</td>\n",
       "      <td>0.056667</td>\n",
       "    </tr>\n",
       "    <tr>\n",
       "      <th>3</th>\n",
       "      <td>team1_againstVaepAccum</td>\n",
       "      <td>0.043280</td>\n",
       "    </tr>\n",
       "    <tr>\n",
       "      <th>7</th>\n",
       "      <td>team2_againstVaepAccum</td>\n",
       "      <td>0.042106</td>\n",
       "    </tr>\n",
       "    <tr>\n",
       "      <th>6</th>\n",
       "      <td>team2_defVaepAccum</td>\n",
       "      <td>0.037842</td>\n",
       "    </tr>\n",
       "    <tr>\n",
       "      <th>10</th>\n",
       "      <td>pythdiff</td>\n",
       "      <td>0.036979</td>\n",
       "    </tr>\n",
       "    <tr>\n",
       "      <th>5</th>\n",
       "      <td>team2_offVaepAccum</td>\n",
       "      <td>0.033654</td>\n",
       "    </tr>\n",
       "    <tr>\n",
       "      <th>9</th>\n",
       "      <td>pythTeam2</td>\n",
       "      <td>0.032323</td>\n",
       "    </tr>\n",
       "    <tr>\n",
       "      <th>20</th>\n",
       "      <td>row_num</td>\n",
       "      <td>0.031443</td>\n",
       "    </tr>\n",
       "    <tr>\n",
       "      <th>8</th>\n",
       "      <td>pythTeam1</td>\n",
       "      <td>0.031435</td>\n",
       "    </tr>\n",
       "    <tr>\n",
       "      <th>21</th>\n",
       "      <td>team1_side_num_vec_home</td>\n",
       "      <td>0.029050</td>\n",
       "    </tr>\n",
       "  </tbody>\n",
       "</table>\n",
       "</div>"
      ],
      "text/plain": [
       "                    feature  importance\n",
       "14         OffensiveVaepDiv    0.193890\n",
       "19     totalVaepAgainstDiff    0.083248\n",
       "12             totalVaepDiv    0.077833\n",
       "18      totalVaepAgainstDiv    0.066019\n",
       "15        OffensiveVaepDiff    0.059509\n",
       "13            totalVaepDiff    0.056667\n",
       "3    team1_againstVaepAccum    0.043280\n",
       "7    team2_againstVaepAccum    0.042106\n",
       "6        team2_defVaepAccum    0.037842\n",
       "10                 pythdiff    0.036979\n",
       "5        team2_offVaepAccum    0.033654\n",
       "9                 pythTeam2    0.032323\n",
       "20                  row_num    0.031443\n",
       "8                 pythTeam1    0.031435\n",
       "21  team1_side_num_vec_home    0.029050"
      ]
     },
     "execution_count": 66,
     "metadata": {},
     "output_type": "execute_result"
    }
   ],
   "source": [
    "# Se imprime la importancia de cada feature\n",
    "\n",
    "from itertools import chain\n",
    "attrs = sorted(\n",
    "    (attr['idx'], attr['name'])\n",
    "    for attr in (\n",
    "        chain(*pred_df.schema['features'].metadata['ml_attr']['attrs'].values())\n",
    "    )\n",
    ")\n",
    "feat_import = [(name, rfm.featureImportances[idx]) for idx, name in attrs if rfm.featureImportances[idx]]\n",
    "feat_import = pd.DataFrame(feat_import, columns=['feature', 'importance']).sort_values(by='importance', ascending=False)\n",
    "\n",
    "feat_import.head(15)"
   ]
  },
  {
   "cell_type": "code",
   "execution_count": 67,
   "metadata": {},
   "outputs": [
    {
     "data": {
      "text/plain": [
       "[Text(0, 0, 'OffensiveVaepDiv'),\n",
       " Text(0, 0, 'totalVaepAgainstDiff'),\n",
       " Text(0, 0, 'totalVaepDiv'),\n",
       " Text(0, 0, 'totalVaepAgainstDiv'),\n",
       " Text(0, 0, 'OffensiveVaepDiff'),\n",
       " Text(0, 0, 'totalVaepDiff'),\n",
       " Text(0, 0, 'team1_againstVaepAccum'),\n",
       " Text(0, 0, 'team2_againstVaepAccum'),\n",
       " Text(0, 0, 'team2_defVaepAccum'),\n",
       " Text(0, 0, 'pythdiff'),\n",
       " Text(0, 0, 'team2_offVaepAccum'),\n",
       " Text(0, 0, 'pythTeam2'),\n",
       " Text(0, 0, 'row_num'),\n",
       " Text(0, 0, 'pythTeam1'),\n",
       " Text(0, 0, 'team1_side_num_vec_home'),\n",
       " Text(0, 0, 'pythdiv'),\n",
       " Text(0, 0, 'totalDefVaepDiv'),\n",
       " Text(0, 0, 'team1_defVaepAccum'),\n",
       " Text(0, 0, 'team1_offVaepAccum'),\n",
       " Text(0, 0, 'team2_totalVaepAccum')]"
      ]
     },
     "execution_count": 67,
     "metadata": {},
     "output_type": "execute_result"
    },
    {
     "data": {
      "image/png": "[encoded data removed]",
      "text/plain": [
       "<Figure size 432x288 with 1 Axes>"
      ]
     },
     "metadata": {
      "needs_background": "light"
     },
     "output_type": "display_data"
    }
   ],
   "source": [
    "# Se grafica la importancia de cada feature\n",
    "\n",
    "ax = feat_import[:20].plot(kind='bar')\n",
    "ax.set_xticklabels(feat_import[:20]['feature'].tolist())"
   ]
  },
  {
   "cell_type": "code",
   "execution_count": 68,
   "metadata": {},
   "outputs": [],
   "source": [
    "pred_df.createOrReplaceTempView(\"predicciones\")"
   ]
  },
  {
   "cell_type": "code",
   "execution_count": 69,
   "metadata": {},
   "outputs": [],
   "source": [
    "# Esta query Calcula cuantas veces el algoritmo predijo correctamente y cuantas no\n",
    "\n",
    "query='''\n",
    "\n",
    "select team1winflag, prediction, count(*) as cantidad\n",
    "from predicciones\n",
    "group by team1winflag,prediction\n",
    "\n",
    "'''"
   ]
  },
  {
   "cell_type": "code",
   "execution_count": 70,
   "metadata": {},
   "outputs": [
    {
     "name": "stdout",
     "output_type": "stream",
     "text": [
      "+------------+----------+--------+\n",
      "|team1winflag|prediction|cantidad|\n",
      "+------------+----------+--------+\n",
      "|           1|       0.0|      75|\n",
      "|           0|       0.0|     128|\n",
      "|           1|       1.0|      41|\n",
      "|           0|       1.0|      36|\n",
      "+------------+----------+--------+\n",
      "\n"
     ]
    }
   ],
   "source": [
    "matrix = spark.sql(query)\n",
    "matrix.show()"
   ]
  },
  {
   "cell_type": "code",
   "execution_count": 71,
   "metadata": {},
   "outputs": [
    {
     "name": "stdout",
     "output_type": "stream",
     "text": [
      "{Param(parent='RandomForestClassifier_24253e34f8a8', name='numTrees', doc='Number of trees to train (>= 1).'): 50, Param(parent='RandomForestClassifier_24253e34f8a8', name='maxBins', doc='Max number of bins for discretizing continuous features.  Must be >=2 and >= number of categories for any categorical feature.'): 20, Param(parent='RandomForestClassifier_24253e34f8a8', name='maxDepth', doc='Maximum depth of the tree. (>= 0) E.g., depth 0 means 1 leaf node; depth 1 means 1 internal node + 2 leaf nodes.'): 10}\n"
     ]
    }
   ],
   "source": [
    "#Imprimo el valor de los hiperparametros óptimos\n",
    "\n",
    "import numpy as np\n",
    "\n",
    "print(cvModel.getEstimatorParamMaps()[np.argmax(cvModel.avgMetrics)])"
   ]
  },
  {
   "cell_type": "markdown",
   "metadata": {},
   "source": [
    "### Conclusión"
   ]
  },
  {
   "cell_type": "markdown",
   "metadata": {},
   "source": [
    "El valor histórico de la evaluación VAEP de los equipos a enfrentarse resulta ser un buen estimador de si un equipo ganará o no un partido obteniéndose valores de AOC cercanos a 0.9 y valores de accuracy cercanos a 0.8"
   ]
  },
  {
   "cell_type": "code",
   "execution_count": null,
   "metadata": {},
   "outputs": [],
   "source": []
  },
  {
   "cell_type": "code",
   "execution_count": 72,
   "metadata": {},
   "outputs": [],
   "source": [
    "spark.stop()"
   ]
  },
  {
   "cell_type": "code",
   "execution_count": null,
   "metadata": {},
   "outputs": [],
   "source": []
  },
  {
   "cell_type": "code",
   "execution_count": null,
   "metadata": {},
   "outputs": [],
   "source": []
  },
  {
   "cell_type": "code",
   "execution_count": null,
   "metadata": {},
   "outputs": [],
   "source": []
  },
  {
   "cell_type": "code",
   "execution_count": null,
   "metadata": {},
   "outputs": [],
   "source": []
  }
 ],
 "metadata": {
  "kernelspec": {
   "display_name": "Python 3",
   "language": "python",
   "name": "python3"
  },
  "language_info": {
   "codemirror_mode": {
    "name": "ipython",
    "version": 3
   },
   "file_extension": ".py",
   "mimetype": "text/x-python",
   "name": "python",
   "nbconvert_exporter": "python",
   "pygments_lexer": "ipython3",
   "version": "3.7.3"
  }
 },
 "nbformat": 4,
 "nbformat_minor": 4
}
