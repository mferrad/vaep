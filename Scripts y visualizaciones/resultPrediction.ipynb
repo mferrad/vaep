{
 "cells": [
  {
   "cell_type": "markdown",
   "metadata": {},
   "source": [
    "# Análisis Predictivo "
   ]
  },
  {
   "cell_type": "markdown",
   "metadata": {},
   "source": [
    "**Nota:** Por favor leer el archivo vaepReadMe.md para obtener más información incluyendo el orden en que se deben ejecutar los scripts"
   ]
  },
  {
   "cell_type": "markdown",
   "metadata": {},
   "source": [
    "El siguiente script tiene por objetivo utilizar el índice VAEP para predecir el resultado de los partidos (si el equipo ganará o no).\n",
    "\n",
    "Se utilizará el valor acumulado de los índices VAEP total ofensivo y defensivo, a favor y en contra en los partidos anteriores para predecir el resultado del próximo partido.\n"
   ]
  },
  {
   "cell_type": "code",
   "execution_count": 1,
   "metadata": {},
   "outputs": [],
   "source": [
    "import findspark\n",
    "findspark.init()"
   ]
  },
  {
   "cell_type": "code",
   "execution_count": 2,
   "metadata": {},
   "outputs": [],
   "source": [
    "from pyspark.sql import SparkSession\n",
    "spark = (\n",
    "    SparkSession.builder\n",
    "    .appName(\"Vaep-result-pred\")\n",
    "    .config(\"spark.driver.memory\", \"512m\")\n",
    "    .config(\"spark.driver.cores\", \"1\")\n",
    "    .config(\"spark.executor.memory\", \"512m\")\n",
    "    .config(\"spark.executor.cores\", \"1\")\n",
    "    .config(\"spark.sql.shuffle.partitions\", \"2\")\n",
    "    .getOrCreate()\n",
    ")"
   ]
  },
  {
   "cell_type": "code",
   "execution_count": 3,
   "metadata": {},
   "outputs": [],
   "source": [
    "import random\n",
    "import numpy as np\n",
    "\n",
    "#set seed\n",
    "random.seed(1234)\n",
    "np.random.seed(1234)"
   ]
  },
  {
   "cell_type": "markdown",
   "metadata": {},
   "source": [
    "### Preparacion de los datos"
   ]
  },
  {
   "cell_type": "markdown",
   "metadata": {},
   "source": [
    "A continuacion se calculan los indices acumulados para ambos equipos por partido"
   ]
  },
  {
   "cell_type": "code",
   "execution_count": 4,
   "metadata": {},
   "outputs": [],
   "source": [
    "import pandas as pd"
   ]
  },
  {
   "cell_type": "code",
   "execution_count": 5,
   "metadata": {},
   "outputs": [],
   "source": [
    "parquetData = '/dataset/vaep/parquet/match_events.parquet'"
   ]
  },
  {
   "cell_type": "code",
   "execution_count": 6,
   "metadata": {},
   "outputs": [],
   "source": [
    "df_parquet = spark.read.parquet(parquetData)"
   ]
  },
  {
   "cell_type": "code",
   "execution_count": 7,
   "metadata": {},
   "outputs": [],
   "source": [
    "df_parquet.createOrReplaceTempView(\"eventsAnalysis\")"
   ]
  },
  {
   "cell_type": "code",
   "execution_count": 8,
   "metadata": {},
   "outputs": [],
   "source": [
    "# Esta query calcula el puntaje VAEP ofensivo, defensivo y total por equipo por partido\n",
    "\n",
    "query='''\n",
    "\n",
    "SELECT game_id, team_id, short_team_name, sum(offensive_value) as offensiveVAEP, sum(defensive_value) as defensiveVAEP, sum(vaep_value) as totalVAEP\n",
    "FROM eventsAnalysis\n",
    "group by game_id, team_id, short_team_name\n",
    "\n",
    "'''"
   ]
  },
  {
   "cell_type": "code",
   "execution_count": 9,
   "metadata": {},
   "outputs": [
    {
     "name": "stdout",
     "output_type": "stream",
     "text": [
      "+-------+-------+--------------------+------------------+--------------------+------------------+\n",
      "|game_id|team_id|     short_team_name|     offensiveVAEP|       defensiveVAEP|         totalVAEP|\n",
      "+-------+-------+--------------------+------------------+--------------------+------------------+\n",
      "|2499850|   1609|             Arsenal| 5.800531201530248|-8.23160109575837...| 5.799708048347384|\n",
      "|2576059|   3219|           Benevento|1.7643836359493434| 0.10706544801359996|1.8714490730781108|\n",
      "|2576044|   3161|      Internazionale|0.5785705242305994|  0.3317085389280692|0.9102790635079145|\n",
      "|2500065|  10531|        Swansea City|0.5273028190713376|  0.2623006572248414|0.7896034918958321|\n",
      "|2500024|   1651|Brighton & Hove A...| 1.321480500861071| 0.36449467175407335|1.6859752273885533|\n",
      "+-------+-------+--------------------+------------------+--------------------+------------------+\n",
      "only showing top 5 rows\n",
      "\n"
     ]
    }
   ],
   "source": [
    "df_parquet = spark.sql(query)\n",
    "df_parquet.createOrReplaceTempView(\"vaepPerGame\")\n",
    "df_parquet.show(5)"
   ]
  },
  {
   "cell_type": "code",
   "execution_count": 10,
   "metadata": {},
   "outputs": [
    {
     "data": {
      "text/plain": [
       "2280"
      ]
     },
     "execution_count": 10,
     "metadata": {},
     "output_type": "execute_result"
    }
   ],
   "source": [
    "df_parquet.count()"
   ]
  },
  {
   "cell_type": "code",
   "execution_count": 11,
   "metadata": {},
   "outputs": [],
   "source": [
    "parquetData = '/dataset/vaep/parquet/matches.parquet'"
   ]
  },
  {
   "cell_type": "code",
   "execution_count": 12,
   "metadata": {},
   "outputs": [],
   "source": [
    "df_parquet = spark.read.parquet(parquetData)"
   ]
  },
  {
   "cell_type": "code",
   "execution_count": 13,
   "metadata": {},
   "outputs": [],
   "source": [
    "df_parquet.createOrReplaceTempView(\"matches\")"
   ]
  },
  {
   "cell_type": "code",
   "execution_count": 14,
   "metadata": {},
   "outputs": [],
   "source": [
    "# Esta query obtiene el resultado de cada partido, los equipos que lo jugaron, la fecha del mismo y crea la variable team1winflag\n",
    "# que toma el valor de 1 si el equipo 1 ganó o 0 si empató o perdió. Esta será la variable a predecir.\n",
    "\n",
    "query='''\n",
    "\n",
    "\n",
    "SELECT competitionid, wyId as game_id ,team1_teamId, team1_side , team2_teamId,\n",
    "case when winner=team1_teamId then 1 else 0 END as team1winflag,\n",
    "dateutc\n",
    "FROM matches\n",
    "Order by dateutc desc\n",
    "\n",
    "'''"
   ]
  },
  {
   "cell_type": "code",
   "execution_count": 15,
   "metadata": {},
   "outputs": [
    {
     "name": "stdout",
     "output_type": "stream",
     "text": [
      "+-------------+-------+------------+----------+------------+------------+-------------------+\n",
      "|competitionid|game_id|team1_teamId|team1_side|team2_teamId|team1winflag|            dateutc|\n",
      "+-------------+-------+------------+----------+------------+------------+-------------------+\n",
      "|          524|2576336|        3158|      away|        3315|           1|2018-05-20 18:45:00|\n",
      "|          795|2565922|         676|      home|         687|           1|2018-05-20 18:45:00|\n",
      "|          524|2576335|        3162|      home|        3161|           0|2018-05-20 18:45:00|\n",
      "|          795|2565925|         679|      home|         701|           0|2018-05-20 16:30:00|\n",
      "|          524|2576330|        3165|      home|        3219|           1|2018-05-20 16:00:00|\n",
      "+-------------+-------+------------+----------+------------+------------+-------------------+\n",
      "only showing top 5 rows\n",
      "\n"
     ]
    }
   ],
   "source": [
    "df_parquet = spark.sql(query)\n",
    "df_parquet.createOrReplaceTempView(\"matchResults\")\n",
    "df_parquet.show(5)"
   ]
  },
  {
   "cell_type": "code",
   "execution_count": 16,
   "metadata": {},
   "outputs": [
    {
     "data": {
      "text/plain": [
       "1140"
      ]
     },
     "execution_count": 16,
     "metadata": {},
     "output_type": "execute_result"
    }
   ],
   "source": [
    "df_parquet.count()"
   ]
  },
  {
   "cell_type": "code",
   "execution_count": 17,
   "metadata": {},
   "outputs": [],
   "source": [
    "# Esta query obtiene el resultado del partido, los valores VAEP para cada partido y la fecha en que se jugó.\n",
    "\n",
    "query='''\n",
    "\n",
    "select  competitionid, tableWithTeam1.game_id ,team1_teamId, team1_side , team1_name, team1_offensiveVAEP,\n",
    "team1_defensiveVAEP, team1_totalVAEP, \n",
    "\n",
    "team2_teamId, short_team_name as team2_name, offensiveVAEP as team2_offensiveVAEP,\n",
    "defensiveVAEP as team2_defensiveVAEP, totalVAEP as team2_totalVAEP, \n",
    "\n",
    "team1winflag, dateutc\n",
    "\n",
    "from\n",
    "(\n",
    "select competitionid, matchResults.game_id ,team1_teamId, team1_side , short_team_name as team1_name, offensiveVAEP as team1_offensiveVAEP,\n",
    "defensiveVAEP as team1_defensiveVAEP, totalVAEP as team1_totalVAEP, team2_teamId, team1winflag, dateutc\n",
    "FROM matchResults join vaepPerGame on \n",
    "(matchResults.game_id=vaepPerGame.game_id and matchResults.team1_teamId=vaepPerGame.team_id)\n",
    ") as tableWithTeam1\n",
    "\n",
    "join vaepPerGame on \n",
    "(tableWithTeam1.game_id=vaepPerGame.game_id and tableWithTeam1.team2_teamId=vaepPerGame.team_id)\n",
    "\n",
    "order by dateutc asc\n",
    "'''"
   ]
  },
  {
   "cell_type": "code",
   "execution_count": 18,
   "metadata": {},
   "outputs": [
    {
     "name": "stdout",
     "output_type": "stream",
     "text": [
      "+-------------+-------+------------+----------+--------------+-------------------+--------------------+------------------+------------+-----------------+-------------------+--------------------+------------------+------------+-------------------+\n",
      "|competitionid|game_id|team1_teamId|team1_side|    team1_name|team1_offensiveVAEP| team1_defensiveVAEP|   team1_totalVAEP|team2_teamId|       team2_name|team2_offensiveVAEP| team2_defensiveVAEP|   team2_totalVAEP|team1winflag|            dateutc|\n",
      "+-------------+-------+------------+----------+--------------+-------------------+--------------------+------------------+------------+-----------------+-------------------+--------------------+------------------+------------+-------------------+\n",
      "|          364|2499719|        1609|      home|       Arsenal|  4.670027377083898| 0.11731985094957054| 4.787347314530052|        1631|   Leicester City| 3.7192057595821097| -0.3971957864705473|3.3220099792815745|           1|2017-08-11 18:45:00|\n",
      "|          364|2499727|        1612|      away|     Liverpool| 3.0626650587655604|  0.7538052361924201|3.8164702638750896|        1644|          Watford|  4.363582341466099|-0.07918395713204518| 4.284398326068185|           0|2017-08-12 11:30:00|\n",
      "|          364|2499721|        1646|      away|       Burnley| 3.6477766492171213|   0.590171214309521|4.2379479093360715|        1610|          Chelsea|  3.478978879051283| 0.03499644371913746|3.5139752975665033|           1|2017-08-12 14:00:00|\n",
      "|          364|2499722|        1628|      home|Crystal Palace| 1.1081110008526593|-0.19863958191126585|0.9094714188249782|        1673|Huddersfield Town|  2.406356260587927| 0.20727584813721478|2.6136321051744744|           0|2017-08-12 14:00:00|\n",
      "|          364|2499726|        1619|      home|   Southampton|   0.57230643928051|  -0.244290764501784| 0.328015681123361|       10531|     Swansea City| 1.1597508401609957| -0.2532301185419783|0.9065207471139729|           0|2017-08-12 14:00:00|\n",
      "+-------------+-------+------------+----------+--------------+-------------------+--------------------+------------------+------------+-----------------+-------------------+--------------------+------------------+------------+-------------------+\n",
      "only showing top 5 rows\n",
      "\n"
     ]
    }
   ],
   "source": [
    "matches = spark.sql(query)\n",
    "matches.show(5)"
   ]
  },
  {
   "cell_type": "code",
   "execution_count": 19,
   "metadata": {},
   "outputs": [
    {
     "data": {
      "text/plain": [
       "1140"
      ]
     },
     "execution_count": 19,
     "metadata": {},
     "output_type": "execute_result"
    }
   ],
   "source": [
    "matches.count()"
   ]
  },
  {
   "cell_type": "code",
   "execution_count": 20,
   "metadata": {},
   "outputs": [],
   "source": [
    "#Se agregan 2 features nuevas con la diferencia del vaep total a favor del team 1 y a favor del team 2 para cada partido\n",
    "\n",
    "matches=matches.withColumn(\"VaepDiffTeam1\",(matches['team1_totalVAEP']-matches['team2_totalVAEP']))\n",
    "matches=matches.withColumn(\"VaepDiffTeam2\",(matches['team2_totalVAEP']-matches['team1_totalVAEP']))"
   ]
  },
  {
   "cell_type": "code",
   "execution_count": 21,
   "metadata": {},
   "outputs": [
    {
     "name": "stdout",
     "output_type": "stream",
     "text": [
      "+------------------+------------------+-------------------+-------------------+\n",
      "|   team1_totalVAEP|   team2_totalVAEP|      VaepDiffTeam1|      VaepDiffTeam2|\n",
      "+------------------+------------------+-------------------+-------------------+\n",
      "| 4.787347314530052|3.3220099792815745| 1.4653373352484778|-1.4653373352484778|\n",
      "|3.8164702638750896| 4.284398326068185|-0.4679280621930957| 0.4679280621930957|\n",
      "|0.9094714188249782|2.6136321051744744|-1.7041606863494962| 1.7041606863494962|\n",
      "|1.1590999013278633| 2.141056228079833|-0.9819563267519698| 0.9819563267519698|\n",
      "| 0.328015681123361|0.9065207471139729|-0.5785050659906119| 0.5785050659906119|\n",
      "+------------------+------------------+-------------------+-------------------+\n",
      "only showing top 5 rows\n",
      "\n"
     ]
    }
   ],
   "source": [
    "matches.select('team1_totalVAEP','team2_totalVAEP','VaepDiffTeam1', 'VaepDiffTeam2').show(5)"
   ]
  },
  {
   "cell_type": "code",
   "execution_count": 22,
   "metadata": {},
   "outputs": [],
   "source": [
    "matches.createOrReplaceTempView(\"matchData\")"
   ]
  },
  {
   "cell_type": "code",
   "execution_count": 23,
   "metadata": {},
   "outputs": [],
   "source": [
    "# Esta query calcula los valores VAEP acumulados por partido (incluyendo el del partido a analizar que \n",
    "# se resta más adelante) para el team1 únicamente\n",
    "\n",
    "query='''\n",
    "\n",
    "select teamID as team1ID, game_id, sum(offensiveVAEP) as sum_off_vaep_team1, sum(defensiveVAEP) as sum_def_vaep_team1,\n",
    "sum(totalVAEP) as sum_tot_vaep_team1,sum(VaepDiff) as sum_vaep_diff_team1\n",
    "from\n",
    "(\n",
    "(\n",
    "SELECT matchData1.team1_teamId as teamID, matchData1.dateutc as row_num_index, matchData2.dateutc as other_row_num,\n",
    "matchData1.game_id, matchData2.game_id as previous_game_id, matchData2.team1_offensiveVAEP as offensiveVAEP, \n",
    "matchData2.team1_defensiveVAEP as defensiveVAEP,matchData2.team1_totalVAEP as totalVAEP,\n",
    "matchData2.VaepDiffTeam1 as VaepDiff\n",
    "\n",
    "FROM matchData as matchData1 JOIN matchData as matchData2\n",
    "on ((matchData1.dateutc >= matchData2.dateutc) and \n",
    "(matchData1.team1_teamId=matchData2.team1_teamId ))\n",
    "order by matchData1.team1_teamId, matchData1.dateutc, matchData2.dateutc\n",
    ")\n",
    "\n",
    "UNION ALL\n",
    "\n",
    "(\n",
    "SELECT matchData1.team1_teamId as teamID, matchData1.dateutc as row_num_index, matchData2.dateutc as other_row_num,\n",
    "matchData1.game_id, matchData2.game_id as previous_game_id, matchData2.team2_offensiveVAEP as offensiveVAEP, \n",
    "matchData2.team2_defensiveVAEP as defensiveVAEP,matchData2.team2_totalVAEP as totalVAEP,\n",
    "matchData2.VaepDiffTeam2 as VaepDiff\n",
    "\n",
    "FROM matchData as matchData1 JOIN matchData as matchData2\n",
    "on ((matchData1.dateutc >= matchData2.dateutc) and \n",
    "(matchData1.team1_teamId=matchData2.team2_teamId ))\n",
    "order by matchData1.team1_teamId, matchData1.dateutc, matchData2.dateutc\n",
    ")\n",
    ")\n",
    "group by teamID, game_id\n",
    "'''"
   ]
  },
  {
   "cell_type": "code",
   "execution_count": 24,
   "metadata": {},
   "outputs": [
    {
     "name": "stdout",
     "output_type": "stream",
     "text": [
      "+-------+-------+------------------+-------------------+------------------+-------------------+\n",
      "|team1ID|game_id|sum_off_vaep_team1| sum_def_vaep_team1|sum_tot_vaep_team1|sum_vaep_diff_team1|\n",
      "+-------+-------+------------------+-------------------+------------------+-------------------+\n",
      "|   1644|2500087|  70.4470175447641| 1.9129082587605808| 72.35992552834432| -20.18629422673621|\n",
      "|   1644|2500093| 71.37924566707807| 1.9048662013665307| 73.28411157970186|-21.084896127871616|\n",
      "|   1646|2499721|3.6477766492171213|  0.590171214309521|4.2379479093360715| 0.7239726117695682|\n",
      "|   1646|2499730| 4.780997149995528| 0.5169456836301833| 5.297942872683052|0.15782827039947733|\n",
      "|   1646|2499746| 6.652883380185813| 0.5626359689049423| 7.215519345074426|0.28462251159362495|\n",
      "|   1646|2499751| 8.256027959519997| 0.5087594220531173|   8.7647873814567| 0.4632746485294774|\n",
      "|   1646|2499771|10.958894129144028|  0.621454002102837|11.580348118848633|0.26598465035203844|\n",
      "|   1646|2499832|22.007779969015246|0.41576154332142323|22.423541505355388|  2.186170413685886|\n",
      "|   1646|2499839| 23.57289152510566| 0.4041462924797088|23.977037763455883|  2.583812433123512|\n",
      "|   1646|2499849|26.450368709043687| 0.4350296469638124|26.885398277896456| 3.3254255870738234|\n",
      "+-------+-------+------------------+-------------------+------------------+-------------------+\n",
      "only showing top 10 rows\n",
      "\n"
     ]
    }
   ],
   "source": [
    "team1Data = spark.sql(query)\n",
    "team1Data.show(10)"
   ]
  },
  {
   "cell_type": "code",
   "execution_count": 25,
   "metadata": {},
   "outputs": [
    {
     "data": {
      "text/plain": [
       "1140"
      ]
     },
     "execution_count": 25,
     "metadata": {},
     "output_type": "execute_result"
    }
   ],
   "source": [
    "team1Data.count()"
   ]
  },
  {
   "cell_type": "code",
   "execution_count": 26,
   "metadata": {},
   "outputs": [],
   "source": [
    "# Esta query calcula los valores VAEP acumulados por partido (incluyendo el del partido a analizar que \n",
    "# se resta más adelante) para el team2 únicamente\n",
    "\n",
    "\n",
    "query='''\n",
    "\n",
    "select teamID as team2ID, game_id, sum(offensiveVAEP) as sum_off_vaep_team2, sum(defensiveVAEP) as sum_def_vaep_team2,\n",
    "sum(totalVAEP) as sum_tot_vaep_team2,sum(VaepDiff) as sum_vaep_diff_team2\n",
    "from\n",
    "(\n",
    "(\n",
    "SELECT matchData1.team2_teamId as teamID, matchData1.dateutc as row_num_index, matchData2.dateutc as other_row_num,\n",
    "matchData1.game_id, matchData2.game_id as previous_game_id, matchData2.team1_offensiveVAEP as offensiveVAEP, \n",
    "matchData2.team1_defensiveVAEP as defensiveVAEP,matchData2.team1_totalVAEP as totalVAEP,\n",
    "matchData2.VaepDiffTeam1 as VaepDiff\n",
    "\n",
    "FROM matchData as matchData1 JOIN matchData as matchData2\n",
    "on ((matchData1.dateutc >= matchData2.dateutc) and \n",
    "(matchData1.team2_teamId=matchData2.team1_teamId ))\n",
    "order by matchData1.team2_teamId, matchData1.dateutc, matchData2.dateutc\n",
    ")\n",
    "\n",
    "UNION ALL\n",
    "\n",
    "(\n",
    "SELECT matchData1.team2_teamId as teamID, matchData1.dateutc as row_num_index, matchData2.dateutc as other_row_num,\n",
    "matchData1.game_id, matchData2.game_id as previous_game_id, matchData2.team2_offensiveVAEP as offensiveVAEP, \n",
    "matchData2.team2_defensiveVAEP as defensiveVAEP,matchData2.team2_totalVAEP as totalVAEP,\n",
    "matchData2.VaepDiffTeam2 as VaepDiff\n",
    "\n",
    "FROM matchData as matchData1 JOIN matchData as matchData2\n",
    "on ((matchData1.dateutc >= matchData2.dateutc) and \n",
    "(matchData1.team2_teamId=matchData2.team2_teamId ))\n",
    "order by matchData1.team2_teamId, matchData1.dateutc, matchData2.dateutc\n",
    ")\n",
    ")\n",
    "group by teamID, game_id\n",
    "'''"
   ]
  },
  {
   "cell_type": "code",
   "execution_count": 27,
   "metadata": {},
   "outputs": [
    {
     "name": "stdout",
     "output_type": "stream",
     "text": [
      "+-------+-------+------------------+-------------------+------------------+-------------------+\n",
      "|team2ID|game_id|sum_off_vaep_team2| sum_def_vaep_team2|sum_tot_vaep_team2|sum_vaep_diff_team2|\n",
      "+-------+-------+------------------+-------------------+------------------+-------------------+\n",
      "|   1625|2499954|  84.4300286991056|  2.169538874470163| 86.59956743102202|   50.1315621181825|\n",
      "|   1625|2500004|101.30843974102754| 2.2022605111123994| 103.5107000777466|  61.85455818642777|\n",
      "|   1625|2500085|122.47292446461506| 2.4651723270653747|124.93809646193085|  71.19957275438037|\n",
      "|   1627|2499868|25.552723918983247|  3.017375025548972|  28.5700991199119|  -6.45581169833531|\n",
      "|   1627|2500090| 63.48440709657734|  5.842754062090535| 69.32716113136848| -23.20337752083651|\n",
      "|   1628|2499751| 4.753765938570723|-0.6082334127859212| 4.145532526716124| -4.413750352396164|\n",
      "|   1628|2499941| 37.43408431223361| 1.0494996983907185| 38.48358404356986|-12.808104421623284|\n",
      "|   1631|2499864| 28.67676688177744| 1.6740998768655118| 30.35086686228169| -3.112550322606694|\n",
      "|   1631|2499874|31.347165403945837| 1.9715386432071682| 33.31870410783449| -3.093477435351815|\n",
      "|   1631|2499903|39.614693594223354| 2.2193638031894807| 41.83405751764076|-3.0890267692739144|\n",
      "+-------+-------+------------------+-------------------+------------------+-------------------+\n",
      "only showing top 10 rows\n",
      "\n"
     ]
    }
   ],
   "source": [
    "team2Data = spark.sql(query)\n",
    "team2Data.show(10)"
   ]
  },
  {
   "cell_type": "code",
   "execution_count": 28,
   "metadata": {},
   "outputs": [
    {
     "data": {
      "text/plain": [
       "1140"
      ]
     },
     "execution_count": 28,
     "metadata": {},
     "output_type": "execute_result"
    }
   ],
   "source": [
    "team2Data.count()"
   ]
  },
  {
   "cell_type": "code",
   "execution_count": 29,
   "metadata": {},
   "outputs": [],
   "source": [
    "team1Data.createOrReplaceTempView(\"Team1Data\")\n",
    "team2Data.createOrReplaceTempView(\"Team2Data\")"
   ]
  },
  {
   "cell_type": "code",
   "execution_count": 30,
   "metadata": {},
   "outputs": [],
   "source": [
    "# Esta query calcula los valores VAEP acumulados por partido para ambos equipos teniendo en cuenta solo los partidos \n",
    "# anteriores y se incluyen los resultados del partido. Tambien se numeran los partidos segun la fecha en que \n",
    "# se jugaron (row_num)\n",
    "\n",
    "\n",
    "query='''\n",
    "\n",
    "select ROW_NUMBER() OVER (ORDER BY dateutc asc) row_num, dateutc , competitionid, matchdata.game_id, \n",
    "\n",
    "team1_teamId, team1_name,\n",
    "(sum_tot_vaep_team1 - team1_totalVAEP) as team1_totalVaepAccum, \n",
    "(sum_off_vaep_team1 - team1_offensiveVAEP) as team1_offVaepAccum, \n",
    "(sum_def_vaep_team1 - team1_defensiveVAEP) as team1_defVaepAccum,\n",
    "(sum_vaep_diff_team1 - VaepDiffTeam1) as team1_againstVaepAccum,\n",
    "\n",
    "team2_teamId, team2_name,\n",
    "(sum_tot_vaep_team2 - team2_totalVAEP) as team2_totalVaepAccum, \n",
    "(sum_off_vaep_team2 - team2_offensiveVAEP) as team2_offVaepAccum, \n",
    "(sum_def_vaep_team2 - team2_defensiveVAEP) as team2_defVaepAccum,\n",
    "(sum_vaep_diff_team2 - VaepDiffTeam2) as team2_againstVaepAccum,\n",
    "\n",
    "team1_side,team1winflag\n",
    "\n",
    "from matchData join Team1Data on\n",
    "((matchData.team1_teamId=Team1Data.team1ID) and (matchData.game_id=Team1Data.game_id))\n",
    "join Team2Data on\n",
    "((matchData.team2_teamId=Team2Data.team2ID) and (matchData.game_id=Team2Data.game_id))\n",
    "\n",
    "order by dateutc asc\n",
    "'''"
   ]
  },
  {
   "cell_type": "code",
   "execution_count": 31,
   "metadata": {},
   "outputs": [
    {
     "name": "stdout",
     "output_type": "stream",
     "text": [
      "+-------+-------------------+-------------+-------+------------+--------------------+--------------------+------------------+------------------+----------------------+------------+--------------------+--------------------+------------------+------------------+----------------------+----------+------------+\n",
      "|row_num|            dateutc|competitionid|game_id|team1_teamId|          team1_name|team1_totalVaepAccum|team1_offVaepAccum|team1_defVaepAccum|team1_againstVaepAccum|team2_teamId|          team2_name|team2_totalVaepAccum|team2_offVaepAccum|team2_defVaepAccum|team2_againstVaepAccum|team1_side|team1winflag|\n",
      "+-------+-------------------+-------------+-------+------------+--------------------+--------------------+------------------+------------------+----------------------+------------+--------------------+--------------------+------------------+------------------+----------------------+----------+------------+\n",
      "|      1|2017-08-11 18:45:00|          364|2499719|        1609|             Arsenal|                 0.0|               0.0|               0.0|                   0.0|        1631|      Leicester City|                 0.0|               0.0|               0.0|                   0.0|      home|           1|\n",
      "|      2|2017-08-12 11:30:00|          364|2499727|        1612|           Liverpool|                 0.0|               0.0|               0.0|                   0.0|        1644|             Watford|                 0.0|               0.0|               0.0|                   0.0|      away|           0|\n",
      "|      6|2017-08-12 14:00:00|          364|2499722|        1628|      Crystal Palace|                 0.0|               0.0|               0.0|                   0.0|        1673|   Huddersfield Town|                 0.0|               0.0|               0.0|                   0.0|      home|           0|\n",
      "|      3|2017-08-12 14:00:00|          364|2499721|        1646|             Burnley|                 0.0|               0.0|               0.0|                   0.0|        1610|             Chelsea|                 0.0|               0.0|               0.0|                   0.0|      away|           1|\n",
      "|      7|2017-08-12 14:00:00|          364|2499726|        1619|         Southampton|                 0.0|               0.0|               0.0|                   0.0|       10531|        Swansea City|                 0.0|               0.0|               0.0|                   0.0|      home|           0|\n",
      "|      4|2017-08-12 14:00:00|          364|2499723|        1639|          Stoke City|                 0.0|               0.0|               0.0|                   0.0|        1623|             Everton|                 0.0|               0.0|               0.0|                   0.0|      away|           0|\n",
      "|      5|2017-08-12 14:00:00|          364|2499728|        1659|     AFC Bournemouth|                 0.0|               0.0|               0.0|                   0.0|        1627|West Bromwich Albion|                 0.0|               0.0|               0.0|                   0.0|      away|           0|\n",
      "|      8|2017-08-12 16:30:00|          364|2499720|        1651|Brighton & Hove A...|                 0.0|               0.0|               0.0|                   0.0|        1625|     Manchester City|                 0.0|               0.0|               0.0|                   0.0|      home|           0|\n",
      "|      9|2017-08-13 12:30:00|          364|2499725|        1613|    Newcastle United|                 0.0|               0.0|               0.0|                   0.0|        1624|   Tottenham Hotspur|                 0.0|               0.0|               0.0|                   0.0|      home|           0|\n",
      "|     10|2017-08-13 15:00:00|          364|2499724|        1611|   Manchester United|                 0.0|               0.0|               0.0|                   0.0|        1633|     West Ham United|                 0.0|               0.0|               0.0|                   0.0|      home|           1|\n",
      "+-------+-------------------+-------------+-------+------------+--------------------+--------------------+------------------+------------------+----------------------+------------+--------------------+--------------------+------------------+------------------+----------------------+----------+------------+\n",
      "only showing top 10 rows\n",
      "\n"
     ]
    }
   ],
   "source": [
    "fullMatchData = spark.sql(query)\n",
    "fullMatchData.show(10)"
   ]
  },
  {
   "cell_type": "code",
   "execution_count": 32,
   "metadata": {},
   "outputs": [
    {
     "data": {
      "text/plain": [
       "1140"
      ]
     },
     "execution_count": 32,
     "metadata": {},
     "output_type": "execute_result"
    }
   ],
   "source": [
    "fullMatchData.count()"
   ]
  },
  {
   "cell_type": "markdown",
   "metadata": {},
   "source": [
    "### Feature engineering "
   ]
  },
  {
   "cell_type": "markdown",
   "metadata": {},
   "source": [
    "Aqui se crean features adicionales relacionando los valores VAEP acumulados de los dos equipos mediante restas y divisiones."
   ]
  },
  {
   "cell_type": "code",
   "execution_count": 33,
   "metadata": {},
   "outputs": [],
   "source": [
    "fullMatchData=fullMatchData.withColumn(\"pythTeam1\",fullMatchData['team1_totalVaepAccum']**2/(fullMatchData['team1_totalVaepAccum']**2 + fullMatchData['team1_againstVaepAccum']**2))\n",
    "fullMatchData=fullMatchData.withColumn(\"pythTeam2\",fullMatchData['team2_totalVaepAccum']**2/(fullMatchData['team2_totalVaepAccum']**2 + fullMatchData['team2_againstVaepAccum']**2))\n",
    "fullMatchData=fullMatchData.withColumn(\"pythdiff\",fullMatchData['pythTeam1']-fullMatchData['pythTeam2'])\n",
    "fullMatchData=fullMatchData.withColumn(\"pythdiv\",fullMatchData['pythTeam1']/fullMatchData['pythTeam2'])"
   ]
  },
  {
   "cell_type": "code",
   "execution_count": 34,
   "metadata": {},
   "outputs": [],
   "source": [
    "fullMatchData=fullMatchData.withColumn(\"totalVaepDiv\",fullMatchData['team1_totalVaepAccum']/fullMatchData['team2_totalVaepAccum'])\n",
    "fullMatchData=fullMatchData.withColumn(\"totalVaepDiff\",fullMatchData['team1_totalVaepAccum']-fullMatchData['team2_totalVaepAccum'])\n",
    "\n",
    "fullMatchData=fullMatchData.withColumn(\"OffensiveVaepDiv\",fullMatchData['team1_offVaepAccum']/fullMatchData['team2_offVaepAccum'])\n",
    "fullMatchData=fullMatchData.withColumn(\"OffensiveVaepDiff\",fullMatchData['team1_offVaepAccum']-fullMatchData['team2_offVaepAccum'])\n",
    "\n",
    "fullMatchData=fullMatchData.withColumn(\"totalDefVaepDiv\",fullMatchData['team1_defVaepAccum']/fullMatchData['team2_defVaepAccum'])\n",
    "fullMatchData=fullMatchData.withColumn(\"totalDefVaepDiff\",fullMatchData['team1_defVaepAccum']-fullMatchData['team2_defVaepAccum'])\n",
    "\n",
    "fullMatchData=fullMatchData.withColumn(\"totalVaepAgainstDiv\",fullMatchData['team1_againstVaepAccum']/fullMatchData['team2_againstVaepAccum'])\n",
    "fullMatchData=fullMatchData.withColumn(\"totalVaepAgainstDiff\",fullMatchData['team1_againstVaepAccum']-fullMatchData['team2_againstVaepAccum'])\n",
    "\n",
    "\n"
   ]
  },
  {
   "cell_type": "markdown",
   "metadata": {},
   "source": [
    "### Eliminación de filas y columnas innecesarias"
   ]
  },
  {
   "cell_type": "markdown",
   "metadata": {},
   "source": [
    "Se eliminan los datos de los primeros partidos al tener poca informacion relevante (valores acumulados nulos o muy pequeños), las filas con valores nulos o NAN y las columnas que no serán utilizadas para el análisis."
   ]
  },
  {
   "cell_type": "code",
   "execution_count": 35,
   "metadata": {},
   "outputs": [
    {
     "data": {
      "text/plain": [
       "1140"
      ]
     },
     "execution_count": 35,
     "metadata": {},
     "output_type": "execute_result"
    }
   ],
   "source": [
    "fullMatchData.count()"
   ]
  },
  {
   "cell_type": "code",
   "execution_count": 36,
   "metadata": {},
   "outputs": [
    {
     "name": "stdout",
     "output_type": "stream",
     "text": [
      "+-------+-------------------+-------------+-------+------------+-------------------+--------------------+------------------+--------------------+----------------------+------------+-----------------+--------------------+------------------+--------------------+----------------------+----------+------------+------------------+-------------------+--------------------+------------------+-------------------+-------------------+-------------------+-------------------+--------------------+--------------------+-------------------+--------------------+\n",
      "|row_num|            dateutc|competitionid|game_id|team1_teamId|         team1_name|team1_totalVaepAccum|team1_offVaepAccum|  team1_defVaepAccum|team1_againstVaepAccum|team2_teamId|       team2_name|team2_totalVaepAccum|team2_offVaepAccum|  team2_defVaepAccum|team2_againstVaepAccum|team1_side|team1winflag|         pythTeam1|          pythTeam2|            pythdiff|           pythdiv|       totalVaepDiv|      totalVaepDiff|   OffensiveVaepDiv|  OffensiveVaepDiff|     totalDefVaepDiv|    totalDefVaepDiff|totalVaepAgainstDiv|totalVaepAgainstDiff|\n",
      "+-------+-------------------+-------------+-------+------------+-------------------+--------------------+------------------+--------------------+----------------------+------------+-----------------+--------------------+------------------+--------------------+----------------------+----------+------------+------------------+-------------------+--------------------+------------------+-------------------+-------------------+-------------------+-------------------+--------------------+--------------------+-------------------+--------------------+\n",
      "|    143|2017-09-20 18:45:00|          524|2576007|        3157|              Milan|  10.930023397260811| 10.61088890011888| 0.31913441234792117|     2.185073768312577|        3204|             SPAL|   7.967186550144106| 6.975193202146329|  0.9919933818600839|   -0.9476923410547897|      home|           1|0.9615699536796581| 0.9860484321317656|-0.02447847845210749|0.9751751763357234| 1.3718799388553435|  2.962836847116705|  1.521232257316373|  3.635695697972551| 0.32171022325724913| -0.6728589695121627|-2.3056784081219557|   3.132766109367367|\n",
      "|    142|2017-09-20 18:45:00|          524|2576006|        3162|              Lazio|  11.951340581290424| 11.21970205521211|  0.7316386609891197|     4.150067029113416|        3187|           Napoli|  15.509659910341725|15.414813964744098| 0.09484586684266105|    11.186824599804822|      home|           0|0.8923946344474938| 0.6577880934455338|    0.23460654100196|1.3566597561428586| 0.7705739939095222| -3.558319329051301| 0.7278519274298857| -4.195111909531988|   7.713975161435641|  0.6367927941464586| 0.3709781084067254|  -7.036757570691407|\n",
      "|    141|2017-09-20 18:45:00|          524|2575999|        3172|           Atalanta|   6.702191695687361| 6.153856453543995|  0.5483353044255637|    -2.261563138861675|        3197|          Crotone|   3.938206413644366|3.6865903021534905|  0.2516161464882316|    -4.738053125911392|      home|           1|0.8977762400885312|0.40858890308750195| 0.48918733700102923|2.1972604574047048| 1.7018386015691946|  2.763985282042995| 1.6692542292940096|  2.467266151390504|   2.179253247768859| 0.29671915793733206| 0.4773190757388669|  2.4764899870497175|\n",
      "|    144|2017-09-20 19:00:00|          795|2565594|         677|Deportivo La Coruña|    7.76673879136797| 7.362446154700592|  0.4042926619295031|    -5.438777297036722|         696| Deportivo Alavés|  3.8739388525718823|3.1967514025745913|  0.6771874713012949|    -6.626433114695828|      home|           1| 0.670973681091399| 0.2547210080955894|  0.4162526729958096|2.6341513254360316|   2.00486871035966|  3.892799938796088| 2.3031025023625684|  4.165694752126001|  0.5970173387180473| -0.2728948093717918| 0.8207699682314499|   1.187655817659106|\n",
      "|    145|2017-09-20 20:00:00|          795|2565596|         675|        Real Madrid|  12.142317728488706|11.395342084695585|  0.7469756650971249|     4.139777190983295|         684|       Real Betis|    8.20012850232888| 7.640124842640944|  0.5600036491523497|   -1.2022844952298328|      home|           0|0.8958657309241165| 0.9789556178558321| -0.0830898869317156|0.9151239490164997| 1.4807472498803187|  3.942189226159826| 1.4915125497813966| 3.7552172420546412|  1.3338764242479235|  0.1869720159447752| -3.443259234738714|   5.342061686213128|\n",
      "|    146|2017-09-20 20:00:00|          795|2565590|         680|            Sevilla|  10.721082147443667| 9.796295153733809|  0.9247869593091309|    5.6101290842671006|         714|       Las Palmas|   8.573522002028767|7.6936252096202224|  0.8798969448544085|    -2.641044772171881|      home|           1|0.7850389923448603| 0.9133314726574622|-0.12829248031260188|0.8595334945161613| 1.2504875061738594|    2.1475601454149|  1.273300282613764|  2.102669944113586|  1.0510173546086696|0.044890014454722404| -2.124208246440886|   8.251173856438982|\n",
      "|    147|2017-09-21 18:00:00|          795|2565593|         691|           Espanyol|  6.4223051310982555| 6.091643716379622|  0.3306614329922013|   -4.9726630471413955|         682|       Villarreal|   8.308099797228351| 8.010988945607096| 0.29711086172028445|     1.516679898428265|      away|           0|0.6251915937292951| 0.9677487126603108| -0.3425571189310157|0.6460267893414842|  0.773017331019638|-1.8857946661300957| 0.7604109502260684|-1.9193452292274742|  1.1129227355663056| 0.03355057127191685|  -3.27865032845399| -6.4893429455696605|\n",
      "|    148|2017-09-21 19:00:00|          795|2565588|         698|             Getafe|   7.103661493980326|  6.11241777142277|   0.991243643744383|   -0.8289112334605306|         692|    Celta de Vigo|    9.04302292119246|  8.54921148851281| 0.49381144187645987|  -0.09181468683527783|      away|           0|0.9865668442483212| 0.9998969252514263|-0.01333008100310...|0.9866685448605083| 0.7855405826001821| -1.939361427212134| 0.7149686002780198|-2.4367937170900404|  2.0073322723704106| 0.49743220186792314|   9.02808975374122| -0.7370965466252528|\n",
      "|    149|2017-09-21 20:00:00|          795|2565591|         687|      Real Sociedad|  12.438081575906835|12.445727546117269|-0.00764574500499...|    3.4519783240393735|         695|          Levante|   6.631621740758419| 6.798199793964159|-0.16657801013207063|   -0.6338651294354349|      away|           0| 0.928483919452192| 0.9909467493271455|-0.06246282987495355|0.9369665121588361| 1.8755716266899696| 5.8064598351484165|  1.830738713676423|   5.64752775215311|0.045898885446710745|  0.1589322651270777|-5.4459192716815785|  4.0858434534748085|\n",
      "|    150|2017-09-23 11:00:00|          795|2565601|         679|    Atlético Madrid|  14.869572594761848| 13.95280082419049|  0.9167716703959741|      6.61924413923407|         680|          Sevilla|   12.60269612527918|11.597093388147186|  1.0056026951642707|    6.3655963180390245|      home|           1|0.8346118546187936| 0.7967340491999846| 0.03787780541880903|1.0475413413758867| 1.1798723421519022| 2.2668764694826677| 1.2031291253074632| 2.3557074360433035|  0.9116638954972316|-0.08883102476829663|  1.039846670841544| 0.25364782119504525|\n",
      "|    151|2017-09-23 11:30:00|          364|2499778|        1624|  Tottenham Hotspur|  10.144791012455244| 9.374281313735992|  0.7705095609999262|    2.9353353289770894|        1633|  West Ham United|    7.86433809180744| 7.455253776512109| 0.40908434451557696|    -5.787882423901465|      away|           1|0.9227475708606945| 0.6486576020300642|  0.2740899688306303|1.4225495361078444| 1.2899739169433004| 2.2804529206478037| 1.2574060648706298|  1.919027537223883|  1.8834980397803687|  0.3614252164843492|-0.5071518586582576|   8.723217752878554|\n",
      "|    152|2017-09-23 13:00:00|          524|2576015|        3158|               Roma|  10.902790392225143| 10.14832301356364|  0.7544674412347376|    3.7320771266240627|        3163|          Udinese|   9.188278833520599|  8.92591231665574|  0.2623664694256149|    -4.105665925133508|      home|           1|0.8951168704943451| 0.8335670141055364| 0.06154985638880872|1.0738391219269336| 1.1865976849167525| 1.7145115587045439| 1.1369507848096247| 1.2224106969079003|   2.875624476277222|  0.4921009718091227|-0.9090065277297746|    7.83774305175757|\n",
      "|    154|2017-09-23 14:00:00|          364|2499776|        1610|            Chelsea|  13.346143450064119|12.878121945424937| 0.46802159800427034|    4.7419770082924515|        1639|       Stoke City|   8.765298158163205| 8.188716670731083|  0.5765814566984773|   -1.9247521463548765|      away|           1|0.8879078483579961|    0.9539993147824|-0.06609146642440389|0.9307216835480864| 1.5226114627526652|  4.580845291900914| 1.5726666904296724|  4.689405274693854|  0.8117180886880686|-0.10855985869420692|-2.4636818913400753|   6.666729154647328|\n",
      "|    156|2017-09-23 14:00:00|          364|2499775|        1611|  Manchester United|   19.20142631465569| 18.73702680610586| 0.46439948183251545|     11.76851841629832|        1619|      Southampton|   6.495973322424106| 6.162347470992245|  0.3336258404306136|   -1.8581059372518212|      away|           1|0.7269321918655733|  0.924369320923136| -0.1974371290575626|0.7864088253595555| 2.9558967319604514| 12.705452992231585| 3.0405664228292655| 12.574679335113615|  1.3919769560808337| 0.13077364140190184| -6.333610038243682|  13.626624353550142|\n",
      "|    155|2017-09-23 14:00:00|          364|2499777|        1644|            Watford|  11.605624408577569|11.226374248741195|  0.3792502139112912|    -0.990699938731268|       10531|     Swansea City|   5.980119936866686| 5.975379468291067| 0.00474035827210173|    -2.797999706643168|      away|           1|  0.99276574136426| 0.8204017438167148| 0.17236399754754517| 1.210097063842971| 1.9407009443122298|  5.625504471710883|   1.87877176810528|  5.250994780450128|   80.00454652199595|  0.3745098556391895|  0.354074354039099|  1.8072997679118998|\n",
      "|    157|2017-09-23 14:00:00|          364|2499774|        1628|     Crystal Palace|   5.239591998339165|  5.80566283094231| -0.5660708285868168|   -5.2171236530994065|        1625|  Manchester City|   18.93206476722844| 18.44072126201354| 0.49134346045320854|    13.073203654959798|      away|           0| 0.502148690110243| 0.6771237315508332|-0.17497504144059017|0.7415907414146592|0.27675755723215895|-13.692472768889274|0.31482840331747364| -12.63505843107123|  -1.152087845159638| -1.0574142890400253| -0.399070020692296| -18.290327308059204|\n",
      "|    153|2017-09-23 14:00:00|          364|2499772|        1659|    AFC Bournemouth|    7.46991777443327| 6.923303634568583|  0.5466142389341258|    -6.176081771962345|        1623|          Everton|  6.7150894619117025| 5.660465896013193|   1.054623553995043|     -7.18673494385439|      away|           0|0.5939695448945689| 0.4661121293974912|  0.1278574154970777| 1.274306132437166|  1.112407782026284| 0.7548283125215676| 1.2230978441977431| 1.2628377385553904|  0.5183027032380266| -0.5080093150609173| 0.8593724160153857|   1.010653171892045|\n",
      "|    158|2017-09-23 14:00:00|          364|2499771|        1646|            Burnley|   10.60926675418159| 9.959098783438094|  0.6501679749926552|   0.18880115530919284|        1673|Huddersfield Town|   7.726629808777943| 7.484850273758639| 0.24177960614906624|     1.780408130671276|      home|           0|0.9996834071953339| 0.9495813620291622| 0.05010204516617167|1.0527622457322756| 1.3730781746692184| 2.8826369454036467|  1.330567535646504| 2.4742485096794553|  2.6890935317009417|   0.408388368843589|0.10604375033830485| -1.5916069753620832|\n",
      "|    159|2017-09-23 14:15:00|          795|2565598|         675|        Real Madrid|  14.583532258402556|13.865467560535762|   0.718064715154469|     3.737763411947526|         696| Deportivo Alavés|   5.111931134772021| 4.152835629764013|  0.9590955601888709|    -7.722107086563483|      away|           1|0.9383593313783369|0.30469908510624016|  0.6336602462720968|  3.07962635021092|  2.852842081381627|  9.471601123630535| 3.3387951743526325|   9.71263193077175|  0.7486894371746058|-0.24103084503440186|-0.4840341334363595|  11.459870498511009|\n",
      "|    160|2017-09-23 16:00:00|          524|2576018|        3187|             Napoli|  19.761761028552428|19.521612377720885|  0.2401485470472835|    13.488913933804724|        3204|             SPAL|   8.804797928663902| 7.625266802846454|   1.179531170273549|   -1.4728032257407904|      away|           1|0.6821697956442636| 0.9727813913688982| -0.2906115957246346|0.7012570364697398| 2.2444309555609765| 10.956963099888526| 2.5601218793332734| 11.896345574874431| 0.20359660948306255| -0.9393826232262654| -9.158666750624526|  14.961717159545515|\n",
      "+-------+-------------------+-------------+-------+------------+-------------------+--------------------+------------------+--------------------+----------------------+------------+-----------------+--------------------+------------------+--------------------+----------------------+----------+------------+------------------+-------------------+--------------------+------------------+-------------------+-------------------+-------------------+-------------------+--------------------+--------------------+-------------------+--------------------+\n",
      "only showing top 20 rows\n",
      "\n"
     ]
    }
   ],
   "source": [
    "# Se agrega una columna nueva con el número de columna y se eliminan los primeros 110 partidos\n",
    "# La columna no se elimina posteriormente para que el algoritmo tenga noción de cuáles son los partidos más y menos\n",
    "# recientes.\n",
    "\n",
    "#from pyspark.sql.functions import row_number,lit\n",
    "#from pyspark.sql.window import Window\n",
    "\n",
    "#w = Window().orderBy(lit('dateutc'))\n",
    "#fullMatchData = fullMatchData.withColumn(\"row_num\", row_number().over(w))\n",
    "\n",
    "numberOfColumnsToDrop=140\n",
    "fullMatchData=fullMatchData.where(fullMatchData['row_num']>numberOfColumnsToDrop)\n",
    "\n",
    "fullMatchData.show()"
   ]
  },
  {
   "cell_type": "code",
   "execution_count": 37,
   "metadata": {},
   "outputs": [
    {
     "data": {
      "text/plain": [
       "1000"
      ]
     },
     "execution_count": 37,
     "metadata": {},
     "output_type": "execute_result"
    }
   ],
   "source": [
    "fullMatchData.count()"
   ]
  },
  {
   "cell_type": "code",
   "execution_count": 38,
   "metadata": {},
   "outputs": [
    {
     "data": {
      "text/html": [
       "<div>\n",
       "<style scoped>\n",
       "    .dataframe tbody tr th:only-of-type {\n",
       "        vertical-align: middle;\n",
       "    }\n",
       "\n",
       "    .dataframe tbody tr th {\n",
       "        vertical-align: top;\n",
       "    }\n",
       "\n",
       "    .dataframe thead th {\n",
       "        text-align: right;\n",
       "    }\n",
       "</style>\n",
       "<table border=\"1\" class=\"dataframe\">\n",
       "  <thead>\n",
       "    <tr style=\"text-align: right;\">\n",
       "      <th></th>\n",
       "      <th>row_num</th>\n",
       "      <th>dateutc</th>\n",
       "      <th>competitionid</th>\n",
       "      <th>game_id</th>\n",
       "      <th>team1_teamId</th>\n",
       "      <th>team1_name</th>\n",
       "      <th>team1_totalVaepAccum</th>\n",
       "      <th>team1_offVaepAccum</th>\n",
       "      <th>team1_defVaepAccum</th>\n",
       "      <th>team1_againstVaepAccum</th>\n",
       "      <th>...</th>\n",
       "      <th>pythdiff</th>\n",
       "      <th>pythdiv</th>\n",
       "      <th>totalVaepDiv</th>\n",
       "      <th>totalVaepDiff</th>\n",
       "      <th>OffensiveVaepDiv</th>\n",
       "      <th>OffensiveVaepDiff</th>\n",
       "      <th>totalDefVaepDiv</th>\n",
       "      <th>totalDefVaepDiff</th>\n",
       "      <th>totalVaepAgainstDiv</th>\n",
       "      <th>totalVaepAgainstDiff</th>\n",
       "    </tr>\n",
       "  </thead>\n",
       "  <tbody>\n",
       "    <tr>\n",
       "      <th>0</th>\n",
       "      <td>141</td>\n",
       "      <td>2017-09-20 18:45:00</td>\n",
       "      <td>524</td>\n",
       "      <td>2575999</td>\n",
       "      <td>3172</td>\n",
       "      <td>Atalanta</td>\n",
       "      <td>6.702192</td>\n",
       "      <td>6.153856</td>\n",
       "      <td>0.548335</td>\n",
       "      <td>-2.261563</td>\n",
       "      <td>...</td>\n",
       "      <td>0.489187</td>\n",
       "      <td>2.197260</td>\n",
       "      <td>1.701839</td>\n",
       "      <td>2.763985</td>\n",
       "      <td>1.669254</td>\n",
       "      <td>2.467266</td>\n",
       "      <td>2.179253</td>\n",
       "      <td>0.296719</td>\n",
       "      <td>0.477319</td>\n",
       "      <td>2.476490</td>\n",
       "    </tr>\n",
       "    <tr>\n",
       "      <th>1</th>\n",
       "      <td>142</td>\n",
       "      <td>2017-09-20 18:45:00</td>\n",
       "      <td>524</td>\n",
       "      <td>2576006</td>\n",
       "      <td>3162</td>\n",
       "      <td>Lazio</td>\n",
       "      <td>11.951341</td>\n",
       "      <td>11.219702</td>\n",
       "      <td>0.731639</td>\n",
       "      <td>4.150067</td>\n",
       "      <td>...</td>\n",
       "      <td>0.234607</td>\n",
       "      <td>1.356660</td>\n",
       "      <td>0.770574</td>\n",
       "      <td>-3.558319</td>\n",
       "      <td>0.727852</td>\n",
       "      <td>-4.195112</td>\n",
       "      <td>7.713975</td>\n",
       "      <td>0.636793</td>\n",
       "      <td>0.370978</td>\n",
       "      <td>-7.036758</td>\n",
       "    </tr>\n",
       "    <tr>\n",
       "      <th>2</th>\n",
       "      <td>143</td>\n",
       "      <td>2017-09-20 18:45:00</td>\n",
       "      <td>524</td>\n",
       "      <td>2576007</td>\n",
       "      <td>3157</td>\n",
       "      <td>Milan</td>\n",
       "      <td>10.930023</td>\n",
       "      <td>10.610889</td>\n",
       "      <td>0.319134</td>\n",
       "      <td>2.185074</td>\n",
       "      <td>...</td>\n",
       "      <td>-0.024478</td>\n",
       "      <td>0.975175</td>\n",
       "      <td>1.371880</td>\n",
       "      <td>2.962837</td>\n",
       "      <td>1.521232</td>\n",
       "      <td>3.635696</td>\n",
       "      <td>0.321710</td>\n",
       "      <td>-0.672859</td>\n",
       "      <td>-2.305678</td>\n",
       "      <td>3.132766</td>\n",
       "    </tr>\n",
       "    <tr>\n",
       "      <th>3</th>\n",
       "      <td>144</td>\n",
       "      <td>2017-09-20 19:00:00</td>\n",
       "      <td>795</td>\n",
       "      <td>2565594</td>\n",
       "      <td>677</td>\n",
       "      <td>Deportivo La Coruña</td>\n",
       "      <td>7.766739</td>\n",
       "      <td>7.362446</td>\n",
       "      <td>0.404293</td>\n",
       "      <td>-5.438777</td>\n",
       "      <td>...</td>\n",
       "      <td>0.416253</td>\n",
       "      <td>2.634151</td>\n",
       "      <td>2.004869</td>\n",
       "      <td>3.892800</td>\n",
       "      <td>2.303103</td>\n",
       "      <td>4.165695</td>\n",
       "      <td>0.597017</td>\n",
       "      <td>-0.272895</td>\n",
       "      <td>0.820770</td>\n",
       "      <td>1.187656</td>\n",
       "    </tr>\n",
       "    <tr>\n",
       "      <th>4</th>\n",
       "      <td>145</td>\n",
       "      <td>2017-09-20 20:00:00</td>\n",
       "      <td>795</td>\n",
       "      <td>2565596</td>\n",
       "      <td>675</td>\n",
       "      <td>Real Madrid</td>\n",
       "      <td>12.142318</td>\n",
       "      <td>11.395342</td>\n",
       "      <td>0.746976</td>\n",
       "      <td>4.139777</td>\n",
       "      <td>...</td>\n",
       "      <td>-0.083090</td>\n",
       "      <td>0.915124</td>\n",
       "      <td>1.480747</td>\n",
       "      <td>3.942189</td>\n",
       "      <td>1.491513</td>\n",
       "      <td>3.755217</td>\n",
       "      <td>1.333876</td>\n",
       "      <td>0.186972</td>\n",
       "      <td>-3.443259</td>\n",
       "      <td>5.342062</td>\n",
       "    </tr>\n",
       "    <tr>\n",
       "      <th>...</th>\n",
       "      <td>...</td>\n",
       "      <td>...</td>\n",
       "      <td>...</td>\n",
       "      <td>...</td>\n",
       "      <td>...</td>\n",
       "      <td>...</td>\n",
       "      <td>...</td>\n",
       "      <td>...</td>\n",
       "      <td>...</td>\n",
       "      <td>...</td>\n",
       "      <td>...</td>\n",
       "      <td>...</td>\n",
       "      <td>...</td>\n",
       "      <td>...</td>\n",
       "      <td>...</td>\n",
       "      <td>...</td>\n",
       "      <td>...</td>\n",
       "      <td>...</td>\n",
       "      <td>...</td>\n",
       "      <td>...</td>\n",
       "      <td>...</td>\n",
       "    </tr>\n",
       "    <tr>\n",
       "      <th>995</th>\n",
       "      <td>1136</td>\n",
       "      <td>2018-05-20 16:00:00</td>\n",
       "      <td>524</td>\n",
       "      <td>2576330</td>\n",
       "      <td>3165</td>\n",
       "      <td>Chievo</td>\n",
       "      <td>69.313993</td>\n",
       "      <td>63.348680</td>\n",
       "      <td>5.965312</td>\n",
       "      <td>-13.959674</td>\n",
       "      <td>...</td>\n",
       "      <td>0.193355</td>\n",
       "      <td>1.251874</td>\n",
       "      <td>1.017557</td>\n",
       "      <td>1.195967</td>\n",
       "      <td>1.051508</td>\n",
       "      <td>3.103138</td>\n",
       "      <td>0.757742</td>\n",
       "      <td>-1.907172</td>\n",
       "      <td>0.372514</td>\n",
       "      <td>23.514584</td>\n",
       "    </tr>\n",
       "    <tr>\n",
       "      <th>996</th>\n",
       "      <td>1137</td>\n",
       "      <td>2018-05-20 16:30:00</td>\n",
       "      <td>795</td>\n",
       "      <td>2565925</td>\n",
       "      <td>679</td>\n",
       "      <td>Atlético Madrid</td>\n",
       "      <td>90.463882</td>\n",
       "      <td>84.685144</td>\n",
       "      <td>5.778737</td>\n",
       "      <td>30.032876</td>\n",
       "      <td>...</td>\n",
       "      <td>-0.099235</td>\n",
       "      <td>0.900761</td>\n",
       "      <td>1.241424</td>\n",
       "      <td>17.592800</td>\n",
       "      <td>1.169252</td>\n",
       "      <td>12.258390</td>\n",
       "      <td>13.005567</td>\n",
       "      <td>5.334410</td>\n",
       "      <td>-65.812037</td>\n",
       "      <td>30.489219</td>\n",
       "    </tr>\n",
       "    <tr>\n",
       "      <th>997</th>\n",
       "      <td>1138</td>\n",
       "      <td>2018-05-20 18:45:00</td>\n",
       "      <td>524</td>\n",
       "      <td>2576335</td>\n",
       "      <td>3162</td>\n",
       "      <td>Lazio</td>\n",
       "      <td>111.339853</td>\n",
       "      <td>105.522377</td>\n",
       "      <td>5.817476</td>\n",
       "      <td>38.481203</td>\n",
       "      <td>...</td>\n",
       "      <td>0.009466</td>\n",
       "      <td>1.010711</td>\n",
       "      <td>1.221079</td>\n",
       "      <td>20.158332</td>\n",
       "      <td>1.225433</td>\n",
       "      <td>19.412076</td>\n",
       "      <td>1.147155</td>\n",
       "      <td>0.746257</td>\n",
       "      <td>1.164055</td>\n",
       "      <td>5.423319</td>\n",
       "    </tr>\n",
       "    <tr>\n",
       "      <th>998</th>\n",
       "      <td>1139</td>\n",
       "      <td>2018-05-20 18:45:00</td>\n",
       "      <td>524</td>\n",
       "      <td>2576336</td>\n",
       "      <td>3158</td>\n",
       "      <td>Roma</td>\n",
       "      <td>86.357842</td>\n",
       "      <td>84.069288</td>\n",
       "      <td>2.288554</td>\n",
       "      <td>27.321400</td>\n",
       "      <td>...</td>\n",
       "      <td>0.193709</td>\n",
       "      <td>1.270806</td>\n",
       "      <td>1.531218</td>\n",
       "      <td>29.959691</td>\n",
       "      <td>1.649194</td>\n",
       "      <td>33.093313</td>\n",
       "      <td>0.422073</td>\n",
       "      <td>-3.133621</td>\n",
       "      <td>-0.767882</td>\n",
       "      <td>62.901617</td>\n",
       "    </tr>\n",
       "    <tr>\n",
       "      <th>999</th>\n",
       "      <td>1140</td>\n",
       "      <td>2018-05-20 18:45:00</td>\n",
       "      <td>795</td>\n",
       "      <td>2565922</td>\n",
       "      <td>676</td>\n",
       "      <td>Barcelona</td>\n",
       "      <td>131.912998</td>\n",
       "      <td>129.204383</td>\n",
       "      <td>2.708616</td>\n",
       "      <td>63.698653</td>\n",
       "      <td>...</td>\n",
       "      <td>-0.177739</td>\n",
       "      <td>0.820221</td>\n",
       "      <td>1.376167</td>\n",
       "      <td>36.057609</td>\n",
       "      <td>1.377289</td>\n",
       "      <td>35.393732</td>\n",
       "      <td>1.324675</td>\n",
       "      <td>0.663876</td>\n",
       "      <td>6.202931</td>\n",
       "      <td>53.429532</td>\n",
       "    </tr>\n",
       "  </tbody>\n",
       "</table>\n",
       "<p>1000 rows × 30 columns</p>\n",
       "</div>"
      ],
      "text/plain": [
       "     row_num             dateutc  competitionid  game_id  team1_teamId  \\\n",
       "0        141 2017-09-20 18:45:00            524  2575999          3172   \n",
       "1        142 2017-09-20 18:45:00            524  2576006          3162   \n",
       "2        143 2017-09-20 18:45:00            524  2576007          3157   \n",
       "3        144 2017-09-20 19:00:00            795  2565594           677   \n",
       "4        145 2017-09-20 20:00:00            795  2565596           675   \n",
       "..       ...                 ...            ...      ...           ...   \n",
       "995     1136 2018-05-20 16:00:00            524  2576330          3165   \n",
       "996     1137 2018-05-20 16:30:00            795  2565925           679   \n",
       "997     1138 2018-05-20 18:45:00            524  2576335          3162   \n",
       "998     1139 2018-05-20 18:45:00            524  2576336          3158   \n",
       "999     1140 2018-05-20 18:45:00            795  2565922           676   \n",
       "\n",
       "              team1_name  team1_totalVaepAccum  team1_offVaepAccum  \\\n",
       "0               Atalanta              6.702192            6.153856   \n",
       "1                  Lazio             11.951341           11.219702   \n",
       "2                  Milan             10.930023           10.610889   \n",
       "3    Deportivo La Coruña              7.766739            7.362446   \n",
       "4            Real Madrid             12.142318           11.395342   \n",
       "..                   ...                   ...                 ...   \n",
       "995               Chievo             69.313993           63.348680   \n",
       "996      Atlético Madrid             90.463882           84.685144   \n",
       "997                Lazio            111.339853          105.522377   \n",
       "998                 Roma             86.357842           84.069288   \n",
       "999            Barcelona            131.912998          129.204383   \n",
       "\n",
       "     team1_defVaepAccum  team1_againstVaepAccum  ...  pythdiff   pythdiv  \\\n",
       "0              0.548335               -2.261563  ...  0.489187  2.197260   \n",
       "1              0.731639                4.150067  ...  0.234607  1.356660   \n",
       "2              0.319134                2.185074  ... -0.024478  0.975175   \n",
       "3              0.404293               -5.438777  ...  0.416253  2.634151   \n",
       "4              0.746976                4.139777  ... -0.083090  0.915124   \n",
       "..                  ...                     ...  ...       ...       ...   \n",
       "995            5.965312              -13.959674  ...  0.193355  1.251874   \n",
       "996            5.778737               30.032876  ... -0.099235  0.900761   \n",
       "997            5.817476               38.481203  ...  0.009466  1.010711   \n",
       "998            2.288554               27.321400  ...  0.193709  1.270806   \n",
       "999            2.708616               63.698653  ... -0.177739  0.820221   \n",
       "\n",
       "     totalVaepDiv  totalVaepDiff  OffensiveVaepDiv  OffensiveVaepDiff  \\\n",
       "0        1.701839       2.763985          1.669254           2.467266   \n",
       "1        0.770574      -3.558319          0.727852          -4.195112   \n",
       "2        1.371880       2.962837          1.521232           3.635696   \n",
       "3        2.004869       3.892800          2.303103           4.165695   \n",
       "4        1.480747       3.942189          1.491513           3.755217   \n",
       "..            ...            ...               ...                ...   \n",
       "995      1.017557       1.195967          1.051508           3.103138   \n",
       "996      1.241424      17.592800          1.169252          12.258390   \n",
       "997      1.221079      20.158332          1.225433          19.412076   \n",
       "998      1.531218      29.959691          1.649194          33.093313   \n",
       "999      1.376167      36.057609          1.377289          35.393732   \n",
       "\n",
       "    totalDefVaepDiv  totalDefVaepDiff  totalVaepAgainstDiv  \\\n",
       "0          2.179253          0.296719             0.477319   \n",
       "1          7.713975          0.636793             0.370978   \n",
       "2          0.321710         -0.672859            -2.305678   \n",
       "3          0.597017         -0.272895             0.820770   \n",
       "4          1.333876          0.186972            -3.443259   \n",
       "..              ...               ...                  ...   \n",
       "995        0.757742         -1.907172             0.372514   \n",
       "996       13.005567          5.334410           -65.812037   \n",
       "997        1.147155          0.746257             1.164055   \n",
       "998        0.422073         -3.133621            -0.767882   \n",
       "999        1.324675          0.663876             6.202931   \n",
       "\n",
       "     totalVaepAgainstDiff  \n",
       "0                2.476490  \n",
       "1               -7.036758  \n",
       "2                3.132766  \n",
       "3                1.187656  \n",
       "4                5.342062  \n",
       "..                    ...  \n",
       "995             23.514584  \n",
       "996             30.489219  \n",
       "997              5.423319  \n",
       "998             62.901617  \n",
       "999             53.429532  \n",
       "\n",
       "[1000 rows x 30 columns]"
      ]
     },
     "execution_count": 38,
     "metadata": {},
     "output_type": "execute_result"
    }
   ],
   "source": [
    "fullMatchData.toPandas()"
   ]
  },
  {
   "cell_type": "code",
   "execution_count": 39,
   "metadata": {},
   "outputs": [],
   "source": [
    "# Se eliminan las columnas que no se utilizarán para el análisis\n",
    "\n",
    "df=fullMatchData.drop('competitionid','game_id','team1_teamId','team1_name','team2_teamId','team2_name','dateutc')"
   ]
  },
  {
   "cell_type": "code",
   "execution_count": 40,
   "metadata": {},
   "outputs": [
    {
     "data": {
      "text/html": [
       "<div>\n",
       "<style scoped>\n",
       "    .dataframe tbody tr th:only-of-type {\n",
       "        vertical-align: middle;\n",
       "    }\n",
       "\n",
       "    .dataframe tbody tr th {\n",
       "        vertical-align: top;\n",
       "    }\n",
       "\n",
       "    .dataframe thead th {\n",
       "        text-align: right;\n",
       "    }\n",
       "</style>\n",
       "<table border=\"1\" class=\"dataframe\">\n",
       "  <thead>\n",
       "    <tr style=\"text-align: right;\">\n",
       "      <th></th>\n",
       "      <th>row_num</th>\n",
       "      <th>team1_totalVaepAccum</th>\n",
       "      <th>team1_offVaepAccum</th>\n",
       "      <th>team1_defVaepAccum</th>\n",
       "      <th>team1_againstVaepAccum</th>\n",
       "      <th>team2_totalVaepAccum</th>\n",
       "      <th>team2_offVaepAccum</th>\n",
       "      <th>team2_defVaepAccum</th>\n",
       "      <th>team2_againstVaepAccum</th>\n",
       "      <th>team1_side</th>\n",
       "      <th>...</th>\n",
       "      <th>pythdiff</th>\n",
       "      <th>pythdiv</th>\n",
       "      <th>totalVaepDiv</th>\n",
       "      <th>totalVaepDiff</th>\n",
       "      <th>OffensiveVaepDiv</th>\n",
       "      <th>OffensiveVaepDiff</th>\n",
       "      <th>totalDefVaepDiv</th>\n",
       "      <th>totalDefVaepDiff</th>\n",
       "      <th>totalVaepAgainstDiv</th>\n",
       "      <th>totalVaepAgainstDiff</th>\n",
       "    </tr>\n",
       "  </thead>\n",
       "  <tbody>\n",
       "    <tr>\n",
       "      <th>0</th>\n",
       "      <td>141</td>\n",
       "      <td>7.005220</td>\n",
       "      <td>6.595284</td>\n",
       "      <td>0.409936</td>\n",
       "      <td>-1.127720</td>\n",
       "      <td>6.225714</td>\n",
       "      <td>5.381333</td>\n",
       "      <td>0.844381</td>\n",
       "      <td>-4.402305</td>\n",
       "      <td>away</td>\n",
       "      <td>...</td>\n",
       "      <td>0.308079</td>\n",
       "      <td>1.462122</td>\n",
       "      <td>1.125207</td>\n",
       "      <td>0.779506</td>\n",
       "      <td>1.225586</td>\n",
       "      <td>1.213951</td>\n",
       "      <td>0.485487</td>\n",
       "      <td>-0.434445</td>\n",
       "      <td>0.256166</td>\n",
       "      <td>3.274585</td>\n",
       "    </tr>\n",
       "    <tr>\n",
       "      <th>1</th>\n",
       "      <td>142</td>\n",
       "      <td>7.311395</td>\n",
       "      <td>7.693820</td>\n",
       "      <td>-0.382425</td>\n",
       "      <td>0.774307</td>\n",
       "      <td>4.334536</td>\n",
       "      <td>3.222659</td>\n",
       "      <td>1.111877</td>\n",
       "      <td>-9.092477</td>\n",
       "      <td>away</td>\n",
       "      <td>...</td>\n",
       "      <td>0.803733</td>\n",
       "      <td>5.340373</td>\n",
       "      <td>1.686777</td>\n",
       "      <td>2.976859</td>\n",
       "      <td>2.387414</td>\n",
       "      <td>4.471161</td>\n",
       "      <td>-0.343946</td>\n",
       "      <td>-1.494302</td>\n",
       "      <td>-0.085159</td>\n",
       "      <td>9.866784</td>\n",
       "    </tr>\n",
       "    <tr>\n",
       "      <th>2</th>\n",
       "      <td>143</td>\n",
       "      <td>6.702192</td>\n",
       "      <td>6.153856</td>\n",
       "      <td>0.548335</td>\n",
       "      <td>-2.261563</td>\n",
       "      <td>3.938206</td>\n",
       "      <td>3.686590</td>\n",
       "      <td>0.251616</td>\n",
       "      <td>-4.738053</td>\n",
       "      <td>home</td>\n",
       "      <td>...</td>\n",
       "      <td>0.489187</td>\n",
       "      <td>2.197260</td>\n",
       "      <td>1.701839</td>\n",
       "      <td>2.763985</td>\n",
       "      <td>1.669254</td>\n",
       "      <td>2.467266</td>\n",
       "      <td>2.179253</td>\n",
       "      <td>0.296719</td>\n",
       "      <td>0.477319</td>\n",
       "      <td>2.476490</td>\n",
       "    </tr>\n",
       "    <tr>\n",
       "      <th>3</th>\n",
       "      <td>144</td>\n",
       "      <td>7.766739</td>\n",
       "      <td>7.362446</td>\n",
       "      <td>0.404293</td>\n",
       "      <td>-5.438777</td>\n",
       "      <td>3.873939</td>\n",
       "      <td>3.196751</td>\n",
       "      <td>0.677187</td>\n",
       "      <td>-6.626433</td>\n",
       "      <td>home</td>\n",
       "      <td>...</td>\n",
       "      <td>0.416253</td>\n",
       "      <td>2.634151</td>\n",
       "      <td>2.004869</td>\n",
       "      <td>3.892800</td>\n",
       "      <td>2.303103</td>\n",
       "      <td>4.165695</td>\n",
       "      <td>0.597017</td>\n",
       "      <td>-0.272895</td>\n",
       "      <td>0.820770</td>\n",
       "      <td>1.187656</td>\n",
       "    </tr>\n",
       "    <tr>\n",
       "      <th>4</th>\n",
       "      <td>145</td>\n",
       "      <td>12.142318</td>\n",
       "      <td>11.395342</td>\n",
       "      <td>0.746976</td>\n",
       "      <td>4.139777</td>\n",
       "      <td>8.200129</td>\n",
       "      <td>7.640125</td>\n",
       "      <td>0.560004</td>\n",
       "      <td>-1.202284</td>\n",
       "      <td>home</td>\n",
       "      <td>...</td>\n",
       "      <td>-0.083090</td>\n",
       "      <td>0.915124</td>\n",
       "      <td>1.480747</td>\n",
       "      <td>3.942189</td>\n",
       "      <td>1.491513</td>\n",
       "      <td>3.755217</td>\n",
       "      <td>1.333876</td>\n",
       "      <td>0.186972</td>\n",
       "      <td>-3.443259</td>\n",
       "      <td>5.342062</td>\n",
       "    </tr>\n",
       "    <tr>\n",
       "      <th>...</th>\n",
       "      <td>...</td>\n",
       "      <td>...</td>\n",
       "      <td>...</td>\n",
       "      <td>...</td>\n",
       "      <td>...</td>\n",
       "      <td>...</td>\n",
       "      <td>...</td>\n",
       "      <td>...</td>\n",
       "      <td>...</td>\n",
       "      <td>...</td>\n",
       "      <td>...</td>\n",
       "      <td>...</td>\n",
       "      <td>...</td>\n",
       "      <td>...</td>\n",
       "      <td>...</td>\n",
       "      <td>...</td>\n",
       "      <td>...</td>\n",
       "      <td>...</td>\n",
       "      <td>...</td>\n",
       "      <td>...</td>\n",
       "      <td>...</td>\n",
       "    </tr>\n",
       "    <tr>\n",
       "      <th>995</th>\n",
       "      <td>1136</td>\n",
       "      <td>79.067737</td>\n",
       "      <td>80.202457</td>\n",
       "      <td>-1.134720</td>\n",
       "      <td>-4.809436</td>\n",
       "      <td>64.610715</td>\n",
       "      <td>60.651563</td>\n",
       "      <td>3.959153</td>\n",
       "      <td>-17.091040</td>\n",
       "      <td>away</td>\n",
       "      <td>...</td>\n",
       "      <td>0.061710</td>\n",
       "      <td>1.066028</td>\n",
       "      <td>1.223756</td>\n",
       "      <td>14.457021</td>\n",
       "      <td>1.322348</td>\n",
       "      <td>19.550894</td>\n",
       "      <td>-0.286607</td>\n",
       "      <td>-5.093873</td>\n",
       "      <td>0.281401</td>\n",
       "      <td>12.281604</td>\n",
       "    </tr>\n",
       "    <tr>\n",
       "      <th>996</th>\n",
       "      <td>1137</td>\n",
       "      <td>90.463882</td>\n",
       "      <td>84.685144</td>\n",
       "      <td>5.778737</td>\n",
       "      <td>30.032876</td>\n",
       "      <td>72.871082</td>\n",
       "      <td>72.426754</td>\n",
       "      <td>0.444328</td>\n",
       "      <td>-0.456343</td>\n",
       "      <td>home</td>\n",
       "      <td>...</td>\n",
       "      <td>-0.099235</td>\n",
       "      <td>0.900761</td>\n",
       "      <td>1.241424</td>\n",
       "      <td>17.592800</td>\n",
       "      <td>1.169252</td>\n",
       "      <td>12.258390</td>\n",
       "      <td>13.005567</td>\n",
       "      <td>5.334410</td>\n",
       "      <td>-65.812037</td>\n",
       "      <td>30.489219</td>\n",
       "    </tr>\n",
       "    <tr>\n",
       "      <th>997</th>\n",
       "      <td>1138</td>\n",
       "      <td>131.912998</td>\n",
       "      <td>129.204383</td>\n",
       "      <td>2.708616</td>\n",
       "      <td>63.698653</td>\n",
       "      <td>95.855389</td>\n",
       "      <td>93.810651</td>\n",
       "      <td>2.044739</td>\n",
       "      <td>10.269121</td>\n",
       "      <td>home</td>\n",
       "      <td>...</td>\n",
       "      <td>-0.177739</td>\n",
       "      <td>0.820221</td>\n",
       "      <td>1.376167</td>\n",
       "      <td>36.057609</td>\n",
       "      <td>1.377289</td>\n",
       "      <td>35.393732</td>\n",
       "      <td>1.324675</td>\n",
       "      <td>0.663876</td>\n",
       "      <td>6.202931</td>\n",
       "      <td>53.429532</td>\n",
       "    </tr>\n",
       "    <tr>\n",
       "      <th>998</th>\n",
       "      <td>1139</td>\n",
       "      <td>111.339853</td>\n",
       "      <td>105.522377</td>\n",
       "      <td>5.817476</td>\n",
       "      <td>38.481203</td>\n",
       "      <td>91.181520</td>\n",
       "      <td>86.110300</td>\n",
       "      <td>5.071220</td>\n",
       "      <td>33.057884</td>\n",
       "      <td>home</td>\n",
       "      <td>...</td>\n",
       "      <td>0.009466</td>\n",
       "      <td>1.010711</td>\n",
       "      <td>1.221079</td>\n",
       "      <td>20.158332</td>\n",
       "      <td>1.225433</td>\n",
       "      <td>19.412076</td>\n",
       "      <td>1.147155</td>\n",
       "      <td>0.746257</td>\n",
       "      <td>1.164055</td>\n",
       "      <td>5.423319</td>\n",
       "    </tr>\n",
       "    <tr>\n",
       "      <th>999</th>\n",
       "      <td>1140</td>\n",
       "      <td>86.357842</td>\n",
       "      <td>84.069288</td>\n",
       "      <td>2.288554</td>\n",
       "      <td>27.321400</td>\n",
       "      <td>56.398151</td>\n",
       "      <td>50.975976</td>\n",
       "      <td>5.422176</td>\n",
       "      <td>-35.580216</td>\n",
       "      <td>away</td>\n",
       "      <td>...</td>\n",
       "      <td>0.193709</td>\n",
       "      <td>1.270806</td>\n",
       "      <td>1.531218</td>\n",
       "      <td>29.959691</td>\n",
       "      <td>1.649194</td>\n",
       "      <td>33.093313</td>\n",
       "      <td>0.422073</td>\n",
       "      <td>-3.133621</td>\n",
       "      <td>-0.767882</td>\n",
       "      <td>62.901617</td>\n",
       "    </tr>\n",
       "  </tbody>\n",
       "</table>\n",
       "<p>1000 rows × 23 columns</p>\n",
       "</div>"
      ],
      "text/plain": [
       "     row_num  team1_totalVaepAccum  team1_offVaepAccum  team1_defVaepAccum  \\\n",
       "0        141              7.005220            6.595284            0.409936   \n",
       "1        142              7.311395            7.693820           -0.382425   \n",
       "2        143              6.702192            6.153856            0.548335   \n",
       "3        144              7.766739            7.362446            0.404293   \n",
       "4        145             12.142318           11.395342            0.746976   \n",
       "..       ...                   ...                 ...                 ...   \n",
       "995     1136             79.067737           80.202457           -1.134720   \n",
       "996     1137             90.463882           84.685144            5.778737   \n",
       "997     1138            131.912998          129.204383            2.708616   \n",
       "998     1139            111.339853          105.522377            5.817476   \n",
       "999     1140             86.357842           84.069288            2.288554   \n",
       "\n",
       "     team1_againstVaepAccum  team2_totalVaepAccum  team2_offVaepAccum  \\\n",
       "0                 -1.127720              6.225714            5.381333   \n",
       "1                  0.774307              4.334536            3.222659   \n",
       "2                 -2.261563              3.938206            3.686590   \n",
       "3                 -5.438777              3.873939            3.196751   \n",
       "4                  4.139777              8.200129            7.640125   \n",
       "..                      ...                   ...                 ...   \n",
       "995               -4.809436             64.610715           60.651563   \n",
       "996               30.032876             72.871082           72.426754   \n",
       "997               63.698653             95.855389           93.810651   \n",
       "998               38.481203             91.181520           86.110300   \n",
       "999               27.321400             56.398151           50.975976   \n",
       "\n",
       "     team2_defVaepAccum  team2_againstVaepAccum team1_side  ...  pythdiff  \\\n",
       "0              0.844381               -4.402305       away  ...  0.308079   \n",
       "1              1.111877               -9.092477       away  ...  0.803733   \n",
       "2              0.251616               -4.738053       home  ...  0.489187   \n",
       "3              0.677187               -6.626433       home  ...  0.416253   \n",
       "4              0.560004               -1.202284       home  ... -0.083090   \n",
       "..                  ...                     ...        ...  ...       ...   \n",
       "995            3.959153              -17.091040       away  ...  0.061710   \n",
       "996            0.444328               -0.456343       home  ... -0.099235   \n",
       "997            2.044739               10.269121       home  ... -0.177739   \n",
       "998            5.071220               33.057884       home  ...  0.009466   \n",
       "999            5.422176              -35.580216       away  ...  0.193709   \n",
       "\n",
       "      pythdiv  totalVaepDiv  totalVaepDiff  OffensiveVaepDiv  \\\n",
       "0    1.462122      1.125207       0.779506          1.225586   \n",
       "1    5.340373      1.686777       2.976859          2.387414   \n",
       "2    2.197260      1.701839       2.763985          1.669254   \n",
       "3    2.634151      2.004869       3.892800          2.303103   \n",
       "4    0.915124      1.480747       3.942189          1.491513   \n",
       "..        ...           ...            ...               ...   \n",
       "995  1.066028      1.223756      14.457021          1.322348   \n",
       "996  0.900761      1.241424      17.592800          1.169252   \n",
       "997  0.820221      1.376167      36.057609          1.377289   \n",
       "998  1.010711      1.221079      20.158332          1.225433   \n",
       "999  1.270806      1.531218      29.959691          1.649194   \n",
       "\n",
       "     OffensiveVaepDiff  totalDefVaepDiv  totalDefVaepDiff  \\\n",
       "0             1.213951         0.485487         -0.434445   \n",
       "1             4.471161        -0.343946         -1.494302   \n",
       "2             2.467266         2.179253          0.296719   \n",
       "3             4.165695         0.597017         -0.272895   \n",
       "4             3.755217         1.333876          0.186972   \n",
       "..                 ...              ...               ...   \n",
       "995          19.550894        -0.286607         -5.093873   \n",
       "996          12.258390        13.005567          5.334410   \n",
       "997          35.393732         1.324675          0.663876   \n",
       "998          19.412076         1.147155          0.746257   \n",
       "999          33.093313         0.422073         -3.133621   \n",
       "\n",
       "     totalVaepAgainstDiv  totalVaepAgainstDiff  \n",
       "0               0.256166              3.274585  \n",
       "1              -0.085159              9.866784  \n",
       "2               0.477319              2.476490  \n",
       "3               0.820770              1.187656  \n",
       "4              -3.443259              5.342062  \n",
       "..                   ...                   ...  \n",
       "995             0.281401             12.281604  \n",
       "996           -65.812037             30.489219  \n",
       "997             6.202931             53.429532  \n",
       "998             1.164055              5.423319  \n",
       "999            -0.767882             62.901617  \n",
       "\n",
       "[1000 rows x 23 columns]"
      ]
     },
     "execution_count": 40,
     "metadata": {},
     "output_type": "execute_result"
    }
   ],
   "source": [
    "# Estas son las features finales antes del análisis\n",
    "\n",
    "df.toPandas()"
   ]
  },
  {
   "cell_type": "code",
   "execution_count": 41,
   "metadata": {},
   "outputs": [],
   "source": [
    "# Se elimnan las filas con NANs y NuLLs\n",
    "\n",
    "df=df.na.drop(\"any\")"
   ]
  },
  {
   "cell_type": "code",
   "execution_count": 42,
   "metadata": {},
   "outputs": [
    {
     "data": {
      "text/html": [
       "<div>\n",
       "<style scoped>\n",
       "    .dataframe tbody tr th:only-of-type {\n",
       "        vertical-align: middle;\n",
       "    }\n",
       "\n",
       "    .dataframe tbody tr th {\n",
       "        vertical-align: top;\n",
       "    }\n",
       "\n",
       "    .dataframe thead th {\n",
       "        text-align: right;\n",
       "    }\n",
       "</style>\n",
       "<table border=\"1\" class=\"dataframe\">\n",
       "  <thead>\n",
       "    <tr style=\"text-align: right;\">\n",
       "      <th></th>\n",
       "      <th>row_num</th>\n",
       "      <th>team1_totalVaepAccum</th>\n",
       "      <th>team1_offVaepAccum</th>\n",
       "      <th>team1_defVaepAccum</th>\n",
       "      <th>team1_againstVaepAccum</th>\n",
       "      <th>team2_totalVaepAccum</th>\n",
       "      <th>team2_offVaepAccum</th>\n",
       "      <th>team2_defVaepAccum</th>\n",
       "      <th>team2_againstVaepAccum</th>\n",
       "      <th>team1_side</th>\n",
       "      <th>...</th>\n",
       "      <th>pythdiff</th>\n",
       "      <th>pythdiv</th>\n",
       "      <th>totalVaepDiv</th>\n",
       "      <th>totalVaepDiff</th>\n",
       "      <th>OffensiveVaepDiv</th>\n",
       "      <th>OffensiveVaepDiff</th>\n",
       "      <th>totalDefVaepDiv</th>\n",
       "      <th>totalDefVaepDiff</th>\n",
       "      <th>totalVaepAgainstDiv</th>\n",
       "      <th>totalVaepAgainstDiff</th>\n",
       "    </tr>\n",
       "  </thead>\n",
       "  <tbody>\n",
       "    <tr>\n",
       "      <th>0</th>\n",
       "      <td>141</td>\n",
       "      <td>7.005220</td>\n",
       "      <td>6.595284</td>\n",
       "      <td>0.409936</td>\n",
       "      <td>-1.127720</td>\n",
       "      <td>6.225714</td>\n",
       "      <td>5.381333</td>\n",
       "      <td>0.844381</td>\n",
       "      <td>-4.402305</td>\n",
       "      <td>away</td>\n",
       "      <td>...</td>\n",
       "      <td>0.308079</td>\n",
       "      <td>1.462122</td>\n",
       "      <td>1.125207</td>\n",
       "      <td>0.779506</td>\n",
       "      <td>1.225586</td>\n",
       "      <td>1.213951</td>\n",
       "      <td>0.485487</td>\n",
       "      <td>-0.434445</td>\n",
       "      <td>0.256166</td>\n",
       "      <td>3.274585</td>\n",
       "    </tr>\n",
       "    <tr>\n",
       "      <th>1</th>\n",
       "      <td>142</td>\n",
       "      <td>7.311395</td>\n",
       "      <td>7.693820</td>\n",
       "      <td>-0.382425</td>\n",
       "      <td>0.774307</td>\n",
       "      <td>4.334536</td>\n",
       "      <td>3.222659</td>\n",
       "      <td>1.111877</td>\n",
       "      <td>-9.092477</td>\n",
       "      <td>away</td>\n",
       "      <td>...</td>\n",
       "      <td>0.803733</td>\n",
       "      <td>5.340373</td>\n",
       "      <td>1.686777</td>\n",
       "      <td>2.976859</td>\n",
       "      <td>2.387414</td>\n",
       "      <td>4.471161</td>\n",
       "      <td>-0.343946</td>\n",
       "      <td>-1.494302</td>\n",
       "      <td>-0.085159</td>\n",
       "      <td>9.866784</td>\n",
       "    </tr>\n",
       "    <tr>\n",
       "      <th>2</th>\n",
       "      <td>143</td>\n",
       "      <td>6.702192</td>\n",
       "      <td>6.153856</td>\n",
       "      <td>0.548335</td>\n",
       "      <td>-2.261563</td>\n",
       "      <td>3.938206</td>\n",
       "      <td>3.686590</td>\n",
       "      <td>0.251616</td>\n",
       "      <td>-4.738053</td>\n",
       "      <td>home</td>\n",
       "      <td>...</td>\n",
       "      <td>0.489187</td>\n",
       "      <td>2.197260</td>\n",
       "      <td>1.701839</td>\n",
       "      <td>2.763985</td>\n",
       "      <td>1.669254</td>\n",
       "      <td>2.467266</td>\n",
       "      <td>2.179253</td>\n",
       "      <td>0.296719</td>\n",
       "      <td>0.477319</td>\n",
       "      <td>2.476490</td>\n",
       "    </tr>\n",
       "    <tr>\n",
       "      <th>3</th>\n",
       "      <td>144</td>\n",
       "      <td>7.766739</td>\n",
       "      <td>7.362446</td>\n",
       "      <td>0.404293</td>\n",
       "      <td>-5.438777</td>\n",
       "      <td>3.873939</td>\n",
       "      <td>3.196751</td>\n",
       "      <td>0.677187</td>\n",
       "      <td>-6.626433</td>\n",
       "      <td>home</td>\n",
       "      <td>...</td>\n",
       "      <td>0.416253</td>\n",
       "      <td>2.634151</td>\n",
       "      <td>2.004869</td>\n",
       "      <td>3.892800</td>\n",
       "      <td>2.303103</td>\n",
       "      <td>4.165695</td>\n",
       "      <td>0.597017</td>\n",
       "      <td>-0.272895</td>\n",
       "      <td>0.820770</td>\n",
       "      <td>1.187656</td>\n",
       "    </tr>\n",
       "    <tr>\n",
       "      <th>4</th>\n",
       "      <td>145</td>\n",
       "      <td>12.142318</td>\n",
       "      <td>11.395342</td>\n",
       "      <td>0.746976</td>\n",
       "      <td>4.139777</td>\n",
       "      <td>8.200129</td>\n",
       "      <td>7.640125</td>\n",
       "      <td>0.560004</td>\n",
       "      <td>-1.202284</td>\n",
       "      <td>home</td>\n",
       "      <td>...</td>\n",
       "      <td>-0.083090</td>\n",
       "      <td>0.915124</td>\n",
       "      <td>1.480747</td>\n",
       "      <td>3.942189</td>\n",
       "      <td>1.491513</td>\n",
       "      <td>3.755217</td>\n",
       "      <td>1.333876</td>\n",
       "      <td>0.186972</td>\n",
       "      <td>-3.443259</td>\n",
       "      <td>5.342062</td>\n",
       "    </tr>\n",
       "    <tr>\n",
       "      <th>...</th>\n",
       "      <td>...</td>\n",
       "      <td>...</td>\n",
       "      <td>...</td>\n",
       "      <td>...</td>\n",
       "      <td>...</td>\n",
       "      <td>...</td>\n",
       "      <td>...</td>\n",
       "      <td>...</td>\n",
       "      <td>...</td>\n",
       "      <td>...</td>\n",
       "      <td>...</td>\n",
       "      <td>...</td>\n",
       "      <td>...</td>\n",
       "      <td>...</td>\n",
       "      <td>...</td>\n",
       "      <td>...</td>\n",
       "      <td>...</td>\n",
       "      <td>...</td>\n",
       "      <td>...</td>\n",
       "      <td>...</td>\n",
       "      <td>...</td>\n",
       "    </tr>\n",
       "    <tr>\n",
       "      <th>995</th>\n",
       "      <td>1136</td>\n",
       "      <td>79.067737</td>\n",
       "      <td>80.202457</td>\n",
       "      <td>-1.134720</td>\n",
       "      <td>-4.809436</td>\n",
       "      <td>64.610715</td>\n",
       "      <td>60.651563</td>\n",
       "      <td>3.959153</td>\n",
       "      <td>-17.091040</td>\n",
       "      <td>away</td>\n",
       "      <td>...</td>\n",
       "      <td>0.061710</td>\n",
       "      <td>1.066028</td>\n",
       "      <td>1.223756</td>\n",
       "      <td>14.457021</td>\n",
       "      <td>1.322348</td>\n",
       "      <td>19.550894</td>\n",
       "      <td>-0.286607</td>\n",
       "      <td>-5.093873</td>\n",
       "      <td>0.281401</td>\n",
       "      <td>12.281604</td>\n",
       "    </tr>\n",
       "    <tr>\n",
       "      <th>996</th>\n",
       "      <td>1137</td>\n",
       "      <td>90.463882</td>\n",
       "      <td>84.685144</td>\n",
       "      <td>5.778737</td>\n",
       "      <td>30.032876</td>\n",
       "      <td>72.871082</td>\n",
       "      <td>72.426754</td>\n",
       "      <td>0.444328</td>\n",
       "      <td>-0.456343</td>\n",
       "      <td>home</td>\n",
       "      <td>...</td>\n",
       "      <td>-0.099235</td>\n",
       "      <td>0.900761</td>\n",
       "      <td>1.241424</td>\n",
       "      <td>17.592800</td>\n",
       "      <td>1.169252</td>\n",
       "      <td>12.258390</td>\n",
       "      <td>13.005567</td>\n",
       "      <td>5.334410</td>\n",
       "      <td>-65.812037</td>\n",
       "      <td>30.489219</td>\n",
       "    </tr>\n",
       "    <tr>\n",
       "      <th>997</th>\n",
       "      <td>1138</td>\n",
       "      <td>131.912998</td>\n",
       "      <td>129.204383</td>\n",
       "      <td>2.708616</td>\n",
       "      <td>63.698653</td>\n",
       "      <td>95.855389</td>\n",
       "      <td>93.810651</td>\n",
       "      <td>2.044739</td>\n",
       "      <td>10.269121</td>\n",
       "      <td>home</td>\n",
       "      <td>...</td>\n",
       "      <td>-0.177739</td>\n",
       "      <td>0.820221</td>\n",
       "      <td>1.376167</td>\n",
       "      <td>36.057609</td>\n",
       "      <td>1.377289</td>\n",
       "      <td>35.393732</td>\n",
       "      <td>1.324675</td>\n",
       "      <td>0.663876</td>\n",
       "      <td>6.202931</td>\n",
       "      <td>53.429532</td>\n",
       "    </tr>\n",
       "    <tr>\n",
       "      <th>998</th>\n",
       "      <td>1139</td>\n",
       "      <td>111.339853</td>\n",
       "      <td>105.522377</td>\n",
       "      <td>5.817476</td>\n",
       "      <td>38.481203</td>\n",
       "      <td>91.181520</td>\n",
       "      <td>86.110300</td>\n",
       "      <td>5.071220</td>\n",
       "      <td>33.057884</td>\n",
       "      <td>home</td>\n",
       "      <td>...</td>\n",
       "      <td>0.009466</td>\n",
       "      <td>1.010711</td>\n",
       "      <td>1.221079</td>\n",
       "      <td>20.158332</td>\n",
       "      <td>1.225433</td>\n",
       "      <td>19.412076</td>\n",
       "      <td>1.147155</td>\n",
       "      <td>0.746257</td>\n",
       "      <td>1.164055</td>\n",
       "      <td>5.423319</td>\n",
       "    </tr>\n",
       "    <tr>\n",
       "      <th>999</th>\n",
       "      <td>1140</td>\n",
       "      <td>86.357842</td>\n",
       "      <td>84.069288</td>\n",
       "      <td>2.288554</td>\n",
       "      <td>27.321400</td>\n",
       "      <td>56.398151</td>\n",
       "      <td>50.975976</td>\n",
       "      <td>5.422176</td>\n",
       "      <td>-35.580216</td>\n",
       "      <td>away</td>\n",
       "      <td>...</td>\n",
       "      <td>0.193709</td>\n",
       "      <td>1.270806</td>\n",
       "      <td>1.531218</td>\n",
       "      <td>29.959691</td>\n",
       "      <td>1.649194</td>\n",
       "      <td>33.093313</td>\n",
       "      <td>0.422073</td>\n",
       "      <td>-3.133621</td>\n",
       "      <td>-0.767882</td>\n",
       "      <td>62.901617</td>\n",
       "    </tr>\n",
       "  </tbody>\n",
       "</table>\n",
       "<p>1000 rows × 23 columns</p>\n",
       "</div>"
      ],
      "text/plain": [
       "     row_num  team1_totalVaepAccum  team1_offVaepAccum  team1_defVaepAccum  \\\n",
       "0        141              7.005220            6.595284            0.409936   \n",
       "1        142              7.311395            7.693820           -0.382425   \n",
       "2        143              6.702192            6.153856            0.548335   \n",
       "3        144              7.766739            7.362446            0.404293   \n",
       "4        145             12.142318           11.395342            0.746976   \n",
       "..       ...                   ...                 ...                 ...   \n",
       "995     1136             79.067737           80.202457           -1.134720   \n",
       "996     1137             90.463882           84.685144            5.778737   \n",
       "997     1138            131.912998          129.204383            2.708616   \n",
       "998     1139            111.339853          105.522377            5.817476   \n",
       "999     1140             86.357842           84.069288            2.288554   \n",
       "\n",
       "     team1_againstVaepAccum  team2_totalVaepAccum  team2_offVaepAccum  \\\n",
       "0                 -1.127720              6.225714            5.381333   \n",
       "1                  0.774307              4.334536            3.222659   \n",
       "2                 -2.261563              3.938206            3.686590   \n",
       "3                 -5.438777              3.873939            3.196751   \n",
       "4                  4.139777              8.200129            7.640125   \n",
       "..                      ...                   ...                 ...   \n",
       "995               -4.809436             64.610715           60.651563   \n",
       "996               30.032876             72.871082           72.426754   \n",
       "997               63.698653             95.855389           93.810651   \n",
       "998               38.481203             91.181520           86.110300   \n",
       "999               27.321400             56.398151           50.975976   \n",
       "\n",
       "     team2_defVaepAccum  team2_againstVaepAccum team1_side  ...  pythdiff  \\\n",
       "0              0.844381               -4.402305       away  ...  0.308079   \n",
       "1              1.111877               -9.092477       away  ...  0.803733   \n",
       "2              0.251616               -4.738053       home  ...  0.489187   \n",
       "3              0.677187               -6.626433       home  ...  0.416253   \n",
       "4              0.560004               -1.202284       home  ... -0.083090   \n",
       "..                  ...                     ...        ...  ...       ...   \n",
       "995            3.959153              -17.091040       away  ...  0.061710   \n",
       "996            0.444328               -0.456343       home  ... -0.099235   \n",
       "997            2.044739               10.269121       home  ... -0.177739   \n",
       "998            5.071220               33.057884       home  ...  0.009466   \n",
       "999            5.422176              -35.580216       away  ...  0.193709   \n",
       "\n",
       "      pythdiv  totalVaepDiv  totalVaepDiff  OffensiveVaepDiv  \\\n",
       "0    1.462122      1.125207       0.779506          1.225586   \n",
       "1    5.340373      1.686777       2.976859          2.387414   \n",
       "2    2.197260      1.701839       2.763985          1.669254   \n",
       "3    2.634151      2.004869       3.892800          2.303103   \n",
       "4    0.915124      1.480747       3.942189          1.491513   \n",
       "..        ...           ...            ...               ...   \n",
       "995  1.066028      1.223756      14.457021          1.322348   \n",
       "996  0.900761      1.241424      17.592800          1.169252   \n",
       "997  0.820221      1.376167      36.057609          1.377289   \n",
       "998  1.010711      1.221079      20.158332          1.225433   \n",
       "999  1.270806      1.531218      29.959691          1.649194   \n",
       "\n",
       "     OffensiveVaepDiff  totalDefVaepDiv  totalDefVaepDiff  \\\n",
       "0             1.213951         0.485487         -0.434445   \n",
       "1             4.471161        -0.343946         -1.494302   \n",
       "2             2.467266         2.179253          0.296719   \n",
       "3             4.165695         0.597017         -0.272895   \n",
       "4             3.755217         1.333876          0.186972   \n",
       "..                 ...              ...               ...   \n",
       "995          19.550894        -0.286607         -5.093873   \n",
       "996          12.258390        13.005567          5.334410   \n",
       "997          35.393732         1.324675          0.663876   \n",
       "998          19.412076         1.147155          0.746257   \n",
       "999          33.093313         0.422073         -3.133621   \n",
       "\n",
       "     totalVaepAgainstDiv  totalVaepAgainstDiff  \n",
       "0               0.256166              3.274585  \n",
       "1              -0.085159              9.866784  \n",
       "2               0.477319              2.476490  \n",
       "3               0.820770              1.187656  \n",
       "4              -3.443259              5.342062  \n",
       "..                   ...                   ...  \n",
       "995             0.281401             12.281604  \n",
       "996           -65.812037             30.489219  \n",
       "997             6.202931             53.429532  \n",
       "998             1.164055              5.423319  \n",
       "999            -0.767882             62.901617  \n",
       "\n",
       "[1000 rows x 23 columns]"
      ]
     },
     "execution_count": 42,
     "metadata": {},
     "output_type": "execute_result"
    }
   ],
   "source": [
    "# Asi queda el dataframe final\n",
    "\n",
    "df.toPandas()"
   ]
  },
  {
   "cell_type": "code",
   "execution_count": 43,
   "metadata": {},
   "outputs": [
    {
     "data": {
      "text/plain": [
       "row_num                   0\n",
       "team1_totalVaepAccum      0\n",
       "team1_offVaepAccum        0\n",
       "team1_defVaepAccum        0\n",
       "team1_againstVaepAccum    0\n",
       "team2_totalVaepAccum      0\n",
       "team2_offVaepAccum        0\n",
       "team2_defVaepAccum        0\n",
       "team2_againstVaepAccum    0\n",
       "team1_side                0\n",
       "team1winflag              0\n",
       "pythTeam1                 0\n",
       "pythTeam2                 0\n",
       "pythdiff                  0\n",
       "pythdiv                   0\n",
       "totalVaepDiv              0\n",
       "totalVaepDiff             0\n",
       "OffensiveVaepDiv          0\n",
       "OffensiveVaepDiff         0\n",
       "totalDefVaepDiv           0\n",
       "totalDefVaepDiff          0\n",
       "totalVaepAgainstDiv       0\n",
       "totalVaepAgainstDiff      0\n",
       "dtype: int64"
      ]
     },
     "execution_count": 43,
     "metadata": {},
     "output_type": "execute_result"
    }
   ],
   "source": [
    "df.toPandas().isna().sum() "
   ]
  },
  {
   "cell_type": "code",
   "execution_count": 44,
   "metadata": {},
   "outputs": [
    {
     "data": {
      "text/plain": [
       "row_num                   0\n",
       "team1_totalVaepAccum      0\n",
       "team1_offVaepAccum        0\n",
       "team1_defVaepAccum        0\n",
       "team1_againstVaepAccum    0\n",
       "team2_totalVaepAccum      0\n",
       "team2_offVaepAccum        0\n",
       "team2_defVaepAccum        0\n",
       "team2_againstVaepAccum    0\n",
       "team1_side                0\n",
       "team1winflag              0\n",
       "pythTeam1                 0\n",
       "pythTeam2                 0\n",
       "pythdiff                  0\n",
       "pythdiv                   0\n",
       "totalVaepDiv              0\n",
       "totalVaepDiff             0\n",
       "OffensiveVaepDiv          0\n",
       "OffensiveVaepDiff         0\n",
       "totalDefVaepDiv           0\n",
       "totalDefVaepDiff          0\n",
       "totalVaepAgainstDiv       0\n",
       "totalVaepAgainstDiff      0\n",
       "dtype: int64"
      ]
     },
     "execution_count": 44,
     "metadata": {},
     "output_type": "execute_result"
    }
   ],
   "source": [
    "df.toPandas().isnull().sum() "
   ]
  },
  {
   "cell_type": "markdown",
   "metadata": {},
   "source": [
    "### Estimación de victoria con el algoritmo random forest (simple)"
   ]
  },
  {
   "cell_type": "markdown",
   "metadata": {},
   "source": [
    "En la siguiente sección se utiliza el algoritmo random forest para predecir si el equipo 1 ganará o no en base a las features obtenidas en la sección anterior sin optimización de hiperparametros."
   ]
  },
  {
   "cell_type": "code",
   "execution_count": 45,
   "metadata": {},
   "outputs": [],
   "source": [
    "# Se protege la variable a estimar\n",
    "\n",
    "PROTECTED_COLS= ['team1winflag']"
   ]
  },
  {
   "cell_type": "code",
   "execution_count": 46,
   "metadata": {},
   "outputs": [],
   "source": [
    "def _get_typed_cols(df, col_type='cat'):\n",
    "    assert col_type in ('cat', 'num')\n",
    "    dtypes = ('int', 'double') if col_type == 'num' else ('string')\n",
    "    typed_cols = [c for c,dtype in df.dtypes if dtype.startswith(dtypes) \n",
    "                  and c not in PROTECTED_COLS]\n",
    "    return typed_cols"
   ]
  },
  {
   "cell_type": "code",
   "execution_count": 47,
   "metadata": {},
   "outputs": [
    {
     "data": {
      "text/plain": [
       "(['team1_side'],\n",
       " ['row_num',\n",
       "  'team1_totalVaepAccum',\n",
       "  'team1_offVaepAccum',\n",
       "  'team1_defVaepAccum',\n",
       "  'team1_againstVaepAccum',\n",
       "  'team2_totalVaepAccum',\n",
       "  'team2_offVaepAccum',\n",
       "  'team2_defVaepAccum',\n",
       "  'team2_againstVaepAccum',\n",
       "  'pythTeam1',\n",
       "  'pythTeam2',\n",
       "  'pythdiff',\n",
       "  'pythdiv',\n",
       "  'totalVaepDiv',\n",
       "  'totalVaepDiff',\n",
       "  'OffensiveVaepDiv',\n",
       "  'OffensiveVaepDiff',\n",
       "  'totalDefVaepDiv',\n",
       "  'totalDefVaepDiff',\n",
       "  'totalVaepAgainstDiv',\n",
       "  'totalVaepAgainstDiff'])"
      ]
     },
     "execution_count": 47,
     "metadata": {},
     "output_type": "execute_result"
    }
   ],
   "source": [
    "# Se dividen las columnas entre las categóricas y las numéricas\n",
    "# De aquí en más se preparan las variables para usar el algoritmo de random forest\n",
    "\n",
    "num_cols = _get_typed_cols(df, col_type='num')\n",
    "cat_cols = _get_typed_cols(df, col_type='cat')\n",
    "cat_cols, num_cols# ,df.columns"
   ]
  },
  {
   "cell_type": "code",
   "execution_count": 48,
   "metadata": {},
   "outputs": [],
   "source": [
    "from pyspark.ml.feature import StringIndexer\n",
    "\n",
    "def _encode_categorical(df):\n",
    "    cat_cols = _get_typed_cols(df, col_type='cat')\n",
    "    encoded_cols = []\n",
    "    for cat in cat_cols:\n",
    "        cat_suff = f'{cat}_num'\n",
    "        encoded_cols.append(cat_suff)\n",
    "        if cat_suff not in df.columns:\n",
    "            indexer = StringIndexer(inputCol=cat, outputCol=cat_suff).fit(df)\n",
    "            df = indexer.transform(df)\n",
    "    return df, encoded_cols"
   ]
  },
  {
   "cell_type": "code",
   "execution_count": 49,
   "metadata": {},
   "outputs": [
    {
     "name": "stdout",
     "output_type": "stream",
     "text": [
      "+-------+--------------------+------------------+--------------------+----------------------+--------------------+------------------+------------------+----------------------+----------+------------+------------------+-------------------+-------------------+------------------+------------------+------------------+------------------+------------------+-------------------+-------------------+--------------------+--------------------+--------------+\n",
      "|row_num|team1_totalVaepAccum|team1_offVaepAccum|  team1_defVaepAccum|team1_againstVaepAccum|team2_totalVaepAccum|team2_offVaepAccum|team2_defVaepAccum|team2_againstVaepAccum|team1_side|team1winflag|         pythTeam1|          pythTeam2|           pythdiff|           pythdiv|      totalVaepDiv|     totalVaepDiff|  OffensiveVaepDiv| OffensiveVaepDiff|    totalDefVaepDiv|   totalDefVaepDiff| totalVaepAgainstDiv|totalVaepAgainstDiff|team1_side_num|\n",
      "+-------+--------------------+------------------+--------------------+----------------------+--------------------+------------------+------------------+----------------------+----------+------------+------------------+-------------------+-------------------+------------------+------------------+------------------+------------------+------------------+-------------------+-------------------+--------------------+--------------------+--------------+\n",
      "|    141|   7.005220059421845| 6.595284003880806|  0.4099360022228211|   -1.1277195005095564|   6.225714284053538| 5.381332947174087|0.8443813221674645|    -4.402304504765198|      away|           0|0.9747392030054423| 0.6666606377580477| 0.3080785652473945|1.4621220270082993|1.1252074444477675|0.7795057753683068|1.2255855693419238| 1.213951056706719|0.48548681911928804|-0.4344453199446434| 0.25616571940647814|  3.2745850042556413|           1.0|\n",
      "|    142|   7.311395404336508| 7.693820381653495|-0.38242515502497554|    0.7743071086006239|   4.334536011039745| 3.222659128718078|1.1118768530141097|    -9.092477390484419|      away|           0|0.9889087076985089| 0.1851759599971155| 0.8037327477013934| 5.340373057679373| 1.686776943533269|2.9768593932967633|2.3874136464175075| 4.471161252935417|-0.3439456033177467|-1.4943020080390852|-0.08515909089979835|   9.866784499085043|           1.0|\n",
      "|    143|   6.702191695687361| 6.153856453543995|  0.5483353044255637|    -2.261563138861675|   3.938206413644366|3.6865903021534905|0.2516161464882316|    -4.738053125911392|      home|           1|0.8977762400885312|0.40858890308750195|0.48918733700102923|2.1972604574047048|1.7018386015691946| 2.763985282042995|1.6692542292940096| 2.467266151390504|  2.179253247768859|0.29671915793733206|  0.4773190757388669|  2.4764899870497175|           0.0|\n",
      "|    144|    7.76673879136797| 7.362446154700592|  0.4042926619295031|    -5.438777297036722|  3.8739388525718823|3.1967514025745913|0.6771874713012949|    -6.626433114695828|      home|           1| 0.670973681091399| 0.2547210080955894| 0.4162526729958096|2.6341513254360316|  2.00486871035966| 3.892799938796088|2.3031025023625684| 4.165694752126001| 0.5970173387180473|-0.2728948093717918|  0.8207699682314499|   1.187655817659106|           0.0|\n",
      "|    145|  12.142317728488706|11.395342084695585|  0.7469756650971249|     4.139777190983295|    8.20012850232888| 7.640124842640944|0.5600036491523497|   -1.2022844952298328|      home|           0|0.8958657309241165| 0.9789556178558321|-0.0830898869317156|0.9151239490164997|1.4807472498803187| 3.942189226159826|1.4915125497813966|3.7552172420546412| 1.3338764242479235| 0.1869720159447752|  -3.443259234738714|   5.342061686213128|           0.0|\n",
      "+-------+--------------------+------------------+--------------------+----------------------+--------------------+------------------+------------------+----------------------+----------+------------+------------------+-------------------+-------------------+------------------+------------------+------------------+------------------+------------------+-------------------+-------------------+--------------------+--------------------+--------------+\n",
      "only showing top 5 rows\n",
      "\n"
     ]
    }
   ],
   "source": [
    "df, encoded_cols = _encode_categorical(df)\n",
    "df.show(5)"
   ]
  },
  {
   "cell_type": "code",
   "execution_count": 50,
   "metadata": {},
   "outputs": [
    {
     "data": {
      "text/plain": [
       "['row_num',\n",
       " 'team1_totalVaepAccum',\n",
       " 'team1_offVaepAccum',\n",
       " 'team1_defVaepAccum',\n",
       " 'team1_againstVaepAccum',\n",
       " 'team2_totalVaepAccum',\n",
       " 'team2_offVaepAccum',\n",
       " 'team2_defVaepAccum',\n",
       " 'team2_againstVaepAccum',\n",
       " 'pythTeam1',\n",
       " 'pythTeam2',\n",
       " 'pythdiff',\n",
       " 'pythdiv',\n",
       " 'totalVaepDiv',\n",
       " 'totalVaepDiff',\n",
       " 'OffensiveVaepDiv',\n",
       " 'OffensiveVaepDiff',\n",
       " 'totalDefVaepDiv',\n",
       " 'totalDefVaepDiff',\n",
       " 'totalVaepAgainstDiv',\n",
       " 'totalVaepAgainstDiff',\n",
       " 'team1_side_num']"
      ]
     },
     "execution_count": 50,
     "metadata": {},
     "output_type": "execute_result"
    }
   ],
   "source": [
    "feature_cols = num_cols + encoded_cols\n",
    "feature_cols"
   ]
  },
  {
   "cell_type": "code",
   "execution_count": 51,
   "metadata": {},
   "outputs": [
    {
     "name": "stdout",
     "output_type": "stream",
     "text": [
      "+-------+--------------------+------------------+-------------------+----------------------+--------------------+------------------+-------------------+----------------------+----------+------------+------------------+-------------------+--------------------+------------------+------------------+------------------+------------------+------------------+-------------------+-------------------+-------------------+--------------------+--------------+------------------+\n",
      "|row_num|team1_totalVaepAccum|team1_offVaepAccum| team1_defVaepAccum|team1_againstVaepAccum|team2_totalVaepAccum|team2_offVaepAccum| team2_defVaepAccum|team2_againstVaepAccum|team1_side|team1winflag|         pythTeam1|          pythTeam2|            pythdiff|           pythdiv|      totalVaepDiv|     totalVaepDiff|  OffensiveVaepDiv| OffensiveVaepDiff|    totalDefVaepDiv|   totalDefVaepDiff|totalVaepAgainstDiv|totalVaepAgainstDiff|team1_side_num|team1_side_num_vec|\n",
      "+-------+--------------------+------------------+-------------------+----------------------+--------------------+------------------+-------------------+----------------------+----------+------------+------------------+-------------------+--------------------+------------------+------------------+------------------+------------------+------------------+-------------------+-------------------+-------------------+--------------------+--------------+------------------+\n",
      "|    141|   6.702191695687361| 6.153856453543995| 0.5483353044255637|    -2.261563138861675|   3.938206413644366|3.6865903021534905| 0.2516161464882316|    -4.738053125911392|      home|           1|0.8977762400885312|0.40858890308750195| 0.48918733700102923|2.1972604574047048|1.7018386015691946| 2.763985282042995|1.6692542292940096| 2.467266151390504|  2.179253247768859|0.29671915793733206| 0.4773190757388669|  2.4764899870497175|           0.0|     (1,[0],[1.0])|\n",
      "|    142|  11.951340581290424| 11.21970205521211| 0.7316386609891197|     4.150067029113416|  15.509659910341725|15.414813964744098|0.09484586684266105|    11.186824599804822|      home|           0|0.8923946344474938| 0.6577880934455338|    0.23460654100196|1.3566597561428586|0.7705739939095222|-3.558319329051301|0.7278519274298857|-4.195111909531988|  7.713975161435641| 0.6367927941464586| 0.3709781084067254|  -7.036757570691407|           0.0|     (1,[0],[1.0])|\n",
      "|    143|  10.930023397260811| 10.61088890011888|0.31913441234792117|     2.185073768312577|   7.967186550144106| 6.975193202146329| 0.9919933818600839|   -0.9476923410547897|      home|           1|0.9615699536796581| 0.9860484321317656|-0.02447847845210749|0.9751751763357234|1.3718799388553435| 2.962836847116705| 1.521232257316373| 3.635695697972551|0.32171022325724913|-0.6728589695121627|-2.3056784081219557|   3.132766109367367|           0.0|     (1,[0],[1.0])|\n",
      "|    144|    7.76673879136797| 7.362446154700592| 0.4042926619295031|    -5.438777297036722|  3.8739388525718823|3.1967514025745913| 0.6771874713012949|    -6.626433114695828|      home|           1| 0.670973681091399| 0.2547210080955894|  0.4162526729958096|2.6341513254360316|  2.00486871035966| 3.892799938796088|2.3031025023625684| 4.165694752126001| 0.5970173387180473|-0.2728948093717918| 0.8207699682314499|   1.187655817659106|           0.0|     (1,[0],[1.0])|\n",
      "|    145|  12.142317728488706|11.395342084695585| 0.7469756650971249|     4.139777190983295|    8.20012850232888| 7.640124842640944| 0.5600036491523497|   -1.2022844952298328|      home|           0|0.8958657309241165| 0.9789556178558321| -0.0830898869317156|0.9151239490164997|1.4807472498803187| 3.942189226159826|1.4915125497813966|3.7552172420546412| 1.3338764242479235| 0.1869720159447752| -3.443259234738714|   5.342061686213128|           0.0|     (1,[0],[1.0])|\n",
      "+-------+--------------------+------------------+-------------------+----------------------+--------------------+------------------+-------------------+----------------------+----------+------------+------------------+-------------------+--------------------+------------------+------------------+------------------+------------------+------------------+-------------------+-------------------+-------------------+--------------------+--------------+------------------+\n",
      "only showing top 5 rows\n",
      "\n"
     ]
    }
   ],
   "source": [
    "from pyspark.ml.feature import OneHotEncoderEstimator\n",
    "\n",
    "ohe_cols = [f'{c}_vec' for c in encoded_cols]\n",
    "encoder = OneHotEncoderEstimator(inputCols=encoded_cols, outputCols=ohe_cols)\n",
    "ohem = encoder.fit(df)\n",
    "df = ohem.transform(df)\n",
    "df.show(5)\n",
    "feature_cols = num_cols + ohe_cols"
   ]
  },
  {
   "cell_type": "code",
   "execution_count": 52,
   "metadata": {},
   "outputs": [
    {
     "name": "stdout",
     "output_type": "stream",
     "text": [
      "+--------------------+\n",
      "|            features|\n",
      "+--------------------+\n",
      "|[141.0,7.00522005...|\n",
      "|[142.0,7.31139540...|\n",
      "|[143.0,6.70219169...|\n",
      "|[144.0,7.76673879...|\n",
      "|[145.0,12.1423177...|\n",
      "+--------------------+\n",
      "only showing top 5 rows\n",
      "\n"
     ]
    }
   ],
   "source": [
    "from pyspark.ml.feature import VectorAssembler\n",
    "\n",
    "assembler = VectorAssembler(inputCols=feature_cols, outputCol='features')\n",
    "df = assembler.transform(df)\n",
    "df.select('features').show(5)"
   ]
  },
  {
   "cell_type": "code",
   "execution_count": 53,
   "metadata": {},
   "outputs": [
    {
     "data": {
      "text/plain": [
       "['row_num',\n",
       " 'team1_totalVaepAccum',\n",
       " 'team1_offVaepAccum',\n",
       " 'team1_defVaepAccum',\n",
       " 'team1_againstVaepAccum',\n",
       " 'team2_totalVaepAccum',\n",
       " 'team2_offVaepAccum',\n",
       " 'team2_defVaepAccum',\n",
       " 'team2_againstVaepAccum',\n",
       " 'team1_side',\n",
       " 'team1winflag',\n",
       " 'pythTeam1',\n",
       " 'pythTeam2',\n",
       " 'pythdiff',\n",
       " 'pythdiv',\n",
       " 'totalVaepDiv',\n",
       " 'totalVaepDiff',\n",
       " 'OffensiveVaepDiv',\n",
       " 'OffensiveVaepDiff',\n",
       " 'totalDefVaepDiv',\n",
       " 'totalDefVaepDiff',\n",
       " 'totalVaepAgainstDiv',\n",
       " 'totalVaepAgainstDiff',\n",
       " 'team1_side_num',\n",
       " 'team1_side_num_vec',\n",
       " 'features']"
      ]
     },
     "execution_count": 53,
     "metadata": {},
     "output_type": "execute_result"
    }
   ],
   "source": [
    "df.columns"
   ]
  },
  {
   "cell_type": "code",
   "execution_count": 54,
   "metadata": {},
   "outputs": [],
   "source": [
    "# Se divide el dataset en training y testing\n",
    "# Nota: El resultado de randomspeed depende de como se ordenen los RDD, aunque tengas un seed fijo, hace el split diferente\n",
    "\n",
    "train_data, test_data = df.randomSplit([0.7,0.3],seed=1234) \n"
   ]
  },
  {
   "cell_type": "code",
   "execution_count": 55,
   "metadata": {},
   "outputs": [
    {
     "name": "stdout",
     "output_type": "stream",
     "text": [
      "+-------+--------------------+------------------+--------------------+----------------------+--------------------+------------------+-------------------+----------------------+----------+------------+------------------+-------------------+--------------------+------------------+-------------------+-------------------+-------------------+------------------+-------------------+-------------------+--------------------+--------------------+--------------+------------------+--------------------+--------------------+--------------------+----------+\n",
      "|row_num|team1_totalVaepAccum|team1_offVaepAccum|  team1_defVaepAccum|team1_againstVaepAccum|team2_totalVaepAccum|team2_offVaepAccum| team2_defVaepAccum|team2_againstVaepAccum|team1_side|team1winflag|         pythTeam1|          pythTeam2|            pythdiff|           pythdiv|       totalVaepDiv|      totalVaepDiff|   OffensiveVaepDiv| OffensiveVaepDiff|    totalDefVaepDiv|   totalDefVaepDiff| totalVaepAgainstDiv|totalVaepAgainstDiff|team1_side_num|team1_side_num_vec|            features|       rawPrediction|         probability|prediction|\n",
      "+-------+--------------------+------------------+--------------------+----------------------+--------------------+------------------+-------------------+----------------------+----------+------------+------------------+-------------------+--------------------+------------------+-------------------+-------------------+-------------------+------------------+-------------------+-------------------+--------------------+--------------------+--------------+------------------+--------------------+--------------------+--------------------+----------+\n",
      "|    141|   7.005220059421845| 6.595284003880806|  0.4099360022228211|   -1.1277195005095564|   6.225714284053538| 5.381332947174087| 0.8443813221674645|    -4.402304504765198|      away|           0|0.9747392030054423| 0.6666606377580477|  0.3080785652473945|1.4621220270082993| 1.1252074444477675| 0.7795057753683068| 1.2255855693419238| 1.213951056706719|0.48548681911928804|-0.4344453199446434| 0.25616571940647814|  3.2745850042556413|           1.0|         (1,[],[])|[141.0,7.00522005...|[11.4252509985107...|[0.57126254992553...|       0.0|\n",
      "|    142|   7.311395404336508| 7.693820381653495|-0.38242515502497554|    0.7743071086006239|   4.334536011039745| 3.222659128718078| 1.1118768530141097|    -9.092477390484419|      away|           0|0.9889087076985089| 0.1851759599971155|  0.8037327477013934| 5.340373057679373|  1.686776943533269| 2.9768593932967633| 2.3874136464175075| 4.471161252935417|-0.3439456033177467|-1.4943020080390852|-0.08515909089979835|   9.866784499085043|           1.0|         (1,[],[])|[142.0,7.31139540...|[9.86166025763836...|[0.49308301288191...|       1.0|\n",
      "|    143|   6.702191695687361| 6.153856453543995|  0.5483353044255637|    -2.261563138861675|   3.938206413644366|3.6865903021534905| 0.2516161464882316|    -4.738053125911392|      home|           1|0.8977762400885312|0.40858890308750195| 0.48918733700102923|2.1972604574047048| 1.7018386015691946|  2.763985282042995| 1.6692542292940096| 2.467266151390504|  2.179253247768859|0.29671915793733206|  0.4773190757388669|  2.4764899870497175|           0.0|     (1,[0],[1.0])|[143.0,6.70219169...|[8.20841229835719...|[0.41042061491785...|       1.0|\n",
      "|    154|   5.239591998339165|  5.80566283094231| -0.5660708285868168|   -5.2171236530994065|   18.93206476722844| 18.44072126201354|0.49134346045320854|    13.073203654959798|      away|           0| 0.502148690110243| 0.6771237315508332|-0.17497504144059017|0.7415907414146592|0.27675755723215895|-13.692472768889274|0.31482840331747364|-12.63505843107123| -1.152087845159638|-1.0574142890400253|  -0.399070020692296| -18.290327308059204|           1.0|         (1,[],[])|[154.0,5.23959199...|[10.3229424374393...|[0.51614712187196...|       0.0|\n",
      "|    167|  13.901352365501225|12.921015796251595|  0.9803367735439679|    1.8479776951135136|   5.753999425331131|3.9954491092357785|  1.758550290047424|    -9.221005901810713|      away|           1|0.9826351262056217|0.28025886218319146|  0.7023762640224303|3.5061696838093965| 2.4159460816597544|  8.147352940170094| 3.2339332683236295| 8.925566687015817| 0.5574687167561927| -0.778213516503456|-0.20040955561590407|  11.068983596924227|           1.0|         (1,[],[])|[167.0,13.9013523...|[8.49827477905568...|[0.42491373895278...|       1.0|\n",
      "+-------+--------------------+------------------+--------------------+----------------------+--------------------+------------------+-------------------+----------------------+----------+------------+------------------+-------------------+--------------------+------------------+-------------------+-------------------+-------------------+------------------+-------------------+-------------------+--------------------+--------------------+--------------+------------------+--------------------+--------------------+--------------------+----------+\n",
      "only showing top 5 rows\n",
      "\n"
     ]
    }
   ],
   "source": [
    "# Se entrena el algoritmo de random forest\n",
    "\n",
    "from pyspark.ml.classification import RandomForestClassifier\n",
    "\n",
    "rf = RandomForestClassifier(labelCol='team1winflag', featuresCol='features', seed=1234)\n",
    "rfm = rf.fit(train_data)\n",
    "pred_df = rfm.transform(test_data)\n",
    "pred_df.show(5)"
   ]
  },
  {
   "cell_type": "code",
   "execution_count": 56,
   "metadata": {},
   "outputs": [
    {
     "data": {
      "text/plain": [
       "0.723950966525224"
      ]
     },
     "execution_count": 56,
     "metadata": {},
     "output_type": "execute_result"
    }
   ],
   "source": [
    "#Se calcula el área bajo la curva con el dataset de testeo\n",
    "\n",
    "from pyspark.ml.evaluation import BinaryClassificationEvaluator\n",
    "\n",
    "evaluator = BinaryClassificationEvaluator(labelCol='team1winflag', metricName='areaUnderROC')\n",
    "evaluator.evaluate(pred_df)"
   ]
  },
  {
   "cell_type": "code",
   "execution_count": 57,
   "metadata": {},
   "outputs": [
    {
     "data": {
      "text/plain": [
       "0.7509293680297398"
      ]
     },
     "execution_count": 57,
     "metadata": {},
     "output_type": "execute_result"
    }
   ],
   "source": [
    "#Se calcula el accuracy con el dataset de testeo\n",
    "\n",
    "from pyspark.ml.evaluation import MulticlassClassificationEvaluator\n",
    "\n",
    "evaluator = MulticlassClassificationEvaluator(labelCol='team1winflag', metricName='accuracy')\n",
    "evaluator.evaluate(pred_df)"
   ]
  },
  {
   "cell_type": "code",
   "execution_count": 58,
   "metadata": {},
   "outputs": [
    {
     "data": {
      "text/plain": [
       "SparseVector(22, {0: 0.0182, 1: 0.0259, 2: 0.0221, 3: 0.034, 4: 0.0445, 5: 0.0261, 6: 0.0323, 7: 0.0287, 8: 0.0815, 9: 0.0276, 10: 0.0311, 11: 0.0169, 12: 0.0229, 13: 0.0682, 14: 0.0657, 15: 0.12, 16: 0.1205, 17: 0.0398, 18: 0.0316, 19: 0.0238, 20: 0.0999, 21: 0.0187})"
      ]
     },
     "execution_count": 58,
     "metadata": {},
     "output_type": "execute_result"
    }
   ],
   "source": [
    "rfm.featureImportances"
   ]
  },
  {
   "cell_type": "code",
   "execution_count": 59,
   "metadata": {},
   "outputs": [
    {
     "data": {
      "text/html": [
       "<div>\n",
       "<style scoped>\n",
       "    .dataframe tbody tr th:only-of-type {\n",
       "        vertical-align: middle;\n",
       "    }\n",
       "\n",
       "    .dataframe tbody tr th {\n",
       "        vertical-align: top;\n",
       "    }\n",
       "\n",
       "    .dataframe thead th {\n",
       "        text-align: right;\n",
       "    }\n",
       "</style>\n",
       "<table border=\"1\" class=\"dataframe\">\n",
       "  <thead>\n",
       "    <tr style=\"text-align: right;\">\n",
       "      <th></th>\n",
       "      <th>feature</th>\n",
       "      <th>importance</th>\n",
       "    </tr>\n",
       "  </thead>\n",
       "  <tbody>\n",
       "    <tr>\n",
       "      <th>16</th>\n",
       "      <td>OffensiveVaepDiff</td>\n",
       "      <td>0.120525</td>\n",
       "    </tr>\n",
       "    <tr>\n",
       "      <th>15</th>\n",
       "      <td>OffensiveVaepDiv</td>\n",
       "      <td>0.119968</td>\n",
       "    </tr>\n",
       "    <tr>\n",
       "      <th>20</th>\n",
       "      <td>totalVaepAgainstDiff</td>\n",
       "      <td>0.099856</td>\n",
       "    </tr>\n",
       "    <tr>\n",
       "      <th>8</th>\n",
       "      <td>team2_againstVaepAccum</td>\n",
       "      <td>0.081459</td>\n",
       "    </tr>\n",
       "    <tr>\n",
       "      <th>13</th>\n",
       "      <td>totalVaepDiv</td>\n",
       "      <td>0.068221</td>\n",
       "    </tr>\n",
       "    <tr>\n",
       "      <th>14</th>\n",
       "      <td>totalVaepDiff</td>\n",
       "      <td>0.065712</td>\n",
       "    </tr>\n",
       "    <tr>\n",
       "      <th>4</th>\n",
       "      <td>team1_againstVaepAccum</td>\n",
       "      <td>0.044521</td>\n",
       "    </tr>\n",
       "    <tr>\n",
       "      <th>17</th>\n",
       "      <td>totalDefVaepDiv</td>\n",
       "      <td>0.039755</td>\n",
       "    </tr>\n",
       "    <tr>\n",
       "      <th>3</th>\n",
       "      <td>team1_defVaepAccum</td>\n",
       "      <td>0.033951</td>\n",
       "    </tr>\n",
       "    <tr>\n",
       "      <th>6</th>\n",
       "      <td>team2_offVaepAccum</td>\n",
       "      <td>0.032348</td>\n",
       "    </tr>\n",
       "    <tr>\n",
       "      <th>18</th>\n",
       "      <td>totalDefVaepDiff</td>\n",
       "      <td>0.031597</td>\n",
       "    </tr>\n",
       "    <tr>\n",
       "      <th>10</th>\n",
       "      <td>pythTeam2</td>\n",
       "      <td>0.031115</td>\n",
       "    </tr>\n",
       "    <tr>\n",
       "      <th>7</th>\n",
       "      <td>team2_defVaepAccum</td>\n",
       "      <td>0.028711</td>\n",
       "    </tr>\n",
       "    <tr>\n",
       "      <th>9</th>\n",
       "      <td>pythTeam1</td>\n",
       "      <td>0.027633</td>\n",
       "    </tr>\n",
       "    <tr>\n",
       "      <th>5</th>\n",
       "      <td>team2_totalVaepAccum</td>\n",
       "      <td>0.026132</td>\n",
       "    </tr>\n",
       "  </tbody>\n",
       "</table>\n",
       "</div>"
      ],
      "text/plain": [
       "                   feature  importance\n",
       "16       OffensiveVaepDiff    0.120525\n",
       "15        OffensiveVaepDiv    0.119968\n",
       "20    totalVaepAgainstDiff    0.099856\n",
       "8   team2_againstVaepAccum    0.081459\n",
       "13            totalVaepDiv    0.068221\n",
       "14           totalVaepDiff    0.065712\n",
       "4   team1_againstVaepAccum    0.044521\n",
       "17         totalDefVaepDiv    0.039755\n",
       "3       team1_defVaepAccum    0.033951\n",
       "6       team2_offVaepAccum    0.032348\n",
       "18        totalDefVaepDiff    0.031597\n",
       "10               pythTeam2    0.031115\n",
       "7       team2_defVaepAccum    0.028711\n",
       "9                pythTeam1    0.027633\n",
       "5     team2_totalVaepAccum    0.026132"
      ]
     },
     "execution_count": 59,
     "metadata": {},
     "output_type": "execute_result"
    }
   ],
   "source": [
    "# Se calcula la importancia de las distintas features\n",
    "\n",
    "from itertools import chain\n",
    "attrs = sorted(\n",
    "    (attr['idx'], attr['name'])\n",
    "    for attr in (\n",
    "        chain(*pred_df.schema['features'].metadata['ml_attr']['attrs'].values())\n",
    "    )\n",
    ")\n",
    "feat_import = [(name, rfm.featureImportances[idx]) for idx, name in attrs if rfm.featureImportances[idx]]\n",
    "feat_import = pd.DataFrame(feat_import, columns=['feature', 'importance']).sort_values(by='importance', ascending=False)\n",
    "feat_import.head(15)"
   ]
  },
  {
   "cell_type": "code",
   "execution_count": 60,
   "metadata": {},
   "outputs": [
    {
     "data": {
      "text/plain": [
       "[Text(0, 0, 'OffensiveVaepDiff'),\n",
       " Text(0, 0, 'OffensiveVaepDiv'),\n",
       " Text(0, 0, 'totalVaepAgainstDiff'),\n",
       " Text(0, 0, 'team2_againstVaepAccum'),\n",
       " Text(0, 0, 'totalVaepDiv'),\n",
       " Text(0, 0, 'totalVaepDiff'),\n",
       " Text(0, 0, 'team1_againstVaepAccum'),\n",
       " Text(0, 0, 'totalDefVaepDiv'),\n",
       " Text(0, 0, 'team1_defVaepAccum'),\n",
       " Text(0, 0, 'team2_offVaepAccum'),\n",
       " Text(0, 0, 'totalDefVaepDiff'),\n",
       " Text(0, 0, 'pythTeam2'),\n",
       " Text(0, 0, 'team2_defVaepAccum'),\n",
       " Text(0, 0, 'pythTeam1'),\n",
       " Text(0, 0, 'team2_totalVaepAccum'),\n",
       " Text(0, 0, 'team1_totalVaepAccum'),\n",
       " Text(0, 0, 'totalVaepAgainstDiv'),\n",
       " Text(0, 0, 'pythdiv'),\n",
       " Text(0, 0, 'team1_offVaepAccum'),\n",
       " Text(0, 0, 'team1_side_num_vec_home')]"
      ]
     },
     "execution_count": 60,
     "metadata": {},
     "output_type": "execute_result"
    },
    {
     "data": {
      "image/png": "[encoded data removed]",
      "text/plain": [
       "<Figure size 432x288 with 1 Axes>"
      ]
     },
     "metadata": {
      "needs_background": "light"
     },
     "output_type": "display_data"
    }
   ],
   "source": [
    "# Se grafica la importancia de las features\n",
    "\n",
    "ax = feat_import[:20].plot(kind='bar')\n",
    "ax.set_xticklabels(feat_import[:20]['feature'].tolist())"
   ]
  },
  {
   "cell_type": "code",
   "execution_count": 61,
   "metadata": {},
   "outputs": [],
   "source": [
    "pred_df.createOrReplaceTempView(\"predicciones\")"
   ]
  },
  {
   "cell_type": "code",
   "execution_count": 62,
   "metadata": {},
   "outputs": [],
   "source": [
    "# Esta query calcula cuantas veces el algoritmo predijo correctamente y cuantas no\n",
    "\n",
    "query='''\n",
    "\n",
    "select team1winflag, prediction, count(*) as cantidad\n",
    "from predicciones\n",
    "group by team1winflag,prediction\n",
    "\n",
    "'''"
   ]
  },
  {
   "cell_type": "code",
   "execution_count": 63,
   "metadata": {},
   "outputs": [
    {
     "name": "stdout",
     "output_type": "stream",
     "text": [
      "+------------+----------+--------+\n",
      "|team1winflag|prediction|cantidad|\n",
      "+------------+----------+--------+\n",
      "|           0|       0.0|     140|\n",
      "|           0|       1.0|      28|\n",
      "|           1|       1.0|      49|\n",
      "|           1|       0.0|      52|\n",
      "+------------+----------+--------+\n",
      "\n"
     ]
    }
   ],
   "source": [
    "matrix = spark.sql(query)\n",
    "matrix.show()"
   ]
  },
  {
   "cell_type": "markdown",
   "metadata": {},
   "source": [
    "### Estimación de victoria con el algoritmo random forest (con estimación de hiperparametros)"
   ]
  },
  {
   "cell_type": "markdown",
   "metadata": {},
   "source": [
    "En la siguiente sección se utiliza el algoritmo random forest para predecir si el equipo 1 ganará o no en base a las features obtenidas en la sección anterior con optimización de hiperparametros."
   ]
  },
  {
   "cell_type": "markdown",
   "metadata": {},
   "source": [
    "**Nota:** El entrenamiento del algoritmo toma su tiempo..."
   ]
  },
  {
   "cell_type": "code",
   "execution_count": 64,
   "metadata": {},
   "outputs": [],
   "source": [
    "from pyspark.ml.tuning import CrossValidator, ParamGridBuilder"
   ]
  },
  {
   "cell_type": "code",
   "execution_count": 65,
   "metadata": {},
   "outputs": [],
   "source": [
    "# Se definen los hiperparametros entre los cuales se iterará\n",
    "\n",
    "paramGrid= ParamGridBuilder() \\\n",
    ".addGrid(rf.numTrees  , [20, 30, 50]) \\\n",
    ".addGrid(rf.maxBins   , [3, 5, 10]) \\\n",
    ".addGrid(rf.maxDepth, [4,6,8]) \\\n",
    ".build()\n",
    "\n",
    "#  .addGrid(rf.numTrees  , [30, 50, 70]) \\\n",
    "\n",
    "#  .addGrid(rf.maxBins   , [5, 10, 20]) \\\n",
    "\n",
    "#  .addGrid(rf.maxDepth, [6,8,10]) \\\n",
    "\n"
   ]
  },
  {
   "cell_type": "code",
   "execution_count": 66,
   "metadata": {},
   "outputs": [],
   "source": [
    "# Defino el evaluator denuevo\n",
    "\n",
    "evaluator = BinaryClassificationEvaluator(labelCol='team1winflag', metricName='areaUnderROC')"
   ]
  },
  {
   "cell_type": "code",
   "execution_count": 67,
   "metadata": {},
   "outputs": [],
   "source": [
    "# Se crea la función de cross validation para buscar los hiperparametros óptimos\n",
    "\n",
    "crossval = CrossValidator(estimator=rf,\n",
    "                      estimatorParamMaps=paramGrid,\n",
    "                      evaluator=evaluator,\n",
    "                      numFolds=3)  "
   ]
  },
  {
   "cell_type": "code",
   "execution_count": 68,
   "metadata": {},
   "outputs": [],
   "source": [
    "# Se entrena el algoritmo con todos los hiperparametros y se obtiene el óptimo\n",
    "\n",
    "cvModel = crossval.fit(train_data)"
   ]
  },
  {
   "cell_type": "code",
   "execution_count": 69,
   "metadata": {},
   "outputs": [
    {
     "name": "stdout",
     "output_type": "stream",
     "text": [
      "+-------+--------------------+------------------+--------------------+----------------------+--------------------+------------------+-------------------+----------------------+----------+------------+------------------+-------------------+--------------------+------------------+------------------+--------------------+------------------+--------------------+--------------------+--------------------+--------------------+--------------------+--------------+------------------+--------------------+--------------------+--------------------+----------+\n",
      "|row_num|team1_totalVaepAccum|team1_offVaepAccum|  team1_defVaepAccum|team1_againstVaepAccum|team2_totalVaepAccum|team2_offVaepAccum| team2_defVaepAccum|team2_againstVaepAccum|team1_side|team1winflag|         pythTeam1|          pythTeam2|            pythdiff|           pythdiv|      totalVaepDiv|       totalVaepDiff|  OffensiveVaepDiv|   OffensiveVaepDiff|     totalDefVaepDiv|    totalDefVaepDiff| totalVaepAgainstDiv|totalVaepAgainstDiff|team1_side_num|team1_side_num_vec|            features|       rawPrediction|         probability|prediction|\n",
      "+-------+--------------------+------------------+--------------------+----------------------+--------------------+------------------+-------------------+----------------------+----------+------------+------------------+-------------------+--------------------+------------------+------------------+--------------------+------------------+--------------------+--------------------+--------------------+--------------------+--------------------+--------------+------------------+--------------------+--------------------+--------------------+----------+\n",
      "|    141|   6.702191695687361| 6.153856453543995|  0.5483353044255637|    -2.261563138861675|   3.938206413644366|3.6865903021534905| 0.2516161464882316|    -4.738053125911392|      home|           1|0.8977762400885312|0.40858890308750195| 0.48918733700102923|2.1972604574047048|1.7018386015691946|   2.763985282042995|1.6692542292940096|   2.467266151390504|   2.179253247768859| 0.29671915793733206|  0.4773190757388669|  2.4764899870497175|           0.0|     (1,[0],[1.0])|[141.0,6.70219169...|[7.41811916154021...|[0.24727063871800...|       1.0|\n",
      "|    142|  11.951340581290424| 11.21970205521211|  0.7316386609891197|     4.150067029113416|  15.509659910341725|15.414813964744098|0.09484586684266105|    11.186824599804822|      home|           0|0.8923946344474938| 0.6577880934455338|    0.23460654100196|1.3566597561428586|0.7705739939095222|  -3.558319329051301|0.7278519274298857|  -4.195111909531988|   7.713975161435641|  0.6367927941464586|  0.3709781084067254|  -7.036757570691407|           0.0|     (1,[0],[1.0])|[142.0,11.9513405...|[26.8111548409733...|[0.89370516136577...|       0.0|\n",
      "|    143|  10.930023397260811| 10.61088890011888| 0.31913441234792117|     2.185073768312577|   7.967186550144106| 6.975193202146329| 0.9919933818600839|   -0.9476923410547897|      home|           1|0.9615699536796581| 0.9860484321317656|-0.02447847845210749|0.9751751763357234|1.3718799388553435|   2.962836847116705| 1.521232257316373|   3.635695697972551| 0.32171022325724913| -0.6728589695121627| -2.3056784081219557|   3.132766109367367|           0.0|     (1,[0],[1.0])|[143.0,10.9300233...|[10.3894239094239...|[0.34631413031413...|       1.0|\n",
      "|    154|  13.346143450064119|12.878121945424937| 0.46802159800427034|    4.7419770082924515|   8.765298158163205| 8.188716670731083| 0.5765814566984773|   -1.9247521463548765|      away|           1|0.8879078483579961|    0.9539993147824|-0.06609146642440389|0.9307216835480864|1.5226114627526652|   4.580845291900914|1.5726666904296724|   4.689405274693854|  0.8117180886880686|-0.10855985869420692| -2.4636818913400753|   6.666729154647328|           1.0|         (1,[],[])|[154.0,13.3461434...|[4.87115256601417...|[0.16237175220047...|       1.0|\n",
      "|    167|   8.601868740399368| 8.125784499687143| 0.47608415537979454|   -0.6977084865502547|   8.696503384970129| 8.416264928062446| 0.2802383593225386|   -1.0033117941929959|      home|           0|0.9934639629288173| 0.9868646966333886|0.006599266295428...|1.0066871034275942|0.9891180810974771|-0.09463464457076043| 0.965485826449361|-0.29048042837530375|  1.6988543486006085| 0.19584579605725594|  0.6954054468296665| 0.30560330764274113|           0.0|     (1,[0],[1.0])|[167.0,8.60186874...|[22.7213152132901...|[0.75737717377633...|       0.0|\n",
      "|    168|  12.969651362800505|12.632453499827534|  0.3371977227652678|     5.822352552495431|   7.792589903285261|  6.81064827577211| 0.9819416516256751|    -4.526712211081758|      home|           1|0.8322719647099139| 0.7476946759559079| 0.08457728875400605|1.1131174147333285|1.6643569755072902|   5.177061459515244|1.8548092616624543|   5.821805224055424|  0.3433989404635323| -0.6447439288604073|  -1.286221054265796|   10.34906476357719|           0.0|     (1,[0],[1.0])|[168.0,12.9696513...|[5.03991754603881...|[0.16799725153462...|       1.0|\n",
      "|    172|   8.221587481559254| 7.276204178750049|  0.9453833251609467|   -1.9260491589666344|   9.898496011210227| 9.829706700926181| 0.0687893426802475|     1.716705568072939|      home|           1| 0.947974072670449| 0.9707999919769594|-0.02282591930651...|0.9764875159712072|0.8305895635304754|  -1.676908529650973|0.7402259701262974| -2.5535025221761316|  13.743165559167474|  0.8765939824806992| -1.1219449594543407| -3.6427547270395735|           0.0|     (1,[0],[1.0])|[172.0,8.22158748...|[25.2375390769053...|[0.84125130256351...|       0.0|\n",
      "|    175|   9.699668746092357| 8.537582656019367|  1.1620862573035993|    -3.396512005943805|   7.491128459514584|   7.3286093021743|0.16251915227621794|   0.26270086760632694|      home|           0|0.8907753430324841| 0.9987717273958024|-0.10799638436331838|0.8918708035069153| 1.294820773467404|  2.2085402865777723|1.1649662717708775|  1.2089733538450673|   7.150457290895258|  0.9995671050273813| -12.929199803914171|  -3.659212873550132|           0.0|     (1,[0],[1.0])|[175.0,9.69966874...|[23.3343647971794...|[0.77781215990598...|       0.0|\n",
      "|    179|    9.79576033318881| 9.045889597211499|  0.7498706079204567|    0.5039579892763868|  11.395951732061803|10.721025604754686| 0.6749260454671457|    -0.199724750360474|      away|           0|0.9973602401560416| 0.9996929357935288|-0.00233269563748717|0.9976665878551642|0.8595824695912887| -1.6001913988729939|0.8437522612761713| -1.6751360075431876|   1.111041147332577| 0.07494456245331094| -2.5232625819625074|  0.7036827396368608|           1.0|         (1,[],[])|[179.0,9.79576033...|[22.1746300309360...|[0.73915433436453...|       0.0|\n",
      "|    182|    8.62052767840214|  8.16818927595159|  0.4523384908097796|    1.7032246356284304|  14.253236456366722|13.349557854817249| 0.9036784485797398|     3.585585040214937|      home|           0|0.9624296573065707| 0.9404826143634204|0.021947042943150308|1.0233359368987438|0.6048119460300871|  -5.632708777964581|0.6118696487767242| -5.1813685788656585|  0.5005524824905301|-0.45133995776996017|   0.475020008318177| -1.8823604045865068|           0.0|     (1,[0],[1.0])|[182.0,8.62052767...|[21.8790418639317...|[0.72930139546439...|       0.0|\n",
      "|    185|   9.999376837629825| 9.333168377459515|  0.6662085855496116|    -6.910622017458081|  12.277496674505528| 11.92048163129948| 0.3570150512387045|     -3.88092532788869|      home|           0|0.6767610116691164| 0.9091573153182038|-0.23239630364908737|0.7443827380218032|0.8144475297145659|  -2.278119836875703|0.7829522888532888|  -2.587313253839966|  1.8660518183704717|  0.3091935343109071|  1.7806634845039944| -3.0296966895693913|           0.0|     (1,[0],[1.0])|[185.0,9.99937683...|[25.9042626753525...|[0.86347542251175...|       0.0|\n",
      "|    186|   7.887252789339982| 7.390586814261042|  0.4966659546480514|   -2.6539592288900167|    9.80776072095614| 9.131377683253959| 0.6763830143609084|     -5.30697388376575|      away|           0|0.8982921282276283| 0.7735216667772744| 0.12477046145035386|1.1613018313632835|0.8041848709142518| -1.9205079316161573|0.8093616396805758| -1.7407908689929172|   0.734296905899292|  -0.179717059712857|  0.5000889936557982|   2.653014654875733|           1.0|         (1,[],[])|[186.0,7.88725278...|[25.6151230000958...|[0.85383743333652...|       0.0|\n",
      "|    188|  13.884789271163754|12.560993634921033|  1.3237956046359614|     4.245104957026342|   10.37260812195018| 9.100267304107547| 1.2723408233723603|     -8.44546662690118|      home|           1|0.9145151447104397| 0.6013461878959061|  0.3131689568145336|1.5207798155506784|1.3386015462958838|   3.512181149213575| 1.380288426170892|   3.460726330813486|   1.040441036173955|0.051454781263601035|   -0.50264895293109|  12.690571583927522|           0.0|     (1,[0],[1.0])|[188.0,13.8847892...|[7.15745441513671...|[0.23858181383789...|       1.0|\n",
      "|    193|   9.787501695158426| 9.307161492761225| 0.48034007934620604|   -0.9412956408341415|   8.856216142710764|7.5658437348902225| 1.2903724418283673|    -5.734936585184187|      away|           1|0.9908354753894311| 0.7045554399149829| 0.28628003547444814|1.4063271947896576|1.1051561454057521|  0.9312855524476618|1.2301551312566552|   1.741317757871002|  0.3722491768853943| -0.8100323624821613| 0.16413357442624804|   4.793640944350045|           1.0|         (1,[],[])|[193.0,9.78750169...|[9.03671093193978...|[0.30122369773132...|       1.0|\n",
      "|    203|  22.357166668225545| 22.33804895245703|  0.0191178519744426|     13.46263958333293|  10.969888709834777| 9.643183515989222| 1.3267053586314432|   -4.9516163193038665|      home|           1|0.7338914908737978| 0.8307398984910875|-0.09684840761728974|0.8834190968879668| 2.038048631084269|  11.387277958390769| 2.316460006741408|  12.694865436467808|0.014410020921422623| -1.3075875066570006|  -2.718837388682329|  18.414255902636796|           0.0|     (1,[0],[1.0])|[203.0,22.3571666...|[0.28064842958459...|[0.00935494765281...|       1.0|\n",
      "|    206|  12.109220635378733|11.537975776649546|  0.5712447672849521|   -1.2222387903020717|  17.845222700212616| 16.88408346287906| 0.9611392065417022|      6.95378584478749|      away|           0|0.9899149599187013| 0.8681728457490422| 0.12174211416965908|1.1402279681583711|0.6785693201371176|  -5.736002064833883|0.6833640571616849|  -5.346107686229516|  0.5943413434775608|-0.38989443925675005|-0.17576595218534857|  -8.176024635089561|           1.0|         (1,[],[])|[206.0,12.1092206...|[25.1483287695939...|[0.83827762565313...|       0.0|\n",
      "|    215|    9.95490240084473| 9.149964946613181|  0.8049375931732357|   -0.7888869330599846|   9.108147929189727| 8.761941947974265| 0.3462058677105233|    -4.203586060611997|      away|           0|0.9937592512729667|  0.824402264366387| 0.16935698690657974|1.2054300360719448|1.0929667017090632|  0.8467544716550037|1.0442850455918196| 0.38802299863891676|  2.3250258538260145| 0.45873172546271235| 0.18766998502824303|   3.414699127552012|           1.0|         (1,[],[])|[215.0,9.95490240...|[26.0868726175003...|[0.86956242058334...|       0.0|\n",
      "|    219|   23.31398080236977|22.010545818775427|  1.3034352485701675|     8.740975642416743|  23.349361122614937| 23.24095293402206|0.10840813082177192|    14.403853650932433|      away|           1|0.8767560218112486| 0.7243509821297746|   0.152405039681474|1.2104021992672183|0.9984847414000163|-0.03538032024516724|0.9470586632682577|  -1.230407115246635|  12.023408564373058|  1.1950271177483955|  0.6068497954955892| -5.6628780085156905|           1.0|         (1,[],[])|[219.0,23.3139808...|[23.6572474141803...|[0.78857491380601...|       0.0|\n",
      "|    220|   21.77637076319661| 21.64410192606738|  0.1322690614615567|    0.8625057120807469|   9.801045503172645|  8.65343209169805| 1.1476134626427665|    -7.089344574840652|      away|           1|0.9984337099426438| 0.6565127998312525| 0.34192091011139125|1.5208137757546802|2.2218416143611917|  11.975325260023965|2.5012158986990083|  12.990669834369328| 0.11525575968494012| -1.0153444011812098| -0.1216622641170088|   7.951850286921399|           1.0|         (1,[],[])|[220.0,21.7763707...|[10.1972967812329...|[0.33990989270776...|       1.0|\n",
      "|    222|    25.5960583127453|25.681735204474535|-0.08567679964471608|    15.491656061902177|  20.147816373908427|18.200129789183848|  1.947686436760705|     8.963316220790148|      away|           0|0.7318979920110148| 0.8347828942987198|-0.10288490228770497|0.8767525029676896| 1.270413519645354|   5.448241938836873| 1.411074289137044|   7.481605415290687|-0.04398901077075295|  -2.033363236405421|  1.7283397885672869|   6.528339841112029|           1.0|         (1,[],[])|[222.0,25.5960583...|[20.4041646653488...|[0.68013882217829...|       0.0|\n",
      "+-------+--------------------+------------------+--------------------+----------------------+--------------------+------------------+-------------------+----------------------+----------+------------+------------------+-------------------+--------------------+------------------+------------------+--------------------+------------------+--------------------+--------------------+--------------------+--------------------+--------------------+--------------+------------------+--------------------+--------------------+--------------------+----------+\n",
      "only showing top 20 rows\n",
      "\n"
     ]
    }
   ],
   "source": [
    "# Se obtiene el dataset con las predicciones usando los datos de prueba\n",
    "\n",
    "pred_df = cvModel.transform(test_data)\n",
    "pred_df.show()"
   ]
  },
  {
   "cell_type": "code",
   "execution_count": 70,
   "metadata": {},
   "outputs": [
    {
     "data": {
      "text/plain": [
       "0.6877323420074349"
      ]
     },
     "execution_count": 70,
     "metadata": {},
     "output_type": "execute_result"
    }
   ],
   "source": [
    "# Se calcula el accuracy con los mejores hiperparametros\n",
    "\n",
    "evaluator = MulticlassClassificationEvaluator(labelCol='team1winflag', metricName='accuracy')\n",
    "evaluator.evaluate(pred_df)\n"
   ]
  },
  {
   "cell_type": "code",
   "execution_count": 71,
   "metadata": {},
   "outputs": [
    {
     "data": {
      "text/plain": [
       "0.7107496463932107"
      ]
     },
     "execution_count": 71,
     "metadata": {},
     "output_type": "execute_result"
    }
   ],
   "source": [
    "# Se calcula el areaUnderROC con los mejores hiperparametros\n",
    "\n",
    "evaluator = BinaryClassificationEvaluator(labelCol='team1winflag', metricName='areaUnderROC')\n",
    "evaluator.evaluate(pred_df)\n"
   ]
  },
  {
   "cell_type": "code",
   "execution_count": 72,
   "metadata": {},
   "outputs": [
    {
     "data": {
      "text/html": [
       "<div>\n",
       "<style scoped>\n",
       "    .dataframe tbody tr th:only-of-type {\n",
       "        vertical-align: middle;\n",
       "    }\n",
       "\n",
       "    .dataframe tbody tr th {\n",
       "        vertical-align: top;\n",
       "    }\n",
       "\n",
       "    .dataframe thead th {\n",
       "        text-align: right;\n",
       "    }\n",
       "</style>\n",
       "<table border=\"1\" class=\"dataframe\">\n",
       "  <thead>\n",
       "    <tr style=\"text-align: right;\">\n",
       "      <th></th>\n",
       "      <th>feature</th>\n",
       "      <th>importance</th>\n",
       "    </tr>\n",
       "  </thead>\n",
       "  <tbody>\n",
       "    <tr>\n",
       "      <th>16</th>\n",
       "      <td>OffensiveVaepDiff</td>\n",
       "      <td>0.120525</td>\n",
       "    </tr>\n",
       "    <tr>\n",
       "      <th>15</th>\n",
       "      <td>OffensiveVaepDiv</td>\n",
       "      <td>0.119968</td>\n",
       "    </tr>\n",
       "    <tr>\n",
       "      <th>20</th>\n",
       "      <td>totalVaepAgainstDiff</td>\n",
       "      <td>0.099856</td>\n",
       "    </tr>\n",
       "    <tr>\n",
       "      <th>8</th>\n",
       "      <td>team2_againstVaepAccum</td>\n",
       "      <td>0.081459</td>\n",
       "    </tr>\n",
       "    <tr>\n",
       "      <th>13</th>\n",
       "      <td>totalVaepDiv</td>\n",
       "      <td>0.068221</td>\n",
       "    </tr>\n",
       "    <tr>\n",
       "      <th>14</th>\n",
       "      <td>totalVaepDiff</td>\n",
       "      <td>0.065712</td>\n",
       "    </tr>\n",
       "    <tr>\n",
       "      <th>4</th>\n",
       "      <td>team1_againstVaepAccum</td>\n",
       "      <td>0.044521</td>\n",
       "    </tr>\n",
       "    <tr>\n",
       "      <th>17</th>\n",
       "      <td>totalDefVaepDiv</td>\n",
       "      <td>0.039755</td>\n",
       "    </tr>\n",
       "    <tr>\n",
       "      <th>3</th>\n",
       "      <td>team1_defVaepAccum</td>\n",
       "      <td>0.033951</td>\n",
       "    </tr>\n",
       "    <tr>\n",
       "      <th>6</th>\n",
       "      <td>team2_offVaepAccum</td>\n",
       "      <td>0.032348</td>\n",
       "    </tr>\n",
       "    <tr>\n",
       "      <th>18</th>\n",
       "      <td>totalDefVaepDiff</td>\n",
       "      <td>0.031597</td>\n",
       "    </tr>\n",
       "    <tr>\n",
       "      <th>10</th>\n",
       "      <td>pythTeam2</td>\n",
       "      <td>0.031115</td>\n",
       "    </tr>\n",
       "    <tr>\n",
       "      <th>7</th>\n",
       "      <td>team2_defVaepAccum</td>\n",
       "      <td>0.028711</td>\n",
       "    </tr>\n",
       "    <tr>\n",
       "      <th>9</th>\n",
       "      <td>pythTeam1</td>\n",
       "      <td>0.027633</td>\n",
       "    </tr>\n",
       "    <tr>\n",
       "      <th>5</th>\n",
       "      <td>team2_totalVaepAccum</td>\n",
       "      <td>0.026132</td>\n",
       "    </tr>\n",
       "  </tbody>\n",
       "</table>\n",
       "</div>"
      ],
      "text/plain": [
       "                   feature  importance\n",
       "16       OffensiveVaepDiff    0.120525\n",
       "15        OffensiveVaepDiv    0.119968\n",
       "20    totalVaepAgainstDiff    0.099856\n",
       "8   team2_againstVaepAccum    0.081459\n",
       "13            totalVaepDiv    0.068221\n",
       "14           totalVaepDiff    0.065712\n",
       "4   team1_againstVaepAccum    0.044521\n",
       "17         totalDefVaepDiv    0.039755\n",
       "3       team1_defVaepAccum    0.033951\n",
       "6       team2_offVaepAccum    0.032348\n",
       "18        totalDefVaepDiff    0.031597\n",
       "10               pythTeam2    0.031115\n",
       "7       team2_defVaepAccum    0.028711\n",
       "9                pythTeam1    0.027633\n",
       "5     team2_totalVaepAccum    0.026132"
      ]
     },
     "execution_count": 72,
     "metadata": {},
     "output_type": "execute_result"
    }
   ],
   "source": [
    "# Se imprime la importancia de cada feature\n",
    "\n",
    "from itertools import chain\n",
    "attrs = sorted(\n",
    "    (attr['idx'], attr['name'])\n",
    "    for attr in (\n",
    "        chain(*pred_df.schema['features'].metadata['ml_attr']['attrs'].values())\n",
    "    )\n",
    ")\n",
    "feat_import = [(name, rfm.featureImportances[idx]) for idx, name in attrs if rfm.featureImportances[idx]]\n",
    "feat_import = pd.DataFrame(feat_import, columns=['feature', 'importance']).sort_values(by='importance', ascending=False)\n",
    "\n",
    "feat_import.head(15)"
   ]
  },
  {
   "cell_type": "code",
   "execution_count": 73,
   "metadata": {},
   "outputs": [
    {
     "name": "stderr",
     "output_type": "stream",
     "text": [
      "/usr/local/lib/python3.7/dist-packages/ipykernel_launcher.py:5: SettingWithCopyWarning: \n",
      "A value is trying to be set on a copy of a slice from a DataFrame.\n",
      "Try using .loc[row_indexer,col_indexer] = value instead\n",
      "\n",
      "See the caveats in the documentation: https://pandas.pydata.org/pandas-docs/stable/user_guide/indexing.html#returning-a-view-versus-a-copy\n",
      "  \"\"\"\n",
      "/usr/local/lib/python3.7/dist-packages/ipykernel_launcher.py:6: SettingWithCopyWarning: \n",
      "A value is trying to be set on a copy of a slice from a DataFrame.\n",
      "Try using .loc[row_indexer,col_indexer] = value instead\n",
      "\n",
      "See the caveats in the documentation: https://pandas.pydata.org/pandas-docs/stable/user_guide/indexing.html#returning-a-view-versus-a-copy\n",
      "  \n"
     ]
    },
    {
     "data": {
      "image/png": "[encoded data removed]",
      "text/plain": [
       "<Figure size 432x288 with 1 Axes>"
      ]
     },
     "metadata": {
      "needs_background": "light"
     },
     "output_type": "display_data"
    }
   ],
   "source": [
    "#Grafico para el informe en español\n",
    "\n",
    "import seaborn as sns\n",
    "mydata=feat_import.head(10)\n",
    "mydata['Importancia']=mydata['importance']\n",
    "mydata['Variable']=mydata['feature']\n",
    "\n",
    "g=sns.barplot(y='Variable',x='Importancia',data=mydata, color='steelblue')\n",
    "g.figure.savefig('/dataset/vaep/Images/RandomForestImportance.eps', format='eps', bbox_inches='tight')\n",
    "g.figure.savefig('/dataset/vaep/Images/RandomForestImportance.png', dpi=1000, bbox_inches='tight')\n"
   ]
  },
  {
   "cell_type": "code",
   "execution_count": 74,
   "metadata": {},
   "outputs": [
    {
     "data": {
      "text/plain": [
       "[Text(0, 0, 'OffensiveVaepDiff'),\n",
       " Text(0, 0, 'OffensiveVaepDiv'),\n",
       " Text(0, 0, 'totalVaepAgainstDiff'),\n",
       " Text(0, 0, 'team2_againstVaepAccum'),\n",
       " Text(0, 0, 'totalVaepDiv'),\n",
       " Text(0, 0, 'totalVaepDiff'),\n",
       " Text(0, 0, 'team1_againstVaepAccum'),\n",
       " Text(0, 0, 'totalDefVaepDiv'),\n",
       " Text(0, 0, 'team1_defVaepAccum'),\n",
       " Text(0, 0, 'team2_offVaepAccum'),\n",
       " Text(0, 0, 'totalDefVaepDiff'),\n",
       " Text(0, 0, 'pythTeam2'),\n",
       " Text(0, 0, 'team2_defVaepAccum'),\n",
       " Text(0, 0, 'pythTeam1'),\n",
       " Text(0, 0, 'team2_totalVaepAccum'),\n",
       " Text(0, 0, 'team1_totalVaepAccum'),\n",
       " Text(0, 0, 'totalVaepAgainstDiv'),\n",
       " Text(0, 0, 'pythdiv'),\n",
       " Text(0, 0, 'team1_offVaepAccum'),\n",
       " Text(0, 0, 'team1_side_num_vec_home')]"
      ]
     },
     "execution_count": 74,
     "metadata": {},
     "output_type": "execute_result"
    },
    {
     "data": {
      "image/png": "[encoded data removed]",
      "text/plain": [
       "<Figure size 432x288 with 1 Axes>"
      ]
     },
     "metadata": {
      "needs_background": "light"
     },
     "output_type": "display_data"
    }
   ],
   "source": [
    "# Se grafica la importancia de cada feature\n",
    "\n",
    "ax = feat_import[:20].plot(kind='bar')\n",
    "ax.set_xticklabels(feat_import[:20]['feature'].tolist())"
   ]
  },
  {
   "cell_type": "code",
   "execution_count": 75,
   "metadata": {},
   "outputs": [],
   "source": [
    "pred_df.createOrReplaceTempView(\"predicciones\")"
   ]
  },
  {
   "cell_type": "code",
   "execution_count": 76,
   "metadata": {},
   "outputs": [],
   "source": [
    "# Esta query Calcula cuantas veces el algoritmo predijo correctamente y cuantas no\n",
    "\n",
    "query='''\n",
    "\n",
    "select team1winflag, prediction, count(*) as cantidad\n",
    "from predicciones\n",
    "group by team1winflag,prediction\n",
    "\n",
    "'''"
   ]
  },
  {
   "cell_type": "code",
   "execution_count": 77,
   "metadata": {},
   "outputs": [
    {
     "name": "stdout",
     "output_type": "stream",
     "text": [
      "+------------+----------+--------+\n",
      "|team1winflag|prediction|cantidad|\n",
      "+------------+----------+--------+\n",
      "|           1|       1.0|      56|\n",
      "|           0|       0.0|     150|\n",
      "|           1|       0.0|      39|\n",
      "|           0|       1.0|      24|\n",
      "+------------+----------+--------+\n",
      "\n"
     ]
    }
   ],
   "source": [
    "matrix = spark.sql(query)\n",
    "matrix.show()"
   ]
  },
  {
   "cell_type": "code",
   "execution_count": 78,
   "metadata": {},
   "outputs": [
    {
     "name": "stdout",
     "output_type": "stream",
     "text": [
      "{Param(parent='RandomForestClassifier_14214ab3cb04', name='numTrees', doc='Number of trees to train (>= 1).'): 30, Param(parent='RandomForestClassifier_14214ab3cb04', name='maxBins', doc='Max number of bins for discretizing continuous features.  Must be >=2 and >= number of categories for any categorical feature.'): 10, Param(parent='RandomForestClassifier_14214ab3cb04', name='maxDepth', doc='Maximum depth of the tree. (>= 0) E.g., depth 0 means 1 leaf node; depth 1 means 1 internal node + 2 leaf nodes.'): 8}\n"
     ]
    }
   ],
   "source": [
    "#Imprimo el valor de los hiperparametros óptimos\n",
    "\n",
    "import numpy as np\n",
    "\n",
    "print(cvModel.getEstimatorParamMaps()[np.argmax(cvModel.avgMetrics)])"
   ]
  },
  {
   "cell_type": "markdown",
   "metadata": {},
   "source": [
    "### Conclusión"
   ]
  },
  {
   "cell_type": "markdown",
   "metadata": {},
   "source": [
    "El valor histórico de la evaluación VAEP de los equipos a enfrentarse resulta ser un buen estimador de si un equipo ganará o no un partido obteniéndose valores altos de AOC de accuracy "
   ]
  },
  {
   "cell_type": "code",
   "execution_count": null,
   "metadata": {},
   "outputs": [],
   "source": []
  },
  {
   "cell_type": "code",
   "execution_count": null,
   "metadata": {},
   "outputs": [],
   "source": []
  },
  {
   "cell_type": "code",
   "execution_count": null,
   "metadata": {},
   "outputs": [],
   "source": []
  },
  {
   "cell_type": "code",
   "execution_count": null,
   "metadata": {},
   "outputs": [],
   "source": []
  },
  {
   "cell_type": "code",
   "execution_count": null,
   "metadata": {},
   "outputs": [],
   "source": []
  },
  {
   "cell_type": "code",
   "execution_count": 79,
   "metadata": {},
   "outputs": [],
   "source": [
    "spark.stop()\n"
   ]
  },
  {
   "cell_type": "code",
   "execution_count": null,
   "metadata": {},
   "outputs": [],
   "source": []
  },
  {
   "cell_type": "code",
   "execution_count": null,
   "metadata": {},
   "outputs": [],
   "source": []
  },
  {
   "cell_type": "code",
   "execution_count": null,
   "metadata": {},
   "outputs": [],
   "source": []
  },
  {
   "cell_type": "code",
   "execution_count": null,
   "metadata": {},
   "outputs": [],
   "source": []
  },
  {
   "cell_type": "code",
   "execution_count": null,
   "metadata": {},
   "outputs": [],
   "source": []
  },
  {
   "cell_type": "code",
   "execution_count": null,
   "metadata": {},
   "outputs": [],
   "source": []
  }
 ],
 "metadata": {
  "kernelspec": {
   "display_name": "Python 3",
   "language": "python",
   "name": "python3"
  },
  "language_info": {
   "codemirror_mode": {
    "name": "ipython",
    "version": 3
   },
   "file_extension": ".py",
   "mimetype": "text/x-python",
   "name": "python",
   "nbconvert_exporter": "python",
   "pygments_lexer": "ipython3",
   "version": "3.7.3"
  }
 },
 "nbformat": 4,
 "nbformat_minor": 4
}
